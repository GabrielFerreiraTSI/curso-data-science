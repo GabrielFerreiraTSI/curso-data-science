{
 "cells": [
  {
   "cell_type": "markdown",
   "metadata": {},
   "source": [
    "# <font color='blue'>Python Fundamentos - Visualização de dados</font>"
   ]
  },
  {
   "cell_type": "code",
   "execution_count": 1,
   "metadata": {},
   "outputs": [
    {
     "name": "stdout",
     "output_type": "stream",
     "text": [
      "Versão da Linguagem Python Usada Neste Jupyter Notebook: 3.9.13\n"
     ]
    }
   ],
   "source": [
    "# Versão da Linguagem Python\n",
    "from platform import python_version\n",
    "print('Versão da Linguagem Python Usada Neste Jupyter Notebook:', python_version())"
   ]
  },
  {
   "cell_type": "markdown",
   "metadata": {
    "tags": []
   },
   "source": [
    "## Gráficos\n",
    "<details>\n",
    "    <summary>\n",
    "        <a class=\"btnfire small stroke\"><em class=\"fas fa-chevron-circle-down\"></em>&nbsp;&nbsp;Clique para mais detalhes</a>\n",
    "    </summary>\n",
    "    <br>\n",
    "    \n",
    "Visualização de dados, ou DataViz, é a representação dos dados no formato gráfico. <br>\n",
    "Gráfico é uma representação visual dos dados com forma geométrica, construído a partir de informações numéricas organizadas em tabelas, que servem para facilitar a interpretação dos dados. <br> Normalmente, possui dois eixos, ou axis: x e y. <br>\n",
    "Os dados do eixo y são influenciados pelo comportamento de x. Logo, y é a variável dependente e x é a variável independente. <br>\n",
    "Gramática dos Gráficos: os gráficos são construídos em sete camadas, e cada uma delas adiciona um elemento visual. <br>\n",
    "As sete camadas são: <br>\n",
    "- **Dados**: Conjunto de dados que será analisado; <br>\n",
    "- **Estética**: A escala em que os dados são mapeados; <br>\n",
    "- **Geometria**: Elementos visuais usados para representar os dados (pontos, linhas, marcadores etc); <br>\n",
    "- **Facets**: Visualização dos dados em porções menores; <br>\n",
    "- **Estatística**: Representação e análise dos dados; <br>\n",
    "- **Coordenadas**: A área na qual o gráfico será desenhado; <br>\n",
    "- **Tema**: Visual geral do gráfico. <br><br>\n",
    "  \n",
    "</details>\n"
   ]
  },
  {
   "cell_type": "code",
   "execution_count": 2,
   "metadata": {},
   "outputs": [
    {
     "ename": "ModuleNotFoundError",
     "evalue": "No module named 'pandas'",
     "output_type": "error",
     "traceback": [
      "\u001b[1;31m---------------------------------------------------------------------------\u001b[0m",
      "\u001b[1;31mModuleNotFoundError\u001b[0m                       Traceback (most recent call last)",
      "Cell \u001b[1;32mIn[2], line 2\u001b[0m\n\u001b[0;32m      1\u001b[0m \u001b[38;5;66;03m# Importando os pacotes\u001b[39;00m\n\u001b[1;32m----> 2\u001b[0m \u001b[38;5;28;01mimport\u001b[39;00m \u001b[38;5;21;01mpandas\u001b[39;00m \u001b[38;5;28;01mas\u001b[39;00m \u001b[38;5;21;01mpd\u001b[39;00m\n\u001b[0;32m      3\u001b[0m \u001b[38;5;28;01mimport\u001b[39;00m \u001b[38;5;21;01mnumpy\u001b[39;00m \u001b[38;5;28;01mas\u001b[39;00m \u001b[38;5;21;01mnp\u001b[39;00m\n\u001b[0;32m      4\u001b[0m \u001b[38;5;28;01mimport\u001b[39;00m \u001b[38;5;21;01mmatplotlib\u001b[39;00m\u001b[38;5;21;01m.\u001b[39;00m\u001b[38;5;21;01mpyplot\u001b[39;00m \u001b[38;5;28;01mas\u001b[39;00m \u001b[38;5;21;01mplt\u001b[39;00m\n",
      "\u001b[1;31mModuleNotFoundError\u001b[0m: No module named 'pandas'"
     ]
    }
   ],
   "source": [
    "# Importando os pacotes\n",
    "import pandas as pd\n",
    "import numpy as np\n",
    "import matplotlib.pyplot as plt\n",
    "import seaborn as sns"
   ]
  },
  {
   "cell_type": "code",
   "execution_count": null,
   "metadata": {},
   "outputs": [],
   "source": [
    "# Verificando os datasets disponíveis.Exige conexão com a internet.\n",
    "sns.get_dataset_names()"
   ]
  },
  {
   "cell_type": "code",
   "execution_count": null,
   "metadata": {},
   "outputs": [],
   "source": [
    "# Carregando o dataset Tips. Exige conexão com a internet.\n",
    "df = sns.load_dataset(\"tips\")"
   ]
  },
  {
   "cell_type": "code",
   "execution_count": null,
   "metadata": {},
   "outputs": [],
   "source": [
    "# Coletando os dados\n",
    "# https://www.kaggle.com/ranjeetjain3/seaborn-tips-dataset\n",
    "df = pd.read_csv('Dados/Tips/tips.csv')\n",
    "df"
   ]
  },
  {
   "cell_type": "code",
   "execution_count": null,
   "metadata": {},
   "outputs": [],
   "source": [
    "# Renomenando as colunas\n",
    "df.columns = [\"Total da Conta\", \"Valor da Gorjeta\", \"Sexo\", \"Fumante\", \"Dia\", \"Horário\", \"Quantidade de Pessoas\"]\n",
    "df"
   ]
  },
  {
   "cell_type": "code",
   "execution_count": null,
   "metadata": {},
   "outputs": [],
   "source": [
    "# Agrupa os dados indexando a variável \"Dia\"\n",
    "df1 = df.groupby([\"Dia\"])"
   ]
  },
  {
   "cell_type": "code",
   "execution_count": null,
   "metadata": {},
   "outputs": [],
   "source": [
    "# Calcula a soma das variáveis de acordo com a variável \"Dia\" e reiniciar o índice\n",
    "dfSoma = df1.sum([\"Total da Conta\", \"Valor da Gorjeta\", \"Sexo\", \"Fumante\", \"Horário\", \"Quantidade de Pessoas\"]).reset_index()\n",
    "dfSoma"
   ]
  },
  {
   "cell_type": "markdown",
   "metadata": {
    "tags": []
   },
   "source": [
    "# <font color='blue'>Matplotlib</font>\n",
    "<details>\n",
    "    <summary>\n",
    "        <a class=\"btnfire small stroke\"><em class=\"fas fa-chevron-circle-down\"></em>&nbsp;&nbsp;Clique para mais detalhes</a>\n",
    "    </summary>\n",
    "    <br>\n",
    "    \n",
    "Matplotlib é uma biblioteca desenvolvida para criar visualizações estáticas, animadas, e interativas em Python. <br>\n",
    "Matplotlib é orientado a objetos. É recomendado trabalhar diretamente com os objetos, caso necessite de mais controle e personalização de seus gráficos.<br>\n",
    "Basicamente, criamos dois tipos de objetos: um do tipo Figure e um ou mais do tipo Axes. <br>\n",
    "Cada objeto possui atributos e métodos que utilizamos para configurar os gráficos. <br>\n",
    "  \n",
    "https://matplotlib.org/\n",
    "    \n",
    "</details>\n"
   ]
  },
  {
   "cell_type": "code",
   "execution_count": null,
   "metadata": {},
   "outputs": [],
   "source": [
    "# Verificando a versão da biblioteca Matplotlib instalada\n",
    "!pip show matplotlib"
   ]
  },
  {
   "cell_type": "code",
   "execution_count": null,
   "metadata": {},
   "outputs": [],
   "source": [
    "# Instalando uma versão específica de um módulo\n",
    "!pip install matplotlib==3.7.1"
   ]
  },
  {
   "cell_type": "markdown",
   "metadata": {},
   "source": [
    "### Gráfico de barras verticais\n",
    "<details>\n",
    "    <summary>\n",
    "        <a class=\"btnfire small stroke\"><em class=\"fas fa-chevron-circle-down\"></em>&nbsp;&nbsp;Clique para mais detalhes</a>\n",
    "    </summary>\n",
    "    <br>\n",
    "\n",
    "O gráfico de barras, também chamado de gráfico de colunas, é usado na comparação de quantitativos. <br>\n",
    "Os dados são colocados no eixo x e os valores das quantidades no eixo y. \n",
    "    \n",
    "</details>\n"
   ]
  },
  {
   "cell_type": "code",
   "execution_count": null,
   "metadata": {},
   "outputs": [],
   "source": [
    "fig, ax = plt.subplots(figsize=(10, 6)) # Cria uma figura com eixos simples (x, y)\n",
    "ax.bar(dfSoma[\"Dia\"], dfSoma[\"Valor da Gorjeta\"]) # Cria o gráfico definido pelos valores do eixo x e do eixo y respectivamente.\n",
    "ax.set_title(\"Soma das gorjetas em relação ao dia da semana\", fontsize = 16)\n",
    "ax.set_xlabel(\"Dia da semana\", fontsize = 12)\n",
    "ax.set_ylabel(\"Soma das gorjetas (US$)\", fontsize = 12)\n",
    "for p in ax.patches: # Exibe os valores no gráfico\n",
    "    _x = p.get_x() + p.get_width() - 0.5\n",
    "    _y = p.get_y() + p.get_height()\n",
    "    value = int(p.get_height())\n",
    "    ax.text(_x, _y, value, ha=\"left\")\n",
    "plt.show()"
   ]
  },
  {
   "cell_type": "markdown",
   "metadata": {
    "tags": []
   },
   "source": [
    "### Gráfico de barras horizontais"
   ]
  },
  {
   "cell_type": "code",
   "execution_count": null,
   "metadata": {},
   "outputs": [],
   "source": [
    "fig, ax = plt.subplots(figsize=(10, 6)) # Cria uma figura com eixos simples (x, y)\n",
    "ax.barh(dfSoma[\"Dia\"], dfSoma[\"Valor da Gorjeta\"]) # Cria o gráfico definido pelos valores do eixo x e do eixo y respectivamente.\n",
    "ax.set_title(\"Soma das gorjetas em relação ao dia da semana\", fontsize = 16)\n",
    "ax.set_xlabel(\"Soma das gorjetas (US$)\", fontsize = 12)\n",
    "ax.set_ylabel(\"Dia da semana\", fontsize = 12)\n",
    "for p in ax.patches: # Exibe os valores no gráfico\n",
    "    _x = p.get_x() + p.get_width() \n",
    "    _y = p.get_y() + p.get_height() - 0.5\n",
    "    value = int(p.get_width())\n",
    "    ax.text(_x, _y, value, ha=\"left\")\n",
    "plt.show()"
   ]
  },
  {
   "cell_type": "markdown",
   "metadata": {},
   "source": [
    "### Gráfico de barras verticais agrupadas"
   ]
  },
  {
   "cell_type": "code",
   "execution_count": null,
   "metadata": {},
   "outputs": [],
   "source": [
    "diasDaSemana = dfSoma.Dia # Salva a lista de dias da semana\n",
    "ax = dfSoma.plot.bar(rot=0, figsize=(10, 6)) # Cria o gráfico definido pelos valores do eixo x e do eixo y respectivamente. O parâmetro \"rot\" define a rotação dos nomes dos dias da semana no gráfico\n",
    "ax.set_title(\"Visão geral\", fontsize = 16)\n",
    "ax.set_xlabel(\"Dia da semana\", fontsize = 12)\n",
    "ax.set_ylabel(\"Valor\", fontsize = 12)\n",
    "ax.set_xticklabels(diasDaSemana) # exibe os nomes dos dias da semana\n",
    "ax.legend(bbox_to_anchor=(1., 0., 0.5, 1.)) # exibe a legenda\n",
    "for p in ax.patches:\n",
    "    _x = p.get_x() + p.get_width() - 0.17\n",
    "    _y = p.get_y() + p.get_height()\n",
    "    value = int(p.get_height())\n",
    "    ax.text(_x, _y, value, ha=\"left\")\n",
    "plt.show()"
   ]
  },
  {
   "cell_type": "markdown",
   "metadata": {},
   "source": [
    "### Gráfico de barras horizontais agrupadas"
   ]
  },
  {
   "cell_type": "code",
   "execution_count": null,
   "metadata": {},
   "outputs": [],
   "source": [
    "diasDaSemana = dfSoma.Dia # Salva a lista de dias da semana\n",
    "ax = dfSoma.plot.barh() # Cria o gráfico definido pelos valores do eixo x e do eixo y respectivamente. \n",
    "ax.set_title(\"Visão geral\", fontsize = 16)\n",
    "ax.set_xlabel(\"Valor\", fontsize = 12)\n",
    "ax.set_ylabel(\"Dia da semana\", fontsize = 12)\n",
    "ax.set_yticklabels(diasDaSemana) # exibe os nomes dos dias da semana \n",
    "ax.legend(bbox_to_anchor=(1., 0., 0.5, 1.)) # exibe a legenda\n",
    "for p in ax.patches:\n",
    "    _x = p.get_x() + p.get_width() \n",
    "    _y = p.get_y() + p.get_height() - 0.1\n",
    "    value = int(p.get_width())\n",
    "    ax.text(_x, _y, value, ha=\"left\")\n",
    "plt.show()"
   ]
  },
  {
   "cell_type": "markdown",
   "metadata": {},
   "source": [
    "### Scatter plot (Gráfico de dispersão)\n",
    "<details>\n",
    "    <summary>\n",
    "        <a class=\"btnfire small stroke\"><em class=\"fas fa-chevron-circle-down\"></em>&nbsp;&nbsp;Clique para mais detalhes</a>\n",
    "    </summary>\n",
    "    <br>\n",
    "\n",
    "Exibe a relação entre duas variáveis. <br>\n",
    "Os dados da variável **independente** ficam no eixo x e os dados da variável **dependente** ficam no eixo y do gráfico. <br>\n",
    "Utilizamos marcadores para identificar os pontos de intersecção entre os eixos x e y.\n",
    "    \n",
    "</details>\n"
   ]
  },
  {
   "cell_type": "code",
   "execution_count": null,
   "metadata": {},
   "outputs": [],
   "source": [
    "# tipos de marcadores https://matplotlib.org/stable/api/markers_api.html\n",
    "\n",
    "# Define as cores dos marcadores\n",
    "np.random.seed(196)\n",
    "quantidaDeCores = 4\n",
    "cores = np.random.rand(quantidaDeCores)\n",
    "\n",
    "fig, ax = plt.subplots() # Cria uma figura com eixos simples (x, y)\n",
    "ax.scatter(dfSoma[\"Quantidade de Pessoas\"], dfSoma[\"Valor da Gorjeta\"], c = cores, marker = \"8\") # Define os valores para o eixo x e para o eixo y respectivamente.\n",
    "ax.set_title(\"Soma das gorjetas em relação ao total de pessoas\", fontsize = 16)\n",
    "ax.set_xlabel(\"Total de pessoas\", fontsize = 12)\n",
    "ax.set_ylabel(\"Soma das gorjetas (US$)\", fontsize = 12)\n",
    "plt.grid()\n",
    "plt.show()"
   ]
  },
  {
   "cell_type": "markdown",
   "metadata": {},
   "source": [
    "### Gráfico de linhas\n",
    "<details>\n",
    "    <summary>\n",
    "        <a class=\"btnfire small stroke\"><em class=\"fas fa-chevron-circle-down\"></em>&nbsp;&nbsp;Clique para mais detalhes</a>\n",
    "    </summary>\n",
    "    <br>\n",
    "\n",
    "Representa o progresso dos valores de uma variável no decorrer do tempo. <br>\n",
    "Normalmente, no eixo x, temos a divisão do tempo em dias, meses ou qualquer unidade de tempo (ou quaisquer valores ordenados). <br>\n",
    "É importante que a sequência de dados do eixo x esteja em uma escala de tempo dividida em períodos iguais. <br>\n",
    "É possível definir mais de uma varável para o eixo y. \n",
    "    \n",
    "</details>\n"
   ]
  },
  {
   "cell_type": "code",
   "execution_count": null,
   "metadata": {},
   "outputs": [],
   "source": [
    "fig, ax = plt.subplots() # Cria uma figura com eixos simples (x, y)\n",
    "ax.plot(dfSoma.Dia, dfSoma[\"Valor da Gorjeta\"], marker = \"8\", label = \"Valor da Gorjeta\") # Define a primeira linha.\n",
    "ax.plot(dfSoma.Dia, dfSoma[\"Total da Conta\"], marker = \"v\", label = \"Total da Conta\") # Define a segunda linha.\n",
    "ax.plot(dfSoma.Dia, dfSoma[\"Quantidade de Pessoas\"], marker = \"*\", label = \"Quantidade de Pessoas\") # Define a terceira linha.\n",
    "ax.set_title(\"Comportamento das variáveis em relação aos dias da semana\", fontsize = 16)\n",
    "ax.set_xlabel(\"Dias da semana\", fontsize = 12)\n",
    "ax.legend(bbox_to_anchor=(1., 0., 0.5, 1.))\n",
    "plt.grid()\n",
    "plt.show()"
   ]
  },
  {
   "cell_type": "markdown",
   "metadata": {},
   "source": [
    "### Boxplot\n",
    "<details>\n",
    "    <summary>\n",
    "        <a class=\"btnfire small stroke\"><em class=\"fas fa-chevron-circle-down\"></em>&nbsp;&nbsp;Clique para mais detalhes</a>\n",
    "    </summary>\n",
    "    <br>\n",
    "\n",
    "O boxplot permite visualizar a distribuição dos dados de uma variável divididos entre os quartis. <br>\n",
    "Quartis são valores que dividem um conjunto de elementos ordenados em quatro partes iguais, ou seja, cada parte contém 25% desses elementos. <br>\n",
    "Exibe onde a maioria dos dados se encontra e se há outliers. <br>\n",
    "O boxplot exibe uma análise visual da posição, dispersão, simetria, caudas e outliers do conjunto de dados:<br>\n",
    "    - **Posição**: observa-se a linha central do retângulo que é a mediana ou segundo quartil; <br>\n",
    "    - **Outliers**: valores atípicos, ou seja, que se afastam da maioria dos valores encontrados no conjunto de dados; <br>\n",
    "    - **Dispersão**: representada pela caixa, indica onde a maioria dos dados se encontra; <br>\n",
    "    - **Cauda**: Os valores no fim da cauda tem uma probabilidade de ocorrência muito baixa. <br>\n",
    "    - **Simetria**: A distribuição dos dados é simétrica quando as três medidas de tendência central, média, mediana e moda são iguais.  \n",
    "    \n",
    "</details>"
   ]
  },
  {
   "cell_type": "code",
   "execution_count": null,
   "metadata": {},
   "outputs": [],
   "source": [
    "nomeVariavel = [\"Valor da Gorjeta\"] # Salva o nome da variável\n",
    "fig, ax = plt.subplots()  # Cria uma figura com eixos simples (x, y)\n",
    "ax.boxplot(df[\"Valor da Gorjeta\"], labels=nomeVariavel)\n",
    "ax.set_title(\"Análise do valor das gorjetas\", fontsize = 16)\n",
    "plt.grid()\n",
    "plt.show()"
   ]
  },
  {
   "cell_type": "markdown",
   "metadata": {},
   "source": [
    "### Boxplot múltiplos"
   ]
  },
  {
   "cell_type": "code",
   "execution_count": null,
   "metadata": {},
   "outputs": [],
   "source": [
    "nomeDasVariáveis = [\"Valor da Gorjeta\", \"Quantidade de Pessoas\"] # Salva uma lista com o nome das variáveis\n",
    "dados = [df[\"Valor da Gorjeta\"], df[\"Quantidade de Pessoas\"]]\n",
    "fig, ax = plt.subplots()  # Cria uma figura com eixos simples (x, y)\n",
    "ax.boxplot(dados, labels=nomeDasVariáveis)\n",
    "ax.set_title(\"Múltiplos Boxplots\", fontsize = 16)\n",
    "plt.grid()\n",
    "plt.show()"
   ]
  },
  {
   "cell_type": "markdown",
   "metadata": {},
   "source": [
    "### Boxplot horizontal"
   ]
  },
  {
   "cell_type": "code",
   "execution_count": null,
   "metadata": {},
   "outputs": [],
   "source": [
    "nomeVariavel = [\"Valor da Gorjeta\"] # Salva o nome da variável\n",
    "fig, ax = plt.subplots()  # Cria uma figura com eixos simples (x, y)\n",
    "ax.boxplot(df[\"Valor da Gorjeta\"], labels=nomeVariavel, vert=False)\n",
    "ax.set_title(\"Análise do valor das gorjetas\", fontsize = 16)\n",
    "plt.grid()\n",
    "plt.show()"
   ]
  },
  {
   "cell_type": "markdown",
   "metadata": {},
   "source": [
    "### Histograma\n",
    "<details>\n",
    "    <summary>\n",
    "        <a class=\"btnfire small stroke\"><em class=\"fas fa-chevron-circle-down\"></em>&nbsp;&nbsp;Clique para mais detalhes</a>\n",
    "    </summary>\n",
    "    <br>\n",
    "\n",
    "Gráfico de barras que exibe a distribuição de frequências dos dados; <br>\n",
    "A base de cada uma das barras representa uma classe de dados e a altura representa a quantidade ou frequência absoluta com que o valor de cada classe ocorre; <br>\n",
    "Exibe a dispersão dos dados, ou seja onde a maioria dos dados se concentra. <br>\n",
    "\n",
    "</details>\n"
   ]
  },
  {
   "cell_type": "code",
   "execution_count": null,
   "metadata": {},
   "outputs": [],
   "source": [
    "fig, ax = plt.subplots()  # Cria uma figura com eixos simples (x, y)\n",
    "ax.hist(df[\"Valor da Gorjeta\"], bins = 10)\n",
    "ax.set_title(\"Histograma do Valor da Gorjeta\", fontsize = 16)\n",
    "ax.set_xlabel(\"Valor da Gorjeta\", fontsize = 12)\n",
    "ax.set_ylabel(\"Frequência\", fontsize = 12)\n",
    "for p in ax.patches:\n",
    "    _x = p.get_x() + p.get_width() - 0.6\n",
    "    _y = p.get_y() + p.get_height()\n",
    "    value = int(p.get_height())\n",
    "    ax.text(_x, _y, value, ha=\"left\")\n",
    "plt.show()"
   ]
  },
  {
   "cell_type": "markdown",
   "metadata": {},
   "source": [
    "### Gráfico de pizza\n",
    "<details>\n",
    "    <summary>\n",
    "        <a class=\"btnfire small stroke\"><em class=\"fas fa-chevron-circle-down\"></em>&nbsp;&nbsp;Clique para mais detalhes</a>\n",
    "    </summary>\n",
    "    <br>\n",
    "\n",
    "Indicado quando se deseja expressar uma relação de proporcionalidade, em que todos os valores somados compõem o todo de uma variável. <br>\n",
    "Desenhado em formato circular e dividido em setores, sendo as suas áreas diretamente proporcionais às frequências correspondentes. <br>\n",
    "Os setores devem ter cores diferentes e identificados em uma legenda. <br>\n",
    "Não é recomendado quando existem muitos setores ou fatias. <br>\n",
    "\n",
    "</details>\n"
   ]
  },
  {
   "cell_type": "code",
   "execution_count": null,
   "metadata": {},
   "outputs": [],
   "source": [
    "# Visualizando o DataFrame\n",
    "dfSoma"
   ]
  },
  {
   "cell_type": "code",
   "execution_count": null,
   "metadata": {},
   "outputs": [],
   "source": [
    "# Criando uma nova coluna com o percentual de pessoas em relação ao dia da semana.\n",
    "dfSoma[\"Percentual %\"] = round((dfSoma[\"Quantidade de Pessoas\"]/dfSoma[\"Quantidade de Pessoas\"].sum())*100, 2)\n",
    "dfSoma"
   ]
  },
  {
   "cell_type": "code",
   "execution_count": null,
   "metadata": {},
   "outputs": [],
   "source": [
    "diasDaSemana = dfSoma.Dia # Salva a lista de dias da semana\n",
    "percentuais = dfSoma[\"Percentual %\"] # Salva a lista com os percentuais\n",
    "explode = (0, 0.1, 0, 0)  # \"explode\" somente a segunda fatia\n",
    "\n",
    "fig, ax = plt.subplots()\n",
    "ax.pie(percentuais, explode=explode, labels=diasDaSemana, autopct='%1.1f%%', shadow=True, startangle=90)\n",
    "ax.set_title(\"Percentual de pessoas por dia\", fontsize = 16)\n",
    "ax.axis('equal') # Garante que o gráfico seja desenhado no formato de círculo, ou seja, não tem o formato de uma elipse, por exemplo. \n",
    "plt.show()"
   ]
  },
  {
   "cell_type": "markdown",
   "metadata": {},
   "source": [
    "### Facets\n",
    "Facets são um excelente recurso que permite segmentar um gráfico e dividir a visualização em porções menores, lado a lado."
   ]
  },
  {
   "cell_type": "code",
   "execution_count": null,
   "metadata": {},
   "outputs": [],
   "source": [
    "# Define as cores dos marcadores\n",
    "np.random.seed(18)\n",
    "quantidaDeCores = 4\n",
    "cores = np.random.rand(quantidaDeCores)\n",
    "\n",
    "fig, axs = plt.subplots(1, 3, figsize=(9, 3)) # Define as características do Facet\n",
    "axs[0].scatter(dfSoma[\"Dia\"], dfSoma[\"Valor da Gorjeta\"], c = cores, marker = \"8\")\n",
    "axs[0].set_xlabel(\"Dia\")\n",
    "axs[0].set_ylabel(\"Soma das gorjetas\")\n",
    "axs[1].scatter(dfSoma[\"Quantidade de Pessoas\"], dfSoma[\"Valor da Gorjeta\"], c = cores, marker = \"8\") \n",
    "axs[1].set_xlabel(\"Quantidade de Pessoas\")\n",
    "axs[2].scatter(dfSoma[\"Total da Conta\"], dfSoma[\"Valor da Gorjeta\"], c = cores, marker = \"8\") \n",
    "axs[2].set_xlabel(\"Total da conta\")\n",
    "fig.suptitle('Facet da soma total das gorjetas')\n",
    "plt.show()"
   ]
  },
  {
   "cell_type": "markdown",
   "metadata": {},
   "source": [
    "# <font color='blue'>Seaborn</font>\n",
    "<details>\n",
    "    <summary>\n",
    "        <a class=\"btnfire small stroke\"><em class=\"fas fa-chevron-circle-down\"></em>&nbsp;&nbsp;Clique para mais detalhes</a>\n",
    "    </summary>\n",
    "    <br>\n",
    "    \n",
    "Seaborn é uma biblioteca desenvolvida para construir gráficos estatísticos em Python. <br>\n",
    "É baseada no Matplotlib e integra-se muito bem com as estruturas de dados do Pandas. <br>\n",
    "Mapeia os valores dos dados e automaticamente monta atributos visuais e realiza cálculos estatísticos. <br>\n",
    "\n",
    "https://seaborn.pydata.org/ <br>\n",
    "https://seaborn.pydata.org/tutorial/color_palettes.html    \n",
    "</details>"
   ]
  },
  {
   "cell_type": "code",
   "execution_count": null,
   "metadata": {},
   "outputs": [],
   "source": [
    "# Verificando a versão da biblioteca Seaborn instalada\n",
    "!pip show seaborn"
   ]
  },
  {
   "cell_type": "code",
   "execution_count": null,
   "metadata": {},
   "outputs": [],
   "source": [
    "# Instalando uma versão específica de um módulo\n",
    "!pip install seaborn==0.12.2"
   ]
  },
  {
   "cell_type": "code",
   "execution_count": null,
   "metadata": {},
   "outputs": [],
   "source": [
    "# Visualizando o DataFrame\n",
    "dfSoma"
   ]
  },
  {
   "cell_type": "code",
   "execution_count": null,
   "metadata": {},
   "outputs": [],
   "source": [
    "# define o tamanho do gráfico\n",
    "sns.set(rc = {'figure.figsize':(10,6)}) "
   ]
  },
  {
   "cell_type": "markdown",
   "metadata": {},
   "source": [
    "### Gráfico de barras verticais"
   ]
  },
  {
   "cell_type": "code",
   "execution_count": null,
   "metadata": {},
   "outputs": [],
   "source": [
    "# Define o tema utilizado.\n",
    "sns.set_theme(style=\"darkgrid\") \n",
    "\n",
    "ax = sns.barplot(x=dfSoma[\"Dia\"], y=dfSoma[\"Valor da Gorjeta\"], palette=\"rocket\") # Cria o gráfico definido pelos valores do eixo x e do eixo y respectivamente.\n",
    "ax.set_title(\"Soma das gorjetas em relação ao dia da semana\")\n",
    "for p in ax.patches: # Exibe os valores no gráfico\n",
    "    _x = p.get_x() + p.get_width() - 0.4\n",
    "    _y = p.get_y() + p.get_height()\n",
    "    value = int(p.get_height())\n",
    "    ax.text(_x, _y, value, ha=\"left\")\n",
    "plt.show()"
   ]
  },
  {
   "cell_type": "markdown",
   "metadata": {},
   "source": [
    "### Gráfico de barras horizontais"
   ]
  },
  {
   "cell_type": "code",
   "execution_count": null,
   "metadata": {},
   "outputs": [],
   "source": [
    "# Define o tema utilizado.\n",
    "sns.set_theme(style=\"dark\") \n",
    "\n",
    "ax = sns.barplot(x= dfSoma[\"Valor da Gorjeta\"], y=dfSoma[\"Dia\"], palette=\"Blues_r\", orient='h') # Cria o gráfico definido pelos valores do eixo x e do eixo y respectivamente.\n",
    "ax.set_title(\"Soma das gorjetas em relação ao dia da semana\")\n",
    "for p in ax.patches: # Exibe os valores no gráfico\n",
    "    _x = p.get_x() + p.get_width() \n",
    "    _y = p.get_y() + p.get_height() - 0.4\n",
    "    value = int(p.get_width())\n",
    "    ax.text(_x, _y, value, ha=\"left\")\n",
    "plt.show()"
   ]
  },
  {
   "cell_type": "markdown",
   "metadata": {},
   "source": [
    "### Gráfico de barras verticais agrupadas"
   ]
  },
  {
   "cell_type": "code",
   "execution_count": null,
   "metadata": {},
   "outputs": [],
   "source": [
    "# Visualizando o DataFrame\n",
    "df.head()"
   ]
  },
  {
   "cell_type": "code",
   "execution_count": null,
   "metadata": {},
   "outputs": [],
   "source": [
    "# Define o tema utilizado\n",
    "sns.set_theme(style=\"whitegrid\")\n",
    "\n",
    "ax = sns.barplot(x=df[\"Dia\"], y=df[\"Total da Conta\"], hue=df[\"Sexo\"], palette=\"winter_r\", errorbar=None) # Cria o gráfico definido pelos valores do eixo x e do eixo y respectivamente.\n",
    "ax.set_title(\"Relação entre o total da conta e o sexo do cliente\", fontsize = 16)\n",
    "ax.legend(bbox_to_anchor=(0.8, 0., 0.5, 1.)) # exibe a legenda\n",
    "for p in ax.patches: # Exibe os valores no gráfico\n",
    "    _x = p.get_x() + p.get_width() - 0.25\n",
    "    _y = p.get_y() + p.get_height()\n",
    "    value = int(p.get_height())\n",
    "    ax.text(_x, _y, value, ha=\"left\")\n",
    "plt.show()"
   ]
  },
  {
   "cell_type": "markdown",
   "metadata": {},
   "source": [
    "### Gráfico de barras horizontais agrupadas"
   ]
  },
  {
   "cell_type": "code",
   "execution_count": null,
   "metadata": {},
   "outputs": [],
   "source": [
    "# Define o tema utilizado.\n",
    "sns.set_theme(style=\"white\") \n",
    "\n",
    "ax = sns.barplot(x=df[\"Total da Conta\"], y=df[\"Dia\"], palette=\"winter_r\", hue=df[\"Sexo\"], orient=\"h\", errorbar=None) # Cria o gráfico definido pelos valores do eixo x e do eixo y respectivamente.\n",
    "ax.set_title(\"Total da conta em relação ao sexo\", fontsize = 16)\n",
    "ax.legend(bbox_to_anchor=(0.8, 0., 0.5, 1.)) # exibe a legenda\n",
    "for p in ax.patches: # Exibe os valores no gráfico\n",
    "    _x = p.get_x() + p.get_width() \n",
    "    _y = p.get_y() + p.get_height() - 0.15\n",
    "    value = int(p.get_width())\n",
    "    ax.text(_x, _y, value, ha=\"left\")\n",
    "plt.show()"
   ]
  },
  {
   "cell_type": "markdown",
   "metadata": {},
   "source": [
    "### Countplot\n",
    "Cria um gráfico com a frequência absoluta dos valores de uma variável."
   ]
  },
  {
   "cell_type": "code",
   "execution_count": null,
   "metadata": {},
   "outputs": [],
   "source": [
    "# Define o tema utilizado.\n",
    "sns.set_theme(style=\"ticks\") \n",
    "\n",
    "# Criando um Countplot\n",
    "ax = sns.countplot(x=df[\"Sexo\"], palette = \"Greens_d\", order=df[\"Sexo\"].value_counts().index);\n",
    "ax.set_title(\"Frequência absoluta da variável sexo\", fontsize = 16)\n",
    "for p in ax.patches: # Exibe os valores no gráfico\n",
    "    _x = p.get_x() + p.get_width() - 0.43\n",
    "    _y = p.get_y() + p.get_height()\n",
    "    value = int(p.get_height())\n",
    "    ax.text(_x, _y, value, ha=\"left\")\n",
    "plt.show()"
   ]
  },
  {
   "cell_type": "markdown",
   "metadata": {},
   "source": [
    "### Scatter plot (Gráfico de dispersão)"
   ]
  },
  {
   "cell_type": "code",
   "execution_count": null,
   "metadata": {},
   "outputs": [],
   "source": [
    "# Define o tema utilizado.\n",
    "sns.set_theme(style=\"whitegrid\") \n",
    "\n",
    "ax = sns.scatterplot(x=dfSoma[\"Quantidade de Pessoas\"], y=dfSoma[\"Valor da Gorjeta\"]) # Cria o gráfico definido pelos valores do eixo x e do eixo y respectivamente.\n",
    "ax.set_title(\"Soma das gorjetas em relação ao total de pessoas\", fontsize = 16)\n",
    "ax.set_xlabel(\"Total de pessoas\", fontsize = 12)\n",
    "ax.set_ylabel(\"Soma das gorjetas\", fontsize = 12)\n",
    "plt.show()"
   ]
  },
  {
   "cell_type": "markdown",
   "metadata": {},
   "source": [
    "### Gráfico de linhas"
   ]
  },
  {
   "cell_type": "code",
   "execution_count": null,
   "metadata": {},
   "outputs": [],
   "source": [
    "# Visualizando o DataFrame\n",
    "dfSoma"
   ]
  },
  {
   "cell_type": "code",
   "execution_count": null,
   "metadata": {},
   "outputs": [],
   "source": [
    "# Definindo a variável Dia como index\n",
    "df2 = dfSoma.set_index(\"Dia\")\n",
    "df2"
   ]
  },
  {
   "cell_type": "code",
   "execution_count": null,
   "metadata": {},
   "outputs": [],
   "source": [
    "# Define o tema utilizado.\n",
    "sns.set_theme(style=\"darkgrid\") \n",
    "\n",
    "# Criando um gáfico de linhas\n",
    "ax = sns.lineplot(data=df2, markers=True)\n",
    "ax.set_title(\"Comportamento das variáveis em relação aos dias da semana\", fontsize = 16)\n",
    "ax.legend(bbox_to_anchor=(1., 0., 0.5, 1.))\n",
    "plt.show()"
   ]
  },
  {
   "cell_type": "markdown",
   "metadata": {
    "tags": []
   },
   "source": [
    "### Boxplot"
   ]
  },
  {
   "cell_type": "code",
   "execution_count": null,
   "metadata": {},
   "outputs": [],
   "source": [
    "# Criando um boxplot\n",
    "ax = sns.boxplot(data=df[\"Quantidade de Pessoas\"], palette=\"Set2\")\n",
    "ax.set_xticklabels([\"Quantidade de Pessoas\"]) # exibe o nome da variável\n",
    "plt.show()"
   ]
  },
  {
   "cell_type": "markdown",
   "metadata": {},
   "source": [
    "### Boxplot Múltiplos"
   ]
  },
  {
   "cell_type": "code",
   "execution_count": null,
   "metadata": {},
   "outputs": [],
   "source": [
    "# Criando múltiplos boxplots\n",
    "ax = sns.boxplot(data=df[[\"Quantidade de Pessoas\", \"Valor da Gorjeta\"]], palette=\"Set2\")\n",
    "ax.set_xticklabels([\"Quantidade de Pessoas\", \"Valor da Gorjeta\"]) # exibe o nome da variável\n",
    "plt.show()"
   ]
  },
  {
   "cell_type": "markdown",
   "metadata": {},
   "source": [
    "### Boxplot horizontal"
   ]
  },
  {
   "cell_type": "code",
   "execution_count": null,
   "metadata": {},
   "outputs": [],
   "source": [
    "# Criando um boxplot horizontal\n",
    "ax = sns.boxplot(data=df[\"Valor da Gorjeta\"],  orient=\"h\", palette=\"terrain_r\")\n",
    "ax.set_yticklabels([\"Valor da Gorjeta\"]) # exibe o nome da variável\n",
    "plt.show()"
   ]
  },
  {
   "cell_type": "markdown",
   "metadata": {},
   "source": [
    "### Histograma"
   ]
  },
  {
   "cell_type": "code",
   "execution_count": null,
   "metadata": {},
   "outputs": [],
   "source": [
    "# Criando um histograma\n",
    "ax = sns.histplot(x=df[\"Quantidade de Pessoas\"], bins=6) \n",
    "ax.set_title(\"Histograma de pessoas por mesa\", fontsize = 16)\n",
    "for p in ax.patches:\n",
    "    _x = p.get_x() + p.get_width() - 0.5\n",
    "    _y = p.get_y() + p.get_height()\n",
    "    value = int(p.get_height())\n",
    "    ax.text(_x, _y, value, ha=\"left\")\n",
    "plt.show()"
   ]
  },
  {
   "cell_type": "markdown",
   "metadata": {},
   "source": [
    "### Facet"
   ]
  },
  {
   "cell_type": "code",
   "execution_count": null,
   "metadata": {},
   "outputs": [],
   "source": [
    "# Visualizando as primeiras linhas do DataFrame\n",
    "df.head()"
   ]
  },
  {
   "cell_type": "code",
   "execution_count": null,
   "metadata": {},
   "outputs": [],
   "source": [
    "# Define o tema utilizado.\n",
    "sns.set_theme(style=\"darkgrid\") \n",
    "\n",
    "# Criando um Facet\n",
    "ax = sns.FacetGrid(df, col=\"Dia\", height=5, aspect=0.8)\n",
    "ax.map(sns.histplot, \"Valor da Gorjeta\")\n",
    "plt.show()"
   ]
  },
  {
   "cell_type": "code",
   "execution_count": null,
   "metadata": {},
   "outputs": [],
   "source": [
    "# Facet com gráficos de linhas de todas as variáveis. Ajuda a analisar a correlação entre as variáveis \n",
    "ax = sns.PairGrid(df)\n",
    "ax.map(sns.lineplot)\n",
    "plt.show()"
   ]
  },
  {
   "cell_type": "markdown",
   "metadata": {
    "tags": []
   },
   "source": [
    "# <font color='blue'>Plotly</font>\n",
    "<details>\n",
    "    <summary>\n",
    "        <a class=\"btnfire small stroke\"><em class=\"fas fa-chevron-circle-down\"></em>&nbsp;&nbsp;Clique para mais detalhes</a>\n",
    "    </summary>\n",
    "    <br>\n",
    "\n",
    "Plotly é uma biblioteca de código aberto desenvolvida para criar gráficos interativos. <br>\n",
    "Permite criar visualizações interativas baseadas na web que podem ser exibidas em Jupyter Notebooks, salvas em arquivos HTML ou servidas como parte de uma aplicação web. <br>\n",
    "  \n",
    "https://plotly.com/python/\n",
    "    \n",
    "</details>"
   ]
  },
  {
   "cell_type": "code",
   "execution_count": null,
   "metadata": {},
   "outputs": [],
   "source": [
    "# Instala o framework Dash. Reiniciar o Jupyter Lab e o navegador de internet\n",
    "!pip install jupyter-dash"
   ]
  },
  {
   "cell_type": "code",
   "execution_count": null,
   "metadata": {},
   "outputs": [],
   "source": [
    "# Dependência da  extensão do Plotly para Jupyter Lab. Reiniciar o Jupyter Lab e o navegador de internet\n",
    "!pip install npm"
   ]
  },
  {
   "cell_type": "markdown",
   "metadata": {},
   "source": [
    "### Fazer o download e instalar o Node.js\n",
    "https://nodejs.org/en/"
   ]
  },
  {
   "cell_type": "code",
   "execution_count": null,
   "metadata": {},
   "outputs": [],
   "source": [
    "# É necessário instalar a extensão do Plotly para Jupyter Lab.\n",
    "# Reiniciar o Jupyter Lab e o navegador de internet\n",
    "!jupyter labextension install jupyterlab-plotly"
   ]
  },
  {
   "cell_type": "code",
   "execution_count": null,
   "metadata": {},
   "outputs": [],
   "source": [
    "# Verificando a versão da biblioteca Plotly instalada\n",
    "!pip show plotly"
   ]
  },
  {
   "cell_type": "code",
   "execution_count": null,
   "metadata": {},
   "outputs": [],
   "source": [
    "# Importando o pacote Plotly\n",
    "import plotly.express as px"
   ]
  },
  {
   "cell_type": "code",
   "execution_count": null,
   "metadata": {},
   "outputs": [],
   "source": [
    "# Visualizando o DataFrame\n",
    "dfSoma"
   ]
  },
  {
   "cell_type": "markdown",
   "metadata": {},
   "source": [
    "### Gráfico de barras verticais"
   ]
  },
  {
   "cell_type": "code",
   "execution_count": null,
   "metadata": {},
   "outputs": [],
   "source": [
    "px.bar(dfSoma, \n",
    "       x='Dia', \n",
    "       y='Valor da Gorjeta', \n",
    "       title=\"Relação entre o dia e a soma das gorjetas\",\n",
    "       color=\"Dia\",  \n",
    "       width=800, \n",
    "       height=400,\n",
    "       )"
   ]
  },
  {
   "cell_type": "markdown",
   "metadata": {},
   "source": [
    "### Gráfico de barras horizontais"
   ]
  },
  {
   "cell_type": "code",
   "execution_count": null,
   "metadata": {},
   "outputs": [],
   "source": [
    "px.bar(dfSoma, \n",
    "       x='Valor da Gorjeta', \n",
    "       y='Dia', \n",
    "       title=\"Relação entre o dia e a soma das gorjetas\",\n",
    "       color=\"Dia\",\n",
    "       orientation='h',\n",
    "       width=800, \n",
    "       height=400\n",
    "      )"
   ]
  },
  {
   "cell_type": "code",
   "execution_count": null,
   "metadata": {},
   "outputs": [],
   "source": [
    "# Visualizando o DataFrame\n",
    "df.head()"
   ]
  },
  {
   "cell_type": "markdown",
   "metadata": {},
   "source": [
    "### Gráfico de barras verticais agrupadas"
   ]
  },
  {
   "cell_type": "code",
   "execution_count": null,
   "metadata": {},
   "outputs": [],
   "source": [
    "# Link para tabela com a escala de cores https://plotly.com/python/builtin-colorscales/\n",
    "\n",
    "# Criando um gráfico de barras\n",
    "px.bar(df, \n",
    "       x=\"Sexo\", \n",
    "       y=\"Valor da Gorjeta\",\n",
    "       color=\"Fumante\", \n",
    "       barmode=\"group\",\n",
    "       color_discrete_sequence=px.colors.sequential.Bluered,\n",
    "       width=800, \n",
    "       height=400,\n",
    "      )"
   ]
  },
  {
   "cell_type": "markdown",
   "metadata": {},
   "source": [
    "### Gráfico de barras horizontais agrupadas"
   ]
  },
  {
   "cell_type": "code",
   "execution_count": null,
   "metadata": {},
   "outputs": [],
   "source": [
    "px.bar(df, \n",
    "       x=\"Valor da Gorjeta\", \n",
    "       y=\"Sexo\",\n",
    "       color=\"Horário\", \n",
    "       barmode=\"group\",\n",
    "       color_discrete_sequence=px.colors.sequential.Blackbody,\n",
    "       orientation='h',\n",
    "       width=800, \n",
    "       height=400\n",
    "      )"
   ]
  },
  {
   "cell_type": "markdown",
   "metadata": {},
   "source": [
    "### Scatter plot (Gráfico de dispersão)"
   ]
  },
  {
   "cell_type": "code",
   "execution_count": null,
   "metadata": {},
   "outputs": [],
   "source": [
    "fig = px.scatter(dfSoma, \n",
    "           x=\"Quantidade de Pessoas\", \n",
    "           y=\"Valor da Gorjeta\",\n",
    "           labels={\"Valor da Gorjeta\": \"Soma das Gorjetas\", \"Quantidade de Pessoas\": \"Total de Pessoas\"},\n",
    "           title=\"Soma das gorjetas em relação ao total de pessoas\",\n",
    "           width=800, \n",
    "           height=400\n",
    "          )\n",
    "fig.show(config = {'displayModeBar': False}) # não exibe a barra de ferramentas"
   ]
  },
  {
   "cell_type": "markdown",
   "metadata": {
    "tags": []
   },
   "source": [
    "### Gráfico de linhas"
   ]
  },
  {
   "cell_type": "code",
   "execution_count": null,
   "metadata": {},
   "outputs": [],
   "source": [
    "import plotly.graph_objects as go"
   ]
  },
  {
   "cell_type": "code",
   "execution_count": null,
   "metadata": {},
   "outputs": [],
   "source": [
    "linha1 = go.Scatter(x=dfSoma.Dia, y=dfSoma[\"Valor da Gorjeta\"],\n",
    "                    mode='lines+markers',\n",
    "                    name='Valor da Gorjeta')\n",
    "linha2 = go.Scatter(x=dfSoma.Dia, y=dfSoma[\"Total da Conta\"],\n",
    "                    mode='lines+markers',\n",
    "                    name='Total da Conta')\n",
    "linha3 = go.Scatter(x=dfSoma.Dia, y=dfSoma[\"Quantidade de Pessoas\"],\n",
    "                    mode='lines+markers',\n",
    "                    name='Quantidade de Pessoas')\n",
    "\n",
    "linhas = [linha1, linha2, linha3]\n",
    "\n",
    "layout = go.Layout(\n",
    "            title=\"Comportamento das variáveis em relação aos dias da semana\",\n",
    "            autosize=False,\n",
    "            font={\"family\": \"Raleway\", \"size\": 10},\n",
    "            height=400,\n",
    "            width=670,\n",
    "            hovermode=\"closest\",\n",
    "            margin={\n",
    "                \"r\": 0,\n",
    "                \"t\": 50,\n",
    "                \"b\": 110,\n",
    "                \"l\": 40,\n",
    "            },\n",
    "            showlegend=True,\n",
    "            xaxis={\n",
    "                \"autorange\": True,\n",
    "                \"showline\": True,\n",
    "                \"title\": \"Dia\",\n",
    "                \"type\": \"category\",\n",
    "            },\n",
    "            yaxis={\n",
    "                \"autorange\": False,\n",
    "                \"mirror\": False,\n",
    "                \"range\": [0, 2000],\n",
    "                \"showgrid\": True,\n",
    "                \"showline\": True,\n",
    "                \"ticklen\": 10,\n",
    "                \"ticks\": \"outside\",\n",
    "                \"title\": \"Valor\",\n",
    "                \"type\": \"linear\",\n",
    "                \"zeroline\": False,\n",
    "                \"zerolinewidth\": 4,\n",
    "            }\n",
    "            )\n",
    "\n",
    "fig = go.Figure(data=linhas, layout=layout) # Criando figura que será exibida\n",
    "fig.show() # Exibindo figura/gráfico"
   ]
  },
  {
   "cell_type": "markdown",
   "metadata": {},
   "source": [
    "### Boxplot"
   ]
  },
  {
   "cell_type": "code",
   "execution_count": null,
   "metadata": {},
   "outputs": [],
   "source": [
    "px.box(df, \n",
    "       y=\"Total da Conta\",\n",
    "       width=800, \n",
    "       height=400)"
   ]
  },
  {
   "cell_type": "markdown",
   "metadata": {},
   "source": [
    "### Boxplot horizontal"
   ]
  },
  {
   "cell_type": "code",
   "execution_count": null,
   "metadata": {},
   "outputs": [],
   "source": [
    "px.box(df, \n",
    "       x=\"Total da Conta\", # usar x no lugar de y\n",
    "       width=800, \n",
    "       height=400)"
   ]
  },
  {
   "cell_type": "markdown",
   "metadata": {},
   "source": [
    "### Boxplot múltiplos"
   ]
  },
  {
   "cell_type": "code",
   "execution_count": null,
   "metadata": {},
   "outputs": [],
   "source": [
    "px.box(df,\n",
    "       x=\"Horário\", \n",
    "       y=\"Valor da Gorjeta\",\n",
    "       width=800, \n",
    "       height=400)"
   ]
  },
  {
   "cell_type": "markdown",
   "metadata": {},
   "source": [
    "### Histograma"
   ]
  },
  {
   "cell_type": "code",
   "execution_count": null,
   "metadata": {},
   "outputs": [],
   "source": [
    "px.histogram(df, \n",
    "             x=\"Valor da Gorjeta\", \n",
    "             nbins=10,\n",
    "             title=\"Histograma do Valor da Gorjeta\",\n",
    "             width=800, \n",
    "             height=400)"
   ]
  },
  {
   "cell_type": "markdown",
   "metadata": {},
   "source": [
    "### Gráfico de pizza"
   ]
  },
  {
   "cell_type": "code",
   "execution_count": null,
   "metadata": {},
   "outputs": [],
   "source": [
    "px.pie(df, \n",
    "       values='Valor da Gorjeta',\n",
    "       names='Dia',\n",
    "       width=800, \n",
    "       height=400\n",
    "       )"
   ]
  },
  {
   "cell_type": "markdown",
   "metadata": {},
   "source": [
    "### Facets"
   ]
  },
  {
   "cell_type": "code",
   "execution_count": null,
   "metadata": {},
   "outputs": [],
   "source": [
    "px.bar(df,\n",
    "       x=\"Quantidade de Pessoas\", \n",
    "       y=\"Valor da Gorjeta\", \n",
    "       color=\"Sexo\", \n",
    "       facet_row=\"Fumante\",\n",
    "       barmode=\"group\",\n",
    "       width=800, \n",
    "       height=500)"
   ]
  },
  {
   "cell_type": "markdown",
   "metadata": {},
   "source": [
    "### Exercícios"
   ]
  },
  {
   "cell_type": "markdown",
   "metadata": {},
   "source": [
    "Utilizando o dataset Titanic desenhe os gráficos solicitados."
   ]
  },
  {
   "cell_type": "code",
   "execution_count": null,
   "metadata": {},
   "outputs": [],
   "source": [
    "# Importando os pacotes\n",
    "import pandas as pd\n",
    "import numpy as np\n",
    "import matplotlib.pyplot as plt\n",
    "import seaborn as sns\n",
    "import plotly.express as px"
   ]
  },
  {
   "cell_type": "code",
   "execution_count": null,
   "metadata": {},
   "outputs": [],
   "source": [
    "# Coletando os dados\n",
    "df = pd.read_csv('Dados/Titanic/train.csv')\n",
    "df.head()"
   ]
  },
  {
   "cell_type": "markdown",
   "metadata": {},
   "source": [
    "1 - Crie um gráfico que exiba a quantidade de passageiros sobreviventes e não sobreviventes. "
   ]
  },
  {
   "cell_type": "code",
   "execution_count": null,
   "metadata": {},
   "outputs": [],
   "source": [
    "# Define o tema utilizado.\n",
    "sns.set_theme(style=\"dark\") \n",
    "\n",
    "# Desenhando o Countplot\n",
    "ax = sns.countplot(x=df.Survived, palette = \"Greens_d\");\n",
    "ax.set_title(\"Sobreviventes X não sobreviventes\", fontsize = 16)\n",
    "for p in ax.patches: # Exibe os valores no gráfico\n",
    "    _x = p.get_x() + p.get_width() - 0.45\n",
    "    _y = p.get_y() + p.get_height()\n",
    "    value = int(p.get_height())\n",
    "    ax.text(_x, _y, value, ha=\"left\")\n",
    "plt.show()"
   ]
  },
  {
   "cell_type": "code",
   "execution_count": null,
   "metadata": {},
   "outputs": [],
   "source": [
    "# Gráfico de barras\n",
    "df.Survived.value_counts().plot.bar()"
   ]
  },
  {
   "cell_type": "markdown",
   "metadata": {},
   "source": [
    "2 - Crie um gráfico que exiba o percentual de passageiros sobreviventes e não sobreviventes."
   ]
  },
  {
   "cell_type": "code",
   "execution_count": null,
   "metadata": {},
   "outputs": [],
   "source": [
    "# Gráfico de pizza\n",
    "((df.Survived.value_counts() / df.Survived.count())*100).plot.pie(autopct='%1.1f%%')"
   ]
  },
  {
   "cell_type": "code",
   "execution_count": null,
   "metadata": {},
   "outputs": [],
   "source": [
    "# Calculando os percentuais\n",
    "percentual = (df.Survived.value_counts() / df.Survived.count())*100\n",
    "\n",
    "# Rótulos\n",
    "labels = [\"Não sobreviventes\", \"Sobreviventes\"]\n",
    "\n",
    "# Definindo cores das fatias\n",
    "cores = [\"#DC143C\",\"#66CDAA\" ]\n",
    "\n",
    "# \"explode\" somente uma fatia\n",
    "explode = (0, 0.03)\n",
    "\n",
    "# Criando o gráfico de pizza\n",
    "ax = percentual.plot.pie(autopct='%1.1f%%', colors=cores,  explode=explode, startangle=90, labels=labels, textprops=dict(color=\"w\"))\n",
    "ax.set_title(\"Percentual de sobreviventes e não sobreviventes\", fontsize = 16)\n",
    "ax.legend(title=\"Legenda\",loc=\"center left\",bbox_to_anchor=(1., 0., 0.5, 1.))\n",
    "plt.show()"
   ]
  },
  {
   "cell_type": "markdown",
   "metadata": {},
   "source": [
    "3 - Crie um gráfico que exiba a distribuição de frequência da variável idade. "
   ]
  },
  {
   "cell_type": "code",
   "execution_count": null,
   "metadata": {},
   "outputs": [],
   "source": [
    "# Importando pacote\n",
    "import math\n",
    "\n",
    "# Calculando a quantidade de classes da variável Idade utilizando a expressão de Sturges\n",
    "n = df.Age.count()\n",
    "k = round(1+3.3*math.log10(n))\n",
    "k"
   ]
  },
  {
   "cell_type": "code",
   "execution_count": null,
   "metadata": {},
   "outputs": [],
   "source": [
    "# Calculando a amplitudade da amostra \n",
    "a = max(df.Age)-min(df.Age)\n",
    "\n",
    "# Calculando o intervalo entre as classes\n",
    "h = round(a/k)\n",
    "h"
   ]
  },
  {
   "cell_type": "code",
   "execution_count": null,
   "metadata": {},
   "outputs": [],
   "source": [
    "# Define o tema utilizado.\n",
    "sns.set_theme(style=\"darkgrid\") \n",
    "\n",
    "# Desenhando um histograma\n",
    "ax = sns.histplot(x=df.Age, bins=k) \n",
    "ax.set_title(\"Histograma da idade dos passageiros\", fontsize = 16)\n",
    "ax.set_xticks(np.arange(0, max(df.Age)+1, h))\n",
    "for p in ax.patches:\n",
    "    _x = p.get_x() + (p.get_width()) - 6\n",
    "    _y = p.get_y() + p.get_height()\n",
    "    value = int(p.get_height())\n",
    "    ax.text(_x, _y, value, ha=\"left\")\n",
    "plt.show()"
   ]
  },
  {
   "cell_type": "markdown",
   "metadata": {},
   "source": [
    "4 - Crie um Boxplot da variável idade."
   ]
  },
  {
   "cell_type": "code",
   "execution_count": null,
   "metadata": {},
   "outputs": [],
   "source": [
    "px.box(df, \n",
    "       y=\"Age\",\n",
    "       width=800, \n",
    "       height=400)"
   ]
  },
  {
   "cell_type": "code",
   "execution_count": null,
   "metadata": {},
   "outputs": [],
   "source": []
  }
 ],
 "metadata": {
  "kernelspec": {
   "display_name": "Python 3 (ipykernel)",
   "language": "python",
   "name": "python3"
  },
  "language_info": {
   "codemirror_mode": {
    "name": "ipython",
    "version": 3
   },
   "file_extension": ".py",
   "mimetype": "text/x-python",
   "name": "python",
   "nbconvert_exporter": "python",
   "pygments_lexer": "ipython3",
   "version": "3.9.13"
  }
 },
 "nbformat": 4,
 "nbformat_minor": 4
}
