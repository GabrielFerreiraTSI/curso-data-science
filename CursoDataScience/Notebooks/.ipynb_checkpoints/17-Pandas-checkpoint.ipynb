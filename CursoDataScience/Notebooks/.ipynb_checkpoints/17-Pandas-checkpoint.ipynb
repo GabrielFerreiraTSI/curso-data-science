{
 "cells": [
  {
   "cell_type": "code",
   "execution_count": null,
   "metadata": {},
   "outputs": [],
   "source": [
    "# Versão da Linguagem Python\n",
    "from platform import python_version\n",
    "print('Versão da Linguagem Python Usada Neste Jupyter Notebook:', python_version())"
   ]
  },
  {
   "cell_type": "markdown",
   "metadata": {},
   "source": [
    "## Pandas\n",
    "<details>\n",
    "    <summary>\n",
    "        <a class=\"btnfire small stroke\"><em class=\"fas fa-chevron-circle-down\"></em>&nbsp;&nbsp;Clique para mais detalhes</a>\n",
    "    </summary>\n",
    "    <br>\n",
    "    \n",
    "Pandas é uma ferramenta de análise e manipulação de dados de código aberto, flexível, rápida, poderosa e fácil de usar, construída com base na linguagem de programação Python. <br>\n",
    "Possui uma sofisticada funcionalidade de indexação que facilita a coleta dos dados, agregações, limpeza e a seleção de subconjuntos de dados. <br>\n",
    "Pandas é uma excelente ferramenta para Data Munging ou Data Wrangling, ou simplesmente Análise dos Dados.<br>    \n",
    "O pacote pandas possui duas estruturas de dados básicas:  <br>  \n",
    "- **Series** é um array unidimensional capaz de conter qualquer tipo de dado (números inteiros, números do tipo float, strings, objetos Python, entre outros).  <br>\n",
    "- **DataFrame** é uma estrutura de dados de duas dimensões, ou seja, possui linhas e colunas. Normalmente, cada coluna é de um determinado tipo de dado.\n",
    "\n",
    "</details>"
   ]
  },
  {
   "cell_type": "code",
   "execution_count": null,
   "metadata": {},
   "outputs": [],
   "source": [
    "# Verificando a versão instalada do Pandas\n",
    "!pip show pandas"
   ]
  },
  {
   "cell_type": "code",
   "execution_count": null,
   "metadata": {},
   "outputs": [],
   "source": [
    "# Atualizar a versão instalada do Pandas\n",
    "!pip install pandas -U"
   ]
  },
  {
   "cell_type": "code",
   "execution_count": null,
   "metadata": {},
   "outputs": [],
   "source": [
    "# Importando o pacote Pandas\n",
    "import pandas as pd\n",
    "\n",
    "# Importando o pacote NumPy\n",
    "import numpy as np"
   ]
  },
  {
   "cell_type": "markdown",
   "metadata": {},
   "source": [
    "### Series\n",
    "<details>\n",
    "    <summary>\n",
    "        <a class=\"btnfire small stroke\"><em class=\"fas fa-chevron-circle-down\"></em>&nbsp;&nbsp;Clique para mais detalhes</a>\n",
    "    </summary>\n",
    "    <br>\n",
    "    \n",
    "Método para criar uma série:<br>\n",
    "s = pd.Series(data, index=index) <br>\n",
    "Os dados podem ser: <br>\n",
    "- um dicionário Python; <br>\n",
    "- um ndarray; <br>\n",
    "- valores de qualquer tipo de dado. <br> \n",
    "    \n",
    "</details>"
   ]
  },
  {
   "cell_type": "code",
   "execution_count": null,
   "metadata": {},
   "outputs": [],
   "source": [
    "# Criando uma Series com ndarray\n",
    "# O índice deve ter o mesmo comprimento dos dados. \n",
    "# Se nenhum índice for passado, os índices serão atribuídos automaticamente com valores iniciando em zero até o tamanho do comprimento dos dados.\n",
    "np.random.seed(13)\n",
    "s1 = pd.Series(np.random.randint(1, 100, size=5), index=[\"a\", \"b\", \"c\", \"d\", \"e\"])\n",
    "s1"
   ]
  },
  {
   "cell_type": "code",
   "execution_count": null,
   "metadata": {},
   "outputs": [],
   "source": [
    "# Criando uma Series com ndarray sem especificar rótulos para os índices.\n",
    "np.random.seed(13)\n",
    "s2 = pd.Series(np.random.randint(1, 100, size=5))\n",
    "s2"
   ]
  },
  {
   "cell_type": "code",
   "execution_count": null,
   "metadata": {},
   "outputs": [],
   "source": [
    "# Criando um dicionário\n",
    "dicionario = {\"b\": 1,\n",
    "              \"a\": 3,\n",
    "              \"c\": 2\n",
    "             }"
   ]
  },
  {
   "cell_type": "code",
   "execution_count": null,
   "metadata": {},
   "outputs": [],
   "source": [
    "# Criando uma Series com dicionário.\n",
    "# Quando o índice não é informado, o índice da série são as chaves do dicionário. \n",
    "s3 = pd.Series(dicionario)\n",
    "s3"
   ]
  },
  {
   "cell_type": "code",
   "execution_count": null,
   "metadata": {},
   "outputs": [],
   "source": [
    "# Criando uma Series com dicionário informando rótulos para os índices.\n",
    "s4 = pd.Series(dicionario, index=[\"b\", \"a\", \"c\",\"k\"])\n",
    "s4"
   ]
  },
  {
   "cell_type": "code",
   "execution_count": null,
   "metadata": {},
   "outputs": [],
   "source": [
    "# Criando uma Series com dados do tipo String\n",
    "s5 = pd.Series([\"Daniel\", \"Jorge\", \"Rose\", \"Ana\"])\n",
    "s5"
   ]
  },
  {
   "cell_type": "code",
   "execution_count": null,
   "metadata": {},
   "outputs": [],
   "source": [
    "# Verificando o tipo de dado\n",
    "type(s5)"
   ]
  },
  {
   "cell_type": "markdown",
   "metadata": {
    "tags": []
   },
   "source": [
    "### Slicing de Series"
   ]
  },
  {
   "cell_type": "code",
   "execution_count": null,
   "metadata": {},
   "outputs": [],
   "source": [
    "# Imprimindo uma Series\n",
    "s2"
   ]
  },
  {
   "cell_type": "code",
   "execution_count": null,
   "metadata": {},
   "outputs": [],
   "source": [
    "# Retornando o primeiro elemento\n",
    "s2[0]"
   ]
  },
  {
   "cell_type": "code",
   "execution_count": null,
   "metadata": {},
   "outputs": [],
   "source": [
    "# Retornando os elementos da posição de índice zero até a posição de índice três. A posição de índice 3 é exclusiva.\n",
    "s2[:3]"
   ]
  },
  {
   "cell_type": "code",
   "execution_count": null,
   "metadata": {},
   "outputs": [],
   "source": [
    "# Retornando elementos informando as posições\n",
    "s2[[4, 2, 0]]"
   ]
  },
  {
   "cell_type": "code",
   "execution_count": null,
   "metadata": {},
   "outputs": [],
   "source": [
    "# Imprimindo uma Series\n",
    "s4"
   ]
  },
  {
   "cell_type": "code",
   "execution_count": null,
   "metadata": {},
   "outputs": [],
   "source": [
    "# Retornando elemento a partir dos rótulos dos índices\n",
    "s4[\"c\"]"
   ]
  },
  {
   "cell_type": "code",
   "execution_count": null,
   "metadata": {},
   "outputs": [],
   "source": [
    "# Retornando elemento a partir do índice\n",
    "s4[2]"
   ]
  },
  {
   "cell_type": "code",
   "execution_count": null,
   "metadata": {},
   "outputs": [],
   "source": [
    "# Retornando elementos a partir de uma lista de rótulos dos índices\n",
    "s4[[\"k\",\"c\"]]"
   ]
  },
  {
   "cell_type": "code",
   "execution_count": null,
   "metadata": {},
   "outputs": [],
   "source": [
    "# Retorna elementos de acordo o índice\n",
    "# Notação de slicing\n",
    "s4.iloc[2]"
   ]
  },
  {
   "cell_type": "code",
   "execution_count": null,
   "metadata": {},
   "outputs": [],
   "source": [
    "# Retorna elementos de acordo com o índice.\n",
    "# Python mantém os índices mesmo definindo rótulos.\n",
    "# Notação de slicing\n",
    "s4.iloc[1:3]"
   ]
  },
  {
   "cell_type": "code",
   "execution_count": null,
   "metadata": {},
   "outputs": [],
   "source": [
    "# Retorna elementos de acordo o rótulo do índice\n",
    "# Notação de slicing\n",
    "s4.loc[\"a\"]"
   ]
  },
  {
   "cell_type": "markdown",
   "metadata": {},
   "source": [
    "### Pesquisando elementos em uma Series"
   ]
  },
  {
   "cell_type": "code",
   "execution_count": null,
   "metadata": {},
   "outputs": [],
   "source": [
    "# Imprimindo uma Series\n",
    "s1"
   ]
  },
  {
   "cell_type": "code",
   "execution_count": null,
   "metadata": {},
   "outputs": [],
   "source": [
    "# Utilizando o operador in\n",
    "\"a\" in s1"
   ]
  },
  {
   "cell_type": "code",
   "execution_count": null,
   "metadata": {},
   "outputs": [],
   "source": [
    "# Pesquisando valores maiores que 50\n",
    "s1[s1 > 50]"
   ]
  },
  {
   "cell_type": "code",
   "execution_count": null,
   "metadata": {},
   "outputs": [],
   "source": [
    "# Pesquisando valores maiores que 50 e menores que 90.\n",
    "s1[(s1 > 50) & (s1 < 90)]"
   ]
  },
  {
   "cell_type": "markdown",
   "metadata": {},
   "source": [
    "### Métodos e atributos de uma Series"
   ]
  },
  {
   "cell_type": "code",
   "execution_count": null,
   "metadata": {},
   "outputs": [],
   "source": [
    "# Imprimindo uma Series\n",
    "s4"
   ]
  },
  {
   "cell_type": "code",
   "execution_count": null,
   "metadata": {},
   "outputs": [],
   "source": [
    "# Retornando os valores de uma Series\n",
    "s4.values"
   ]
  },
  {
   "cell_type": "code",
   "execution_count": null,
   "metadata": {},
   "outputs": [],
   "source": [
    "# Retornando os índices de uma Series\n",
    "s4.index"
   ]
  },
  {
   "cell_type": "code",
   "execution_count": null,
   "metadata": {},
   "outputs": [],
   "source": [
    "# Retornando o tipo de dado dos valores de uma Series\n",
    "s4.dtype"
   ]
  },
  {
   "cell_type": "code",
   "execution_count": null,
   "metadata": {},
   "outputs": [],
   "source": [
    "# Atribuinto um nome a Series\n",
    "s4.name = \"Minha Série\""
   ]
  },
  {
   "cell_type": "code",
   "execution_count": null,
   "metadata": {},
   "outputs": [],
   "source": [
    "# Retornando o nome de uma Series\n",
    "s4.name"
   ]
  },
  {
   "cell_type": "code",
   "execution_count": null,
   "metadata": {},
   "outputs": [],
   "source": [
    "# Calculando a média dos valores da Series\n",
    "s4.mean()"
   ]
  },
  {
   "cell_type": "code",
   "execution_count": null,
   "metadata": {},
   "outputs": [],
   "source": [
    "# Concatenando Series\n",
    "novaSerie = pd.concat([s4, s2])\n",
    "novaSerie"
   ]
  },
  {
   "cell_type": "code",
   "execution_count": null,
   "metadata": {},
   "outputs": [],
   "source": [
    "# Concatenando Series\n",
    "novaSerie = pd.concat([s4, s2], ignore_index=True)\n",
    "novaSerie"
   ]
  },
  {
   "cell_type": "code",
   "execution_count": null,
   "metadata": {},
   "outputs": [],
   "source": [
    "# Resumo estatístico\n",
    "s4.describe()"
   ]
  },
  {
   "cell_type": "code",
   "execution_count": null,
   "metadata": {},
   "outputs": [],
   "source": [
    "# Verificando se existem valores nulos na Series\n",
    "pd.isna(s4)"
   ]
  },
  {
   "cell_type": "code",
   "execution_count": null,
   "metadata": {},
   "outputs": [],
   "source": [
    "# Utilizando o Help\n",
    "help(pd.isna)"
   ]
  },
  {
   "cell_type": "markdown",
   "metadata": {},
   "source": [
    "### Operações com Series"
   ]
  },
  {
   "cell_type": "code",
   "execution_count": null,
   "metadata": {},
   "outputs": [],
   "source": [
    "# Imprimindo uma Series\n",
    "s1"
   ]
  },
  {
   "cell_type": "code",
   "execution_count": null,
   "metadata": {},
   "outputs": [],
   "source": [
    "# Somando uma Series\n",
    "s1 + s1"
   ]
  },
  {
   "cell_type": "code",
   "execution_count": null,
   "metadata": {},
   "outputs": [],
   "source": [
    "# Resultado igual a célula anterior\n",
    "s1 * 2"
   ]
  },
  {
   "cell_type": "code",
   "execution_count": null,
   "metadata": {},
   "outputs": [],
   "source": [
    "# Criando uma Series\n",
    "np.random.seed(45)\n",
    "s6 = pd.Series(np.random.randint(1, 100, size=8), index=[\"z\", \"b\", \"c\", \"d\", \"e\", \"f\", \"g\", \"h\"])\n",
    "s6"
   ]
  },
  {
   "cell_type": "code",
   "execution_count": null,
   "metadata": {},
   "outputs": [],
   "source": [
    "# Imprimindo uma Series\n",
    "s1"
   ]
  },
  {
   "cell_type": "code",
   "execution_count": null,
   "metadata": {},
   "outputs": [],
   "source": [
    "# Somando Series. A operação é realizada entre os índices iguais.\n",
    "# O interpretador gera valores nulos quando não encontra índices iguais nas duas Series.\n",
    "# O mesmo se aplica para as operações de subtração, multiplicação e divisão. \n",
    "s1 + s6"
   ]
  },
  {
   "cell_type": "markdown",
   "metadata": {},
   "source": [
    "### DataFrame\n",
    "<details>\n",
    "    <summary>\n",
    "        <a class=\"btnfire small stroke\"><em class=\"fas fa-chevron-circle-down\"></em>&nbsp;&nbsp;Clique para mais detalhes</a>\n",
    "    </summary>\n",
    "    <br>\n",
    "    \n",
    "Método básico para criar um DataFrame:<br>\n",
    "df = pd.DataFrame(data) <br>\n",
    "Os dados podem ser: <br>\n",
    "- Listas, Series e Dicionários Python; <br>\n",
    "- ndarray de duas dimensões; <br>\n",
    "- a partir de arquivos CSV, Excel, HTML, JSON entre outros. <br> \n",
    "    \n",
    "</details>"
   ]
  },
  {
   "cell_type": "code",
   "execution_count": null,
   "metadata": {},
   "outputs": [],
   "source": [
    "# Criando um dicionário de Series\n",
    "dicionario1 = {\n",
    "    \"Coluna1\": pd.Series([1.0, 2.0, 3.0], index=[\"a\", \"b\", \"c\"]),\n",
    "    \"Coluna2\": pd.Series([1.0, 2.0, 3.0, 4.0], index=[\"a\", \"b\", \"c\", \"d\"]),\n",
    "    \"Coluna3\": pd.Series(np.random.randint(1, 100, size=5), index=[\"a\", \"b\", \"c\", \"d\", \"e\"])\n",
    "    }"
   ]
  },
  {
   "cell_type": "code",
   "execution_count": null,
   "metadata": {},
   "outputs": [],
   "source": [
    "# Criando um DataFrame a partir de um dicionário\n",
    "df1 = pd.DataFrame(dicionario1)\n",
    "df1"
   ]
  },
  {
   "cell_type": "code",
   "execution_count": null,
   "metadata": {},
   "outputs": [],
   "source": [
    "# Criando um dicionário de Listas\n",
    "dicionario2 = {\n",
    "    \"Quantidade\": [12, 3, 4, 16],\n",
    "    \"Valor\": [100, 125, 75, 88]\n",
    "    }"
   ]
  },
  {
   "cell_type": "code",
   "execution_count": null,
   "metadata": {},
   "outputs": [],
   "source": [
    "# Criando um DataFrame a partir de um dicionário\n",
    "df2 = pd.DataFrame(dicionario2)\n",
    "df2"
   ]
  },
  {
   "cell_type": "code",
   "execution_count": null,
   "metadata": {},
   "outputs": [],
   "source": [
    "# Verificando o tipo de dado\n",
    "type(df2)"
   ]
  },
  {
   "cell_type": "markdown",
   "metadata": {},
   "source": [
    "### Titanic Dataset\n",
    "https://www.kaggle.com/c/titanic/data"
   ]
  },
  {
   "cell_type": "code",
   "execution_count": null,
   "metadata": {},
   "outputs": [],
   "source": [
    "# Criando um DataFrame a partir de um arquivo CSV\n",
    "# ficar atento ao separador de colunas (atributo \"sep\") pode ser \";\" \",\" \"|\"\n",
    "df3 = pd.read_csv('Dados/Titanic/train.csv', sep = ',', encoding = 'latin-1')\n",
    "df3"
   ]
  },
  {
   "cell_type": "code",
   "execution_count": null,
   "metadata": {},
   "outputs": [],
   "source": [
    "# Criando um DataFrame a partir de um arquivo Excel\n",
    "df = pd.read_excel(\"Dados/nomeDoArquivo.xlsx\", sheet_name=\"nome da planilha\")"
   ]
  },
  {
   "cell_type": "markdown",
   "metadata": {},
   "source": [
    "### Slicing de DataFrames"
   ]
  },
  {
   "cell_type": "code",
   "execution_count": null,
   "metadata": {},
   "outputs": [],
   "source": [
    "# Retornando valores de uma coluna.\n",
    "# Notação de slicing\n",
    "df3[\"Name\"]"
   ]
  },
  {
   "cell_type": "code",
   "execution_count": null,
   "metadata": {},
   "outputs": [],
   "source": [
    "# Exibindo todas as linhas do DataFrame\n",
    "pd.set_option('display.max_rows', df3.shape[0])"
   ]
  },
  {
   "cell_type": "code",
   "execution_count": null,
   "metadata": {},
   "outputs": [],
   "source": [
    "# Retornando uma coluna.\n",
    "# Coluna como um atributo do DataFrame\n",
    "df3.Name"
   ]
  },
  {
   "cell_type": "code",
   "execution_count": null,
   "metadata": {},
   "outputs": [],
   "source": [
    "# Retornando várias colunas\n",
    "df3[[\"Name\", \"Sex\", \"Age\", \"Survived\"]]"
   ]
  },
  {
   "cell_type": "code",
   "execution_count": null,
   "metadata": {},
   "outputs": [],
   "source": [
    "# Retornando um intervalo de linhas. A linha com índice 3 é exclusiva.\n",
    "df3[0:3]"
   ]
  },
  {
   "cell_type": "code",
   "execution_count": null,
   "metadata": {},
   "outputs": [],
   "source": [
    "# Retornando linhas e colunas específicas\n",
    "df3[[\"Name\", \"Sex\", \"Age\", \"Survived\"]][0:3]"
   ]
  },
  {
   "cell_type": "code",
   "execution_count": null,
   "metadata": {},
   "outputs": [],
   "source": [
    "# Retornando um intervalo de linhas.\n",
    "# Notação de slicing\n",
    "df3.iloc[25:32]"
   ]
  },
  {
   "cell_type": "code",
   "execution_count": null,
   "metadata": {},
   "outputs": [],
   "source": [
    "# Imprimindo um DataFrame\n",
    "df1"
   ]
  },
  {
   "cell_type": "code",
   "execution_count": null,
   "metadata": {},
   "outputs": [],
   "source": [
    "# Retornando um intervalo de linhas utilizando o rótulo dos índices\n",
    "df1[\"b\":\"d\"]"
   ]
  },
  {
   "cell_type": "code",
   "execution_count": null,
   "metadata": {},
   "outputs": [],
   "source": [
    "# Retornando linhas específicas\n",
    "# Notação de slicing\n",
    "df1.loc[[\"d\",\"a\"]]"
   ]
  },
  {
   "cell_type": "markdown",
   "metadata": {},
   "source": [
    "### Pesquisando registros no DataFrame"
   ]
  },
  {
   "cell_type": "code",
   "execution_count": null,
   "metadata": {},
   "outputs": [],
   "source": [
    "# Pesquisando um nome específico\n",
    "df3[df3.Name == \"Todoroff, Mr. Lalio\"]"
   ]
  },
  {
   "cell_type": "code",
   "execution_count": null,
   "metadata": {},
   "outputs": [],
   "source": [
    "# Pesquisando registros em um intervalo da coluna Age.\n",
    "df3[(df3.Age >= 70) & (df3.Age <= 75)]"
   ]
  },
  {
   "cell_type": "code",
   "execution_count": null,
   "metadata": {},
   "outputs": [],
   "source": [
    "# Pesquisando registros utilizando o método Query\n",
    "df3.query(\"Survived == 1 and Pclass == 1 and Sex == 'female'\")"
   ]
  },
  {
   "cell_type": "markdown",
   "metadata": {},
   "source": [
    "### Métodos e atributos de um DataFrame"
   ]
  },
  {
   "cell_type": "code",
   "execution_count": null,
   "metadata": {},
   "outputs": [],
   "source": [
    "# Exibindo as primeiras linhas de um DataFrame\n",
    "df3.head()"
   ]
  },
  {
   "cell_type": "code",
   "execution_count": null,
   "metadata": {},
   "outputs": [],
   "source": [
    "# Retornando os índices de um DataFrame.\n",
    "df3.index"
   ]
  },
  {
   "cell_type": "code",
   "execution_count": null,
   "metadata": {},
   "outputs": [],
   "source": [
    "# Retornando o nome das colunas de um DataFrame.\n",
    "df3.columns"
   ]
  },
  {
   "cell_type": "code",
   "execution_count": null,
   "metadata": {},
   "outputs": [],
   "source": [
    "# Retornando os valores das colunas de um DataFrame.\n",
    "# Os valores são automaticamente convertidos para uma matriz NumPy.\n",
    "valores = df3.values\n",
    "valores"
   ]
  },
  {
   "cell_type": "code",
   "execution_count": null,
   "metadata": {},
   "outputs": [],
   "source": [
    "# Verificando o tipo de dado.\n",
    "type(valores)"
   ]
  },
  {
   "cell_type": "code",
   "execution_count": null,
   "metadata": {},
   "outputs": [],
   "source": [
    "# Verificando informações sobre cada coluna do DataFrame.\n",
    "df3.info()"
   ]
  },
  {
   "cell_type": "code",
   "execution_count": null,
   "metadata": {},
   "outputs": [],
   "source": [
    "# Verifica o total de valores únicos por coluna.\n",
    "df3.nunique()"
   ]
  },
  {
   "cell_type": "code",
   "execution_count": null,
   "metadata": {},
   "outputs": [],
   "source": [
    "# Verifica o total de valores únicos de um determinada coluna.\n",
    "df3.Survived.nunique()"
   ]
  },
  {
   "cell_type": "code",
   "execution_count": null,
   "metadata": {},
   "outputs": [],
   "source": [
    "# Retorna os valores únicos de uma coluna. Os valores únicos da coluna Embarked são ['S', 'C', 'Q', nan]\n",
    "df3.Embarked.unique()"
   ]
  },
  {
   "cell_type": "code",
   "execution_count": null,
   "metadata": {},
   "outputs": [],
   "source": [
    "# Copiar um DataFrame.\n",
    "df = df3.copy()\n",
    "df"
   ]
  },
  {
   "cell_type": "code",
   "execution_count": null,
   "metadata": {},
   "outputs": [],
   "source": [
    "# Contando o número de linhas\n",
    "quantidadeLinhas = df3.shape[0]\n",
    "quantidadeLinhas"
   ]
  },
  {
   "cell_type": "code",
   "execution_count": null,
   "metadata": {},
   "outputs": [],
   "source": [
    "# Contando o número de colunas\n",
    "quantidadeColunas = df3.shape[1]\n",
    "quantidadeColunas"
   ]
  },
  {
   "cell_type": "code",
   "execution_count": null,
   "metadata": {},
   "outputs": [],
   "source": [
    "# Resumo estatístico das colunas.\n",
    "df3.describe()"
   ]
  },
  {
   "cell_type": "code",
   "execution_count": null,
   "metadata": {},
   "outputs": [],
   "source": [
    "# Contando frequência dos valores de uma variável\n",
    "df3.Survived.value_counts() "
   ]
  },
  {
   "cell_type": "code",
   "execution_count": null,
   "metadata": {},
   "outputs": [],
   "source": [
    "# Renomeando as colunas\n",
    "# É obrigatório informar todas as colunas\n",
    "df3.columns = ['ID', 'Sobreviveu', 'Classe', 'Nome', 'Sexo', 'Idade', 'Quantidade de irmãos e esposas', 'Quantidade de pais e filhos', 'Bilhete', 'Tarifa', \"Cabine\", 'Porto de Embarque']\n",
    "df3.head(3)"
   ]
  },
  {
   "cell_type": "code",
   "execution_count": null,
   "metadata": {},
   "outputs": [],
   "source": [
    "# Renomeando colunas específicas. \"inplace = True\" salva a alteração diretamente no DataFrame\n",
    "df3.rename(columns = {\"ID\":\"Código\", \"Nome\":\"Nome Completo\"}, inplace = True)\n",
    "df3.head(3)"
   ]
  },
  {
   "cell_type": "code",
   "execution_count": null,
   "metadata": {},
   "outputs": [],
   "source": [
    "# Imprimindo um DataFrame\n",
    "df2"
   ]
  },
  {
   "cell_type": "code",
   "execution_count": null,
   "metadata": {},
   "outputs": [],
   "source": [
    "# Adicionando uma linha no final do DataFrame\n",
    "df2.loc[len(df2.index)] = [30, 5]\n",
    "df2"
   ]
  },
  {
   "cell_type": "code",
   "execution_count": null,
   "metadata": {},
   "outputs": [],
   "source": [
    "# Criando uma nova coluna no DataFrame com valores nulos.\n",
    "df2[\"Total\"] = np.nan\n",
    "df2"
   ]
  },
  {
   "cell_type": "code",
   "execution_count": null,
   "metadata": {},
   "outputs": [],
   "source": [
    "# Multiplicando colunas.\n",
    "df2[\"Total\"] = df2[\"Quantidade\"] * df2[\"Valor\"]\n",
    "df2"
   ]
  },
  {
   "cell_type": "code",
   "execution_count": null,
   "metadata": {},
   "outputs": [],
   "source": [
    "# Soma as LINHAS do DataFrame e adiciona uma COLUNA com o total.\n",
    "# Ficar atento ao intervalo de linhas e colunas especificado no método iloc.\n",
    "df2[\"Somatório\"] = df2.iloc[:,0:3].sum(numeric_only=True, axis=1)\n",
    "df2"
   ]
  },
  {
   "cell_type": "code",
   "execution_count": null,
   "metadata": {},
   "outputs": [],
   "source": [
    "# Soma as COLUNAS do DataFrame e adiciona uma linha com o total.\n",
    "# Ficar atento ao intervalo de linhas e colunas especificado no método iloc.\n",
    "df2.loc['Total'] = df2.iloc[0:4,:].sum(numeric_only=True, axis=0)\n",
    "df2"
   ]
  },
  {
   "cell_type": "code",
   "execution_count": null,
   "metadata": {},
   "outputs": [],
   "source": [
    "# Excluir coluna pelo índice da mesma\n",
    "df2 = df2.drop(df2.columns[3], axis=1)\n",
    "df2"
   ]
  },
  {
   "cell_type": "code",
   "execution_count": null,
   "metadata": {},
   "outputs": [],
   "source": [
    "# Excluir colunas específicas\n",
    "df2 = df2.drop(['Valor', 'Total'], axis=1)\n",
    "df2"
   ]
  },
  {
   "cell_type": "code",
   "execution_count": null,
   "metadata": {},
   "outputs": [],
   "source": [
    "# Excluir linhas específicas\n",
    "df2 = df2.drop([0,2,'Total'], axis=0)\n",
    "\n",
    "# É importante reiniciar os índices após a exclusão de linhas\n",
    "df2.reset_index(inplace = True)\n",
    "df2"
   ]
  },
  {
   "cell_type": "code",
   "execution_count": null,
   "metadata": {},
   "outputs": [],
   "source": [
    "# Excluir linhas baseado em uma condição\n",
    "df2 = df2.drop(df2[df2.Quantidade <  10].index, axis=0)\n",
    "\n",
    "# É importante reiniciar os índices após a exclusão de uma linha\n",
    "df2.reset_index(inplace = True)\n",
    "df2"
   ]
  },
  {
   "cell_type": "code",
   "execution_count": null,
   "metadata": {},
   "outputs": [],
   "source": [
    "# Excluir colunas específicas\n",
    "df2 = df2.drop([\"level_0\", \"index\"], axis=1)\n",
    "df2"
   ]
  },
  {
   "cell_type": "code",
   "execution_count": null,
   "metadata": {},
   "outputs": [],
   "source": [
    "# Definindo rótulos para os índices\n",
    "df2.index = [\"a\", \"b\"]\n",
    "df2"
   ]
  },
  {
   "cell_type": "code",
   "execution_count": null,
   "metadata": {},
   "outputs": [],
   "source": [
    "# Criando um dicionário de Listas\n",
    "dicionario = {\n",
    "    \"Unidade\": [\"pacote\", \"und\", \"cx\", \"peça\"],\n",
    "    \"Valor\": [100, 125, 75, 88]\n",
    "    }\n",
    "\n",
    "# Criando um DataFrame a partir de um dicionário\n",
    "df4 = pd.DataFrame(dicionario)\n",
    "df4"
   ]
  },
  {
   "cell_type": "code",
   "execution_count": null,
   "metadata": {},
   "outputs": [],
   "source": [
    "# Concatenando DataFrames \n",
    "# Atenção aos valores nulos \n",
    "dfConcatenados = pd.concat([df2, df4], axis=\"columns\")\n",
    "dfConcatenados"
   ]
  },
  {
   "cell_type": "code",
   "execution_count": null,
   "metadata": {},
   "outputs": [],
   "source": [
    "# Verificando se existem dados duplicados.\n",
    "# Ocorrem dados duplicados quando uma linha inteira, é igual a outra\n",
    "dfConcatenados.duplicated().sum()"
   ]
  },
  {
   "cell_type": "code",
   "execution_count": null,
   "metadata": {},
   "outputs": [],
   "source": [
    "# Adicionando uma linha no final do DataFrame\n",
    "dfConcatenados.loc[len(dfConcatenados.index)] = [np.nan, \"pacote\", 100]\n",
    "dfConcatenados"
   ]
  },
  {
   "cell_type": "code",
   "execution_count": null,
   "metadata": {},
   "outputs": [],
   "source": [
    "# Excluindo as linhas duplicadas mantendo a primeira ocorrência da linha\n",
    "dfConcatenados.drop_duplicates(ignore_index=True, inplace = True)\n",
    "dfConcatenados"
   ]
  },
  {
   "cell_type": "code",
   "execution_count": null,
   "metadata": {},
   "outputs": [],
   "source": [
    "# Imprimindo um DataFrame\n",
    "df2"
   ]
  },
  {
   "cell_type": "code",
   "execution_count": null,
   "metadata": {},
   "outputs": [],
   "source": [
    "# Alterando um valor específico no DataFrame\n",
    "# df['nome da coluna'] = df['nome da coluna'].replace([\"valor atual 1\", \"valor atual 2\", \"valor atual 3\"],[\"novo valor 1\", \"novo valor 2\", \"novo valor 3\"])\n",
    "df2['Quantidade'] = df2['Quantidade'].replace([16, 30],[5, 8])\n",
    "df2"
   ]
  },
  {
   "cell_type": "code",
   "execution_count": null,
   "metadata": {},
   "outputs": [],
   "source": [
    "# Alterando valores de uma coluna baseado em uma condição\n",
    "df2.loc[(df2[\"Quantidade\"] > 1) & (df2[\"Quantidade\"] < 7), \"Quantidade\"] = 99\n",
    "df2"
   ]
  },
  {
   "cell_type": "code",
   "execution_count": null,
   "metadata": {},
   "outputs": [],
   "source": [
    "# Salvar o DataFrame em um arquivo EXCEL. A pasta onde o arquivo for salvo deve existir.\n",
    "import os\n",
    "\n",
    "# Gerando um arquivo Excel a partir de um Dataframe\n",
    "try:\n",
    "    df2.to_excel('Dados/teste-df2.xlsx', sheet_name='Planilha1')\n",
    "    print(\"Arquivo salvo!\")\n",
    "\n",
    "except OSError as mensagemOSError: # Erro de entrada e saída\n",
    "    print(mensagemOSError)"
   ]
  },
  {
   "cell_type": "code",
   "execution_count": null,
   "metadata": {},
   "outputs": [],
   "source": [
    "# Criando um DataFrame a partir de um arquivo Excell\n",
    "df4 = pd.read_excel(\"Dados/teste-df2.xlsx\", sheet_name='Planilha1')\n",
    "df4"
   ]
  },
  {
   "cell_type": "code",
   "execution_count": null,
   "metadata": {},
   "outputs": [],
   "source": [
    "# Gerando um arquivo CSV a partir de um Dataframe\n",
    "df2.to_csv('Dados/teste-df2.csv')"
   ]
  },
  {
   "cell_type": "code",
   "execution_count": null,
   "metadata": {},
   "outputs": [],
   "source": [
    "# Criando um DataFrame a partir de um arquivo CSV\n",
    "df5 = pd.read_csv('Dados/teste-df2.csv')\n",
    "df5"
   ]
  },
  {
   "cell_type": "markdown",
   "metadata": {},
   "source": [
    "### Coletando amostras de um DataFrame"
   ]
  },
  {
   "cell_type": "code",
   "execution_count": null,
   "metadata": {},
   "outputs": [],
   "source": [
    "# Selecionando aleatoriamente apenas uma linha \n",
    "df3.sample()"
   ]
  },
  {
   "cell_type": "code",
   "execution_count": null,
   "metadata": {},
   "outputs": [],
   "source": [
    "# Selecionando aleatoriamente um número especificado de linhas. Por exemplo, para selecionar 3 linhas aleatórias, defina n = 3\n",
    "df3.sample(n=3)"
   ]
  },
  {
   "cell_type": "code",
   "execution_count": null,
   "metadata": {},
   "outputs": [],
   "source": [
    "# Permitir uma seleção aleatória da mesma linha mais de uma vez informando replace=True\n",
    "df3.sample(n=3,replace=True)"
   ]
  },
  {
   "cell_type": "code",
   "execution_count": null,
   "metadata": {},
   "outputs": [],
   "source": [
    "# Selecione aleatoriamente uma fração específica do número total de linhas. Por exemplo, se você tiver 100 linhas e definir frac = 0,50, \n",
    "# obterá uma seleção aleatória de 50% do total de linhas, o que significa que 50 linhas serão selecionadas.\n",
    "df3.sample(frac=0.50)"
   ]
  },
  {
   "cell_type": "markdown",
   "metadata": {},
   "source": [
    "### Exercícios"
   ]
  },
  {
   "cell_type": "markdown",
   "metadata": {},
   "source": [
    "Utilize o dataset Titanic para responder o que se pede."
   ]
  },
  {
   "cell_type": "markdown",
   "metadata": {},
   "source": [
    "1 - Colete os dados do dataset Titanic e carregue em um DataFrame."
   ]
  },
  {
   "cell_type": "code",
   "execution_count": null,
   "metadata": {},
   "outputs": [],
   "source": [
    "# Coletando os dados\n",
    "import pandas as pd\n",
    "\n",
    "df = pd.read_csv('Dados\\\\Titanic\\\\train.csv')"
   ]
  },
  {
   "cell_type": "markdown",
   "metadata": {},
   "source": [
    "2 - Exiba as primeiras linhas do DataFrame."
   ]
  },
  {
   "cell_type": "code",
   "execution_count": null,
   "metadata": {},
   "outputs": [],
   "source": [
    "# Visualizando as primeiras linhas\n",
    "df.head()"
   ]
  },
  {
   "cell_type": "markdown",
   "metadata": {},
   "source": [
    "3 - Exiba as dimensões do DataFrame."
   ]
  },
  {
   "cell_type": "code",
   "execution_count": null,
   "metadata": {},
   "outputs": [],
   "source": [
    "# Visualizando as dimensões\n",
    "df.shape"
   ]
  },
  {
   "cell_type": "markdown",
   "metadata": {},
   "source": [
    "4 - Exiba informações sobre as colunas."
   ]
  },
  {
   "cell_type": "code",
   "execution_count": null,
   "metadata": {},
   "outputs": [],
   "source": [
    "# Informações sobre as variáveis\n",
    "df.info()"
   ]
  },
  {
   "cell_type": "markdown",
   "metadata": {},
   "source": [
    "5 - Exiba um resumo estatístico dos dados."
   ]
  },
  {
   "cell_type": "code",
   "execution_count": null,
   "metadata": {},
   "outputs": [],
   "source": [
    "# Resumo estatístico.\n",
    "df.describe()"
   ]
  },
  {
   "cell_type": "markdown",
   "metadata": {},
   "source": [
    "6 - Verifique se a coluna Survived está balanceada. Ou seja, se tem a mesma quantidade para passageiros que sobreviveram e para passageiros que não sobreviveram. "
   ]
  },
  {
   "cell_type": "code",
   "execution_count": null,
   "metadata": {},
   "outputs": [],
   "source": [
    "# Contando frequência dos valores de uma variável.\n",
    "df.Survived.value_counts() "
   ]
  },
  {
   "cell_type": "markdown",
   "metadata": {},
   "source": [
    "7 - Verifique o total de valores únicos por coluna."
   ]
  },
  {
   "cell_type": "code",
   "execution_count": null,
   "metadata": {},
   "outputs": [],
   "source": [
    "# Total de valors únicos por coluna.\n",
    "df.nunique()"
   ]
  },
  {
   "cell_type": "markdown",
   "metadata": {},
   "source": [
    "8 - Exclua as seguintes colunas: Name, PassengerId, SibSp, Parch, Ticket, Cabin.<br>\n",
    "Obs.: Crie um novo DataFrame para preservar os dados originais."
   ]
  },
  {
   "cell_type": "code",
   "execution_count": null,
   "metadata": {},
   "outputs": [],
   "source": [
    "# Excluindo colunas\n",
    "df1 = df.drop([\"Name\", \"PassengerId\", \"SibSp\", \"Parch\", \"Ticket\", \"Cabin\"], axis=1)\n",
    "df1.head(4)"
   ]
  },
  {
   "cell_type": "markdown",
   "metadata": {},
   "source": [
    "9 - Verifique quantos sobreviventes são do sexo masculino e quantos são do sexo feminino. Depois calcule o percentual de cada em relação ao total de sobreviventes."
   ]
  },
  {
   "cell_type": "code",
   "execution_count": null,
   "metadata": {},
   "outputs": [],
   "source": [
    "# Sobreviventes do sexo masculino\n",
    "sobreviventesMasculino = df1.query(\"Survived == 1 and Sex == 'male'\").shape[0]\n",
    "sobreviventesMasculino"
   ]
  },
  {
   "cell_type": "code",
   "execution_count": null,
   "metadata": {},
   "outputs": [],
   "source": [
    "# Sobreviventes do sexo feminino\n",
    "sobreviventesFeminino = df1.query(\"Survived == 1 and Sex == 'female'\").shape[0]\n",
    "sobreviventesFeminino"
   ]
  },
  {
   "cell_type": "code",
   "execution_count": null,
   "metadata": {},
   "outputs": [],
   "source": [
    "# Percentual de sobreviventes do sexo masculino\n",
    "(sobreviventesMasculino / len(df1.query(\"Survived == 1\")))*100"
   ]
  },
  {
   "cell_type": "code",
   "execution_count": null,
   "metadata": {},
   "outputs": [],
   "source": [
    "# Percentual de sobreviventes do sexo feminino\n",
    "(sobreviventesFeminino / len(df1.query(\"Survived == 1\")))*100"
   ]
  },
  {
   "cell_type": "code",
   "execution_count": null,
   "metadata": {},
   "outputs": [],
   "source": [
    "# NÃO Sobreviventes do sexo masculino\n",
    "naoSobreviventesMasculino = df1.query(\"Survived == 0 and Sex == 'male'\").shape[0]\n",
    "naoSobreviventesMasculino"
   ]
  },
  {
   "cell_type": "code",
   "execution_count": null,
   "metadata": {},
   "outputs": [],
   "source": [
    "# NÃO Sobreviventes do sexo feminino\n",
    "naoSobreviventesFeminino = df1.query(\"Survived == 0 and Sex == 'female'\").shape[0]\n",
    "naoSobreviventesFeminino"
   ]
  },
  {
   "cell_type": "code",
   "execution_count": null,
   "metadata": {},
   "outputs": [],
   "source": [
    "# Percentual de NÃO sobreviventes do sexo masculino\n",
    "(naoSobreviventesMasculino / len(df1.query(\"Survived == 0\")))*100"
   ]
  },
  {
   "cell_type": "code",
   "execution_count": null,
   "metadata": {},
   "outputs": [],
   "source": [
    "# Percentual de NÃO sobreviventes do sexo feminino\n",
    "(naoSobreviventesFeminino / len(df1.query(\"Survived == 0\")))*100"
   ]
  },
  {
   "cell_type": "code",
   "execution_count": null,
   "metadata": {},
   "outputs": [],
   "source": []
  }
 ],
 "metadata": {
  "kernelspec": {
   "display_name": "Python 3 (ipykernel)",
   "language": "python",
   "name": "python3"
  },
  "language_info": {
   "codemirror_mode": {
    "name": "ipython",
    "version": 3
   },
   "file_extension": ".py",
   "mimetype": "text/x-python",
   "name": "python",
   "nbconvert_exporter": "python",
   "pygments_lexer": "ipython3",
   "version": "3.9.13"
  }
 },
 "nbformat": 4,
 "nbformat_minor": 4
}
