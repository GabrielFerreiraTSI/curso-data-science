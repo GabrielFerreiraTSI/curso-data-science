{
 "cells": [
  {
   "cell_type": "markdown",
   "metadata": {},
   "source": [
    "# <font color='blue'>Calculando o tamanho da amostra</font>"
   ]
  },
  {
   "cell_type": "code",
   "execution_count": 1,
   "metadata": {},
   "outputs": [
    {
     "name": "stdout",
     "output_type": "stream",
     "text": [
      "Python Version: 3.9.13\n",
      "Pandas Version: 2.0.2\n",
      "Matplotlib Version: 3.7.1\n"
     ]
    }
   ],
   "source": [
    "# Versão da Linguagem Python\n",
    "from platform import python_version\n",
    "print('Python Version:', python_version())\n",
    "\n",
    "# Verificando as versões dos pacotes instalados\n",
    "pandasVersion = !pip show pandas\n",
    "matplotlibVersion = !pip show matplotlib\n",
    "print('Pandas', pandasVersion[1])\n",
    "print(\"Matplotlib\", matplotlibVersion[1])"
   ]
  },
  {
   "cell_type": "markdown",
   "metadata": {},
   "source": [
    "### Fórmula para calcular o tamanho da amostra\n",
    "<details>\n",
    "    <summary>\n",
    "        <a class=\"btnfire small stroke\"><em class=\"fas fa-chevron-circle-down\"></em>&nbsp;&nbsp;Clique para mais detalhes</a>\n",
    "    </summary>\n",
    "    <br>\n",
    "\n",
    "$n=\\frac{N}{1+N(e)^2}$\n",
    "<br><br>\n",
    "Onde: <br>\n",
    "**$n$** representa o tamanho da amostra; <br>\n",
    "**$N$** representa o tamanho da população; <br>\n",
    "**$e$** representa a margem de erro. <br>\n",
    "</details>\n"
   ]
  },
  {
   "cell_type": "code",
   "execution_count": 2,
   "metadata": {},
   "outputs": [],
   "source": [
    "# importando os pacotes\n",
    "import random\n",
    "import pandas as pd\n",
    "import numpy as np"
   ]
  },
  {
   "cell_type": "code",
   "execution_count": 3,
   "metadata": {},
   "outputs": [
    {
     "data": {
      "text/plain": [
       "array([[833,  96, 727, 539, 953],\n",
       "       [766, 748, 689, 844,  29],\n",
       "       [188, 193, 762, 800, 595],\n",
       "       ...,\n",
       "       [688, 688, 591, 478, 136],\n",
       "       [669,  81, 950, 879,  25],\n",
       "       [146, 168, 879, 298,   9]])"
      ]
     },
     "execution_count": 3,
     "metadata": {},
     "output_type": "execute_result"
    }
   ],
   "source": [
    "# Criando um array de duas dimensões com valores aleatórios.\n",
    "matriz = np.random.randint(1, 1000, size=20000).reshape(4000, 5)\n",
    "matriz"
   ]
  },
  {
   "cell_type": "code",
   "execution_count": 4,
   "metadata": {},
   "outputs": [],
   "source": [
    "# Criando uma função\n",
    "def calculaTamanhoDaAmostra(e,N):\n",
    "    n = (N / (1 + (N*(e**2))))\n",
    "    return n"
   ]
  },
  {
   "cell_type": "code",
   "execution_count": 5,
   "metadata": {},
   "outputs": [
    {
     "data": {
      "text/plain": [
       "363.63636363636357"
      ]
     },
     "execution_count": 5,
     "metadata": {},
     "output_type": "execute_result"
    }
   ],
   "source": [
    "# Calculando o tamanho da amostra\n",
    "tamanhoDaPopulacao = 4000\n",
    "margemDeErro = 0.05\n",
    "\n",
    "tamanhoAmostra = calculaTamanhoDaAmostra(margemDeErro, tamanhoDaPopulacao)\n",
    "tamanhoAmostra"
   ]
  },
  {
   "cell_type": "code",
   "execution_count": 6,
   "metadata": {},
   "outputs": [
    {
     "data": {
      "text/plain": [
       "364"
      ]
     },
     "execution_count": 6,
     "metadata": {},
     "output_type": "execute_result"
    }
   ],
   "source": [
    "# Arredondando o tamanho da amostra\n",
    "tamanhoAmostra = round(tamanhoAmostra)\n",
    "tamanhoAmostra"
   ]
  },
  {
   "cell_type": "code",
   "execution_count": 7,
   "metadata": {},
   "outputs": [
    {
     "data": {
      "text/html": [
       "<div>\n",
       "<style scoped>\n",
       "    .dataframe tbody tr th:only-of-type {\n",
       "        vertical-align: middle;\n",
       "    }\n",
       "\n",
       "    .dataframe tbody tr th {\n",
       "        vertical-align: top;\n",
       "    }\n",
       "\n",
       "    .dataframe thead th {\n",
       "        text-align: right;\n",
       "    }\n",
       "</style>\n",
       "<table border=\"1\" class=\"dataframe\">\n",
       "  <thead>\n",
       "    <tr style=\"text-align: right;\">\n",
       "      <th></th>\n",
       "      <th>0</th>\n",
       "      <th>1</th>\n",
       "      <th>2</th>\n",
       "      <th>3</th>\n",
       "      <th>4</th>\n",
       "    </tr>\n",
       "  </thead>\n",
       "  <tbody>\n",
       "    <tr>\n",
       "      <th>0</th>\n",
       "      <td>833</td>\n",
       "      <td>96</td>\n",
       "      <td>727</td>\n",
       "      <td>539</td>\n",
       "      <td>953</td>\n",
       "    </tr>\n",
       "    <tr>\n",
       "      <th>1</th>\n",
       "      <td>766</td>\n",
       "      <td>748</td>\n",
       "      <td>689</td>\n",
       "      <td>844</td>\n",
       "      <td>29</td>\n",
       "    </tr>\n",
       "    <tr>\n",
       "      <th>2</th>\n",
       "      <td>188</td>\n",
       "      <td>193</td>\n",
       "      <td>762</td>\n",
       "      <td>800</td>\n",
       "      <td>595</td>\n",
       "    </tr>\n",
       "    <tr>\n",
       "      <th>3</th>\n",
       "      <td>199</td>\n",
       "      <td>877</td>\n",
       "      <td>477</td>\n",
       "      <td>747</td>\n",
       "      <td>799</td>\n",
       "    </tr>\n",
       "    <tr>\n",
       "      <th>4</th>\n",
       "      <td>207</td>\n",
       "      <td>854</td>\n",
       "      <td>445</td>\n",
       "      <td>653</td>\n",
       "      <td>249</td>\n",
       "    </tr>\n",
       "    <tr>\n",
       "      <th>...</th>\n",
       "      <td>...</td>\n",
       "      <td>...</td>\n",
       "      <td>...</td>\n",
       "      <td>...</td>\n",
       "      <td>...</td>\n",
       "    </tr>\n",
       "    <tr>\n",
       "      <th>3995</th>\n",
       "      <td>976</td>\n",
       "      <td>727</td>\n",
       "      <td>870</td>\n",
       "      <td>403</td>\n",
       "      <td>116</td>\n",
       "    </tr>\n",
       "    <tr>\n",
       "      <th>3996</th>\n",
       "      <td>637</td>\n",
       "      <td>330</td>\n",
       "      <td>773</td>\n",
       "      <td>648</td>\n",
       "      <td>228</td>\n",
       "    </tr>\n",
       "    <tr>\n",
       "      <th>3997</th>\n",
       "      <td>688</td>\n",
       "      <td>688</td>\n",
       "      <td>591</td>\n",
       "      <td>478</td>\n",
       "      <td>136</td>\n",
       "    </tr>\n",
       "    <tr>\n",
       "      <th>3998</th>\n",
       "      <td>669</td>\n",
       "      <td>81</td>\n",
       "      <td>950</td>\n",
       "      <td>879</td>\n",
       "      <td>25</td>\n",
       "    </tr>\n",
       "    <tr>\n",
       "      <th>3999</th>\n",
       "      <td>146</td>\n",
       "      <td>168</td>\n",
       "      <td>879</td>\n",
       "      <td>298</td>\n",
       "      <td>9</td>\n",
       "    </tr>\n",
       "  </tbody>\n",
       "</table>\n",
       "<p>4000 rows × 5 columns</p>\n",
       "</div>"
      ],
      "text/plain": [
       "        0    1    2    3    4\n",
       "0     833   96  727  539  953\n",
       "1     766  748  689  844   29\n",
       "2     188  193  762  800  595\n",
       "3     199  877  477  747  799\n",
       "4     207  854  445  653  249\n",
       "...   ...  ...  ...  ...  ...\n",
       "3995  976  727  870  403  116\n",
       "3996  637  330  773  648  228\n",
       "3997  688  688  591  478  136\n",
       "3998  669   81  950  879   25\n",
       "3999  146  168  879  298    9\n",
       "\n",
       "[4000 rows x 5 columns]"
      ]
     },
     "execution_count": 7,
     "metadata": {},
     "output_type": "execute_result"
    }
   ],
   "source": [
    "# Criando um DataFrame\n",
    "df = pd.DataFrame(matriz)\n",
    "df"
   ]
  },
  {
   "cell_type": "code",
   "execution_count": 8,
   "metadata": {},
   "outputs": [],
   "source": [
    "# Gerando um arquivo CSV a partir de um Dataframe\n",
    "df.to_csv('Dados/massaDeDados.csv')"
   ]
  },
  {
   "cell_type": "code",
   "execution_count": 10,
   "metadata": {},
   "outputs": [
    {
     "data": {
      "text/html": [
       "<div>\n",
       "<style scoped>\n",
       "    .dataframe tbody tr th:only-of-type {\n",
       "        vertical-align: middle;\n",
       "    }\n",
       "\n",
       "    .dataframe tbody tr th {\n",
       "        vertical-align: top;\n",
       "    }\n",
       "\n",
       "    .dataframe thead th {\n",
       "        text-align: right;\n",
       "    }\n",
       "</style>\n",
       "<table border=\"1\" class=\"dataframe\">\n",
       "  <thead>\n",
       "    <tr style=\"text-align: right;\">\n",
       "      <th></th>\n",
       "      <th>Coluna1</th>\n",
       "      <th>Coluna2</th>\n",
       "      <th>Coluna3</th>\n",
       "      <th>Coluna4</th>\n",
       "      <th>Coluna5</th>\n",
       "    </tr>\n",
       "  </thead>\n",
       "  <tbody>\n",
       "    <tr>\n",
       "      <th>29</th>\n",
       "      <td>246</td>\n",
       "      <td>792</td>\n",
       "      <td>923</td>\n",
       "      <td>665</td>\n",
       "      <td>784</td>\n",
       "    </tr>\n",
       "    <tr>\n",
       "      <th>34</th>\n",
       "      <td>164</td>\n",
       "      <td>144</td>\n",
       "      <td>534</td>\n",
       "      <td>836</td>\n",
       "      <td>112</td>\n",
       "    </tr>\n",
       "    <tr>\n",
       "      <th>65</th>\n",
       "      <td>502</td>\n",
       "      <td>496</td>\n",
       "      <td>947</td>\n",
       "      <td>760</td>\n",
       "      <td>951</td>\n",
       "    </tr>\n",
       "    <tr>\n",
       "      <th>69</th>\n",
       "      <td>574</td>\n",
       "      <td>476</td>\n",
       "      <td>950</td>\n",
       "      <td>601</td>\n",
       "      <td>795</td>\n",
       "    </tr>\n",
       "    <tr>\n",
       "      <th>93</th>\n",
       "      <td>323</td>\n",
       "      <td>186</td>\n",
       "      <td>563</td>\n",
       "      <td>723</td>\n",
       "      <td>141</td>\n",
       "    </tr>\n",
       "    <tr>\n",
       "      <th>...</th>\n",
       "      <td>...</td>\n",
       "      <td>...</td>\n",
       "      <td>...</td>\n",
       "      <td>...</td>\n",
       "      <td>...</td>\n",
       "    </tr>\n",
       "    <tr>\n",
       "      <th>3938</th>\n",
       "      <td>517</td>\n",
       "      <td>484</td>\n",
       "      <td>65</td>\n",
       "      <td>375</td>\n",
       "      <td>542</td>\n",
       "    </tr>\n",
       "    <tr>\n",
       "      <th>3961</th>\n",
       "      <td>70</td>\n",
       "      <td>479</td>\n",
       "      <td>366</td>\n",
       "      <td>898</td>\n",
       "      <td>590</td>\n",
       "    </tr>\n",
       "    <tr>\n",
       "      <th>3963</th>\n",
       "      <td>289</td>\n",
       "      <td>649</td>\n",
       "      <td>131</td>\n",
       "      <td>986</td>\n",
       "      <td>903</td>\n",
       "    </tr>\n",
       "    <tr>\n",
       "      <th>3975</th>\n",
       "      <td>901</td>\n",
       "      <td>558</td>\n",
       "      <td>990</td>\n",
       "      <td>146</td>\n",
       "      <td>55</td>\n",
       "    </tr>\n",
       "    <tr>\n",
       "      <th>3999</th>\n",
       "      <td>146</td>\n",
       "      <td>168</td>\n",
       "      <td>879</td>\n",
       "      <td>298</td>\n",
       "      <td>9</td>\n",
       "    </tr>\n",
       "  </tbody>\n",
       "</table>\n",
       "<p>364 rows × 5 columns</p>\n",
       "</div>"
      ],
      "text/plain": [
       "      Coluna1  Coluna2  Coluna3  Coluna4  Coluna5\n",
       "29        246      792      923      665      784\n",
       "34        164      144      534      836      112\n",
       "65        502      496      947      760      951\n",
       "69        574      476      950      601      795\n",
       "93        323      186      563      723      141\n",
       "...       ...      ...      ...      ...      ...\n",
       "3938      517      484       65      375      542\n",
       "3961       70      479      366      898      590\n",
       "3963      289      649      131      986      903\n",
       "3975      901      558      990      146       55\n",
       "3999      146      168      879      298        9\n",
       "\n",
       "[364 rows x 5 columns]"
      ]
     },
     "execution_count": 10,
     "metadata": {},
     "output_type": "execute_result"
    }
   ],
   "source": [
    "###### Criando uma amostra aleatória a partir de um arquivo csv\n",
    "# A variável pulo armazena as linhas que serão desconsideradas ao ler o arquivo CSV  \n",
    "\n",
    "pulo = sorted(random.sample(range(tamanhoDaPopulacao),tamanhoDaPopulacao-tamanhoAmostra))\n",
    "df = pd.read_csv('Dados/massaDeDados.csv', skiprows=pulo, header=0, names=[\"Coluna1\", \"Coluna2\", \"Coluna3\", \"Coluna4\", \"Coluna5\"])\n",
    "df"
   ]
  }
 ],
 "metadata": {
  "kernelspec": {
   "display_name": "Python 3 (ipykernel)",
   "language": "python",
   "name": "python3"
  },
  "language_info": {
   "codemirror_mode": {
    "name": "ipython",
    "version": 3
   },
   "file_extension": ".py",
   "mimetype": "text/x-python",
   "name": "python",
   "nbconvert_exporter": "python",
   "pygments_lexer": "ipython3",
   "version": "3.9.13"
  }
 },
 "nbformat": 4,
 "nbformat_minor": 4
}
