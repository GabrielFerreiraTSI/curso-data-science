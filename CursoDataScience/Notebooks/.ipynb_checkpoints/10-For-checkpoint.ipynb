{
 "cells": [
  {
   "cell_type": "markdown",
   "metadata": {},
   "source": [
    "# <font color='blue'>Python Fundamentos - Estrutura de repetição FOR</font>"
   ]
  },
  {
   "cell_type": "code",
   "execution_count": null,
   "metadata": {},
   "outputs": [],
   "source": [
    "# Versão da Linguagem Python\n",
    "from platform import python_version\n",
    "print('Versão da Linguagem Python Usada Neste Jupyter Notebook:', python_version())"
   ]
  },
  {
   "cell_type": "markdown",
   "metadata": {},
   "source": [
    "## Estrutura de repetição FOR\n",
    "<details>\n",
    "    <summary>\n",
    "        <a class=\"btnfire small stroke\"><em class=\"fas fa-chevron-circle-down\"></em>&nbsp;&nbsp;Clique para mais detalhes</a>\n",
    "    </summary>\n",
    "    <br>\n",
    "    \n",
    "A instrução **for** é usada para percorrer os elementos de uma sequência como Strings, Tuplas e Listas ou outros tipos não sequenciais como os Dicionários. <br>\n",
    "Permite executar um código para cada elemento da estrutura de dados. <br>\n",
    "Exige indentação.\n",
    "    \n",
    "</details>"
   ]
  },
  {
   "cell_type": "code",
   "execution_count": null,
   "metadata": {},
   "outputs": [],
   "source": [
    "# Criando uma lista \n",
    "capitais = [\"Salvador\", \"Aracaju\", \"Maceió\"]\n",
    "\n",
    "# Imprimindo os valores da lista\n",
    "for k in capitais:\n",
    "    print(k)"
   ]
  },
  {
   "cell_type": "code",
   "execution_count": null,
   "metadata": {},
   "outputs": [],
   "source": [
    "# Criando uma lista \n",
    "capitais = [\"Salvador\", \"Aracaju\", \"Maceió\"]\n",
    "\n",
    "# Imprimindo valores da lista utilizando ELSE\n",
    "for k in capitais:\n",
    "    print(k)\n",
    "else:\n",
    "    print(\"Fim do loop for\")"
   ]
  },
  {
   "cell_type": "code",
   "execution_count": null,
   "metadata": {},
   "outputs": [],
   "source": [
    "# Criando uma tupla \n",
    "tupla = (\"Ciência\", 2.0, 45)\n",
    "\n",
    "# imprimindo os valores da tupla\n",
    "for i in tupla:\n",
    "    print(i)\n",
    "else:\n",
    "    print(\"%d elementos foram listados\" %len(tupla))    "
   ]
  },
  {
   "cell_type": "code",
   "execution_count": null,
   "metadata": {},
   "outputs": [],
   "source": [
    "# Criando uma string e imprimindo seus caracteres\n",
    "frase = (\"Ciência de Dados\")\n",
    "for i in frase:\n",
    "    print(i)\n",
    "else:\n",
    "    print(\"%d elementos foram listados\" %len(frase))  "
   ]
  },
  {
   "cell_type": "code",
   "execution_count": null,
   "metadata": {},
   "outputs": [],
   "source": [
    "# Criando um dicionário\n",
    "dicionario = {\"chave1\": \"Big\", \"chave2\": \"Data\", \"chave3\": 56.8}\n",
    "\n",
    "# Imprimindo as chaves de um dicionário\n",
    "for chave in dicionario:\n",
    "    print(chave)    \n",
    "else:\n",
    "    print(\"%d chaves foram listados\" %len(dicionario))  "
   ]
  },
  {
   "cell_type": "code",
   "execution_count": null,
   "metadata": {},
   "outputs": [],
   "source": [
    "# Imprimindo os pares de chave e valor de um dicionário\n",
    "for chave in dicionario.items():\n",
    "    print(chave)    \n",
    "else:\n",
    "    print(\"%d elementos foram listados\" %len(dicionario)) "
   ]
  },
  {
   "cell_type": "code",
   "execution_count": null,
   "metadata": {},
   "outputs": [],
   "source": [
    "# Imprimindo os valores de um intervalo de números\n",
    "# sintaxe: range(start, stop, step)\n",
    "# o número stop é exclusivo\n",
    "contador = 0\n",
    "for i in range(2,10,2):\n",
    "    print(i)\n",
    "    contador += 1\n",
    "else:\n",
    "    print(\"%d elementos foram listados\" %contador) "
   ]
  },
  {
   "cell_type": "code",
   "execution_count": null,
   "metadata": {},
   "outputs": [],
   "source": [
    "# Utilizando uma estrutura condicional dentro do loop for\n",
    "# Imprimindo na tela os números pares da lista de números\n",
    "contador = 0\n",
    "for i in range(2,11):\n",
    "    if i % 2 == 0:\n",
    "        print (i)\n",
    "        contador += 1\n",
    "else:\n",
    "    print(contador, \"elementos foram listados\" ) "
   ]
  },
  {
   "cell_type": "code",
   "execution_count": null,
   "metadata": {},
   "outputs": [],
   "source": [
    "# Criando uma lista\n",
    "listaDeListas = [[1, 2, 3], \n",
    "                 [4, 5, 6], \n",
    "                 [7, 8, 9]]\n",
    "\n",
    "# Loop Aninhado\n",
    "for i in listaDeListas:\n",
    "    for x in i:\n",
    "        print(x)"
   ]
  },
  {
   "cell_type": "code",
   "execution_count": null,
   "metadata": {},
   "outputs": [],
   "source": [
    "# A instrução break interrompe o loop. \n",
    "# A instrução ELSE_FOR não funciona com a instrução BREAK\n",
    "contador = 0\n",
    "for numero in range(10):\n",
    "    if numero == 5:\n",
    "        break\n",
    "    print(numero)\n",
    "    contador += 1\n",
    "else: \n",
    "    print(\"O loop chegou ao fim\")\n",
    "\n",
    "# A impressão do contador não está na instrução ELSE\n",
    "print(\"%d elementos foram listados\" %contador) "
   ]
  },
  {
   "cell_type": "code",
   "execution_count": null,
   "metadata": {},
   "outputs": [],
   "source": [
    "# Utilizando a instrução continue.\n",
    "# A instrução ELSE_FOR FUNCIONA com a instrução CONTINUE\n",
    "contador = 0\n",
    "for numero in range(10):\n",
    "    if numero == 5:\n",
    "        continue\n",
    "    print(numero)\n",
    "    contador += 1\n",
    "else:\n",
    "    print(contador, \"elementos foram listados\")"
   ]
  },
  {
   "cell_type": "code",
   "execution_count": null,
   "metadata": {},
   "outputs": [],
   "source": [
    "# Gerando números aleátorios\n",
    "\n",
    "# Importando a função randint do módulo random\n",
    "from random import randint\n",
    "\n",
    "# Criando uma lista\n",
    "umaLista = []\n",
    "\n",
    "# sintaxe: randint(a,b), onde a é o número inicial e b o número final\n",
    "for i in range(15):\n",
    "    num = randint(1,100)\n",
    "    umaLista.append(num)\n",
    "else:\n",
    "    print(umaLista)"
   ]
  },
  {
   "cell_type": "markdown",
   "metadata": {},
   "source": [
    "### Exercícios"
   ]
  },
  {
   "cell_type": "markdown",
   "metadata": {},
   "source": [
    "1 - Faça um programa que gere 10 números inteiros. Para cada número, calcule quanto é esse número elevado a segunda potência e armazene em um dicionário, onde a chave é o número e o valor é o cálculo realizado."
   ]
  },
  {
   "cell_type": "code",
   "execution_count": 1,
   "metadata": {},
   "outputs": [],
   "source": [
    "# Criando um dicionário vazio\n",
    "dicionario = {}"
   ]
  },
  {
   "cell_type": "code",
   "execution_count": 2,
   "metadata": {},
   "outputs": [
    {
     "name": "stdout",
     "output_type": "stream",
     "text": [
      "Foram gerados 10 números\n"
     ]
    }
   ],
   "source": [
    "# loop para o cálculo\n",
    "for i in range(10):\n",
    "    dicionario[i] = i**2\n",
    "else:\n",
    "    print(\"Foram gerados\", len(dicionario), \"números\")"
   ]
  },
  {
   "cell_type": "code",
   "execution_count": 3,
   "metadata": {},
   "outputs": [
    {
     "data": {
      "text/plain": [
       "{0: 0, 1: 1, 2: 4, 3: 9, 4: 16, 5: 25, 6: 36, 7: 49, 8: 64, 9: 81}"
      ]
     },
     "execution_count": 3,
     "metadata": {},
     "output_type": "execute_result"
    }
   ],
   "source": [
    "# Imprimindo o dicionário\n",
    "dicionario"
   ]
  },
  {
   "cell_type": "markdown",
   "metadata": {},
   "source": [
    "2 - Faça um programa que gere mil números inteiros aleatórios, excluindo o número zero, e armazene em listas separadas os números pares e os números ímpares. No final, mostre quantos são pares e quantos são ímpares."
   ]
  },
  {
   "cell_type": "code",
   "execution_count": 11,
   "metadata": {},
   "outputs": [],
   "source": [
    "# Declarando as variáveis\n",
    "numerosPares = []\n",
    "numerosImpares = []\n",
    "quantidadePares = 0\n",
    "quantidadeImpares = 0"
   ]
  },
  {
   "cell_type": "code",
   "execution_count": 12,
   "metadata": {},
   "outputs": [
    {
     "name": "stdout",
     "output_type": "stream",
     "text": [
      "São 529 números pares e 471 números ímpares\n"
     ]
    }
   ],
   "source": [
    "# Importando módulos\n",
    "from random import randint\n",
    "\n",
    "for k in range(1000):\n",
    "    numero = randint(1,1000)\n",
    "    if numero % 2 == 0: # verifica se o resto da divisão é igual a zero\n",
    "        # Inserindo o número na lista\n",
    "        numerosPares.append(numero)\n",
    "        # Incrementando a variável\n",
    "        quantidadePares += 1\n",
    "    else:\n",
    "        # Inserindo o número na lista\n",
    "        numerosImpares.append(numero)\n",
    "        # Incrementando a variável\n",
    "        quantidadeImpares += 1\n",
    "else:\n",
    "    print(\"São\", quantidadePares, \"números pares e\", quantidadeImpares, \"números ímpares\")"
   ]
  },
  {
   "cell_type": "markdown",
   "metadata": {},
   "source": [
    "3 - Faça um programa que gere cinco números inteiros aleatórios entre 1 e 10 e insira em uma lista somente números diferentes. No final, mostre: <br>\n",
    "a) cada número que foi gerado; <br>\n",
    "b) o número repetido que não foi inserido; <br>\n",
    "c) quantas vezes foram gerados números repetidos; <br>\n",
    "d) quantos números foram inseridos; <br>\n",
    "e) os números que foram inseridos na lista."
   ]
  },
  {
   "cell_type": "code",
   "execution_count": null,
   "metadata": {},
   "outputs": [],
   "source": [
    "# Importando módulos\n",
    "from random import randint"
   ]
  },
  {
   "cell_type": "code",
   "execution_count": 17,
   "metadata": {},
   "outputs": [
    {
     "name": "stdout",
     "output_type": "stream",
     "text": [
      "Foi gerado o número 10\n",
      "O número 10 foi inserido na lista\n",
      "Foi gerado o número 5\n",
      "O número 5 foi inserido na lista\n",
      "Foi gerado o número 3\n",
      "O número 3 foi inserido na lista\n",
      "Foi gerado o número 4\n",
      "O número 4 foi inserido na lista\n",
      "Foi gerado o número 7\n",
      "O número 7 foi inserido na lista\n",
      "Gerou números repetidos 0 vez(es)\n",
      "Foram inseridos 5 números na lista\n",
      "Lista com os números: [10, 5, 3, 4, 7]\n"
     ]
    }
   ],
   "source": [
    "# Declarando as variáveis\n",
    "listaNumeros = []\n",
    "quantidadeNumerosRepetidos = 0\n",
    "\n",
    "for k in range(5):\n",
    "    numero = randint(1,10)\n",
    "    print(\"Foi gerado o número\", numero)\n",
    "    if (len(listaNumeros) == 0): # verifica se a lista está vazia\n",
    "        listaNumeros.append(numero)\n",
    "        print(\"O número\", numero, \"foi inserido na lista\")\n",
    "        continue\n",
    "    elif numero in listaNumeros: # verifica se o número gerado já foi inserido na lista \n",
    "        print(\"O número\", numero, \"já está na lista e não foi inserido\")\n",
    "        quantidadeNumerosRepetidos += 1\n",
    "        continue \n",
    "    listaNumeros.append(numero)\n",
    "    print(\"O número\", numero, \"foi inserido na lista\")\n",
    "    \n",
    "print(\"Gerou números repetidos\", quantidadeNumerosRepetidos, \"vez(es)\")\n",
    "print(\"Foram inseridos\", len(listaNumeros), \"números na lista\")\n",
    "print(\"Lista com os números:\", listaNumeros)"
   ]
  },
  {
   "cell_type": "code",
   "execution_count": null,
   "metadata": {},
   "outputs": [],
   "source": []
  }
 ],
 "metadata": {
  "kernelspec": {
   "display_name": "Python 3 (ipykernel)",
   "language": "python",
   "name": "python3"
  },
  "language_info": {
   "codemirror_mode": {
    "name": "ipython",
    "version": 3
   },
   "file_extension": ".py",
   "mimetype": "text/x-python",
   "name": "python",
   "nbconvert_exporter": "python",
   "pygments_lexer": "ipython3",
   "version": "3.9.13"
  }
 },
 "nbformat": 4,
 "nbformat_minor": 4
}
