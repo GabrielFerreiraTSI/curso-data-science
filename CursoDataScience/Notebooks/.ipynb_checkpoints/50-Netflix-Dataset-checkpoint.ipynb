{
 "cells": [
  {
   "cell_type": "markdown",
   "metadata": {},
   "source": [
    "# <font color='blue'>Sistema de recomendação de filmes da Netflix</font>"
   ]
  },
  {
   "cell_type": "code",
   "execution_count": null,
   "metadata": {},
   "outputs": [],
   "source": [
    "# Versão da Linguagem Python\n",
    "from platform import python_version\n",
    "print('Python Version:', python_version())\n",
    "\n",
    "# Verificando as versões dos pacotes instalados\n",
    "pandasVersion = !pip show pandas\n",
    "matplotlibVersion = !pip show matplotlib\n",
    "sklearnVersion = !pip show scikit-learn\n",
    "print('Pandas', pandasVersion[1])\n",
    "print(\"Matplotlib\", matplotlibVersion[1])\n",
    "print(\"Sklearn\", sklearnVersion[1])"
   ]
  },
  {
   "cell_type": "code",
   "execution_count": null,
   "metadata": {},
   "outputs": [],
   "source": [
    "# Instalar versão específica de uma biblioteca\n",
    "#!pip install matplotlib==3.5.3"
   ]
  },
  {
   "cell_type": "markdown",
   "metadata": {},
   "source": [
    "## Sistemas de Recomendação\n",
    "<details>\n",
    "    <summary>\n",
    "        <a class=\"btnfire small stroke\"><em class=\"fas fa-chevron-circle-down\"></em>&nbsp;&nbsp;Clique para mais detalhes</a>\n",
    "    </summary>\n",
    "    <br>\n",
    "\n",
    "Sistemas de recomendação são aplicações que personalizam a experiência de consumo do cliente, recomendando as melhores opções com base nas compras recentes ou atividades de navegação, ou ainda, com base em outros critérios, conforme a área de negócio da empresa.<br>\n",
    "Sistemas de recomendação são, portanto, modelos preditivos que a partir de análises estatísticas, determinam a probabilidade de um cliente estar interessado por outro item similar ao que está comprando em um momento. <br>\n",
    "\n",
    "Basicamente, existem três tipos de sistemas de recomendação:<br>\n",
    "- **Sistema de Recomendação Baseado no Item Mais Popular**: Essa estratégia é simplesmente oferecer ao cliente o que é mais popular, seja um filme, um livro ou um artigo de vestuário. Sem fazer nada mais do que observar nos registros de vendas, é possível construir um sistema de recomendação simples como esse. Isso não é necessariamente ciência de dados. Também não é particularmente personalizado para um cliente. Mas, pode ser útil quando a empresa sabe muito pouco sobre o seu visitante. <br>\n",
    "- **Associações e Modelos Market Basket**: Sistemas de recomendação baseados em análise de Associações e Análise de Cesta de Mercado (Market Basket) tomam como base a **relação entre os conteúdos**. Este tipo de análise estatística baseia-se apenas no mais simples dos cálculos para encontrar itens que são frequentemente consumidos juntos. A análise matemática de associações e de market basket é a mesma. <br>\n",
    "Quando os clientes normalmente adquirem os itens ou serviços um de cada vez, chamamos de Associações. Quando os clientes potencialmente compram várias coisas de uma só vez, chamamos de Market Basket. Assim, a Análise das Associações é realizada ao nível do cliente, enquanto a Análise de Market Basket é conduzida ao nível das transações.<br>\n",
    "- **Filtros Colaborativos**: A filtragem colaborativa foca na **relação entre usuários** que são matematicamente similares. Em teoria, não são necessários atributos específicos para o conteúdo que os filtros colaborativos podem inferir. De fato, adicionar atributos de conteúdo pode melhorar o desempenho, mas não é tecnicamente necessário. A premissa é que se dois usuários tiveram uma forte semelhança de preferências no passado, é provável que eles continuarão com forte semelhança no futuro. <br>\n",
    "Sistemas de recomendação baseados em Filtros Colaborativos irão recomendar às pessoas que gostam, por exemplo, de filmes de romance, aqueles filmes que têm forte conteúdo romântico sem a exigência de definir necessariamente o que seja \"romance\". Isso acontece porque são apenas números sendo analisados. Uma vez estabelecida a semelhança, os itens consumidos por um usuário podem ser recomendados a outros usuários semelhantes. Essa é a ideia por trás dos filtros colaborativos. Se, por exemplo, o usuário A e o usuário B tiverem preferências de filmes semelhantes, e o usuário A assistiu recentemente ao filme X, que o usuário B ainda não viu, então a ideia é recomendar esse filme a o usuário B. As recomendações de filmes no Netflix são um bom exemplo deste tipo de sistema de recomendação. \n",
    "\n",
    "</details>"
   ]
  },
  {
   "cell_type": "markdown",
   "metadata": {},
   "source": [
    "## 1 - Definição do Problema de Negócio\n",
    "<details>\n",
    "    <summary>\n",
    "        <a class=\"btnfire small stroke\"><em class=\"fas fa-chevron-circle-down\"></em>&nbsp;&nbsp;Clique para mais detalhes</a>\n",
    "    </summary>\n",
    "    <br>\n",
    "\n",
    "\n",
    "Endereço do conjunto de dados: https://www.kaggle.com/netflix-inc/netflix-prize-data <br>\n",
    "</details>"
   ]
  },
  {
   "cell_type": "markdown",
   "metadata": {},
   "source": [
    "## 2 - Coletando os dados"
   ]
  },
  {
   "cell_type": "markdown",
   "metadata": {},
   "source": [
    "### 2.1 - Importando as bibliotecas"
   ]
  },
  {
   "cell_type": "code",
   "execution_count": 1,
   "metadata": {},
   "outputs": [],
   "source": [
    "# Manipulação e exploração do conjunto de dados\n",
    "import numpy as np\n",
    "import pandas as pd\n",
    "\n",
    "# Calcular o tempo de execução de uma célula\n",
    "from datetime import datetime\n",
    "\n",
    "# Leitura de arquivos\n",
    "import os\n",
    "\n",
    "# Cálculos matemáticos\n",
    "import random\n",
    "import math\n",
    "\n",
    "# Plotagem de gráficos\n",
    "import seaborn as sns\n",
    "import matplotlib\n",
    "import matplotlib.pyplot as plt\n",
    "\n",
    "# Matriz esparsa\n",
    "from scipy import sparse\n",
    "\n",
    "# Cálculo de similaridade\n",
    "from sklearn.metrics.pairwise import cosine_similarity\n",
    "\n",
    "# Redução de dimensionalidade\n",
    "from sklearn.decomposition import TruncatedSVD\n",
    "\n",
    "# Carregar imagens\n",
    "from IPython.display import Image"
   ]
  },
  {
   "cell_type": "markdown",
   "metadata": {},
   "source": [
    "### 2.2 - Lendo os arquivos texto e organizando os dados"
   ]
  },
  {
   "cell_type": "code",
   "execution_count": 2,
   "metadata": {},
   "outputs": [
    {
     "name": "stdout",
     "output_type": "stream",
     "text": [
      "O arquivo 'dados.csv' já existe!\n"
     ]
    }
   ],
   "source": [
    "# Marca o início da execução de leitura dos arquivos.\n",
    "start = datetime.now()\n",
    "\n",
    "# Criar um arquivo chamado dados.csv\n",
    "# Se o arquivo não existir, criamos o arquivo em modo de escrita (w)\n",
    "if not os.path.isfile('Dados/Netflix/dados.csv'):\n",
    "    \n",
    "    # Cria e abre o arquivo para gravação\n",
    "    dataset = open('Dados/Netflix/dados.csv', mode = 'w')\n",
    "    \n",
    "    # Cria Lista vazia para as linhas dos arquivos\n",
    "    linhas = []\n",
    "    \n",
    "    # Lista com o nome e caminho dos arquivos\n",
    "    arquivos = ['Dados/Netflix/combined_data_1.txt',\n",
    "                'Dados/Netflix/combined_data_2.txt',] \n",
    "                #'Dados/Netflix/combined_data_3.txt', \n",
    "                #'Dados/Netflix/combined_data_4.txt']\n",
    "    \n",
    "    # Loop por cada arquivo na lista de arquivos\n",
    "    for arquivo in arquivos:\n",
    "        \n",
    "        # Print\n",
    "        print(\"Lendo o arquivo {}...\".format(arquivo))\n",
    "        \n",
    "        # Com o arquivo aberto, extraímos as linhas\n",
    "        with open(arquivo) as f:\n",
    "            \n",
    "            # Loop por cada linha do arquivo\n",
    "            for linha in f: \n",
    "                \n",
    "                # Deletamos o conteúdo da lista\n",
    "                del linhas[:] \n",
    "                \n",
    "                # Divide as linhas do arquivo pelo caracter de final de linha\n",
    "                linha = linha.strip()\n",
    "                \n",
    "                # Se encontramos \"dois pontos\" ao final da linha, fazemos replace removendo o caracter,\n",
    "                # pois queremos apenas o id do filme\n",
    "                if linha.endswith(':'):\n",
    "                    movie_id = linha.replace(':', '')\n",
    "                    \n",
    "                # Se não, criamos uma lista comprehension para fazer a separação das colunas por vírgula\n",
    "                else:\n",
    "                    \n",
    "                    # Separa as colunas\n",
    "                    linhas = [x for x in linha.split(',')]\n",
    "                    \n",
    "                    # Usa o id do filme na posição de índice zero\n",
    "                    linhas.insert(0, movie_id)\n",
    "                    \n",
    "                    # Grava o resultado no novo arquivo\n",
    "                    dataset.write(','.join(linhas))\n",
    "                    dataset.write('\\n')\n",
    "                    \n",
    "        print(\"Concluído.\\n\")\n",
    "        \n",
    "    dataset.close()\n",
    "    # Imprime o tempo total\n",
    "    print('Tempo total para carregar os arquivos:', datetime.now() - start)\n",
    "    \n",
    "else:\n",
    "    print(\"O arquivo 'dados.csv' já existe!\")\n"
   ]
  },
  {
   "cell_type": "markdown",
   "metadata": {},
   "source": [
    "### 2.3 - Carregando os dados"
   ]
  },
  {
   "cell_type": "code",
   "execution_count": 3,
   "metadata": {},
   "outputs": [
    {
     "data": {
      "text/html": [
       "<div>\n",
       "<style scoped>\n",
       "    .dataframe tbody tr th:only-of-type {\n",
       "        vertical-align: middle;\n",
       "    }\n",
       "\n",
       "    .dataframe tbody tr th {\n",
       "        vertical-align: top;\n",
       "    }\n",
       "\n",
       "    .dataframe thead th {\n",
       "        text-align: right;\n",
       "    }\n",
       "</style>\n",
       "<table border=\"1\" class=\"dataframe\">\n",
       "  <thead>\n",
       "    <tr style=\"text-align: right;\">\n",
       "      <th></th>\n",
       "      <th>Filme</th>\n",
       "      <th>Usuario</th>\n",
       "      <th>Avaliacao</th>\n",
       "      <th>Data</th>\n",
       "    </tr>\n",
       "  </thead>\n",
       "  <tbody>\n",
       "    <tr>\n",
       "      <th>0</th>\n",
       "      <td>1</td>\n",
       "      <td>1488844</td>\n",
       "      <td>3</td>\n",
       "      <td>2005-09-06</td>\n",
       "    </tr>\n",
       "    <tr>\n",
       "      <th>1</th>\n",
       "      <td>1</td>\n",
       "      <td>822109</td>\n",
       "      <td>5</td>\n",
       "      <td>2005-05-13</td>\n",
       "    </tr>\n",
       "    <tr>\n",
       "      <th>2</th>\n",
       "      <td>1</td>\n",
       "      <td>885013</td>\n",
       "      <td>4</td>\n",
       "      <td>2005-10-19</td>\n",
       "    </tr>\n",
       "    <tr>\n",
       "      <th>3</th>\n",
       "      <td>1</td>\n",
       "      <td>30878</td>\n",
       "      <td>4</td>\n",
       "      <td>2005-12-26</td>\n",
       "    </tr>\n",
       "    <tr>\n",
       "      <th>4</th>\n",
       "      <td>1</td>\n",
       "      <td>823519</td>\n",
       "      <td>3</td>\n",
       "      <td>2004-05-03</td>\n",
       "    </tr>\n",
       "    <tr>\n",
       "      <th>...</th>\n",
       "      <td>...</td>\n",
       "      <td>...</td>\n",
       "      <td>...</td>\n",
       "      <td>...</td>\n",
       "    </tr>\n",
       "    <tr>\n",
       "      <th>51031350</th>\n",
       "      <td>9210</td>\n",
       "      <td>2420260</td>\n",
       "      <td>1</td>\n",
       "      <td>2003-12-01</td>\n",
       "    </tr>\n",
       "    <tr>\n",
       "      <th>51031351</th>\n",
       "      <td>9210</td>\n",
       "      <td>761176</td>\n",
       "      <td>3</td>\n",
       "      <td>2004-06-06</td>\n",
       "    </tr>\n",
       "    <tr>\n",
       "      <th>51031352</th>\n",
       "      <td>9210</td>\n",
       "      <td>459277</td>\n",
       "      <td>3</td>\n",
       "      <td>2005-02-25</td>\n",
       "    </tr>\n",
       "    <tr>\n",
       "      <th>51031353</th>\n",
       "      <td>9210</td>\n",
       "      <td>2407365</td>\n",
       "      <td>4</td>\n",
       "      <td>2005-04-29</td>\n",
       "    </tr>\n",
       "    <tr>\n",
       "      <th>51031354</th>\n",
       "      <td>9210</td>\n",
       "      <td>627867</td>\n",
       "      <td>3</td>\n",
       "      <td>2005-05-02</td>\n",
       "    </tr>\n",
       "  </tbody>\n",
       "</table>\n",
       "<p>51031355 rows × 4 columns</p>\n",
       "</div>"
      ],
      "text/plain": [
       "          Filme  Usuario  Avaliacao        Data\n",
       "0             1  1488844          3  2005-09-06\n",
       "1             1   822109          5  2005-05-13\n",
       "2             1   885013          4  2005-10-19\n",
       "3             1    30878          4  2005-12-26\n",
       "4             1   823519          3  2004-05-03\n",
       "...         ...      ...        ...         ...\n",
       "51031350   9210  2420260          1  2003-12-01\n",
       "51031351   9210   761176          3  2004-06-06\n",
       "51031352   9210   459277          3  2005-02-25\n",
       "51031353   9210  2407365          4  2005-04-29\n",
       "51031354   9210   627867          3  2005-05-02\n",
       "\n",
       "[51031355 rows x 4 columns]"
      ]
     },
     "execution_count": 3,
     "metadata": {},
     "output_type": "execute_result"
    }
   ],
   "source": [
    "# Carregando os dados \n",
    "df = pd.read_csv('Dados/Netflix/dados.csv', sep = ',', names = ['Filme', 'Usuario', 'Avaliacao', 'Data'])\n",
    "df"
   ]
  },
  {
   "cell_type": "markdown",
   "metadata": {},
   "source": [
    "## 3 - Explorando os dados"
   ]
  },
  {
   "cell_type": "markdown",
   "metadata": {},
   "source": [
    "### 3.1 - Informações sobre o dataset"
   ]
  },
  {
   "cell_type": "code",
   "execution_count": null,
   "metadata": {},
   "outputs": [],
   "source": [
    "# Visualizando informações sobre o dataset\n",
    "df.info()"
   ]
  },
  {
   "cell_type": "code",
   "execution_count": null,
   "metadata": {},
   "outputs": [],
   "source": [
    "# Sumário estatístico\n",
    "df.describe()"
   ]
  },
  {
   "cell_type": "markdown",
   "metadata": {},
   "source": [
    "### 3.2 - Tratando valores nulos"
   ]
  },
  {
   "cell_type": "code",
   "execution_count": null,
   "metadata": {},
   "outputs": [],
   "source": [
    "# Verificando a quantidade de valores nulos por coluna\n",
    "df.isnull().sum() "
   ]
  },
  {
   "cell_type": "markdown",
   "metadata": {},
   "source": [
    "### 3.3 - Tratando dados duplicados"
   ]
  },
  {
   "cell_type": "code",
   "execution_count": null,
   "metadata": {},
   "outputs": [],
   "source": [
    "# Verificando se existem dados duplicados.\n",
    "# Ocorrem dados duplicados quando uma linha inteira, é igual a outra\n",
    "df.duplicated().sum()"
   ]
  },
  {
   "cell_type": "markdown",
   "metadata": {},
   "source": [
    "### 3.4 - Tratando valores únicos"
   ]
  },
  {
   "cell_type": "code",
   "execution_count": null,
   "metadata": {},
   "outputs": [],
   "source": [
    "# Verificando a quantidade de valores únicos\n",
    "df.nunique()"
   ]
  },
  {
   "cell_type": "markdown",
   "metadata": {},
   "source": [
    "### 3.5 - Tratando colunas com datas"
   ]
  },
  {
   "cell_type": "code",
   "execution_count": 4,
   "metadata": {},
   "outputs": [
    {
     "name": "stdout",
     "output_type": "stream",
     "text": [
      "<class 'pandas.core.frame.DataFrame'>\n",
      "RangeIndex: 51031355 entries, 0 to 51031354\n",
      "Data columns (total 4 columns):\n",
      " #   Column     Dtype         \n",
      "---  ------     -----         \n",
      " 0   Filme      int64         \n",
      " 1   Usuario    int64         \n",
      " 2   Avaliacao  int64         \n",
      " 3   Data       datetime64[ns]\n",
      "dtypes: datetime64[ns](1), int64(3)\n",
      "memory usage: 1.5 GB\n"
     ]
    }
   ],
   "source": [
    "# Converte uma coluna do tipo Object para o tipo datetime\n",
    "# É necessário fazer essa conversão para extrair: dia, mês, ano, hora etc\n",
    "df.Data = pd.to_datetime(df.Data)\n",
    "\n",
    "# Verifica informações do dataframe\n",
    "df.info()"
   ]
  },
  {
   "cell_type": "markdown",
   "metadata": {},
   "source": [
    "#### 3.5.1 - Adiciona colunas com o dia da semana, com o mês e com o ano da avaliação"
   ]
  },
  {
   "cell_type": "code",
   "execution_count": 5,
   "metadata": {},
   "outputs": [
    {
     "data": {
      "text/html": [
       "<div>\n",
       "<style scoped>\n",
       "    .dataframe tbody tr th:only-of-type {\n",
       "        vertical-align: middle;\n",
       "    }\n",
       "\n",
       "    .dataframe tbody tr th {\n",
       "        vertical-align: top;\n",
       "    }\n",
       "\n",
       "    .dataframe thead th {\n",
       "        text-align: right;\n",
       "    }\n",
       "</style>\n",
       "<table border=\"1\" class=\"dataframe\">\n",
       "  <thead>\n",
       "    <tr style=\"text-align: right;\">\n",
       "      <th></th>\n",
       "      <th>Filme</th>\n",
       "      <th>Usuario</th>\n",
       "      <th>Avaliacao</th>\n",
       "      <th>Data</th>\n",
       "      <th>Dia_da_semana</th>\n",
       "      <th>Mes</th>\n",
       "      <th>Ano</th>\n",
       "    </tr>\n",
       "  </thead>\n",
       "  <tbody>\n",
       "    <tr>\n",
       "      <th>0</th>\n",
       "      <td>1</td>\n",
       "      <td>1488844</td>\n",
       "      <td>3</td>\n",
       "      <td>2005-09-06</td>\n",
       "      <td>Tuesday</td>\n",
       "      <td>9</td>\n",
       "      <td>2005</td>\n",
       "    </tr>\n",
       "    <tr>\n",
       "      <th>1</th>\n",
       "      <td>1</td>\n",
       "      <td>822109</td>\n",
       "      <td>5</td>\n",
       "      <td>2005-05-13</td>\n",
       "      <td>Friday</td>\n",
       "      <td>5</td>\n",
       "      <td>2005</td>\n",
       "    </tr>\n",
       "    <tr>\n",
       "      <th>2</th>\n",
       "      <td>1</td>\n",
       "      <td>885013</td>\n",
       "      <td>4</td>\n",
       "      <td>2005-10-19</td>\n",
       "      <td>Wednesday</td>\n",
       "      <td>10</td>\n",
       "      <td>2005</td>\n",
       "    </tr>\n",
       "    <tr>\n",
       "      <th>3</th>\n",
       "      <td>1</td>\n",
       "      <td>30878</td>\n",
       "      <td>4</td>\n",
       "      <td>2005-12-26</td>\n",
       "      <td>Monday</td>\n",
       "      <td>12</td>\n",
       "      <td>2005</td>\n",
       "    </tr>\n",
       "    <tr>\n",
       "      <th>4</th>\n",
       "      <td>1</td>\n",
       "      <td>823519</td>\n",
       "      <td>3</td>\n",
       "      <td>2004-05-03</td>\n",
       "      <td>Monday</td>\n",
       "      <td>5</td>\n",
       "      <td>2004</td>\n",
       "    </tr>\n",
       "  </tbody>\n",
       "</table>\n",
       "</div>"
      ],
      "text/plain": [
       "   Filme  Usuario  Avaliacao       Data Dia_da_semana  Mes   Ano\n",
       "0      1  1488844          3 2005-09-06       Tuesday    9  2005\n",
       "1      1   822109          5 2005-05-13        Friday    5  2005\n",
       "2      1   885013          4 2005-10-19     Wednesday   10  2005\n",
       "3      1    30878          4 2005-12-26        Monday   12  2005\n",
       "4      1   823519          3 2004-05-03        Monday    5  2004"
      ]
     },
     "execution_count": 5,
     "metadata": {},
     "output_type": "execute_result"
    }
   ],
   "source": [
    "# Adiciona uma coluna ao dataset com o dia da semana\n",
    "df['Dia_da_semana'] = df.Data.dt.day_name()\n",
    "\n",
    "# Adiciona uma coluna ao dataset com o mês\n",
    "df[\"Mes\"] = df.Data.dt.month\n",
    "\n",
    "# Adiciona uma coluna ao dataset com o ano\n",
    "df[\"Ano\"] = df.Data.dt.year\n",
    "\n",
    "# Verificando as primeiras linhas\n",
    "df.head()"
   ]
  },
  {
   "cell_type": "markdown",
   "metadata": {},
   "source": [
    "#### 3.5.2 - Excluindo a coluna Data"
   ]
  },
  {
   "cell_type": "code",
   "execution_count": 6,
   "metadata": {},
   "outputs": [
    {
     "data": {
      "text/html": [
       "<div>\n",
       "<style scoped>\n",
       "    .dataframe tbody tr th:only-of-type {\n",
       "        vertical-align: middle;\n",
       "    }\n",
       "\n",
       "    .dataframe tbody tr th {\n",
       "        vertical-align: top;\n",
       "    }\n",
       "\n",
       "    .dataframe thead th {\n",
       "        text-align: right;\n",
       "    }\n",
       "</style>\n",
       "<table border=\"1\" class=\"dataframe\">\n",
       "  <thead>\n",
       "    <tr style=\"text-align: right;\">\n",
       "      <th></th>\n",
       "      <th>Filme</th>\n",
       "      <th>Usuario</th>\n",
       "      <th>Avaliacao</th>\n",
       "      <th>Dia_da_semana</th>\n",
       "      <th>Mes</th>\n",
       "      <th>Ano</th>\n",
       "    </tr>\n",
       "  </thead>\n",
       "  <tbody>\n",
       "    <tr>\n",
       "      <th>0</th>\n",
       "      <td>1</td>\n",
       "      <td>1488844</td>\n",
       "      <td>3</td>\n",
       "      <td>Tuesday</td>\n",
       "      <td>9</td>\n",
       "      <td>2005</td>\n",
       "    </tr>\n",
       "    <tr>\n",
       "      <th>1</th>\n",
       "      <td>1</td>\n",
       "      <td>822109</td>\n",
       "      <td>5</td>\n",
       "      <td>Friday</td>\n",
       "      <td>5</td>\n",
       "      <td>2005</td>\n",
       "    </tr>\n",
       "    <tr>\n",
       "      <th>2</th>\n",
       "      <td>1</td>\n",
       "      <td>885013</td>\n",
       "      <td>4</td>\n",
       "      <td>Wednesday</td>\n",
       "      <td>10</td>\n",
       "      <td>2005</td>\n",
       "    </tr>\n",
       "    <tr>\n",
       "      <th>3</th>\n",
       "      <td>1</td>\n",
       "      <td>30878</td>\n",
       "      <td>4</td>\n",
       "      <td>Monday</td>\n",
       "      <td>12</td>\n",
       "      <td>2005</td>\n",
       "    </tr>\n",
       "    <tr>\n",
       "      <th>4</th>\n",
       "      <td>1</td>\n",
       "      <td>823519</td>\n",
       "      <td>3</td>\n",
       "      <td>Monday</td>\n",
       "      <td>5</td>\n",
       "      <td>2004</td>\n",
       "    </tr>\n",
       "  </tbody>\n",
       "</table>\n",
       "</div>"
      ],
      "text/plain": [
       "   Filme  Usuario  Avaliacao Dia_da_semana  Mes   Ano\n",
       "0      1  1488844          3       Tuesday    9  2005\n",
       "1      1   822109          5        Friday    5  2005\n",
       "2      1   885013          4     Wednesday   10  2005\n",
       "3      1    30878          4        Monday   12  2005\n",
       "4      1   823519          3        Monday    5  2004"
      ]
     },
     "execution_count": 6,
     "metadata": {},
     "output_type": "execute_result"
    }
   ],
   "source": [
    "# Excluindo coluna\n",
    "df.drop([\"Data\"], axis=1, inplace = True)\n",
    "df.head()"
   ]
  },
  {
   "cell_type": "markdown",
   "metadata": {},
   "source": [
    "## 3.6 - Análise descritiva dos dados"
   ]
  },
  {
   "cell_type": "markdown",
   "metadata": {},
   "source": [
    "### 3.6.1 - Parâmetros dos gráficos"
   ]
  },
  {
   "cell_type": "code",
   "execution_count": null,
   "metadata": {},
   "outputs": [],
   "source": [
    "# Define a paleta de cores\n",
    "sns.color_palette(\"Pastel1\")\n",
    "\n",
    "# Define o tema utilizado.\n",
    "sns.set_theme(style=\"darkgrid\") "
   ]
  },
  {
   "cell_type": "markdown",
   "metadata": {},
   "source": [
    "### 3.6.2 - Funções para desenhar os gráficos"
   ]
  },
  {
   "cell_type": "markdown",
   "metadata": {},
   "source": [
    "#### a) Função para ajustar as unidades de medida do eixo y dos gráficos"
   ]
  },
  {
   "cell_type": "code",
   "execution_count": null,
   "metadata": {},
   "outputs": [],
   "source": [
    "# Ajusta a unidade de medida do eixo y para milhões para facilitar a visualização\n",
    "# Os dois argumentos são o valor e a posição do tick\n",
    "def ajustaMilhoes(x, pos):\n",
    "    return '{:1.1f}M'.format(x*1e-6)"
   ]
  },
  {
   "cell_type": "markdown",
   "metadata": {},
   "source": [
    "#### b) Gráfico de barras - maior frequência"
   ]
  },
  {
   "cell_type": "code",
   "execution_count": null,
   "metadata": {},
   "outputs": [],
   "source": [
    "# Função para plotar um gráfico de barras indicando a maior frequênca\n",
    "def desenhaMaiorFrequencia(coluna, numeroLinhas, titulo, labelEixoX):\n",
    "    \n",
    "    # Define uma semente para gerar sempre as mesmas cores\n",
    "    np.random.seed(9)\n",
    "    \n",
    "    # Plotanto o gráfico\n",
    "    fig = plt.subplots(figsize=(13, 6))\n",
    "    ax = coluna.value_counts().sort_values(ascending = False).head(numeroLinhas).plot.bar(rot=0, color = np.random.rand(numeroLinhas,3), edgecolor='black')\n",
    "    ax.set_title(titulo, fontsize = 16)\n",
    "    ax.set_xlabel(labelEixoX, fontsize = 12)\n",
    "    ax.set_ylabel(\"Quantidade\", fontsize = 12)\n",
    "    ax.bar_label(ax.containers[0], fmt='%.0f')\n",
    "    # Verifica se há necessidade de ajustar a unidade de medida do eixo y\n",
    "    if coluna.value_counts().max() >= 1000000:\n",
    "        # Ajusta a unidade de medida do eixo y para milhões\n",
    "        ax.yaxis.set_major_formatter(ajustaMilhoes)\n",
    "    plt.show()"
   ]
  },
  {
   "cell_type": "markdown",
   "metadata": {},
   "source": [
    "#### c) Gráfico de barras - menor frequência"
   ]
  },
  {
   "cell_type": "code",
   "execution_count": null,
   "metadata": {},
   "outputs": [],
   "source": [
    "# Função para plotar um gráfico de barras indicando a menor frequênca\n",
    "def desenhaMenorFrequencia(coluna, numeroLinhas, titulo, labelEixoX):\n",
    "\n",
    "    # Define uma semente para gerar sempre as mesmas cores\n",
    "    np.random.seed(45)\n",
    "    \n",
    "    # Plotanto o gráfico\n",
    "    fig = plt.subplots(figsize=(13, 6))\n",
    "    ax = coluna.value_counts().sort_values().head(numeroLinhas).plot.bar(rot=0, color = np.random.rand(numeroLinhas,3), edgecolor='red')\n",
    "    ax.set_title(titulo, fontsize = 16)\n",
    "    ax.set_xlabel(labelEixoX, fontsize = 12)\n",
    "    ax.set_ylabel(\"Quantidade\", fontsize = 12)\n",
    "    ax.bar_label(ax.containers[0], fmt='%.0f')\n",
    "    plt.show()"
   ]
  },
  {
   "cell_type": "markdown",
   "metadata": {},
   "source": [
    "#### d) Histograma"
   ]
  },
  {
   "cell_type": "code",
   "execution_count": null,
   "metadata": {},
   "outputs": [],
   "source": [
    "# Função que desenha um histograma\n",
    "def desenhaHistograma(dados, titulo):\n",
    "\n",
    "    # Calculando a quantidade de classes da variável analisada\n",
    "    n = len(dados)\n",
    "    k = round(1+3.3*math.log10(n))\n",
    "\n",
    "    # Calculando o intervalo de cada classe\n",
    "    frequencias, intervalos = np.histogram(dados, bins = k)\n",
    "\n",
    "    # Desenha o histograma\n",
    "    fig, ax = plt.subplots(figsize=(13, 6))  # Cria uma figura com eixos simples (x, y)\n",
    "    ax.hist(dados, bins = k)\n",
    "    ax.set_title(titulo, fontsize = 16)\n",
    "    ax.set_xlabel(\"Quantidade de avaliações\", fontsize = 12)\n",
    "    ax.set_xticks(intervalos)\n",
    "    ax.set_ylabel(\"Frequência\", fontsize = 12)\n",
    "    ax.bar_label(ax.containers[0])\n",
    "    plt.show()"
   ]
  },
  {
   "cell_type": "markdown",
   "metadata": {},
   "source": [
    "### 3.6.3 - Resumo dos dados"
   ]
  },
  {
   "cell_type": "code",
   "execution_count": null,
   "metadata": {},
   "outputs": [],
   "source": [
    "# Resumo dos dados\n",
    "totalFilmes = len(np.unique(df.Filme))\n",
    "totalUsuarios = len(np.unique(df.Usuario))\n",
    "totalAvaliacoes = df.shape[0]\n",
    "mediaAvaliacoes = round(df.Avaliacao.mean(),2)\n",
    "totalAnos = len(np.unique(df.Ano))\n",
    "\n",
    "print(\"Número Total de Filmes:\", totalFilmes)\n",
    "print(\"Número Total de Usuários:\", totalUsuarios)\n",
    "print(\"Número Total de Avaliações:\", totalAvaliacoes)\n",
    "print(\"Média de avaliações:\", mediaAvaliacoes)\n",
    "print(\"Total de anos:\", totalAnos)"
   ]
  },
  {
   "cell_type": "markdown",
   "metadata": {},
   "source": [
    "### 3.6.4 - Filmes com maior quantidade de avaliações"
   ]
  },
  {
   "cell_type": "code",
   "execution_count": null,
   "metadata": {},
   "outputs": [],
   "source": [
    "# Filmes com maior quantidade de avaliações\n",
    "desenhaMaiorFrequencia(df.Filme, 10, \"Filmes com maior quantidade de avaliações\", \"Filme\")"
   ]
  },
  {
   "cell_type": "markdown",
   "metadata": {},
   "source": [
    "### 3.6.5 - Filmes com menor quantidade de avaliações"
   ]
  },
  {
   "cell_type": "code",
   "execution_count": null,
   "metadata": {},
   "outputs": [],
   "source": [
    "# Filmes com menor quantidade de avaliações\n",
    "desenhaMenorFrequencia(df.Filme, 10, \"Filmes com menor quantidade de avaliações\", \"Filme\")"
   ]
  },
  {
   "cell_type": "markdown",
   "metadata": {},
   "source": [
    "### 3.6.6 - Histograma das avaliações dos filmes"
   ]
  },
  {
   "cell_type": "markdown",
   "metadata": {},
   "source": [
    "A maioria dos filmes recebe entre 10 a 16648 avaliações. <br>\n",
    "Existem alguns filmes que são muito populares e recebem muitas avaliações."
   ]
  },
  {
   "cell_type": "code",
   "execution_count": null,
   "metadata": {},
   "outputs": [],
   "source": [
    "# Quantidade de Avaliações por filme\n",
    "quantAvaliacoesPorFilme = df.Filme.value_counts().values\n",
    "\n",
    "# Desenha o histograma\n",
    "desenhaHistograma(quantAvaliacoesPorFilme, \"Histograma das avaliações dos filmes\")"
   ]
  },
  {
   "cell_type": "markdown",
   "metadata": {},
   "source": [
    "### 3.6.7 - Usuários com maior quantidade de avaliações realizadas"
   ]
  },
  {
   "cell_type": "code",
   "execution_count": null,
   "metadata": {},
   "outputs": [],
   "source": [
    "# Usuários com maior quantidade de avaliações realizadas\n",
    "desenhaMaiorFrequencia(df.Usuario, 10, \"Usuários com maior quantidade de avaliações realizadas\", \"Usuário\")"
   ]
  },
  {
   "cell_type": "markdown",
   "metadata": {},
   "source": [
    "### 3.6.8 - Usuários com menor quantidade de avaliações realizadas"
   ]
  },
  {
   "cell_type": "code",
   "execution_count": null,
   "metadata": {},
   "outputs": [],
   "source": [
    "# Usuários com menor quantidade de avaliações\n",
    "desenhaMenorFrequencia(df.Usuario, 10, \"Usuários com menor quantidade de avaliações realizadas\", \"Usuário\")"
   ]
  },
  {
   "cell_type": "markdown",
   "metadata": {},
   "source": [
    "### 3.6.9 - Histograma das avaliações dos usuários"
   ]
  },
  {
   "cell_type": "markdown",
   "metadata": {},
   "source": [
    "A maioria dos usuários faz de 1 a 458 avaliações."
   ]
  },
  {
   "cell_type": "code",
   "execution_count": null,
   "metadata": {},
   "outputs": [],
   "source": [
    "# Quantidade de avaliações por filme\n",
    "quantAvaliacoesPorUsuario = df.Usuario.value_counts().values\n",
    "\n",
    "# Desenha o histograma\n",
    "desenhaHistograma(quantAvaliacoesPorUsuario, \"Histograma das avaliações dos usuários\")"
   ]
  },
  {
   "cell_type": "markdown",
   "metadata": {},
   "source": [
    "### 3.6.10 - Média de avaliações realizadas por cada usuário"
   ]
  },
  {
   "cell_type": "code",
   "execution_count": null,
   "metadata": {},
   "outputs": [],
   "source": [
    "# Imprime na tela a média de avaliações realizadas por cada usuário\n",
    "print(\"Média de avaliações realizadas por usuário: \", round(df.Usuario.value_counts().mean()))"
   ]
  },
  {
   "cell_type": "markdown",
   "metadata": {},
   "source": [
    "### 3.6.11 - Média de avaliações por filme"
   ]
  },
  {
   "cell_type": "code",
   "execution_count": 49,
   "metadata": {},
   "outputs": [],
   "source": [
    "# Função que calcula a média das avaliações de um determinado filme\n",
    "def calculaMediaAvaliacaoDoFilme(codigoFilme):\n",
    "    return df[df.Filme == codigoFilme][\"Avaliacao\"].mean()"
   ]
  },
  {
   "cell_type": "code",
   "execution_count": 50,
   "metadata": {},
   "outputs": [
    {
     "data": {
      "text/plain": [
       "2.4294871794871793"
      ]
     },
     "execution_count": 50,
     "metadata": {},
     "output_type": "execute_result"
    }
   ],
   "source": [
    "# Calculando a média das avaliações de um determinado filme\n",
    "calculaMediaAvaliacaoDoFilme(530)"
   ]
  },
  {
   "cell_type": "markdown",
   "metadata": {},
   "source": [
    "### 3.6.12 - Quantidade de avaliações por dia da semana"
   ]
  },
  {
   "cell_type": "code",
   "execution_count": null,
   "metadata": {},
   "outputs": [],
   "source": [
    "# Quantidade de avaliações por dia da semana\n",
    "desenhaMaiorFrequencia(df.Dia_da_semana, 7, \"Quantidade de avaliações por dia da semana\", \"Dia da semana\")"
   ]
  },
  {
   "cell_type": "markdown",
   "metadata": {},
   "source": [
    "### 3.6.13 - Quantidade de avaliações por mês"
   ]
  },
  {
   "cell_type": "code",
   "execution_count": null,
   "metadata": {},
   "outputs": [],
   "source": [
    "# Quantidade de avaliações por mês\n",
    "desenhaMaiorFrequencia(df.Mes, 12, \"Quantidade de avaliações por mês\", \"Mês\")"
   ]
  },
  {
   "cell_type": "markdown",
   "metadata": {},
   "source": [
    "### 3.6.14 - Quantidade de avaliações por ano"
   ]
  },
  {
   "cell_type": "code",
   "execution_count": null,
   "metadata": {},
   "outputs": [],
   "source": [
    "# Calcula a quantidade de avaliações por ano, coloca em ordem crescente e armazena o resultado na variável\n",
    "avaliacoesPorAno = df.Ano.value_counts().sort_values()\n",
    "\n",
    "# Desenha o gráfico\n",
    "fig, ax = plt.subplots(figsize=(13, 6)) \n",
    "ax.plot(avaliacoesPorAno.index, avaliacoesPorAno.values, marker = \"8\", label = \"Avaliações por ano\") \n",
    "ax.set_title(\"Quantidade de avaliações por ano\", fontsize = 16)\n",
    "ax.set_xlabel(\"Ano\", fontsize = 12)\n",
    "ax.set_ylabel(\"Quantidade\", fontsize = 12)\n",
    "\n",
    "# Verifica se há necessidade de ajustar a unidade de medida do eixo y\n",
    "if avaliacoesPorAno.values.max() >= 1000000:\n",
    "    # Ajusta a unidade de medida do eixo y para milhões\n",
    "    ax.yaxis.set_major_formatter(ajustaMilhoes)\n",
    "\n",
    "# Exibe a quantidade de avaliações em cada ponto do gráfico\n",
    "for a,b in zip(avaliacoesPorAno.index, avaliacoesPorAno.values): \n",
    "    plt.text(a, b, str(b))\n",
    "plt.show()"
   ]
  },
  {
   "cell_type": "markdown",
   "metadata": {},
   "source": [
    "### 3.6.15 - Quantidade de cada avaliação"
   ]
  },
  {
   "cell_type": "code",
   "execution_count": null,
   "metadata": {},
   "outputs": [],
   "source": [
    "# Quantidade de cada avaliação\n",
    "desenhaMaiorFrequencia(df.Avaliacao, 5, \"Quantidade de cada avaliação\", \"Avaliação\")"
   ]
  },
  {
   "cell_type": "markdown",
   "metadata": {},
   "source": [
    "## 4 - Matriz Esparsa\n",
    "<details>\n",
    "    <summary>\n",
    "        <a class=\"btnfire small stroke\"><em class=\"fas fa-chevron-circle-down\"></em>&nbsp;&nbsp;Clique para mais detalhes</a>\n",
    "    </summary>\n",
    "    <br>\n",
    "\n",
    "Uma matriz é dita **esparsa** quando possui uma grande quantidade de elementos com valor zero (ou não presentes, ou não necessários). Esse conceito está em contraste com uma matriz densa, onde a maioria ou todos os elementos têm um valor diferente de zero.\n",
    "\n",
    "</details>"
   ]
  },
  {
   "cell_type": "code",
   "execution_count": null,
   "metadata": {},
   "outputs": [],
   "source": [
    "# Carregando imagem\n",
    "Image('Dados/Netflix/Imagens/matriz_esparsa2.png')"
   ]
  },
  {
   "cell_type": "code",
   "execution_count": null,
   "metadata": {},
   "outputs": [],
   "source": [
    "# Carregando imagem\n",
    "Image('Dados/Netflix/Imagens/matriz_esparsa1.png')"
   ]
  },
  {
   "cell_type": "markdown",
   "metadata": {},
   "source": [
    "### 4.1 - Criando a Matriz Esparsa"
   ]
  },
  {
   "cell_type": "code",
   "execution_count": 11,
   "metadata": {},
   "outputs": [
    {
     "name": "stdout",
     "output_type": "stream",
     "text": [
      "Matriz Carregada! \n",
      "Seu formato é: (usuário, filme):  (2649430, 9211)\n"
     ]
    }
   ],
   "source": [
    "# Verifica se a matriz esparsa já existe no disco\n",
    "if os.path.isfile('Dados/Netflix/matrizEsparsa.npz'):\n",
    "    # Carrega a matriz esparsa\n",
    "    matrizEsparsa = sparse.load_npz('Dados/Netflix/matrizEsparsa.npz')\n",
    "    print(\"Matriz Carregada! \\nSeu formato é: (usuário, filme): \", matrizEsparsa.shape)\n",
    "else:\n",
    "    # Caso não exista o arquivo em disco, criamos a matriz esparsa \n",
    "    matrizEsparsa = sparse.csr_matrix((df.Avaliacao.values, (df.Usuario.values, df.Filme.values)),)\n",
    "    print('Matriz Criada! \\nSeu formato é: (usuário, filme): ', matrizEsparsa.shape)\n",
    "    \n",
    "    # Salva a matriz esparsa no disco no formato Numpy (npz) \n",
    "    sparse.save_npz('Dados/Netflix/matrizEsparsa.npz', matrizEsparsa)\n",
    "    print('Matriz Salva em Disco.')"
   ]
  },
  {
   "cell_type": "markdown",
   "metadata": {},
   "source": [
    "### 4.2 - Calculando a esparsidade da matriz\n",
    "<details>\n",
    "    <summary>\n",
    "        <a class=\"btnfire small stroke\"><em class=\"fas fa-chevron-circle-down\"></em>&nbsp;&nbsp;Clique para mais detalhes</a>\n",
    "    </summary>\n",
    "    <br>\n",
    "\n",
    "O conceito de esparsidade é usado para identificar o percentual de células que são esparsas ou não utilizadas. <br>\n",
    "Neste exemplo de avaliação de filmes da Netflix, o percentual de esparsidade da matriz esparsa é muito alto, visto que, muitas células da matriz foram preenchidas com zero. Isso aconteceu porque muitos usuários não avaliaram muitos filmes.\n",
    "\n",
    "</details>"
   ]
  },
  {
   "cell_type": "code",
   "execution_count": 38,
   "metadata": {},
   "outputs": [
    {
     "name": "stdout",
     "output_type": "stream",
     "text": [
      "Esparsidade da Matriz Esparsa: 99.79% \n"
     ]
    }
   ],
   "source": [
    "# Calculando a esparsidade da matriz\n",
    "linhas, colunas = matrizEsparsa.shape\n",
    "elementosNaoZero = matrizEsparsa.count_nonzero()\n",
    "print(\"Esparsidade da Matriz Esparsa: {}% \".format(round((1 - (elementosNaoZero / (linhas * colunas))) * 100,2)))"
   ]
  },
  {
   "cell_type": "markdown",
   "metadata": {},
   "source": [
    "## Problema do Cold Start"
   ]
  },
  {
   "cell_type": "code",
   "execution_count": null,
   "metadata": {},
   "outputs": [],
   "source": [
    "# Cold start de usários\n",
    "usuarios_treino = len(medias_treino['user'])\n",
    "novos_usuarios = total_users - usuarios_treino"
   ]
  },
  {
   "cell_type": "code",
   "execution_count": null,
   "metadata": {},
   "outputs": [],
   "source": [
    "# Print\n",
    "print('Total Geral de Usuários:', total_users)\n",
    "print('Total de Usuários em Treino :', usuarios_treino)\n",
    "print(\"Total de Usuários Que Não Estão em Treino: {} ({}%)\".format(novos_usuarios,\n",
    "                                                                   np.round((novos_usuarios / total_users) * 100, 2)))"
   ]
  },
  {
   "cell_type": "markdown",
   "metadata": {},
   "source": [
    "75148 usuários não fazem parte dos dados de treino, ou seja, não temos como aprender o padrão de avaliação desses usuários! Esse é o problema do cold start (ou início frio)."
   ]
  },
  {
   "cell_type": "code",
   "execution_count": null,
   "metadata": {},
   "outputs": [],
   "source": [
    "# Cold start de filmes\n",
    "filmes_treino = len(medias_treino['movie'])\n",
    "novos_filmes = total_movies - filmes_treino"
   ]
  },
  {
   "cell_type": "code",
   "execution_count": null,
   "metadata": {},
   "outputs": [],
   "source": [
    "# Print\n",
    "print('Total Geral de Filmes:', total_movies)\n",
    "print('Total de Filmes em Treino:', filmes_treino)\n",
    "print(\"Total de Filmes Que Não Estão em Treino: {} ({}%)\".format(novos_filmes,\n",
    "                                                                 np.round((novos_filmes/total_movies)*100, 2)))"
   ]
  },
  {
   "cell_type": "markdown",
   "metadata": {},
   "source": [
    "346 filmes não aparecem nos dados de treino. Teremos que lidar com isso quando trabalharmos especialmente no modelo de Machine Learning."
   ]
  },
  {
   "cell_type": "markdown",
   "metadata": {},
   "source": [
    "## Calculando a Matriz de Similaridade de Usuários"
   ]
  },
  {
   "cell_type": "code",
   "execution_count": null,
   "metadata": {},
   "outputs": [],
   "source": [
    "# Função de cálculo de similaridade\n",
    "def calcula_similaridade_usuario(sparse_matrix, \n",
    "                                 compute_for_few = False, \n",
    "                                 top = 100, \n",
    "                                 verbose = False, \n",
    "                                 verb_for_n_rows = 20,\n",
    "                                 draw_time_taken = True):\n",
    "    \n",
    "    # Variáveis de controle\n",
    "    no_of_users, _ = sparse_matrix.shape\n",
    "    row_ind, col_ind = sparse_matrix.nonzero()\n",
    "    row_ind = sorted(set(row_ind)) \n",
    "    time_taken = list()\n",
    "    rows, cols, data = list(), list(), list()\n",
    "    if verbose: print(\"Calculando top\", top, \"similaridades para cada usuário...\")\n",
    "    start = datetime.now()\n",
    "    temp = 0\n",
    "    \n",
    "    # Loop pela matriz\n",
    "    for row in row_ind[:top] if compute_for_few else row_ind:\n",
    "        temp = temp + 1\n",
    "        prev = datetime.now()\n",
    "        \n",
    "        # Calculando a similaridade de cosseno\n",
    "        sim = cosine_similarity(sparse_matrix.getrow(row), sparse_matrix).ravel()\n",
    "        top_sim_ind = sim.argsort()[-top:]\n",
    "        top_sim_val = sim[top_sim_ind]\n",
    "        rows.extend([row]*top)\n",
    "        cols.extend(top_sim_ind)\n",
    "        data.extend(top_sim_val)\n",
    "        time_taken.append(datetime.now().timestamp() - prev.timestamp())\n",
    "        \n",
    "        if verbose:\n",
    "            if temp%verb_for_n_rows == 0:\n",
    "                print(\"Cálculo concluído para {} usuários [  tempo total : {}  ]\".format(temp, datetime.now()-start))\n",
    "            \n",
    "    if verbose: print('Criação de matriz esparsa a partir das semelhanças computadas...')    \n",
    "        \n",
    "    if draw_time_taken:\n",
    "        plt.plot(time_taken, label = 'Tempo de cálculo de cada usuário')\n",
    "        plt.plot(np.cumsum(time_taken), label = 'Tempo Total')\n",
    "        plt.legend(loc = 'best')\n",
    "        plt.xlabel('Usuário')\n",
    "        plt.ylabel('Tempo (segundos)')\n",
    "        plt.show()\n",
    "        \n",
    "    return sparse.csr_matrix((data, (rows, cols)), shape = (no_of_users, no_of_users)), time_taken      "
   ]
  },
  {
   "cell_type": "code",
   "execution_count": null,
   "metadata": {},
   "outputs": [],
   "source": [
    "# Calculamos a similaridade\n",
    "\n",
    "# Marca o início\n",
    "start = datetime.now()\n",
    "\n",
    "# Calcula a similaridade\n",
    "matriz_esparsa_user, _ = calcula_similaridade_usuario(matriz_esparsa_treino, \n",
    "                                                      compute_for_few = True, \n",
    "                                                      top = 100, \n",
    "                                                      verbose = True)\n",
    "\n",
    "print(\"Tempo Total de Processamento:\", datetime.now() - start)"
   ]
  },
  {
   "cell_type": "markdown",
   "metadata": {},
   "source": [
    "Temos **405.041 usuários** em nosso conjunto de treinamento e computação de semelhanças entre eles (**vetor dimensional de 17K**) é demorado.\n",
    "\n",
    "\n",
    "Tentaremos reduzir as dimensões usando SVD, de modo a acelerar o processo."
   ]
  },
  {
   "cell_type": "markdown",
   "metadata": {},
   "source": [
    "## Redução de Dimensionalidade com TruncatedSVD"
   ]
  },
  {
   "cell_type": "code",
   "execution_count": null,
   "metadata": {},
   "outputs": [],
   "source": [
    "# Redução de dimensionalidade\n",
    "\n",
    "# Marca o início\n",
    "start = datetime.now()\n",
    "\n",
    "# Cria o objeto TruncatedSVD reduzindo a dimensionalidade para 500 dimensões\n",
    "netflix_svd = TruncatedSVD(n_components = 500, algorithm = 'randomized', random_state = 15)\n",
    "\n",
    "# Aplica o TruncatedSVD\n",
    "trunc_svd = netflix_svd.fit_transform(matriz_esparsa_treino)\n",
    "\n",
    "print(\"Tempo Total de Processamento:\", datetime.now() - start)"
   ]
  },
  {
   "cell_type": "markdown",
   "metadata": {},
   "source": [
    "__Vamos calcular a variância explicada pelos componentes.__"
   ]
  },
  {
   "cell_type": "code",
   "execution_count": null,
   "metadata": {},
   "outputs": [],
   "source": [
    "# Calcula a variância explicada\n",
    "expl_var = np.cumsum(netflix_svd.explained_variance_ratio_)"
   ]
  },
  {
   "cell_type": "code",
   "execution_count": null,
   "metadata": {},
   "outputs": [],
   "source": [
    "# Plot\n",
    "fig, (ax1) = plt.subplots(nrows = 1, ncols = 1, figsize = plt.figaspect(.45))\n",
    "\n",
    "ax1.set_ylabel(\"Variância Explicada\", fontsize = 15)\n",
    "ax1.set_xlabel(\"Fatores Latentes\", fontsize = 15)\n",
    "ax1.plot(expl_var)\n",
    "\n",
    "# Vamos marcar algumas combinações de (fatores latentes, variância explicada) para tornar o gráfico mais claro\n",
    "ind = [1, 2, 4, 8, 20, 60, 100, 200, 300, 400, 500]\n",
    "ax1.scatter(x = [i-1 for i in ind], y = expl_var[[i-1 for i in ind]], c = '#ee4422')\n",
    "\n",
    "for i in ind:\n",
    "    ax1.annotate(s =\"({}, {})\".format(i,  np.round(expl_var[i-1], 2)), xy = (i-1, expl_var[i-1]),\n",
    "                xytext = ( i+20, expl_var[i-1] - 0.01), fontweight = 'bold')\n",
    "\n",
    "plt.show()"
   ]
  },
  {
   "cell_type": "markdown",
   "metadata": {},
   "source": [
    "Com 500 componentes explicamos aproximadamente 65% da variância dos dados. Isso é suficiente para nosso exemplo.\n"
   ]
  },
  {
   "cell_type": "code",
   "execution_count": null,
   "metadata": {},
   "outputs": [],
   "source": [
    "# Vamos projetar nossa matriz no espaço de 500 dimensões\n",
    "start = datetime.now()\n",
    "trunc_matrix = matriz_esparsa_treino.dot(netflix_svd.components_.T)\n",
    "print(\"Tempo de Processamento:\", datetime.now() - start)"
   ]
  },
  {
   "cell_type": "code",
   "execution_count": null,
   "metadata": {},
   "outputs": [],
   "source": [
    "# Shape\n",
    "trunc_matrix.shape"
   ]
  },
  {
   "cell_type": "code",
   "execution_count": null,
   "metadata": {},
   "outputs": [],
   "source": [
    "# Tipo\n",
    "type(trunc_matrix)"
   ]
  },
  {
   "cell_type": "code",
   "execution_count": null,
   "metadata": {},
   "outputs": [],
   "source": [
    "# Vamos criar e salvar em disco a matriz com a a dimensionalidade reduzida para 500 dimensões\n",
    "if not os.path.isfile('dados/matriz_esparsa_user_truncada.npz'):\n",
    "    matriz_esparsa_user_truncada = sparse.csr_matrix(trunc_matrix)\n",
    "    sparse.save_npz('dados/matriz_esparsa_user_truncada', matriz_esparsa_user_truncada)\n",
    "else:\n",
    "    matriz_esparsa_user_truncada = sparse.load_npz('dados/matriz_esparsa_user_truncada.npz')"
   ]
  },
  {
   "cell_type": "code",
   "execution_count": null,
   "metadata": {},
   "outputs": [],
   "source": [
    "# Conferindo o shape\n",
    "matriz_esparsa_user_truncada.shape"
   ]
  },
  {
   "cell_type": "markdown",
   "metadata": {},
   "source": [
    "__Agora calculamos novamente a similaridade de usuários usando a matriz truncada.__"
   ]
  },
  {
   "cell_type": "code",
   "execution_count": null,
   "metadata": {},
   "outputs": [],
   "source": [
    "# Calcula similaridade de usuários\n",
    "\n",
    "# Marca o início\n",
    "start = datetime.now()\n",
    "\n",
    "# Calcula a similaridade\n",
    "trunc_sim_matrix, _ = calcula_similaridade_usuario(matriz_esparsa_user_truncada, \n",
    "                                                   compute_for_few = True, \n",
    "                                                   top = 50, \n",
    "                                                   verbose = True) \n",
    "\n",
    "print(\"Tempo de Processamento:\", datetime.now() - start)"
   ]
  },
  {
   "cell_type": "markdown",
   "metadata": {},
   "source": [
    "## Calculando Matriz de Similaridade de Filmes"
   ]
  },
  {
   "cell_type": "code",
   "execution_count": null,
   "metadata": {},
   "outputs": [],
   "source": [
    "# Cálculo da similaridade de filmes\n",
    "\n",
    "# Marca o início\n",
    "start = datetime.now()\n",
    "\n",
    "# Cria se não existir\n",
    "if not os.path.isfile('dados/matriz_esparsa_filme.npz'):\n",
    "    matriz_esparsa_filme = cosine_similarity(X = matriz_esparsa_treino.T, dense_output = False)\n",
    "    print(\"Matriz Criada.\")\n",
    "    sparse.save_npz(\"dados/matriz_esparsa_filme.npz\", matriz_esparsa_filme)\n",
    "    print(\"Matriz Salva em Disco.\")\n",
    "else:\n",
    "    matriz_esparsa_filme = sparse.load_npz(\"dados/matriz_esparsa_filme.npz\")\n",
    "    print(\"Matriz Carregada.\")\n",
    "\n",
    "print(\"Tempo de Processamento:\", datetime.now() - start)"
   ]
  },
  {
   "cell_type": "code",
   "execution_count": null,
   "metadata": {},
   "outputs": [],
   "source": [
    "# Shape\n",
    "matriz_esparsa_filme.shape"
   ]
  },
  {
   "cell_type": "code",
   "execution_count": null,
   "metadata": {},
   "outputs": [],
   "source": [
    "# Extra os ids dos filmes\n",
    "movie_ids = np.unique(matriz_esparsa_filme.nonzero()[1])"
   ]
  },
  {
   "cell_type": "code",
   "execution_count": null,
   "metadata": {},
   "outputs": [],
   "source": [
    "# Calcula a similaridade de filmes de acordo com o padrão de avaliação dos usuários\n",
    "\n",
    "# Marca o início\n",
    "start = datetime.now()\n",
    "\n",
    "# Dicionário para armazenar as similaridades\n",
    "filmes_similares = dict()\n",
    "\n",
    "# Loop pelos ids dos filmes\n",
    "for movie in movie_ids:\n",
    "    # Obtemos os top filmes semelhantes e armazenamos no dicionário\n",
    "    filmes_sim = matriz_esparsa_filme[movie].toarray().ravel().argsort()[::-1][1:]\n",
    "    filmes_similares[movie] = filmes_sim[:100]\n",
    "    \n",
    "print(\"Tempo de Processamento:\", datetime.now() - start)"
   ]
  },
  {
   "cell_type": "code",
   "execution_count": null,
   "metadata": {},
   "outputs": [],
   "source": [
    "# Filmes similares ao filme de id 43\n",
    "filmes_similares[43]"
   ]
  },
  {
   "cell_type": "markdown",
   "metadata": {},
   "source": [
    "__Agora vamos encontrar os filmes mais semelhantes usando a matriz de similaridade.__"
   ]
  },
  {
   "cell_type": "code",
   "execution_count": null,
   "metadata": {},
   "outputs": [],
   "source": [
    "# Vamos carregar os títulos dos filmes do arquivo csv fornecido pela Netflix\n",
    "titulos_filmes = pd.read_csv(\"dados/movie_titles.csv\", \n",
    "                             sep = ',', \n",
    "                             header = None,\n",
    "                             names = ['ID_Filme', 'Ano_Lancamento', 'Titulo'], \n",
    "                             verbose = True,\n",
    "                             index_col = 'ID_Filme', \n",
    "                             encoding = \"ISO-8859-1\")"
   ]
  },
  {
   "cell_type": "code",
   "execution_count": null,
   "metadata": {},
   "outputs": [],
   "source": [
    "# Visualiza os dados\n",
    "titulos_filmes.head()"
   ]
  },
  {
   "cell_type": "markdown",
   "metadata": {},
   "source": [
    "__Vejamos quais são os filmes similares ao filme de ID 43.__"
   ]
  },
  {
   "cell_type": "code",
   "execution_count": null,
   "metadata": {},
   "outputs": [],
   "source": [
    "# ID do filme\n",
    "id_filme = 43"
   ]
  },
  {
   "cell_type": "code",
   "execution_count": null,
   "metadata": {},
   "outputs": [],
   "source": [
    "# Print\n",
    "print(\"Filme:\", titulos_filmes.loc[id_filme].values[1])\n",
    "print(\"Total de Avaliações de Usuários = {}.\".format(matriz_esparsa_treino[:,id_filme].getnnz()))\n",
    "print(\"Encontramos {} filmes que são similares a este e vamos imprimir os mais similares.\".format(matriz_esparsa_filme[:,id_filme].getnnz()))"
   ]
  },
  {
   "cell_type": "code",
   "execution_count": null,
   "metadata": {},
   "outputs": [],
   "source": [
    "# Encontrando todas as similaridades\n",
    "similarities = matriz_esparsa_filme[id_filme].toarray().ravel()\n",
    "similar_indices = similarities.argsort()[::-1][1:]\n",
    "similarities[similar_indices]\n",
    "sim_indices = similarities.argsort()[::-1][1:] "
   ]
  },
  {
   "cell_type": "code",
   "execution_count": null,
   "metadata": {},
   "outputs": [],
   "source": [
    "# Plot\n",
    "fig = plt.figure(figsize = plt.figaspect(.45))\n",
    "plt.plot(similarities[sim_indices], label = 'Todas as Avaliações')\n",
    "plt.plot(similarities[sim_indices[:100]], label = 'Top 100 Filmes Similares')\n",
    "plt.title(\"Filmes Similares ao Filme {}\".format(id_filme), fontsize = 25)\n",
    "plt.xlabel(\"Filmes\", fontsize = 15)\n",
    "plt.ylabel(\"Similaridade de Cosseno\", fontsize = 15)\n",
    "plt.legend()\n",
    "plt.show()"
   ]
  },
  {
   "cell_type": "code",
   "execution_count": null,
   "metadata": {},
   "outputs": [],
   "source": [
    "# Aqui os top 10 filmes mais similares ao filme 43\n",
    "titulos_filmes.loc[sim_indices[:10]]"
   ]
  },
  {
   "cell_type": "markdown",
   "metadata": {},
   "source": [
    "Já poderíamos concluir o projeto aqui, pois já temos um sistema de recomendação. Mas iremos além e vamos construir um modelo de Machine Learning para fazer as previsões. Trabalharemos nisso na Parte 2 deste Mini-Projeto."
   ]
  }
 ],
 "metadata": {
  "kernelspec": {
   "display_name": "Python 3",
   "language": "python",
   "name": "python3"
  },
  "language_info": {
   "codemirror_mode": {
    "name": "ipython",
    "version": 3
   },
   "file_extension": ".py",
   "mimetype": "text/x-python",
   "name": "python",
   "nbconvert_exporter": "python",
   "pygments_lexer": "ipython3",
   "version": "3.8.5"
  }
 },
 "nbformat": 4,
 "nbformat_minor": 4
}
