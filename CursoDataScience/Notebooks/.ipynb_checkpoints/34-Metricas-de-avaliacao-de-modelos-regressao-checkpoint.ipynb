{
 "cells": [
  {
   "cell_type": "markdown",
   "metadata": {},
   "source": [
    "# <font color='blue'>Métricas de avaliação de modelos de regressão</font>"
   ]
  },
  {
   "cell_type": "code",
   "execution_count": null,
   "metadata": {},
   "outputs": [],
   "source": [
    "# Versão da Linguagem Python\n",
    "from platform import python_version\n",
    "print('Python Version:', python_version())\n",
    "\n",
    "# Verificando as versões dos pacotes instalados\n",
    "pandasVersion = !pip show pandas\n",
    "matplotlibVersion = !pip show matplotlib\n",
    "sklearnVersion = !pip show scikit-learn\n",
    "print('Pandas', pandasVersion[1])\n",
    "print(\"Matplotlib\", matplotlibVersion[1])\n",
    "print(\"Sklearn\", sklearnVersion[1])"
   ]
  },
  {
   "cell_type": "markdown",
   "metadata": {},
   "source": [
    "## Mean Squared Error - MSE\n",
    "<details>\n",
    "    <summary>\n",
    "        <a class=\"btnfire small stroke\"><em class=\"fas fa-chevron-circle-down\"></em>&nbsp;&nbsp;Clique para mais detalhes</a>\n",
    "    </summary>\n",
    "    <br>\n",
    "A função mean_squared_error calcula o erro quadrático médio. O erro é a diferença entre o valor real e o valor previsto pelo modelo. Sendo assim, o Mean Squared Error calcula a média dos erros elevados ao quadrado.\n",
    "    \n",
    "</details>"
   ]
  },
  {
   "cell_type": "code",
   "execution_count": null,
   "metadata": {},
   "outputs": [],
   "source": [
    "# Carregando imagem da equação do Mean Squared Error\n",
    "from IPython.display import Image\n",
    "Image('Imagens/mean_squared_error.png')"
   ]
  },
  {
   "cell_type": "markdown",
   "metadata": {},
   "source": [
    "## Root Mean Squared Error - RMSE\n",
    "<details>\n",
    "    <summary>\n",
    "        <a class=\"btnfire small stroke\"><em class=\"fas fa-chevron-circle-down\"></em>&nbsp;&nbsp;Clique para mais detalhes</a>\n",
    "    </summary>\n",
    "    <br>\n",
    "\n",
    "A métrica Root Mean Squared Error é a raiz quadrada do erro quadrático médio, ou seja, é a raiz quadrada do Mean Squared Error. <br>\n",
    "A fórmula do Root Mean Squared Error é\n",
    "$\\sqrt{MSE}$ <br>\n",
    "A biblioteca Scikit Learn não tem uma função implementada para calcular o RMSE, mas é possível utilizar a função mean_squared_error para calcular o MSE e depois utilizar o NumPy para calcular o RMSE. <br>\n",
    "    \n",
    "</details>"
   ]
  },
  {
   "cell_type": "markdown",
   "metadata": {},
   "source": [
    "## Mean Absolute Error - MAE\n",
    "<details>\n",
    "    <summary>\n",
    "        <a class=\"btnfire small stroke\"><em class=\"fas fa-chevron-circle-down\"></em>&nbsp;&nbsp;Clique para mais detalhes</a>\n",
    "    </summary>\n",
    "    <br>\n",
    "A função mean_absolute_error calcula o erro absoluto médio. É uma métrica correspondente ao valor do erro absoluto. Tem a mesma unidade dos dados originais.\n",
    "    \n",
    "</details>"
   ]
  },
  {
   "cell_type": "code",
   "execution_count": null,
   "metadata": {},
   "outputs": [],
   "source": [
    "# Carregando imagem da equação do Mean Absolute Error\n",
    "Image('Imagens/mean_absolute_error.png')"
   ]
  },
  {
   "cell_type": "markdown",
   "metadata": {},
   "source": [
    "## $R^2$ - Coeficiente de determinação\n",
    "<details>\n",
    "    <summary>\n",
    "        <a class=\"btnfire small stroke\"><em class=\"fas fa-chevron-circle-down\"></em>&nbsp;&nbsp;Clique para mais detalhes</a>\n",
    "    </summary>\n",
    "    <br>\n",
    "$R^2$ é o coeficiente de determinação. Também é chamado de R score, ou R squared, ou R ao quadrado, ou simplesmente R2. <br>\n",
    "Seu valor varia de 0 a 1. Sendo que, quanto mais próximo de um, melhor, e quanto mais próximo de zero pior. A escala de zero a um pode ser representada em valores percentuais. <br>\n",
    "É uma métrica que avalia os acertos.<br>\n",
    "O $R^2$ representa a proporção da variância de y que foi explicada pelas variáveis independentes no modelo. Ele fornece uma indicação da qualidade do ajuste, e portanto, uma medida de quão bem as amostras não vistas provavelmente serão previstas pelo modelo, por meio da proporção da variância explicada. <br>\n",
    "Como essa variação depende do conjunto de dados, o $R^2$ não pode ser comparável em diferentes conjuntos de dados. Ou seja, o cientista de dados deve garantir que os datasets de treino e teste devem ser os mesmos utilizados em todos os algoritmos com os quais os dados serão treinados e testados. \n",
    "</details>"
   ]
  },
  {
   "cell_type": "code",
   "execution_count": null,
   "metadata": {},
   "outputs": [],
   "source": [
    "# Carregando imagem da equação do r2 score\n",
    "Image('Imagens/r2-score.png')"
   ]
  },
  {
   "cell_type": "code",
   "execution_count": null,
   "metadata": {},
   "outputs": [],
   "source": [
    "# Carregando os pacotes\n",
    "import pandas as pd\n",
    "import numpy as np\n",
    "import matplotlib.pyplot as plt\n",
    "from sklearn.ensemble import RandomForestRegressor\n",
    "from sklearn.model_selection import train_test_split\n",
    "from sklearn.linear_model import LinearRegression\n",
    "from sklearn.tree import DecisionTreeRegressor\n",
    "from sklearn.neighbors import KNeighborsRegressor\n",
    "from sklearn.metrics import mean_squared_error, mean_absolute_error, r2_score"
   ]
  },
  {
   "cell_type": "markdown",
   "metadata": {},
   "source": [
    "## Coletando os dados"
   ]
  },
  {
   "cell_type": "code",
   "execution_count": null,
   "metadata": {},
   "outputs": [],
   "source": [
    "# Coletando os dados\n",
    "df = pd.read_csv('Dados/Auto-mpg/mtcars.csv')\n",
    "df.head()"
   ]
  },
  {
   "cell_type": "code",
   "execution_count": null,
   "metadata": {},
   "outputs": [],
   "source": [
    "# Visualizando informações sobre o dataset\n",
    "df.info()"
   ]
  },
  {
   "cell_type": "markdown",
   "metadata": {},
   "source": [
    "## Seleção de variáveis"
   ]
  },
  {
   "cell_type": "code",
   "execution_count": null,
   "metadata": {},
   "outputs": [],
   "source": [
    "# Separando as variáveis preditoras e a variável alvo\n",
    "numeroObservacoes = len(df)\n",
    "numeroColunas = 10\n",
    "X = df[[\"cyl\",\"disp\",\"hp\",\"drat\",\"wt\",\"qsec\",\"vs\",\"am\",\"gear\",\"carb\"]].values.reshape((numeroObservacoes, numeroColunas)) # X deve sempre ser uma matriz e nunca um vetor\n",
    "y = df['mpg'].values # y pode ser um vetor\n",
    "\n",
    "# Criando o modelo\n",
    "modelo = RandomForestRegressor()\n",
    "\n",
    "# Treinamento do modelo\n",
    "modelo.fit(X, y)\n",
    "\n",
    "# Extraindo a importância\n",
    "print(\"Importância das variáveis: %s\" %  modelo.feature_importances_)\n",
    "\n",
    "# Gráfico com a importância das variáveis\n",
    "variaveis = [\"cyl\",\"disp\",\"hp\",\"drat\",\"wt\",\"qsec\",\"vs\",\"am\",\"gear\",\"carb\"]\n",
    "plt.bar(variaveis, modelo.feature_importances_)"
   ]
  },
  {
   "cell_type": "markdown",
   "metadata": {},
   "source": [
    "## Dividindo o dataset em dados de treino e dados de teste"
   ]
  },
  {
   "cell_type": "code",
   "execution_count": null,
   "metadata": {},
   "outputs": [],
   "source": [
    "# Separando as variáveis preditoras e a variável alvo\n",
    "numeroObservacoes = len(df)\n",
    "numeroVariaveisPreditoras = 4\n",
    "X = df[[\"cyl\",\"disp\",\"hp\",\"wt\"]].values.reshape((numeroObservacoes, numeroVariaveisPreditoras)) # X deve sempre ser uma matriz e nunca um vetor\n",
    "y = df['mpg'].values # y pode ser um vetor\n",
    "\n",
    "# Divide os dados em treino e teste\n",
    "Xtreino, Xteste, Ytreino, Yteste = train_test_split(X, y, test_size = 0.2, random_state=23)"
   ]
  },
  {
   "cell_type": "markdown",
   "metadata": {},
   "source": [
    "## Criando, treinando e avaliando modelos preditivos"
   ]
  },
  {
   "cell_type": "code",
   "execution_count": null,
   "metadata": {},
   "outputs": [],
   "source": [
    "# Criando o modelo Regressão linear\n",
    "modelo = LinearRegression()\n",
    "\n",
    "# Treinando o modelo\n",
    "modelo.fit(Xtreino, Ytreino)\n",
    "\n",
    "# Fazendo previsões\n",
    "previsoes = modelo.predict(Xteste)\n",
    "\n",
    "# r2\n",
    "r2 = r2_score(Yteste, previsoes)\n",
    "\n",
    "# MSE\n",
    "mse = mean_squared_error(Yteste, previsoes)\n",
    "\n",
    "# RMSE\n",
    "rmse = np.sqrt(mse)\n",
    "\n",
    "# MAE\n",
    "mae = mean_absolute_error(Yteste, previsoes)\n",
    "\n",
    "print(\"R2 do modelo: %.2f\" % (r2*100) + \"%\")\n",
    "print(\"MSE do modelo: %.2f\" % mse)\n",
    "print(\"RMSE do modelo: %.2f\" % rmse)\n",
    "print(\"MAE do modelo: %.2f\" % mae)"
   ]
  },
  {
   "cell_type": "code",
   "execution_count": null,
   "metadata": {},
   "outputs": [],
   "source": [
    "# Criando um dicionário\n",
    "dicionario = {\n",
    "    \"Yteste\": Yteste,\n",
    "    \"Valor Previsto\": previsoes\n",
    "}\n",
    "\n",
    "# Criando um DataFrame\n",
    "dfComparacao = pd.DataFrame(dicionario)\n",
    "dfComparacao"
   ]
  },
  {
   "cell_type": "code",
   "execution_count": null,
   "metadata": {},
   "outputs": [],
   "source": [
    "# Criando o modelo Árvore de Decisão\n",
    "modelo = DecisionTreeRegressor(random_state = 20)\n",
    "\n",
    "# Treinando o modelo\n",
    "modelo.fit(Xtreino, Ytreino)\n",
    "\n",
    "# Fazendo previsões\n",
    "previsoes = modelo.predict(Xteste)\n",
    "\n",
    "# r2\n",
    "r2 = r2_score(Yteste, previsoes)\n",
    "\n",
    "# MSE\n",
    "mse = mean_squared_error(Yteste, previsoes)\n",
    "\n",
    "# RMSE\n",
    "rmse = np.sqrt(mse)\n",
    "\n",
    "# MAE\n",
    "mae = mean_absolute_error(Yteste, previsoes)\n",
    "\n",
    "print(\"R2 do modelo: %.2f\" % (r2*100) + \"%\")\n",
    "print(\"MSE do modelo: %.2f\" % mse)\n",
    "print(\"RMSE do modelo: %.2f\" % rmse)\n",
    "print(\"MAE do modelo: %.2f\" % mae)"
   ]
  },
  {
   "cell_type": "code",
   "execution_count": null,
   "metadata": {},
   "outputs": [],
   "source": [
    "# Criando um dicionário\n",
    "dicionario = {\n",
    "    \"Yteste\": Yteste,\n",
    "    \"Valor Previsto\": previsoes\n",
    "}\n",
    "\n",
    "# Criando um DataFrame\n",
    "dfComparacao = pd.DataFrame(dicionario)\n",
    "dfComparacao"
   ]
  },
  {
   "cell_type": "code",
   "execution_count": null,
   "metadata": {},
   "outputs": [],
   "source": [
    "# Criando o modelo KNN\n",
    "modelo = KNeighborsRegressor()\n",
    "\n",
    "# Treinando o modelo\n",
    "modelo.fit(Xtreino, Ytreino)\n",
    "\n",
    "# Fazendo previsões\n",
    "previsoes = modelo.predict(Xteste)\n",
    "\n",
    "# r2\n",
    "r2 = r2_score(Yteste, previsoes)\n",
    "\n",
    "# MSE\n",
    "mse = mean_squared_error(Yteste, previsoes)\n",
    "\n",
    "# RMSE\n",
    "rmse = np.sqrt(mse)\n",
    "\n",
    "# MAE\n",
    "mae = mean_absolute_error(Yteste, previsoes)\n",
    "\n",
    "print(\"R2 do modelo: %.2f\" % (r2*100) + \"%\")\n",
    "print(\"MSE do modelo: %.2f\" % mse)\n",
    "print(\"RMSE do modelo: %.2f\" % rmse)\n",
    "print(\"MAE do modelo: %.2f\" % mae)"
   ]
  },
  {
   "cell_type": "code",
   "execution_count": null,
   "metadata": {},
   "outputs": [],
   "source": [
    "# Criando um dicionário\n",
    "dicionario = {\n",
    "    \"Yteste\": Yteste,\n",
    "    \"Valor Previsto\": previsoes\n",
    "}\n",
    "\n",
    "# Criando um DataFrame\n",
    "dfComparacao = pd.DataFrame(dicionario)\n",
    "dfComparacao"
   ]
  },
  {
   "cell_type": "code",
   "execution_count": null,
   "metadata": {},
   "outputs": [],
   "source": []
  }
 ],
 "metadata": {
  "kernelspec": {
   "display_name": "Python 3 (ipykernel)",
   "language": "python",
   "name": "python3"
  },
  "language_info": {
   "codemirror_mode": {
    "name": "ipython",
    "version": 3
   },
   "file_extension": ".py",
   "mimetype": "text/x-python",
   "name": "python",
   "nbconvert_exporter": "python",
   "pygments_lexer": "ipython3",
   "version": "3.9.13"
  }
 },
 "nbformat": 4,
 "nbformat_minor": 4
}
