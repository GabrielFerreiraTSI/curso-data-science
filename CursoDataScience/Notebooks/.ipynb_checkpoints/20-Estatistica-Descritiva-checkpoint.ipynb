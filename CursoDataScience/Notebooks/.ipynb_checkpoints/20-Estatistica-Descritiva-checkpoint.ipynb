{
 "cells": [
  {
   "cell_type": "markdown",
   "metadata": {},
   "source": [
    "# <font color='blue'>Estatística Descritiva Univariada categórica</font>"
   ]
  },
  {
   "cell_type": "code",
   "execution_count": null,
   "metadata": {},
   "outputs": [],
   "source": [
    "# Versão da Linguagem Python\n",
    "from platform import python_version\n",
    "print('Versão da Linguagem Python Usada Neste Jupyter Notebook:', python_version())\n",
    "\n",
    "# Verificando as versões dos pacotes instalados\n",
    "pandasVersion = !pip show Pandas\n",
    "matplotlibVersion = !pip show matplotlib\n",
    "print('Pandas', pandasVersion[1])\n",
    "print(\"Matplotlib\", matplotlibVersion[1])"
   ]
  },
  {
   "cell_type": "markdown",
   "metadata": {},
   "source": [
    "## Estatística Descritiva\n",
    "<details>\n",
    "    <summary>\n",
    "        <a class=\"btnfire small stroke\"><em class=\"fas fa-chevron-circle-down\"></em>&nbsp;&nbsp;Clique para mais detalhes</a>\n",
    "    </summary>\n",
    "    <br>\n",
    "    \n",
    "**Estatística Descritiva** descreve e sintetiza as características principais observadas em um conjunto de dados por meio de tabelas, gráficos e medidas de resumo, permitindo uma melhor compreensão do comportamento dos dados. <br>\n",
    "A Estatística Descritiva pode ser: <br>\n",
    "- **Univariada**: estuda uma única variável; <br>\n",
    "- **Bivariada**: estuda duas variáveis; <br>\n",
    "- **Multivariada**: estuda mais de duas variáveis. <br>\n",
    "\n",
    "A estatística descritiva univariada contempla as seguintes técnicas: <br>\n",
    "- Tabela de distribuição de frequências; <br>\n",
    "- Representação da distribuição de uma variável por meio de gráficos; <br>\n",
    "- Medidas de posição ou localização; <br>\n",
    "- Medidas de dispersão ou variabilidade; <br>\n",
    "- medidas de forma que são a assimetria e a curtose. <br>\n",
    "\n",
    "Estatísticas descritivas utilizadas com variáveis **qualitativas** ou **categóricas**: <br>\n",
    "- Tabelas de distribuição de frequências; <br>\n",
    "- Gráficos de barra, de pizza e o diagrama de Pareto. <br>\n",
    "\n",
    "Estatísticas descritivas utilizadas com variáveis **quantitativas**: <br>\n",
    "- Gráficos de linhas, de dispersão, histograma e boxplot; <br>\n",
    "- Medidas de posição ou localização; <br>\n",
    "- Medidas de dispersão ou variabilidade; <br>\n",
    "- medidas de forma que são a assimetria e a curtose; <br>\n",
    "- Tabelas de distribuição de frequências. <br>\n",
    "    \n",
    "</details>\n"
   ]
  },
  {
   "cell_type": "code",
   "execution_count": null,
   "metadata": {},
   "outputs": [],
   "source": [
    "# Importando os pacotes\n",
    "import pandas as pd\n",
    "import numpy as np\n",
    "import matplotlib.pyplot as plt\n",
    "import seaborn as sns"
   ]
  },
  {
   "cell_type": "code",
   "execution_count": null,
   "metadata": {},
   "outputs": [],
   "source": [
    "# Coletando os dados\n",
    "df = pd.read_csv('Dados\\\\Tips\\\\tips.csv')\n",
    "# Renomenando as colunas\n",
    "df.columns = [\"Total da Conta\", \"Valor da Gorjeta\", \"Sexo\", \"Fumante\", \"Dia\", \"Horário\", \"Quantidade de Pessoas\"]\n",
    "df"
   ]
  },
  {
   "cell_type": "code",
   "execution_count": null,
   "metadata": {},
   "outputs": [],
   "source": [
    "# Verificando informações sobre cada coluna do DataFrame.\n",
    "df.info()"
   ]
  },
  {
   "cell_type": "markdown",
   "metadata": {},
   "source": [
    "## Tabela de Distribuição de Frequências\n",
    "<details>\n",
    "    <summary>\n",
    "        <a class=\"btnfire small stroke\"><em class=\"fas fa-chevron-circle-down\"></em>&nbsp;&nbsp;Clique para mais detalhes</a>\n",
    "    </summary>\n",
    "    <br>\n",
    "    \n",
    "No caso de variáveis categóricas, a tabela representa a frequência de ocorrências de cada categoria da variável.<br>\n",
    "Uma tabela de distribuição de frequências compõe os seguintes cálculos: <br>\n",
    "- **Frequência absoluta ( <em>Fi</em> )**: número de ocorrências de cada elemento <em>i</em> na amostra; <br>\n",
    "- **Frequência relativa ( <em>Fri</em> )**: porcentagem relativa à frequência absoluta; <br>\n",
    "- **Frequência acumulada ( <em>Fac</em> )**: soma de todas as ocorrências até o elemento analisado; <br>\n",
    "- **Frequência relativa acumulada ( <em>Frac</em> )**: porcentagem relativa à frequência acumulada. \n",
    "\n",
    "</details>\n"
   ]
  },
  {
   "cell_type": "markdown",
   "metadata": {},
   "source": [
    "### Frequência absoluta ( <em>Fi</em> )"
   ]
  },
  {
   "cell_type": "code",
   "execution_count": null,
   "metadata": {},
   "outputs": [],
   "source": [
    "# Frequência absoluta da variável Dia \n",
    "fiDia = df.Dia.value_counts()\n",
    "fiDia"
   ]
  },
  {
   "cell_type": "code",
   "execution_count": null,
   "metadata": {},
   "outputs": [],
   "source": [
    "# Visualização gráfica da frequência absoluta da variável Dia\n",
    "\n",
    "sns.set_theme(style=\"dark\") # Define o tema utilizado\n",
    "\n",
    "ax = sns.countplot(x=df[\"Dia\"], palette = \"Greens_d\");\n",
    "ax.set_title(\"Frequência absoluta da variável Dia\", fontsize = 16)\n",
    "for p in ax.patches: # Exibe os valores no gráfico\n",
    "    _x = p.get_x() + p.get_width() - 0.5\n",
    "    _y = p.get_y() + p.get_height()\n",
    "    value = int(p.get_height())\n",
    "    ax.text(_x, _y, value, ha=\"left\")"
   ]
  },
  {
   "cell_type": "code",
   "execution_count": null,
   "metadata": {},
   "outputs": [],
   "source": [
    "# Verificando o tipo de dados \n",
    "type(fiDia)"
   ]
  },
  {
   "cell_type": "code",
   "execution_count": null,
   "metadata": {},
   "outputs": [],
   "source": [
    "# Construindo a Tabela de Distribuição de Frequências\n",
    "\n",
    "# converte a série para um DataFrame\n",
    "df2 = fiDia.to_frame()\n",
    "\n",
    "# renomeia a coluna\n",
    "df2.columns = [\"Fi\"]\n",
    "df2"
   ]
  },
  {
   "cell_type": "markdown",
   "metadata": {},
   "source": [
    "### Frequência relativa ( <em>Fri</em> )"
   ]
  },
  {
   "cell_type": "code",
   "execution_count": null,
   "metadata": {},
   "outputs": [],
   "source": [
    "# Frequência relativa da variável Dia\n",
    "friDia = (fiDia / df.Dia.count())*100\n",
    "friDia"
   ]
  },
  {
   "cell_type": "code",
   "execution_count": null,
   "metadata": {},
   "outputs": [],
   "source": [
    "# Visualização gráfica da frequência relativa da variável Dia\n",
    "\n",
    "ax = friDia.plot.pie(autopct='%1.1f%%', startangle=90)\n",
    "ax.set_title(\"Frequência relativa da variável Dia\", fontsize = 16)\n",
    "plt.show()"
   ]
  },
  {
   "cell_type": "code",
   "execution_count": null,
   "metadata": {},
   "outputs": [],
   "source": [
    "# Construindo a Tabela de Distribuição de Frequências\n",
    "\n",
    "# Criando uma nova coluna\n",
    "df2[\"Fri %\"] = round(friDia,2)\n",
    "df2"
   ]
  },
  {
   "cell_type": "markdown",
   "metadata": {},
   "source": [
    "### Frequência acumulada ( <em>Fac</em> )"
   ]
  },
  {
   "cell_type": "code",
   "execution_count": null,
   "metadata": {},
   "outputs": [],
   "source": [
    "# Frequência acumulada da variável Dia\n",
    "facDia = fiDia.cumsum()\n",
    "facDia"
   ]
  },
  {
   "cell_type": "code",
   "execution_count": null,
   "metadata": {},
   "outputs": [],
   "source": [
    "# Visualizando a frequência absoluta da variável Dia\n",
    "fiDia"
   ]
  },
  {
   "cell_type": "code",
   "execution_count": null,
   "metadata": {},
   "outputs": [],
   "source": [
    "# Construindo a Tabela de Distribuição de Frequências\n",
    "\n",
    "# Criando uma nova coluna\n",
    "df2[\"Fac\"] = round(facDia,2)\n",
    "df2"
   ]
  },
  {
   "cell_type": "markdown",
   "metadata": {},
   "source": [
    "### Frequência relativa acumulada ( <em>Frac</em> )"
   ]
  },
  {
   "cell_type": "code",
   "execution_count": null,
   "metadata": {},
   "outputs": [],
   "source": [
    "# Frequência relativa acumulada da variável Dia\n",
    "fracDia = (facDia / df.Dia.count())*100\n",
    "fracDia"
   ]
  },
  {
   "cell_type": "code",
   "execution_count": null,
   "metadata": {},
   "outputs": [],
   "source": [
    "# Visualizando a frequência acumulada da variável Dia\n",
    "facDia"
   ]
  },
  {
   "cell_type": "code",
   "execution_count": null,
   "metadata": {},
   "outputs": [],
   "source": [
    "# Criando uma nova coluna\n",
    "df2[\"Frac %\"] = round(fracDia,2)\n",
    "df2"
   ]
  },
  {
   "cell_type": "markdown",
   "metadata": {},
   "source": [
    "### Tabela de Distribuição de Frequências"
   ]
  },
  {
   "cell_type": "code",
   "execution_count": null,
   "metadata": {},
   "outputs": [],
   "source": [
    "# Reiniciando o índice da DataFrame\n",
    "df3 = df2.reset_index()\n",
    "df3.columns = [\"Dia\", \"Fi\", \"Fri %\", \"Fac\", \"Frac %\"]\n",
    "df3"
   ]
  },
  {
   "cell_type": "markdown",
   "metadata": {},
   "source": [
    "### Diagrama de Pareto\n",
    "<details>\n",
    "    <summary>\n",
    "        <a class=\"btnfire small stroke\"><em class=\"fas fa-chevron-circle-down\"></em>&nbsp;&nbsp;Clique para mais detalhes</a>\n",
    "    </summary>\n",
    "    <br>\n",
    "    \n",
    "O diagrama de Pareto é um gráfico de barras em que as barras exibem as frequências absolutas em ordem decrescente e também a frequência relativa acumulada em um gráfico de linhas. <br>\n",
    "É muito utilizado quando se deseja fazer um controle de qualidade sobre os produtos e serviços. <br>\n",
    "Normalmente, utiliza-se o diagrama de Pareto para fazer o controle de defeitos e problemas. <br> Contudo, pode ser utilizado em diversas áreas, com o objetivo de obter insights e, consequentemente, melhorar a tomada de decisões. \n",
    "\n",
    "</details>\n"
   ]
  },
  {
   "cell_type": "code",
   "execution_count": null,
   "metadata": {},
   "outputs": [],
   "source": [
    "# Cria um gráfico de barras\n",
    "ax = sns.barplot(x=df3.Dia, y=df3.Fi)\n",
    "ax.set_title(\"Diagrama de Pareto\")\n",
    "# Define os valores do eixo y da esquerda\n",
    "ax.set_yticks(np.arange(0, 100, 15))\n",
    "\n",
    "# Cria un eixo secundário\n",
    "ax2 = ax.twinx()\n",
    "\n",
    "# Cria um gráfico de linhas\n",
    "ax2 = sns.lineplot(x=df3.Dia, y=df3[\"Frac %\"], marker=\"D\", color=\"red\" )\n",
    "# Define os valores do eixo y da direita\n",
    "ax2.set_yticks(np.arange(0, 120, 20))\n",
    "plt.show()"
   ]
  },
  {
   "cell_type": "markdown",
   "metadata": {},
   "source": [
    "### Exercício\n",
    "1 - Construa a Tabela de Distribuição de Frequências da variável Survived do dataset Titanic."
   ]
  },
  {
   "cell_type": "code",
   "execution_count": null,
   "metadata": {},
   "outputs": [],
   "source": [
    "# Importando os pacotes\n",
    "import pandas as pd"
   ]
  },
  {
   "cell_type": "code",
   "execution_count": null,
   "metadata": {},
   "outputs": [],
   "source": [
    "# Coletando os dados\n",
    "df = pd.read_csv('Dados\\\\Titanic\\\\train.csv')\n",
    "\n",
    "# Renomeando a coluna Survived \n",
    "df.rename(columns = {\"Survived\":\"Sobrevivente\"}, inplace = True) \n",
    "df"
   ]
  },
  {
   "cell_type": "code",
   "execution_count": null,
   "metadata": {},
   "outputs": [],
   "source": [
    "# Frequência absoluta da variável Sobrevivente \n",
    "fiSobrevivente = df.Sobrevivente.value_counts()\n",
    "fiSobrevivente"
   ]
  },
  {
   "cell_type": "code",
   "execution_count": null,
   "metadata": {},
   "outputs": [],
   "source": [
    "# Construindo a Tabela de Distribuição de Frequências\n",
    "\n",
    "# converte a série para um DataFrame\n",
    "df2 = fiSobrevivente.to_frame()\n",
    "\n",
    "# renomeia a coluna\n",
    "df2.columns = [\"Fi\"]\n",
    "df2"
   ]
  },
  {
   "cell_type": "code",
   "execution_count": null,
   "metadata": {},
   "outputs": [],
   "source": [
    "# Frequência relativa da variável Sobrevivente\n",
    "friSobrevivente = (fiSobrevivente / df.Sobrevivente.count())*100\n",
    "friSobrevivente"
   ]
  },
  {
   "cell_type": "code",
   "execution_count": null,
   "metadata": {},
   "outputs": [],
   "source": [
    "# Construindo a Tabela de Distribuição de Frequências\n",
    "\n",
    "# Criando uma nova coluna\n",
    "df2[\"Fri %\"] = round(friSobrevivente,2)\n",
    "df2"
   ]
  },
  {
   "cell_type": "code",
   "execution_count": null,
   "metadata": {},
   "outputs": [],
   "source": [
    "# Frequência acumulada da variável Sobrevivente\n",
    "facSobrevivente = fiSobrevivente.cumsum()\n",
    "facSobrevivente"
   ]
  },
  {
   "cell_type": "code",
   "execution_count": null,
   "metadata": {},
   "outputs": [],
   "source": [
    "# Construindo a Tabela de Distribuição de Frequências\n",
    "\n",
    "# Criando uma nova coluna\n",
    "df2[\"Fac\"] = round(facSobrevivente,2)\n",
    "df2"
   ]
  },
  {
   "cell_type": "code",
   "execution_count": null,
   "metadata": {},
   "outputs": [],
   "source": [
    "# Frequência relativa acumulada da variável Sobrevivente\n",
    "fracSobrevivente = (facSobrevivente / df.Sobrevivente.count())*100\n",
    "fracSobrevivente"
   ]
  },
  {
   "cell_type": "code",
   "execution_count": null,
   "metadata": {},
   "outputs": [],
   "source": [
    "# Criando uma nova coluna\n",
    "df2[\"Frac %\"] = round(fracSobrevivente,2)\n",
    "df2"
   ]
  },
  {
   "cell_type": "markdown",
   "metadata": {},
   "source": [
    "### Tabela de Distribuição de Frequências"
   ]
  },
  {
   "cell_type": "code",
   "execution_count": null,
   "metadata": {},
   "outputs": [],
   "source": [
    "# Reiniciando o índice da DataFrame\n",
    "df3 = df2.reset_index()\n",
    "df3.columns = [\"Sobrevivente\", \"Fi\", \"Fri %\", \"Fac\", \"Frac %\"]\n",
    "df3"
   ]
  }
 ],
 "metadata": {
  "kernelspec": {
   "display_name": "Python 3",
   "language": "python",
   "name": "python3"
  },
  "language_info": {
   "codemirror_mode": {
    "name": "ipython",
    "version": 3
   },
   "file_extension": ".py",
   "mimetype": "text/x-python",
   "name": "python",
   "nbconvert_exporter": "python",
   "pygments_lexer": "ipython3",
   "version": "3.8.5"
  }
 },
 "nbformat": 4,
 "nbformat_minor": 4
}
