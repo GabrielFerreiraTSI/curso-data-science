{
 "cells": [
  {
   "cell_type": "markdown",
   "id": "69753849-3555-4b6f-b4c3-5681fd2a7eb2",
   "metadata": {},
   "source": [
    "##### 5.3.2.2 Encoding com o Scikit-Learn"
   ]
  },
  {
   "cell_type": "code",
   "execution_count": null,
   "id": "d3571c5c-372f-42f2-bc6e-6aedbf0c6022",
   "metadata": {},
   "outputs": [],
   "source": [
    "from sklearn.preprocessing import LabelEncoder, OneHotEncoder"
   ]
  },
  {
   "cell_type": "code",
   "execution_count": null,
   "id": "32db0f9a-a714-4cda-858b-f2a0209d613a",
   "metadata": {},
   "outputs": [],
   "source": [
    "# Definir manualmente as variáveis que serão convertidas de texto para número\n",
    "# NÃO EXECUTAR A PRÓXIMA CÉLULA, caso esta seja executada\n",
    "variaveisCategoricas = ['Estado civil e sexo', 'Emprego', 'Moradia', 'Investimentos',\n",
    "                       'Status conta corrente', 'Proposito', 'Idade_Agrup',\n",
    "                       'Montante de credito_Agrup']"
   ]
  },
  {
   "cell_type": "code",
   "execution_count": null,
   "id": "389db418-1242-4dbb-93a1-761682372204",
   "metadata": {},
   "outputs": [],
   "source": [
    "# Definir de forma automatizada as variáveis que serão convertidas de texto para número\n",
    "# NÃO EXECUTAR A CÉLULA ANTERIOR, caso esta seja executada\n",
    "variaveisCategoricas = []\n",
    "for k in df2.columns[0:9]:\n",
    "    if df2[k].dtype == object:\n",
    "        variaveisCategoricas.append(k)\n",
    "\n",
    "variaveisCategoricas"
   ]
  },
  {
   "cell_type": "code",
   "execution_count": null,
   "id": "d50f5fae-570e-4be5-9806-70ec3d53442b",
   "metadata": {},
   "outputs": [],
   "source": [
    "# Convertendo variáveis categóricas em valores numéricos (variáveis dummies)\n",
    "encoder = OneHotEncoder()\n",
    "variaveis = df2[variaveisCategoricas]\n",
    "dadosCodificados = encoder.fit_transform(variaveis).toarray()\n",
    "dadosCodificados"
   ]
  },
  {
   "cell_type": "code",
   "execution_count": null,
   "id": "80ee890b-7674-4c51-8575-7b2b3a1e215b",
   "metadata": {},
   "outputs": [],
   "source": [
    "# Salvando as categorias criadas pelo Encoder\n",
    "nomeColunasCodificadas = []\n",
    "for i in encoder.get_feature_names_out():\n",
    "    nomeColunasCodificadas.append(i)\n",
    "nomeColunasCodificadas"
   ]
  },
  {
   "cell_type": "code",
   "execution_count": null,
   "id": "1ef175a8-603e-4aaa-af9f-4d8ee1ea1e8e",
   "metadata": {},
   "outputs": [],
   "source": [
    "# Criando um DataFrame com as categorias codificadas\n",
    "dfCodificados = pd.DataFrame(dadosCodificados, columns=nomeColunasCodificadas)\n",
    "dfCodificados"
   ]
  },
  {
   "cell_type": "code",
   "execution_count": null,
   "id": "02c87229-23a4-4965-92db-ddf6e9dd7b13",
   "metadata": {},
   "outputs": [],
   "source": [
    "# Fazendo uma cópia do dataframe\n",
    "df3 = dfCodificados.copy()"
   ]
  },
  {
   "cell_type": "code",
   "execution_count": null,
   "id": "599bbc64-5ec5-426a-b576-e3e65a695566",
   "metadata": {},
   "outputs": [],
   "source": [
    "# Organizando o DataFrame\n",
    "# Juntando as colunas numéricas com as variáveis dummies manualmente\n",
    "# NÃO EXECUTAR A PRÓXIMA CÉLULA, caso esta seja executada\n",
    "df3[\"variavel1\"] = df2[\"variavel1\"]\n",
    "df3[\"variavel2\"] = df2[\"variavel2\"]\n",
    "df3"
   ]
  },
  {
   "cell_type": "code",
   "execution_count": null,
   "id": "1ce3dc19-0aad-4fd5-a5f2-ea3a532afca0",
   "metadata": {},
   "outputs": [],
   "source": [
    "# Organizando o DataFrame\n",
    "# Juntando as colunas numéricas com as variáveis dummies de forma automatizada\n",
    "# NÃO EXECUTAR A CÉLULA ANTERIOR, caso esta seja executada\n",
    "\n",
    "# loop percorrendo as colunas\n",
    "for k in df2.columns[0:9]:\n",
    "    \n",
    "    # Verificando se os valores da coluna não são do tipo texto\n",
    "    if df2[k].dtype != object:\n",
    "        \n",
    "        # Criando uma nova coluna \n",
    "        df3[k] = df2[k]\n",
    "df3.head()"
   ]
  },
  {
   "cell_type": "code",
   "execution_count": null,
   "id": "ee1e8983-56f8-434a-ae98-25727113f2f7",
   "metadata": {},
   "outputs": [],
   "source": [
    "# Incluindo variável alvo ao df3\n",
    "df3[variavelAlvo] = df2[variavelAlvo]\n",
    "df3.head()"
   ]
  },
  {
   "cell_type": "code",
   "execution_count": null,
   "id": "c4da574c-3c68-4535-9295-cab3b8d5bb36",
   "metadata": {},
   "outputs": [],
   "source": []
  }
 ],
 "metadata": {
  "kernelspec": {
   "display_name": "Python 3 (ipykernel)",
   "language": "python",
   "name": "python3"
  },
  "language_info": {
   "codemirror_mode": {
    "name": "ipython",
    "version": 3
   },
   "file_extension": ".py",
   "mimetype": "text/x-python",
   "name": "python",
   "nbconvert_exporter": "python",
   "pygments_lexer": "ipython3",
   "version": "3.9.13"
  }
 },
 "nbformat": 4,
 "nbformat_minor": 5
}
