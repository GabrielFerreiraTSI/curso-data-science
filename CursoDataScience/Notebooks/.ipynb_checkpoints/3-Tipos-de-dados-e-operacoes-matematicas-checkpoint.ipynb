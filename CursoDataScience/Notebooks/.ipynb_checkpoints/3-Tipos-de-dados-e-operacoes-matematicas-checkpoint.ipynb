{
 "cells": [
  {
   "cell_type": "markdown",
   "metadata": {},
   "source": [
    "# <font color='blue'>Python Fundamentos - Tipos de dados e operações matemáticas</font>"
   ]
  },
  {
   "cell_type": "code",
   "execution_count": null,
   "metadata": {},
   "outputs": [],
   "source": [
    "# Versão da Linguagem Python\n",
    "from platform import python_version\n",
    "print('Versão da Linguagem Python Usada Neste Jupyter Notebook:', python_version())"
   ]
  },
  {
   "cell_type": "markdown",
   "metadata": {},
   "source": [
    "### Tipos de dados\n",
    "<details>\n",
    "    <summary>\n",
    "        <a class=\"btnfire small stroke\"><em class=\"fas fa-chevron-circle-down\"></em>&nbsp;&nbsp;Clique para mais detalhes</a>\n",
    "    </summary>\n",
    "    <br>\n",
    "\n",
    "Tipo de dado é o formato como o dado é armazenado na memória RAM do computador.<br>\n",
    "Alguns tipos de dados comuns incluem:<br>\n",
    "* números inteiros\n",
    "* números float\n",
    "* caracteres\n",
    "* matrizes\n",
    "* datas\n",
    "* booleanos\n",
    "    \n",
    "</details>"
   ]
  },
  {
   "cell_type": "markdown",
   "metadata": {},
   "source": [
    "### Variável\n",
    "<details>\n",
    "    <summary>\n",
    "        <a class=\"btnfire small stroke\"><em class=\"fas fa-chevron-circle-down\"></em>&nbsp;&nbsp;Clique para mais detalhes</a>\n",
    "    </summary>\n",
    "    <br>\n",
    "    \n",
    "Variável é um espaço na memória RAM do computador destinado a um dado que pode ser manipulado durante a execução do algoritmo.<br>\n",
    "</details>"
   ]
  },
  {
   "cell_type": "markdown",
   "metadata": {},
   "source": [
    "### Tipos de números\n",
    "<details>\n",
    "    <summary>\n",
    "        <a class=\"btnfire small stroke\"><em class=\"fas fa-chevron-circle-down\"></em>&nbsp;&nbsp;Clique para mais detalhes</a>\n",
    "    </summary>\n",
    "    <br>\n",
    "\n",
    "**int**: números inteiros positivos ou negativos. Ex.: 12 e -12 <br>\n",
    "**float**: números fracionários positivos ou negativos. Ex.: 12.5 e -12.5\n",
    "</details>"
   ]
  },
  {
   "cell_type": "code",
   "execution_count": null,
   "metadata": {},
   "outputs": [],
   "source": [
    "# A função **type** retorna o tipo de dado de uma variável\n",
    "a = 5\n",
    "type(a)"
   ]
  },
  {
   "cell_type": "code",
   "execution_count": null,
   "metadata": {},
   "outputs": [],
   "source": [
    "b = 5.0\n",
    "type(b)"
   ]
  },
  {
   "cell_type": "markdown",
   "metadata": {},
   "source": [
    "### Operadores matemáticos\n",
    "<details>\n",
    "    <summary>\n",
    "        <a class=\"btnfire small stroke\"><em class=\"fas fa-chevron-circle-down\"></em>&nbsp;&nbsp;Clique para mais detalhes</a>\n",
    "    </summary>\n",
    "    <br>\n",
    "    \n",
    "Caso tenha interesse em aprender mais sobre Markdown acesse o [site oficial](https://www.markdownguide.org/)\n",
    "    \n",
    "    \n",
    "| Operador | Descrição | Exemplo |\n",
    "| :-: | :-- | --- |\n",
    "| + | Soma | 2 + 2 -> 4 |\n",
    "| - | Subtração | 8 - 2 -> 6|\n",
    "| * | Multiplicação | 5 * 3 -> 15|\n",
    "| / | Divisão | 10 / 2 -> 5|\n",
    "| % | Módulo | 5 % 2 -> 1|\n",
    "| ** | Potência | 8 ** 2 -> 64|\n",
    "</details>\n"
   ]
  },
  {
   "cell_type": "code",
   "execution_count": null,
   "metadata": {},
   "outputs": [],
   "source": [
    "# Soma\n",
    "4 + 4"
   ]
  },
  {
   "cell_type": "code",
   "execution_count": null,
   "metadata": {},
   "outputs": [],
   "source": [
    "# Subtração\n",
    "4 - 3"
   ]
  },
  {
   "cell_type": "code",
   "execution_count": null,
   "metadata": {},
   "outputs": [],
   "source": [
    "# Multiplicação\n",
    "3 * 3"
   ]
  },
  {
   "cell_type": "code",
   "execution_count": null,
   "metadata": {},
   "outputs": [],
   "source": [
    "# Divisão\n",
    "# Observe que divisão de dois números inteiros resultou  em um número float\n",
    "3 / 2"
   ]
  },
  {
   "cell_type": "code",
   "execution_count": null,
   "metadata": {},
   "outputs": [],
   "source": [
    "# Potência\n",
    "4 ** 2  "
   ]
  },
  {
   "cell_type": "code",
   "execution_count": null,
   "metadata": {},
   "outputs": [],
   "source": [
    "# Módulo\n",
    "10 % 3  "
   ]
  },
  {
   "cell_type": "markdown",
   "metadata": {},
   "source": [
    "### Operadores Relacionais\n",
    "<details>\n",
    "    <summary>\n",
    "        <a class=\"btnfire small stroke\"><em class=\"fas fa-chevron-circle-down\"></em>&nbsp;&nbsp;Clique para mais detalhes</a>\n",
    "    </summary>\n",
    "    <br>\n",
    "\n",
    "| Operador | Descrição |\n",
    "| :-: | :-- |\n",
    "| == | Igualdade | \n",
    "| != | Desigualdade |\n",
    "| > | Maior que |\n",
    "| < | Menor que |\n",
    "| >= | Maior ou igual que |\n",
    "| <= | Menor ou igual que|\n",
    "</details>\n",
    "    "
   ]
  },
  {
   "cell_type": "code",
   "execution_count": null,
   "metadata": {},
   "outputs": [],
   "source": [
    "# Igualdade\n",
    "4 == 4"
   ]
  },
  {
   "cell_type": "code",
   "execution_count": null,
   "metadata": {},
   "outputs": [],
   "source": [
    "# Desigualdade\n",
    "\"Paz\" != \"Guerra\""
   ]
  },
  {
   "cell_type": "code",
   "execution_count": null,
   "metadata": {},
   "outputs": [],
   "source": [
    "# Maior que\n",
    "20 > 30"
   ]
  },
  {
   "cell_type": "code",
   "execution_count": null,
   "metadata": {},
   "outputs": [],
   "source": [
    "# Menor que\n",
    "20 < 30"
   ]
  },
  {
   "cell_type": "code",
   "execution_count": null,
   "metadata": {},
   "outputs": [],
   "source": [
    "# Maior ou igual que\n",
    "15 >= 32"
   ]
  },
  {
   "cell_type": "code",
   "execution_count": null,
   "metadata": {},
   "outputs": [],
   "source": [
    "# Menor ou igual que\n",
    "28 <= 28"
   ]
  },
  {
   "cell_type": "markdown",
   "metadata": {},
   "source": [
    "### Operações com números float"
   ]
  },
  {
   "cell_type": "code",
   "execution_count": null,
   "metadata": {},
   "outputs": [],
   "source": [
    "7.2 + 4.5"
   ]
  },
  {
   "cell_type": "code",
   "execution_count": null,
   "metadata": {},
   "outputs": [],
   "source": [
    "# Observe que soma de um número inteiro com um número float resultou em um número float\n",
    "3 + 3.0"
   ]
  },
  {
   "cell_type": "code",
   "execution_count": null,
   "metadata": {},
   "outputs": [],
   "source": [
    "7 + 7"
   ]
  },
  {
   "cell_type": "code",
   "execution_count": null,
   "metadata": {},
   "outputs": [],
   "source": [
    "# Resultado é um número float\n",
    "8 / 4"
   ]
  },
  {
   "cell_type": "code",
   "execution_count": null,
   "metadata": {},
   "outputs": [],
   "source": [
    "# Resultado é um número inteiro\n",
    "8 // 4"
   ]
  },
  {
   "cell_type": "code",
   "execution_count": null,
   "metadata": {},
   "outputs": [],
   "source": [
    "8 / 3.0"
   ]
  },
  {
   "cell_type": "code",
   "execution_count": null,
   "metadata": {},
   "outputs": [],
   "source": [
    "# Quando a divisão for por um número float o resultado sempre será float\n",
    "# Atenção a redução das casas decimais\n",
    "8 // 3.0"
   ]
  },
  {
   "cell_type": "markdown",
   "metadata": {},
   "source": [
    "### Funções Built-in\n",
    "<details>\n",
    "    <summary>\n",
    "        <a class=\"btnfire small stroke\"><em class=\"fas fa-chevron-circle-down\"></em>&nbsp;&nbsp;Clique para mais detalhes</a>\n",
    "    </summary>\n",
    "    <br>\n",
    "    \n",
    "[Built-in Functions](https://docs.python.org/3/library/functions.html)\n",
    "\n",
    "</details>\n"
   ]
  },
  {
   "cell_type": "markdown",
   "metadata": {},
   "source": [
    "### Conversão\n",
    "O nome da função indica qual o tipo de dados que você deseja obter"
   ]
  },
  {
   "cell_type": "code",
   "execution_count": null,
   "metadata": {},
   "outputs": [],
   "source": [
    "float(10)"
   ]
  },
  {
   "cell_type": "code",
   "execution_count": null,
   "metadata": {},
   "outputs": [],
   "source": [
    "int(15.0)"
   ]
  },
  {
   "cell_type": "code",
   "execution_count": null,
   "metadata": {},
   "outputs": [],
   "source": [
    "# A função int apenas exclui as casas decimais e NÃO faz arredondamento ou aproximação de valor.\n",
    "int(20.896854)"
   ]
  },
  {
   "cell_type": "markdown",
   "metadata": {},
   "source": [
    "### Hexadecimal e Binário"
   ]
  },
  {
   "cell_type": "code",
   "execution_count": null,
   "metadata": {},
   "outputs": [],
   "source": [
    "hex(89428)"
   ]
  },
  {
   "cell_type": "code",
   "execution_count": null,
   "metadata": {},
   "outputs": [],
   "source": [
    "bin(93)"
   ]
  },
  {
   "cell_type": "markdown",
   "metadata": {},
   "source": [
    "### Funções abs, round e pow"
   ]
  },
  {
   "cell_type": "code",
   "execution_count": null,
   "metadata": {},
   "outputs": [],
   "source": [
    "# Retorna o valor com arredondamento com duas casas decimais\n",
    "round(20.896854, 2)"
   ]
  },
  {
   "cell_type": "code",
   "execution_count": null,
   "metadata": {},
   "outputs": [],
   "source": [
    "# Retorna o valor com arredondamento SEM casas decimais\n",
    "round(20.896854)"
   ]
  },
  {
   "cell_type": "code",
   "execution_count": null,
   "metadata": {},
   "outputs": [],
   "source": [
    "# Retorna o valor absoluto\n",
    "abs(-69)"
   ]
  },
  {
   "cell_type": "code",
   "execution_count": null,
   "metadata": {},
   "outputs": [],
   "source": [
    "# Retorna o valor absoluto\n",
    "abs(69)"
   ]
  },
  {
   "cell_type": "code",
   "execution_count": null,
   "metadata": {},
   "outputs": [],
   "source": [
    "# Potência\n",
    "pow(3,3)"
   ]
  },
  {
   "cell_type": "markdown",
   "metadata": {},
   "source": [
    "# Exercícios"
   ]
  },
  {
   "cell_type": "markdown",
   "metadata": {},
   "source": [
    "1 - No zoológico de uma cidade, viviam 30 papagaios, 18 calopsitas, e 25 periquitos. No sábado pela manhã fugiram 3 papagaios, 2 calopsitas e 6 periquitos. Quantos pássaros viviam nesse zoológico antes da fuga? Você consegue calcular quantos pássaros ficaram no zoológico depois da fuga?"
   ]
  },
  {
   "cell_type": "markdown",
   "metadata": {},
   "source": [
    "2 - Kira está desmanchando uma blusa para pegar linha azul. De cada centímetro (cm) da blusa, Kira consegue 231 cm de linha. Ela desmanchou 7 cm da blusa. Quantos centímetros de linha Kira conseguiu?"
   ]
  },
  {
   "cell_type": "markdown",
   "metadata": {},
   "source": [
    "3 - Calcule o valor da expressão 20x<sup>3</sup> + 2x<sup>2</sup>y<sup>5</sup>, para x = - 4 e y = 2\n"
   ]
  },
  {
   "cell_type": "markdown",
   "metadata": {},
   "source": [
    "# Respostas"
   ]
  },
  {
   "cell_type": "markdown",
   "metadata": {},
   "source": [
    "Proposta de resposta para o exercício 1. <br>\n",
    "É uma proposta, pois, em programação, os problemas podem ser resolvidos de diversas maneiras."
   ]
  },
  {
   "cell_type": "code",
   "execution_count": 1,
   "metadata": {},
   "outputs": [],
   "source": [
    "# Atribuição de variáveis\n",
    "papagaios = 30\n",
    "calopsitas = 18\n",
    "periquitos = 25\n",
    "papagaiosFugitivos = 3\n",
    "calopsitasFugitivas = 2\n",
    "periquitosFugitivos = 6"
   ]
  },
  {
   "cell_type": "code",
   "execution_count": 2,
   "metadata": {},
   "outputs": [
    {
     "name": "stdout",
     "output_type": "stream",
     "text": [
      "O total de passáros que viviam no zoológico antes da fuga era:  73\n"
     ]
    }
   ],
   "source": [
    "# Quantos pássaros viviam nesse zoológico antes da fuga? \n",
    "\n",
    "totalDePassaros = papagaios + calopsitas + periquitos\n",
    "\n",
    "print(\"O total de passáros que viviam no zoológico antes da fuga era: \", totalDePassaros)"
   ]
  },
  {
   "cell_type": "code",
   "execution_count": 4,
   "metadata": {},
   "outputs": [
    {
     "name": "stdout",
     "output_type": "stream",
     "text": [
      "O total de pássaros que ficaram no zoológico depois da fuga é de:  62\n"
     ]
    }
   ],
   "source": [
    "# Você consegue calcular quantos pássaros ficaram no zoológico depois da fuga?\n",
    "\n",
    "totalDePassarosFugitivos = papagaiosFugitivos + calopsitasFugitivas + periquitosFugitivos\n",
    "totalDePassarosRestantes = totalDePassaros - totalDePassarosFugitivos\n",
    "\n",
    "print(\"O total de pássaros que ficaram no zoológico depois da fuga é de: \", totalDePassarosRestantes)"
   ]
  },
  {
   "cell_type": "markdown",
   "metadata": {},
   "source": [
    "Proposta de resposta para o exercício 2. <br>\n",
    "É uma proposta, pois, em programação, os problemas podem ser resolvidos de diversas maneiras."
   ]
  },
  {
   "cell_type": "code",
   "execution_count": 5,
   "metadata": {},
   "outputs": [],
   "source": [
    "# Atribuição de variáveis\n",
    "rendimento = 231\n",
    "desmanche = 7"
   ]
  },
  {
   "cell_type": "code",
   "execution_count": 6,
   "metadata": {},
   "outputs": [
    {
     "name": "stdout",
     "output_type": "stream",
     "text": [
      "Kira conseguiu 1617 cm de linha\n"
     ]
    }
   ],
   "source": [
    "# Quantos centímetros de linha Kira conseguiu?\n",
    "\n",
    "totalDeRendimento = rendimento * desmanche\n",
    "\n",
    "print(\"Kira conseguiu %d cm de linha\" %totalDeRendimento)"
   ]
  },
  {
   "cell_type": "markdown",
   "metadata": {},
   "source": [
    "Proposta de resposta para o exercício 3. <br>\n",
    "É uma proposta, pois, em programação, os problemas podem ser resolvidos de diversas maneiras."
   ]
  },
  {
   "cell_type": "code",
   "execution_count": 11,
   "metadata": {},
   "outputs": [],
   "source": [
    "# Declaração de variáveis\n",
    "\n",
    "x = -4\n",
    "y = 2"
   ]
  },
  {
   "cell_type": "code",
   "execution_count": 12,
   "metadata": {},
   "outputs": [
    {
     "name": "stdout",
     "output_type": "stream",
     "text": [
      "O resultado da expressão é  -256\n"
     ]
    }
   ],
   "source": [
    "# Cálculo\n",
    "\n",
    "resultado = 20 * (x ** 3) + 2 * (x ** 2) * (y ** 5)\n",
    "\n",
    "print(\"O resultado da expressão é \", resultado)"
   ]
  },
  {
   "cell_type": "code",
   "execution_count": null,
   "metadata": {},
   "outputs": [],
   "source": []
  }
 ],
 "metadata": {
  "anaconda-cloud": {},
  "kernelspec": {
   "display_name": "Python 3",
   "language": "python",
   "name": "python3"
  },
  "language_info": {
   "codemirror_mode": {
    "name": "ipython",
    "version": 3
   },
   "file_extension": ".py",
   "mimetype": "text/x-python",
   "name": "python",
   "nbconvert_exporter": "python",
   "pygments_lexer": "ipython3",
   "version": "3.8.5"
  }
 },
 "nbformat": 4,
 "nbformat_minor": 4
}
