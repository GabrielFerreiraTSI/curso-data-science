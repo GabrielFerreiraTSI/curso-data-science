{
 "cells": [
  {
   "cell_type": "markdown",
   "metadata": {},
   "source": [
    "# <font color='blue'>Churn in Telecom's Dataset</font>"
   ]
  },
  {
   "cell_type": "code",
   "execution_count": 1,
   "metadata": {},
   "outputs": [
    {
     "name": "stdout",
     "output_type": "stream",
     "text": [
      "Python Version: 3.9.13\n",
      "Pandas Version: 2.0.2\n",
      "Matplotlib Version: 3.7.1\n",
      "Sklearn Version: 1.2.2\n"
     ]
    }
   ],
   "source": [
    "# Versão da Linguagem Python\n",
    "from platform import python_version\n",
    "print('Python Version:', python_version())\n",
    "\n",
    "# Verificando as versões dos pacotes instalados\n",
    "pandasVersion = !pip show pandas\n",
    "matplotlibVersion = !pip show matplotlib\n",
    "sklearnVersion = !pip show scikit-learn\n",
    "print('Pandas', pandasVersion[1])\n",
    "print(\"Matplotlib\", matplotlibVersion[1])\n",
    "print(\"Sklearn\", sklearnVersion[1])"
   ]
  },
  {
   "cell_type": "markdown",
   "metadata": {},
   "source": [
    "## 1 - Definição do Problema de Negócio\n",
    "<details>\n",
    "    <summary>\n",
    "        <a class=\"btnfire small stroke\"><em class=\"fas fa-chevron-circle-down\"></em>&nbsp;&nbsp;Clique para mais detalhes</a>\n",
    "    </summary>\n",
    "    <br>\n",
    "\n",
    "**Customer Churn** ou Rotatividade de Clientes, em uma tradução livre para o português é um termo utilizado para caracterizar a decisão tomada pelo cliente de cancelar o contrato com a empresa. Por essa razão, está diretamente relacionado com a perda de clientes. <br>\n",
    "Customer Churn é uma taxa que indica o quanto uma determinada empresa perdeu de clientes. Para calcular o churn, basta dividir a quantidade de clientes que perdeu em certo período pelo total de clientes que permaneceram ativos. Por exemplo, se a empresa perdeu 10 clientes de 100, a churn rate é de 10%.<br>\n",
    "Portanto, entender por que os clientes abandonam o produto ou serviço é vital para conquistar o crescimento da empresa. Como o Churn tem um efeito negativo na receita de uma empresa, entender o que é esse indicador e como trabalhar para mitigar essa métrica é algo crítico para o sucesso de muitos negócios. <br>\n",
    "O conjunto de dados possui 20 variáveis preditoras. A coluna **Churn** é a variável alvo e possui valores booleanos, onde o valor False indica que o cliente não abandonou a empresa e o valor True indica que houve abandono. Sendo assim, estamos diante de um problema de classificação binária.<br><br>\n",
    "Endereço do conjunto de dados: https://www.kaggle.com/datasets/becksddf/churn-in-telecoms-dataset <br>\n",
    "\n",
    "\n",
    "</details>"
   ]
  },
  {
   "cell_type": "markdown",
   "metadata": {
    "tags": []
   },
   "source": [
    "## 2 - Coletando os dados"
   ]
  },
  {
   "cell_type": "markdown",
   "metadata": {},
   "source": [
    "#### 2.1 - Importando as bibliotecas"
   ]
  },
  {
   "cell_type": "code",
   "execution_count": 2,
   "metadata": {},
   "outputs": [],
   "source": [
    "# Manipulação e exploração do conjunto de dados\n",
    "import pandas as pd\n",
    "import numpy as np\n",
    "\n",
    "# Cálculos matemáticos\n",
    "import math\n",
    "\n",
    "# Plotagem de gráficos\n",
    "import seaborn as sns\n",
    "import matplotlib.pyplot as plt\n",
    "\n",
    "# Imputação de valores nulos\n",
    "from sklearn.impute import SimpleImputer\n",
    "\n",
    "# Converter variáveis categóricas em números\n",
    "from sklearn.preprocessing import LabelEncoder, OneHotEncoder\n",
    "\n",
    "# Balanceamento de classes\n",
    "from imblearn.over_sampling import SMOTE\n",
    "from imblearn.under_sampling import RandomUnderSampler \n",
    "\n",
    "# Seleção de variáveis\n",
    "from sklearn.feature_selection import RFE, SelectKBest\n",
    "\n",
    "# Pré-processamento dos dados\n",
    "from sklearn.preprocessing import MinMaxScaler, StandardScaler\n",
    "\n",
    "# Dividir dados de treino e teste\n",
    "from sklearn.model_selection import train_test_split\n",
    "\n",
    "# Buscar os melhores parâmetros que serão utilizados nos modelos preditivos\n",
    "from sklearn.model_selection import RandomizedSearchCV\n",
    "\n",
    "# Algoritmos de classificação\n",
    "from sklearn.linear_model import LogisticRegression\n",
    "from sklearn.discriminant_analysis import LinearDiscriminantAnalysis\n",
    "from sklearn.neighbors import KNeighborsClassifier\n",
    "from sklearn.naive_bayes import GaussianNB\n",
    "from sklearn.tree import DecisionTreeClassifier\n",
    "from sklearn.svm import SVC\n",
    "from sklearn.ensemble import RandomForestClassifier\n",
    "from sklearn.tree import ExtraTreeClassifier\n",
    "from sklearn.ensemble import BaggingClassifier\n",
    "from sklearn.ensemble import AdaBoostClassifier\n",
    "from sklearn.ensemble import VotingClassifier\n",
    "from sklearn.ensemble import GradientBoostingClassifier\n",
    "from xgboost import XGBClassifier\n",
    "\n",
    "# Métricas de avaliação dos modelos preditivos\n",
    "from sklearn.metrics import accuracy_score, confusion_matrix, ConfusionMatrixDisplay\n",
    "\n",
    "# Carregar e salvar objetos Python em arquivos no disco\n",
    "import pickle\n",
    "\n",
    "# Esse módulo ignara os avisos\n",
    "import warnings\n",
    "warnings.filterwarnings(\"ignore\")"
   ]
  },
  {
   "cell_type": "markdown",
   "metadata": {},
   "source": [
    "#### 2.2 - Carregando os dados"
   ]
  },
  {
   "cell_type": "code",
   "execution_count": 3,
   "metadata": {},
   "outputs": [
    {
     "data": {
      "text/html": [
       "<div>\n",
       "<style scoped>\n",
       "    .dataframe tbody tr th:only-of-type {\n",
       "        vertical-align: middle;\n",
       "    }\n",
       "\n",
       "    .dataframe tbody tr th {\n",
       "        vertical-align: top;\n",
       "    }\n",
       "\n",
       "    .dataframe thead th {\n",
       "        text-align: right;\n",
       "    }\n",
       "</style>\n",
       "<table border=\"1\" class=\"dataframe\">\n",
       "  <thead>\n",
       "    <tr style=\"text-align: right;\">\n",
       "      <th></th>\n",
       "      <th>state</th>\n",
       "      <th>account length</th>\n",
       "      <th>area code</th>\n",
       "      <th>phone number</th>\n",
       "      <th>international plan</th>\n",
       "      <th>voice mail plan</th>\n",
       "      <th>number vmail messages</th>\n",
       "      <th>total day minutes</th>\n",
       "      <th>total day calls</th>\n",
       "      <th>total day charge</th>\n",
       "      <th>...</th>\n",
       "      <th>total eve calls</th>\n",
       "      <th>total eve charge</th>\n",
       "      <th>total night minutes</th>\n",
       "      <th>total night calls</th>\n",
       "      <th>total night charge</th>\n",
       "      <th>total intl minutes</th>\n",
       "      <th>total intl calls</th>\n",
       "      <th>total intl charge</th>\n",
       "      <th>customer service calls</th>\n",
       "      <th>churn</th>\n",
       "    </tr>\n",
       "  </thead>\n",
       "  <tbody>\n",
       "    <tr>\n",
       "      <th>0</th>\n",
       "      <td>KS</td>\n",
       "      <td>128</td>\n",
       "      <td>415</td>\n",
       "      <td>382-4657</td>\n",
       "      <td>no</td>\n",
       "      <td>yes</td>\n",
       "      <td>25</td>\n",
       "      <td>265.1</td>\n",
       "      <td>110</td>\n",
       "      <td>45.07</td>\n",
       "      <td>...</td>\n",
       "      <td>99</td>\n",
       "      <td>16.78</td>\n",
       "      <td>244.7</td>\n",
       "      <td>91</td>\n",
       "      <td>11.01</td>\n",
       "      <td>10.0</td>\n",
       "      <td>3</td>\n",
       "      <td>2.70</td>\n",
       "      <td>1</td>\n",
       "      <td>False</td>\n",
       "    </tr>\n",
       "    <tr>\n",
       "      <th>1</th>\n",
       "      <td>OH</td>\n",
       "      <td>107</td>\n",
       "      <td>415</td>\n",
       "      <td>371-7191</td>\n",
       "      <td>no</td>\n",
       "      <td>yes</td>\n",
       "      <td>26</td>\n",
       "      <td>161.6</td>\n",
       "      <td>123</td>\n",
       "      <td>27.47</td>\n",
       "      <td>...</td>\n",
       "      <td>103</td>\n",
       "      <td>16.62</td>\n",
       "      <td>254.4</td>\n",
       "      <td>103</td>\n",
       "      <td>11.45</td>\n",
       "      <td>13.7</td>\n",
       "      <td>3</td>\n",
       "      <td>3.70</td>\n",
       "      <td>1</td>\n",
       "      <td>False</td>\n",
       "    </tr>\n",
       "    <tr>\n",
       "      <th>2</th>\n",
       "      <td>NJ</td>\n",
       "      <td>137</td>\n",
       "      <td>415</td>\n",
       "      <td>358-1921</td>\n",
       "      <td>no</td>\n",
       "      <td>no</td>\n",
       "      <td>0</td>\n",
       "      <td>243.4</td>\n",
       "      <td>114</td>\n",
       "      <td>41.38</td>\n",
       "      <td>...</td>\n",
       "      <td>110</td>\n",
       "      <td>10.30</td>\n",
       "      <td>162.6</td>\n",
       "      <td>104</td>\n",
       "      <td>7.32</td>\n",
       "      <td>12.2</td>\n",
       "      <td>5</td>\n",
       "      <td>3.29</td>\n",
       "      <td>0</td>\n",
       "      <td>False</td>\n",
       "    </tr>\n",
       "    <tr>\n",
       "      <th>3</th>\n",
       "      <td>OH</td>\n",
       "      <td>84</td>\n",
       "      <td>408</td>\n",
       "      <td>375-9999</td>\n",
       "      <td>yes</td>\n",
       "      <td>no</td>\n",
       "      <td>0</td>\n",
       "      <td>299.4</td>\n",
       "      <td>71</td>\n",
       "      <td>50.90</td>\n",
       "      <td>...</td>\n",
       "      <td>88</td>\n",
       "      <td>5.26</td>\n",
       "      <td>196.9</td>\n",
       "      <td>89</td>\n",
       "      <td>8.86</td>\n",
       "      <td>6.6</td>\n",
       "      <td>7</td>\n",
       "      <td>1.78</td>\n",
       "      <td>2</td>\n",
       "      <td>False</td>\n",
       "    </tr>\n",
       "    <tr>\n",
       "      <th>4</th>\n",
       "      <td>OK</td>\n",
       "      <td>75</td>\n",
       "      <td>415</td>\n",
       "      <td>330-6626</td>\n",
       "      <td>yes</td>\n",
       "      <td>no</td>\n",
       "      <td>0</td>\n",
       "      <td>166.7</td>\n",
       "      <td>113</td>\n",
       "      <td>28.34</td>\n",
       "      <td>...</td>\n",
       "      <td>122</td>\n",
       "      <td>12.61</td>\n",
       "      <td>186.9</td>\n",
       "      <td>121</td>\n",
       "      <td>8.41</td>\n",
       "      <td>10.1</td>\n",
       "      <td>3</td>\n",
       "      <td>2.73</td>\n",
       "      <td>3</td>\n",
       "      <td>False</td>\n",
       "    </tr>\n",
       "    <tr>\n",
       "      <th>...</th>\n",
       "      <td>...</td>\n",
       "      <td>...</td>\n",
       "      <td>...</td>\n",
       "      <td>...</td>\n",
       "      <td>...</td>\n",
       "      <td>...</td>\n",
       "      <td>...</td>\n",
       "      <td>...</td>\n",
       "      <td>...</td>\n",
       "      <td>...</td>\n",
       "      <td>...</td>\n",
       "      <td>...</td>\n",
       "      <td>...</td>\n",
       "      <td>...</td>\n",
       "      <td>...</td>\n",
       "      <td>...</td>\n",
       "      <td>...</td>\n",
       "      <td>...</td>\n",
       "      <td>...</td>\n",
       "      <td>...</td>\n",
       "      <td>...</td>\n",
       "    </tr>\n",
       "    <tr>\n",
       "      <th>3328</th>\n",
       "      <td>AZ</td>\n",
       "      <td>192</td>\n",
       "      <td>415</td>\n",
       "      <td>414-4276</td>\n",
       "      <td>no</td>\n",
       "      <td>yes</td>\n",
       "      <td>36</td>\n",
       "      <td>156.2</td>\n",
       "      <td>77</td>\n",
       "      <td>26.55</td>\n",
       "      <td>...</td>\n",
       "      <td>126</td>\n",
       "      <td>18.32</td>\n",
       "      <td>279.1</td>\n",
       "      <td>83</td>\n",
       "      <td>12.56</td>\n",
       "      <td>9.9</td>\n",
       "      <td>6</td>\n",
       "      <td>2.67</td>\n",
       "      <td>2</td>\n",
       "      <td>False</td>\n",
       "    </tr>\n",
       "    <tr>\n",
       "      <th>3329</th>\n",
       "      <td>WV</td>\n",
       "      <td>68</td>\n",
       "      <td>415</td>\n",
       "      <td>370-3271</td>\n",
       "      <td>no</td>\n",
       "      <td>no</td>\n",
       "      <td>0</td>\n",
       "      <td>231.1</td>\n",
       "      <td>57</td>\n",
       "      <td>39.29</td>\n",
       "      <td>...</td>\n",
       "      <td>55</td>\n",
       "      <td>13.04</td>\n",
       "      <td>191.3</td>\n",
       "      <td>123</td>\n",
       "      <td>8.61</td>\n",
       "      <td>9.6</td>\n",
       "      <td>4</td>\n",
       "      <td>2.59</td>\n",
       "      <td>3</td>\n",
       "      <td>False</td>\n",
       "    </tr>\n",
       "    <tr>\n",
       "      <th>3330</th>\n",
       "      <td>RI</td>\n",
       "      <td>28</td>\n",
       "      <td>510</td>\n",
       "      <td>328-8230</td>\n",
       "      <td>no</td>\n",
       "      <td>no</td>\n",
       "      <td>0</td>\n",
       "      <td>180.8</td>\n",
       "      <td>109</td>\n",
       "      <td>30.74</td>\n",
       "      <td>...</td>\n",
       "      <td>58</td>\n",
       "      <td>24.55</td>\n",
       "      <td>191.9</td>\n",
       "      <td>91</td>\n",
       "      <td>8.64</td>\n",
       "      <td>14.1</td>\n",
       "      <td>6</td>\n",
       "      <td>3.81</td>\n",
       "      <td>2</td>\n",
       "      <td>False</td>\n",
       "    </tr>\n",
       "    <tr>\n",
       "      <th>3331</th>\n",
       "      <td>CT</td>\n",
       "      <td>184</td>\n",
       "      <td>510</td>\n",
       "      <td>364-6381</td>\n",
       "      <td>yes</td>\n",
       "      <td>no</td>\n",
       "      <td>0</td>\n",
       "      <td>213.8</td>\n",
       "      <td>105</td>\n",
       "      <td>36.35</td>\n",
       "      <td>...</td>\n",
       "      <td>84</td>\n",
       "      <td>13.57</td>\n",
       "      <td>139.2</td>\n",
       "      <td>137</td>\n",
       "      <td>6.26</td>\n",
       "      <td>5.0</td>\n",
       "      <td>10</td>\n",
       "      <td>1.35</td>\n",
       "      <td>2</td>\n",
       "      <td>False</td>\n",
       "    </tr>\n",
       "    <tr>\n",
       "      <th>3332</th>\n",
       "      <td>TN</td>\n",
       "      <td>74</td>\n",
       "      <td>415</td>\n",
       "      <td>400-4344</td>\n",
       "      <td>no</td>\n",
       "      <td>yes</td>\n",
       "      <td>25</td>\n",
       "      <td>234.4</td>\n",
       "      <td>113</td>\n",
       "      <td>39.85</td>\n",
       "      <td>...</td>\n",
       "      <td>82</td>\n",
       "      <td>22.60</td>\n",
       "      <td>241.4</td>\n",
       "      <td>77</td>\n",
       "      <td>10.86</td>\n",
       "      <td>13.7</td>\n",
       "      <td>4</td>\n",
       "      <td>3.70</td>\n",
       "      <td>0</td>\n",
       "      <td>False</td>\n",
       "    </tr>\n",
       "  </tbody>\n",
       "</table>\n",
       "<p>3333 rows × 21 columns</p>\n",
       "</div>"
      ],
      "text/plain": [
       "     state  account length  area code phone number international plan  \\\n",
       "0       KS             128        415     382-4657                 no   \n",
       "1       OH             107        415     371-7191                 no   \n",
       "2       NJ             137        415     358-1921                 no   \n",
       "3       OH              84        408     375-9999                yes   \n",
       "4       OK              75        415     330-6626                yes   \n",
       "...    ...             ...        ...          ...                ...   \n",
       "3328    AZ             192        415     414-4276                 no   \n",
       "3329    WV              68        415     370-3271                 no   \n",
       "3330    RI              28        510     328-8230                 no   \n",
       "3331    CT             184        510     364-6381                yes   \n",
       "3332    TN              74        415     400-4344                 no   \n",
       "\n",
       "     voice mail plan  number vmail messages  total day minutes  \\\n",
       "0                yes                     25              265.1   \n",
       "1                yes                     26              161.6   \n",
       "2                 no                      0              243.4   \n",
       "3                 no                      0              299.4   \n",
       "4                 no                      0              166.7   \n",
       "...              ...                    ...                ...   \n",
       "3328             yes                     36              156.2   \n",
       "3329              no                      0              231.1   \n",
       "3330              no                      0              180.8   \n",
       "3331              no                      0              213.8   \n",
       "3332             yes                     25              234.4   \n",
       "\n",
       "      total day calls  total day charge  ...  total eve calls  \\\n",
       "0                 110             45.07  ...               99   \n",
       "1                 123             27.47  ...              103   \n",
       "2                 114             41.38  ...              110   \n",
       "3                  71             50.90  ...               88   \n",
       "4                 113             28.34  ...              122   \n",
       "...               ...               ...  ...              ...   \n",
       "3328               77             26.55  ...              126   \n",
       "3329               57             39.29  ...               55   \n",
       "3330              109             30.74  ...               58   \n",
       "3331              105             36.35  ...               84   \n",
       "3332              113             39.85  ...               82   \n",
       "\n",
       "      total eve charge  total night minutes  total night calls  \\\n",
       "0                16.78                244.7                 91   \n",
       "1                16.62                254.4                103   \n",
       "2                10.30                162.6                104   \n",
       "3                 5.26                196.9                 89   \n",
       "4                12.61                186.9                121   \n",
       "...                ...                  ...                ...   \n",
       "3328             18.32                279.1                 83   \n",
       "3329             13.04                191.3                123   \n",
       "3330             24.55                191.9                 91   \n",
       "3331             13.57                139.2                137   \n",
       "3332             22.60                241.4                 77   \n",
       "\n",
       "      total night charge  total intl minutes  total intl calls  \\\n",
       "0                  11.01                10.0                 3   \n",
       "1                  11.45                13.7                 3   \n",
       "2                   7.32                12.2                 5   \n",
       "3                   8.86                 6.6                 7   \n",
       "4                   8.41                10.1                 3   \n",
       "...                  ...                 ...               ...   \n",
       "3328               12.56                 9.9                 6   \n",
       "3329                8.61                 9.6                 4   \n",
       "3330                8.64                14.1                 6   \n",
       "3331                6.26                 5.0                10   \n",
       "3332               10.86                13.7                 4   \n",
       "\n",
       "      total intl charge  customer service calls  churn  \n",
       "0                  2.70                       1  False  \n",
       "1                  3.70                       1  False  \n",
       "2                  3.29                       0  False  \n",
       "3                  1.78                       2  False  \n",
       "4                  2.73                       3  False  \n",
       "...                 ...                     ...    ...  \n",
       "3328               2.67                       2  False  \n",
       "3329               2.59                       3  False  \n",
       "3330               3.81                       2  False  \n",
       "3331               1.35                       2  False  \n",
       "3332               3.70                       0  False  \n",
       "\n",
       "[3333 rows x 21 columns]"
      ]
     },
     "execution_count": 3,
     "metadata": {},
     "output_type": "execute_result"
    }
   ],
   "source": [
    "# Coletando os dados \n",
    "df = pd.read_csv('Dados/Churn-in-Telecom/churn-in-telecom.csv')\n",
    "df"
   ]
  },
  {
   "cell_type": "code",
   "execution_count": 4,
   "metadata": {},
   "outputs": [
    {
     "data": {
      "text/html": [
       "<div>\n",
       "<style scoped>\n",
       "    .dataframe tbody tr th:only-of-type {\n",
       "        vertical-align: middle;\n",
       "    }\n",
       "\n",
       "    .dataframe tbody tr th {\n",
       "        vertical-align: top;\n",
       "    }\n",
       "\n",
       "    .dataframe thead th {\n",
       "        text-align: right;\n",
       "    }\n",
       "</style>\n",
       "<table border=\"1\" class=\"dataframe\">\n",
       "  <thead>\n",
       "    <tr style=\"text-align: right;\">\n",
       "      <th></th>\n",
       "      <th>Estado</th>\n",
       "      <th>Tamanho Conta</th>\n",
       "      <th>Cod area</th>\n",
       "      <th>Numero Telefone</th>\n",
       "      <th>Plano Internacional</th>\n",
       "      <th>Plano correio de voz</th>\n",
       "      <th>Numero mensagens vmail</th>\n",
       "      <th>Total minutos diarios</th>\n",
       "      <th>Total chamadas diarias</th>\n",
       "      <th>Total carga diaria</th>\n",
       "      <th>...</th>\n",
       "      <th>Total chamadas a tarde</th>\n",
       "      <th>Total carga a tarde</th>\n",
       "      <th>Total minutos a noite</th>\n",
       "      <th>Total chamadas a noite</th>\n",
       "      <th>Total carga a noite</th>\n",
       "      <th>Total minutos internacionais</th>\n",
       "      <th>Total chamadas internacionais</th>\n",
       "      <th>Total carga internacional</th>\n",
       "      <th>Numero chamadas atendimento ao cliente</th>\n",
       "      <th>rotatividade</th>\n",
       "    </tr>\n",
       "  </thead>\n",
       "  <tbody>\n",
       "    <tr>\n",
       "      <th>0</th>\n",
       "      <td>KS</td>\n",
       "      <td>128</td>\n",
       "      <td>415</td>\n",
       "      <td>382-4657</td>\n",
       "      <td>no</td>\n",
       "      <td>yes</td>\n",
       "      <td>25</td>\n",
       "      <td>265.1</td>\n",
       "      <td>110</td>\n",
       "      <td>45.07</td>\n",
       "      <td>...</td>\n",
       "      <td>99</td>\n",
       "      <td>16.78</td>\n",
       "      <td>244.7</td>\n",
       "      <td>91</td>\n",
       "      <td>11.01</td>\n",
       "      <td>10.0</td>\n",
       "      <td>3</td>\n",
       "      <td>2.70</td>\n",
       "      <td>1</td>\n",
       "      <td>False</td>\n",
       "    </tr>\n",
       "    <tr>\n",
       "      <th>1</th>\n",
       "      <td>OH</td>\n",
       "      <td>107</td>\n",
       "      <td>415</td>\n",
       "      <td>371-7191</td>\n",
       "      <td>no</td>\n",
       "      <td>yes</td>\n",
       "      <td>26</td>\n",
       "      <td>161.6</td>\n",
       "      <td>123</td>\n",
       "      <td>27.47</td>\n",
       "      <td>...</td>\n",
       "      <td>103</td>\n",
       "      <td>16.62</td>\n",
       "      <td>254.4</td>\n",
       "      <td>103</td>\n",
       "      <td>11.45</td>\n",
       "      <td>13.7</td>\n",
       "      <td>3</td>\n",
       "      <td>3.70</td>\n",
       "      <td>1</td>\n",
       "      <td>False</td>\n",
       "    </tr>\n",
       "    <tr>\n",
       "      <th>2</th>\n",
       "      <td>NJ</td>\n",
       "      <td>137</td>\n",
       "      <td>415</td>\n",
       "      <td>358-1921</td>\n",
       "      <td>no</td>\n",
       "      <td>no</td>\n",
       "      <td>0</td>\n",
       "      <td>243.4</td>\n",
       "      <td>114</td>\n",
       "      <td>41.38</td>\n",
       "      <td>...</td>\n",
       "      <td>110</td>\n",
       "      <td>10.30</td>\n",
       "      <td>162.6</td>\n",
       "      <td>104</td>\n",
       "      <td>7.32</td>\n",
       "      <td>12.2</td>\n",
       "      <td>5</td>\n",
       "      <td>3.29</td>\n",
       "      <td>0</td>\n",
       "      <td>False</td>\n",
       "    </tr>\n",
       "    <tr>\n",
       "      <th>3</th>\n",
       "      <td>OH</td>\n",
       "      <td>84</td>\n",
       "      <td>408</td>\n",
       "      <td>375-9999</td>\n",
       "      <td>yes</td>\n",
       "      <td>no</td>\n",
       "      <td>0</td>\n",
       "      <td>299.4</td>\n",
       "      <td>71</td>\n",
       "      <td>50.90</td>\n",
       "      <td>...</td>\n",
       "      <td>88</td>\n",
       "      <td>5.26</td>\n",
       "      <td>196.9</td>\n",
       "      <td>89</td>\n",
       "      <td>8.86</td>\n",
       "      <td>6.6</td>\n",
       "      <td>7</td>\n",
       "      <td>1.78</td>\n",
       "      <td>2</td>\n",
       "      <td>False</td>\n",
       "    </tr>\n",
       "    <tr>\n",
       "      <th>4</th>\n",
       "      <td>OK</td>\n",
       "      <td>75</td>\n",
       "      <td>415</td>\n",
       "      <td>330-6626</td>\n",
       "      <td>yes</td>\n",
       "      <td>no</td>\n",
       "      <td>0</td>\n",
       "      <td>166.7</td>\n",
       "      <td>113</td>\n",
       "      <td>28.34</td>\n",
       "      <td>...</td>\n",
       "      <td>122</td>\n",
       "      <td>12.61</td>\n",
       "      <td>186.9</td>\n",
       "      <td>121</td>\n",
       "      <td>8.41</td>\n",
       "      <td>10.1</td>\n",
       "      <td>3</td>\n",
       "      <td>2.73</td>\n",
       "      <td>3</td>\n",
       "      <td>False</td>\n",
       "    </tr>\n",
       "  </tbody>\n",
       "</table>\n",
       "<p>5 rows × 21 columns</p>\n",
       "</div>"
      ],
      "text/plain": [
       "  Estado  Tamanho Conta  Cod area Numero Telefone Plano Internacional  \\\n",
       "0     KS            128       415        382-4657                  no   \n",
       "1     OH            107       415        371-7191                  no   \n",
       "2     NJ            137       415        358-1921                  no   \n",
       "3     OH             84       408        375-9999                 yes   \n",
       "4     OK             75       415        330-6626                 yes   \n",
       "\n",
       "  Plano correio de voz  Numero mensagens vmail  Total minutos diarios  \\\n",
       "0                  yes                      25                  265.1   \n",
       "1                  yes                      26                  161.6   \n",
       "2                   no                       0                  243.4   \n",
       "3                   no                       0                  299.4   \n",
       "4                   no                       0                  166.7   \n",
       "\n",
       "   Total chamadas diarias  Total carga diaria  ...  Total chamadas a tarde  \\\n",
       "0                     110               45.07  ...                      99   \n",
       "1                     123               27.47  ...                     103   \n",
       "2                     114               41.38  ...                     110   \n",
       "3                      71               50.90  ...                      88   \n",
       "4                     113               28.34  ...                     122   \n",
       "\n",
       "   Total carga a tarde  Total minutos a noite  Total chamadas a noite  \\\n",
       "0                16.78                  244.7                      91   \n",
       "1                16.62                  254.4                     103   \n",
       "2                10.30                  162.6                     104   \n",
       "3                 5.26                  196.9                      89   \n",
       "4                12.61                  186.9                     121   \n",
       "\n",
       "   Total carga a noite  Total minutos internacionais  \\\n",
       "0                11.01                          10.0   \n",
       "1                11.45                          13.7   \n",
       "2                 7.32                          12.2   \n",
       "3                 8.86                           6.6   \n",
       "4                 8.41                          10.1   \n",
       "\n",
       "   Total chamadas internacionais  Total carga internacional  \\\n",
       "0                              3                       2.70   \n",
       "1                              3                       3.70   \n",
       "2                              5                       3.29   \n",
       "3                              7                       1.78   \n",
       "4                              3                       2.73   \n",
       "\n",
       "   Numero chamadas atendimento ao cliente  rotatividade  \n",
       "0                                       1         False  \n",
       "1                                       1         False  \n",
       "2                                       0         False  \n",
       "3                                       2         False  \n",
       "4                                       3         False  \n",
       "\n",
       "[5 rows x 21 columns]"
      ]
     },
     "execution_count": 4,
     "metadata": {},
     "output_type": "execute_result"
    }
   ],
   "source": [
    "# Preparando o dataframe\n",
    "colunas = [\"Estado\", \"Tamanho Conta\", \"Cod area\", \"Numero Telefone\", \"Plano Internacional\", \"Plano correio de voz\", \"Numero mensagens vmail\", \"Total minutos diarios\",\n",
    "           \"Total chamadas diarias\", \"Total carga diaria\", \"Total minutos a tarde\", \"Total chamadas a tarde\", \"Total carga a tarde\", \"Total minutos a noite\",\n",
    "           \"Total chamadas a noite\", \"Total carga a noite\", \"Total minutos internacionais\", \"Total chamadas internacionais\", \"Total carga internacional\", \n",
    "           \"Numero chamadas atendimento ao cliente\", \"rotatividade\"]\n",
    "variavelAlvo = \"rotatividade\"\n",
    "df.columns = colunas\n",
    "df.head()"
   ]
  },
  {
   "cell_type": "code",
   "execution_count": 5,
   "metadata": {},
   "outputs": [
    {
     "data": {
      "text/html": [
       "<div>\n",
       "<style scoped>\n",
       "    .dataframe tbody tr th:only-of-type {\n",
       "        vertical-align: middle;\n",
       "    }\n",
       "\n",
       "    .dataframe tbody tr th {\n",
       "        vertical-align: top;\n",
       "    }\n",
       "\n",
       "    .dataframe thead th {\n",
       "        text-align: right;\n",
       "    }\n",
       "</style>\n",
       "<table border=\"1\" class=\"dataframe\">\n",
       "  <thead>\n",
       "    <tr style=\"text-align: right;\">\n",
       "      <th></th>\n",
       "      <th>Estado</th>\n",
       "      <th>Tamanho Conta</th>\n",
       "      <th>Cod area</th>\n",
       "      <th>Plano Internacional</th>\n",
       "      <th>Plano correio de voz</th>\n",
       "      <th>Numero mensagens vmail</th>\n",
       "      <th>Total minutos diarios</th>\n",
       "      <th>Total chamadas diarias</th>\n",
       "      <th>Total carga diaria</th>\n",
       "      <th>Total minutos a tarde</th>\n",
       "      <th>Total chamadas a tarde</th>\n",
       "      <th>Total carga a tarde</th>\n",
       "      <th>Total minutos a noite</th>\n",
       "      <th>Total chamadas a noite</th>\n",
       "      <th>Total carga a noite</th>\n",
       "      <th>Total minutos internacionais</th>\n",
       "      <th>Total chamadas internacionais</th>\n",
       "      <th>Total carga internacional</th>\n",
       "      <th>Numero chamadas atendimento ao cliente</th>\n",
       "      <th>rotatividade</th>\n",
       "    </tr>\n",
       "  </thead>\n",
       "  <tbody>\n",
       "    <tr>\n",
       "      <th>0</th>\n",
       "      <td>KS</td>\n",
       "      <td>128</td>\n",
       "      <td>415</td>\n",
       "      <td>no</td>\n",
       "      <td>yes</td>\n",
       "      <td>25</td>\n",
       "      <td>265.1</td>\n",
       "      <td>110</td>\n",
       "      <td>45.07</td>\n",
       "      <td>197.4</td>\n",
       "      <td>99</td>\n",
       "      <td>16.78</td>\n",
       "      <td>244.7</td>\n",
       "      <td>91</td>\n",
       "      <td>11.01</td>\n",
       "      <td>10.0</td>\n",
       "      <td>3</td>\n",
       "      <td>2.70</td>\n",
       "      <td>1</td>\n",
       "      <td>False</td>\n",
       "    </tr>\n",
       "    <tr>\n",
       "      <th>1</th>\n",
       "      <td>OH</td>\n",
       "      <td>107</td>\n",
       "      <td>415</td>\n",
       "      <td>no</td>\n",
       "      <td>yes</td>\n",
       "      <td>26</td>\n",
       "      <td>161.6</td>\n",
       "      <td>123</td>\n",
       "      <td>27.47</td>\n",
       "      <td>195.5</td>\n",
       "      <td>103</td>\n",
       "      <td>16.62</td>\n",
       "      <td>254.4</td>\n",
       "      <td>103</td>\n",
       "      <td>11.45</td>\n",
       "      <td>13.7</td>\n",
       "      <td>3</td>\n",
       "      <td>3.70</td>\n",
       "      <td>1</td>\n",
       "      <td>False</td>\n",
       "    </tr>\n",
       "    <tr>\n",
       "      <th>2</th>\n",
       "      <td>NJ</td>\n",
       "      <td>137</td>\n",
       "      <td>415</td>\n",
       "      <td>no</td>\n",
       "      <td>no</td>\n",
       "      <td>0</td>\n",
       "      <td>243.4</td>\n",
       "      <td>114</td>\n",
       "      <td>41.38</td>\n",
       "      <td>121.2</td>\n",
       "      <td>110</td>\n",
       "      <td>10.30</td>\n",
       "      <td>162.6</td>\n",
       "      <td>104</td>\n",
       "      <td>7.32</td>\n",
       "      <td>12.2</td>\n",
       "      <td>5</td>\n",
       "      <td>3.29</td>\n",
       "      <td>0</td>\n",
       "      <td>False</td>\n",
       "    </tr>\n",
       "    <tr>\n",
       "      <th>3</th>\n",
       "      <td>OH</td>\n",
       "      <td>84</td>\n",
       "      <td>408</td>\n",
       "      <td>yes</td>\n",
       "      <td>no</td>\n",
       "      <td>0</td>\n",
       "      <td>299.4</td>\n",
       "      <td>71</td>\n",
       "      <td>50.90</td>\n",
       "      <td>61.9</td>\n",
       "      <td>88</td>\n",
       "      <td>5.26</td>\n",
       "      <td>196.9</td>\n",
       "      <td>89</td>\n",
       "      <td>8.86</td>\n",
       "      <td>6.6</td>\n",
       "      <td>7</td>\n",
       "      <td>1.78</td>\n",
       "      <td>2</td>\n",
       "      <td>False</td>\n",
       "    </tr>\n",
       "    <tr>\n",
       "      <th>4</th>\n",
       "      <td>OK</td>\n",
       "      <td>75</td>\n",
       "      <td>415</td>\n",
       "      <td>yes</td>\n",
       "      <td>no</td>\n",
       "      <td>0</td>\n",
       "      <td>166.7</td>\n",
       "      <td>113</td>\n",
       "      <td>28.34</td>\n",
       "      <td>148.3</td>\n",
       "      <td>122</td>\n",
       "      <td>12.61</td>\n",
       "      <td>186.9</td>\n",
       "      <td>121</td>\n",
       "      <td>8.41</td>\n",
       "      <td>10.1</td>\n",
       "      <td>3</td>\n",
       "      <td>2.73</td>\n",
       "      <td>3</td>\n",
       "      <td>False</td>\n",
       "    </tr>\n",
       "  </tbody>\n",
       "</table>\n",
       "</div>"
      ],
      "text/plain": [
       "  Estado  Tamanho Conta  Cod area Plano Internacional Plano correio de voz  \\\n",
       "0     KS            128       415                  no                  yes   \n",
       "1     OH            107       415                  no                  yes   \n",
       "2     NJ            137       415                  no                   no   \n",
       "3     OH             84       408                 yes                   no   \n",
       "4     OK             75       415                 yes                   no   \n",
       "\n",
       "   Numero mensagens vmail  Total minutos diarios  Total chamadas diarias  \\\n",
       "0                      25                  265.1                     110   \n",
       "1                      26                  161.6                     123   \n",
       "2                       0                  243.4                     114   \n",
       "3                       0                  299.4                      71   \n",
       "4                       0                  166.7                     113   \n",
       "\n",
       "   Total carga diaria  Total minutos a tarde  Total chamadas a tarde  \\\n",
       "0               45.07                  197.4                      99   \n",
       "1               27.47                  195.5                     103   \n",
       "2               41.38                  121.2                     110   \n",
       "3               50.90                   61.9                      88   \n",
       "4               28.34                  148.3                     122   \n",
       "\n",
       "   Total carga a tarde  Total minutos a noite  Total chamadas a noite  \\\n",
       "0                16.78                  244.7                      91   \n",
       "1                16.62                  254.4                     103   \n",
       "2                10.30                  162.6                     104   \n",
       "3                 5.26                  196.9                      89   \n",
       "4                12.61                  186.9                     121   \n",
       "\n",
       "   Total carga a noite  Total minutos internacionais  \\\n",
       "0                11.01                          10.0   \n",
       "1                11.45                          13.7   \n",
       "2                 7.32                          12.2   \n",
       "3                 8.86                           6.6   \n",
       "4                 8.41                          10.1   \n",
       "\n",
       "   Total chamadas internacionais  Total carga internacional  \\\n",
       "0                              3                       2.70   \n",
       "1                              3                       3.70   \n",
       "2                              5                       3.29   \n",
       "3                              7                       1.78   \n",
       "4                              3                       2.73   \n",
       "\n",
       "   Numero chamadas atendimento ao cliente  rotatividade  \n",
       "0                                       1         False  \n",
       "1                                       1         False  \n",
       "2                                       0         False  \n",
       "3                                       2         False  \n",
       "4                                       3         False  "
      ]
     },
     "execution_count": 5,
     "metadata": {},
     "output_type": "execute_result"
    }
   ],
   "source": [
    "# Excluindo a variavel Numero Telefone\n",
    "df.drop([\"Numero Telefone\"], axis=1, inplace = True)\n",
    "\n",
    "# Atualizando a variável colunas\n",
    "colunas = df.columns\n",
    "df.head()"
   ]
  },
  {
   "cell_type": "markdown",
   "metadata": {},
   "source": [
    "## 3 - Reservar linhas para validar o modelo"
   ]
  },
  {
   "cell_type": "code",
   "execution_count": null,
   "metadata": {},
   "outputs": [],
   "source": [
    "# Criando uma amostra do conjuto de dados\n",
    "# O parâmetro \"n\" define a quantidade de linhas da amostra\n",
    "dfValidacao = df.sample(n=2, random_state=30)\n",
    "dfValidacao"
   ]
  },
  {
   "cell_type": "code",
   "execution_count": null,
   "metadata": {},
   "outputs": [],
   "source": [
    "# Excluindo do DataFrame original as linhas que serão utilizadas para validar o modelo \n",
    "for k in dfValidacao.index:\n",
    "    df.drop([k], inplace = True)\n",
    "\n",
    "# É importante reiniciar os índices após a exclusão de linhas\n",
    "df.reset_index(inplace = True)\n",
    "df.head()"
   ]
  },
  {
   "cell_type": "code",
   "execution_count": null,
   "metadata": {},
   "outputs": [],
   "source": [
    "# Excluindo coluna\n",
    "df.drop([\"index\"], axis=1, inplace = True)\n",
    "df.head()"
   ]
  },
  {
   "cell_type": "markdown",
   "metadata": {},
   "source": [
    "## 4 - Explorando os dados"
   ]
  },
  {
   "cell_type": "markdown",
   "metadata": {},
   "source": [
    "#### 4.1 - Informações sobre o dataset"
   ]
  },
  {
   "cell_type": "code",
   "execution_count": null,
   "metadata": {},
   "outputs": [],
   "source": [
    "# Visualizando informações sobre o dataset\n",
    "df.info()"
   ]
  },
  {
   "cell_type": "code",
   "execution_count": null,
   "metadata": {},
   "outputs": [],
   "source": [
    "# Sumário estatístico\n",
    "df.describe()"
   ]
  },
  {
   "cell_type": "markdown",
   "metadata": {},
   "source": [
    "#### 4.2 Tratando valores nulos"
   ]
  },
  {
   "cell_type": "code",
   "execution_count": null,
   "metadata": {
    "jupyter": {
     "source_hidden": true
    },
    "tags": []
   },
   "outputs": [],
   "source": [
    "# Verificando a quantidade de valores nulos por coluna\n",
    "df.isnull().sum() "
   ]
  },
  {
   "cell_type": "code",
   "execution_count": null,
   "metadata": {
    "jupyter": {
     "source_hidden": true
    },
    "tags": []
   },
   "outputs": [],
   "source": [
    "# Cria o objeto do tipo SimpleImputer com a média como estratégia  \n",
    "imputeMedia = SimpleImputer(missing_values=np.nan, strategy= \"mean\")"
   ]
  },
  {
   "cell_type": "code",
   "execution_count": null,
   "metadata": {
    "jupyter": {
     "source_hidden": true
    },
    "tags": []
   },
   "outputs": [],
   "source": [
    "# Treina o objeto do tipo SimpleImputer, substitui os valores nulos pela média em cada coluna com valor NA\n",
    "for k in df.columns[0:9]:\n",
    "    \n",
    "    # Verifica se a coluna possui valores nulos e se os valores não são do tipo texto\n",
    "    if df2[k].isnull().sum() > 0 and df2[k].dtype != objetct:\n",
    "        \n",
    "        # Realiza a imputação nos dados nulos\n",
    "        df2[k] = imputeMedia.fit_transform(df2[k].values.reshape(-1,1))"
   ]
  },
  {
   "cell_type": "markdown",
   "metadata": {},
   "source": [
    "#### 4.3 - Tratando dados duplicados"
   ]
  },
  {
   "cell_type": "code",
   "execution_count": null,
   "metadata": {},
   "outputs": [],
   "source": [
    "# Verificando se existem dados duplicados.\n",
    "# Ocorrem dados duplicados quando uma linha inteira, é igual a outra\n",
    "df.duplicated().sum()"
   ]
  },
  {
   "cell_type": "code",
   "execution_count": null,
   "metadata": {
    "jupyter": {
     "source_hidden": true
    },
    "tags": []
   },
   "outputs": [],
   "source": [
    "# Excluindo as linhas duplicadas mantendo a primeira ocorrência da linha\n",
    "df.drop_duplicates(ignore_index=True, inplace = True)"
   ]
  },
  {
   "cell_type": "markdown",
   "metadata": {},
   "source": [
    "#### 4.4 - Tratando valores únicos"
   ]
  },
  {
   "cell_type": "code",
   "execution_count": null,
   "metadata": {},
   "outputs": [],
   "source": [
    "# Verificando a quantidade de valores únicos\n",
    "# Variáveis quantitativas com muitos valores únicos podem prejudicar o aprendizado de máquina\n",
    "df.nunique()"
   ]
  },
  {
   "cell_type": "markdown",
   "metadata": {},
   "source": [
    "##### 4.4.1 - Criando uma nova coluna com a variável Total minutos diarios agrupada"
   ]
  },
  {
   "cell_type": "code",
   "execution_count": null,
   "metadata": {
    "jupyter": {
     "source_hidden": true
    },
    "tags": []
   },
   "outputs": [],
   "source": [
    "# Indicando a variável que terá os valores agrupados\n",
    "variavelParaAgrupar = \"Total minutos diarios\"\n",
    "\n",
    "# Visualizando os agrupamentos\n",
    "np.histogram(df[variavelParaAgrupar], bins = 4)"
   ]
  },
  {
   "cell_type": "code",
   "execution_count": null,
   "metadata": {
    "jupyter": {
     "source_hidden": true
    },
    "tags": []
   },
   "outputs": [],
   "source": [
    "# Criando uma nova coluna com valores nulos\n",
    "df[variavelParaAgrupar + \"_Agrup\"] = np.nan\n",
    "\n",
    "# Criando os valores da nova coluna com base em uma outra coluna\n",
    "df.loc[(df[variavelParaAgrupar] >= 0) & (df[variavelParaAgrupar] < 88), variavelParaAgrupar + \"_Agrup\"] = 'Baixo'\n",
    "df.loc[(df[variavelParaAgrupar] >= 88) & (df[variavelParaAgrupar] < 175), variavelParaAgrupar + \"_Agrup\"] = 'Médio'\n",
    "df.loc[(df[variavelParaAgrupar] >= 175) & (df[variavelParaAgrupar] < 263), variavelParaAgrupar + \"_Agrup\"] = 'Alto'\n",
    "df.loc[df[variavelParaAgrupar] >= 263, variavelParaAgrupar + \"_Agrup\"] = 'Muito Alto' \n",
    "    \n",
    "df.head()"
   ]
  },
  {
   "cell_type": "markdown",
   "metadata": {},
   "source": [
    "##### 4.4.2 - Excluindo as colunas que tiveram os valores agrupados"
   ]
  },
  {
   "cell_type": "code",
   "execution_count": null,
   "metadata": {
    "jupyter": {
     "source_hidden": true
    },
    "tags": []
   },
   "outputs": [],
   "source": [
    "# Excluindo coluna\n",
    "df.drop([\"Total minutos diarios\"], axis=1, inplace = True)\n",
    "df.head()"
   ]
  },
  {
   "cell_type": "code",
   "execution_count": null,
   "metadata": {
    "jupyter": {
     "source_hidden": true
    },
    "tags": []
   },
   "outputs": [],
   "source": [
    "# Organizando o dataframe\n",
    "valoresVariavelAlvo = df[variavelAlvo]\n",
    "df.drop([variavelAlvo],  axis=1, inplace = True)\n",
    "\n",
    "# Atualizando a variável alvo\n",
    "df[variavelAlvo] = valoresVariavelAlvo\n",
    "df.columns"
   ]
  },
  {
   "cell_type": "markdown",
   "metadata": {},
   "source": [
    "#### 4.5 - Análise descritiva dos dados"
   ]
  },
  {
   "cell_type": "markdown",
   "metadata": {},
   "source": [
    "##### 4.5.1 - Parâmetros dos gráficos"
   ]
  },
  {
   "cell_type": "code",
   "execution_count": null,
   "metadata": {},
   "outputs": [],
   "source": [
    "# Define a paleta de cores\n",
    "sns.color_palette(\"pastel\")\n",
    "\n",
    "# Define o tema utilizado.\n",
    "sns.set_theme(style=\"darkgrid\") "
   ]
  },
  {
   "cell_type": "markdown",
   "metadata": {},
   "source": [
    "##### 4.5.2 - Funções para desenhar os gráficos"
   ]
  },
  {
   "cell_type": "markdown",
   "metadata": {},
   "source": [
    "###### a) Histograma"
   ]
  },
  {
   "cell_type": "code",
   "execution_count": null,
   "metadata": {},
   "outputs": [],
   "source": [
    "# Função para plotar um histograma\n",
    "def desenhaHistograma(coluna, variavelAnalisada):\n",
    "\n",
    "    # Calculando a quantidade de classes da variável analisada\n",
    "    n = coluna.count()\n",
    "    k = round(1+3.3*math.log10(n))\n",
    "   \n",
    "    # Calculando o intervalo de cada classe\n",
    "    frequencias, intervalos = np.histogram(coluna, bins = k)\n",
    "\n",
    "    # Desenhando o gráfico\n",
    "    fig = plt.subplots(figsize=(13, 6))\n",
    "    ax = sns.histplot(coluna, bins=k, kde=True)\n",
    "    ax.set_title(\"Histograma da variável \" + variavelAnalisada, fontsize = 16)\n",
    "    ax.set_xlabel(variavelAnalisada, fontsize = 12)\n",
    "    ax.set_ylabel(\"Frequência\", fontsize = 12)\n",
    "    ax.set_xticks(intervalos) \n",
    "    for barras in ax.containers:\n",
    "        ax.bar_label(barras)\n",
    "    plt.show()"
   ]
  },
  {
   "cell_type": "markdown",
   "metadata": {},
   "source": [
    "###### b) Boxplot"
   ]
  },
  {
   "cell_type": "code",
   "execution_count": null,
   "metadata": {},
   "outputs": [],
   "source": [
    "# Função para plotar um Boxplot\n",
    "def desenhaBoxplot(coluna, variavelAnalisada):\n",
    "    \n",
    "    # Desenhando o gráfico\n",
    "    fig = plt.subplots(figsize=(13, 6))\n",
    "    ax = sns.boxplot(data=coluna)\n",
    "    ax.set_title(\"Boxplot da variável \" + variavelAnalisada, fontsize = 16)\n",
    "    ax.set_xticklabels([variavelAnalisada]) # exibe o nome da variável\n",
    "    larguraBox = 0.63\n",
    "    i=0\n",
    "\n",
    "    # calcula o primeiro quartil (q1), o segundo (q2) e o terceiro quartil (q3)\n",
    "    q1, q2, q3 = coluna.quantile(0.25), coluna.quantile(0.5), coluna.quantile(0.75)\n",
    "    \n",
    "    # Lista com os quartis\n",
    "    quartis = [q1, q2, q3]\n",
    "\n",
    "    # Exibe os quartis no gráfico\n",
    "    for q in quartis:\n",
    "        x = i-larguraBox/2\n",
    "        y = q\n",
    "        ax.annotate('%.2f' % q, (x,y),\n",
    "                    xytext=(x-0.1, y), textcoords='data',\n",
    "                    va='center', ha='right')\n",
    "    plt.show()"
   ]
  },
  {
   "cell_type": "markdown",
   "metadata": {},
   "source": [
    "###### c) Boxplot agrupado"
   ]
  },
  {
   "cell_type": "code",
   "execution_count": null,
   "metadata": {},
   "outputs": [],
   "source": [
    "# Função para plotar um Boxplot Agrupado\n",
    "def desenhaBoxplotAgrupado(coluna, colunaAlvo, variavelAnalisada): \n",
    "    # Desenhando o gráfico\n",
    "    fig = plt.subplots(figsize=(13, 6))\n",
    "    ax = sns.boxplot(x=colunaAlvo, y=coluna, hue=colunaAlvo)\n",
    "    ax.set_title(\"Boxplot da variável \" + variavelAnalisada + \" de acordo com \"+ variavelAlvo, fontsize = 16)\n",
    "    ax.legend(loc=\"center left\",bbox_to_anchor=(1., 0., 0.5, 1.))\n",
    "    \n",
    "    larguraBox = 0.60\n",
    "    i=0\n",
    "    \n",
    "    # Exibe os quartis no gráfico\n",
    "    for nome, grupo in df.groupby(variavelAlvo):\n",
    "        # calcula o primeiro quartil (q1), o segundo (q2) e o terceiro quartil (q3)\n",
    "        q1, q2, q3 = grupo[variavelAnalisada].quantile(0.25), grupo[variavelAnalisada].quantile(0.5), grupo[variavelAnalisada].quantile(0.75)\n",
    "\n",
    "        # Lista com os quartis\n",
    "        quartis = [q1, q2, q3]\n",
    "\n",
    "        # Exibe os quartis no gráfico\n",
    "        for q in quartis:\n",
    "            x = i-larguraBox/2\n",
    "            y = q\n",
    "            ax.annotate('%.2f' % q, (x,y),\n",
    "                        xytext=(x-0.1, y), textcoords='data',\n",
    "                        va='center', ha='right')\n",
    "        i+=1.25\n",
    "    \n",
    "    plt.show()"
   ]
  },
  {
   "cell_type": "markdown",
   "metadata": {},
   "source": [
    "###### d) Gráfico de Pizza"
   ]
  },
  {
   "cell_type": "code",
   "execution_count": null,
   "metadata": {},
   "outputs": [],
   "source": [
    "# Função para plotar um gráfico de pizza\n",
    "def desenhaPizza(coluna, variavelAnalisada):\n",
    "    \n",
    "    # Calculando o percentual\n",
    "    percentuais = round((coluna.value_counts()/coluna.value_counts().sum())*100, 2)\n",
    "\n",
    "    # Nome das categorias\n",
    "    nomeDasCategorias = coluna.value_counts().index\n",
    "\n",
    "    # Desenhando o gráfico\n",
    "    fig, ax = plt.subplots(figsize=(13, 6))\n",
    "    ax.pie(percentuais, labels=nomeDasCategorias, autopct='%1.1f%%', shadow=True, startangle=90)\n",
    "    ax.set_title(\"Percentuais da variável \" + variavelAnalisada, fontsize = 16)\n",
    "    ax.legend(title=variavelAnalisada,loc=\"center left\",bbox_to_anchor=(1., 0., 0.5, 1.))\n",
    "    ax.axis('equal') # Garante que o gráfico seja desenhado no formato de círculo.\n",
    "    plt.show()"
   ]
  },
  {
   "cell_type": "markdown",
   "metadata": {},
   "source": [
    "###### e) Countplot"
   ]
  },
  {
   "cell_type": "code",
   "execution_count": null,
   "metadata": {},
   "outputs": [],
   "source": [
    "# Função para plotar um gráfico Countplot\n",
    "def desenhaCountPlot(coluna, variavelAnalisada):\n",
    "    \n",
    "    # Desenhando o gráfico\n",
    "    fig = plt.subplots()\n",
    "    ax = sns.countplot(x=coluna, order = coluna.value_counts().index)\n",
    "    ax.set_title(\"Frequência absoluta da variável \" + variavelAnalisada, fontsize = 16)\n",
    "    for barras in ax.containers:\n",
    "        ax.bar_label(barras)\n",
    "    plt.show()"
   ]
  },
  {
   "cell_type": "markdown",
   "metadata": {},
   "source": [
    "###### f) Scatter Plot"
   ]
  },
  {
   "cell_type": "code",
   "execution_count": null,
   "metadata": {},
   "outputs": [],
   "source": [
    "# Função para plotar um Scatter Plot\n",
    "def desenhaScatterPlot(colunaX, colunaY, variavelAnalisadaX, variavelAnalisadaY):\n",
    "    \n",
    "    # Cria o gráfico definido pelos valores do eixo x e do eixo y respectivamente.\n",
    "    fig = plt.subplots(figsize=(13, 6))\n",
    "    ax = sns.scatterplot(x=colunaX, y=colunaY) \n",
    "    ax.set_title(\"Relação da variável \" + variavelAnalisadaX + \" com a variável \" + variavelAnalisadaY, fontsize = 16)\n",
    "    ax.set_xlabel(variavelAnalisadaX, fontsize = 12)\n",
    "    ax.set_ylabel(variavelAnalisadaY, fontsize = 12)\n",
    "    plt.show()"
   ]
  },
  {
   "cell_type": "markdown",
   "metadata": {},
   "source": [
    "###### g) Matriz de Confusão"
   ]
  },
  {
   "cell_type": "code",
   "execution_count": null,
   "metadata": {},
   "outputs": [],
   "source": [
    "# Função para plotar uma matriz de confusão\n",
    "def desenhaMatrizConfusao(yDadosDeTeste, valoresPrevistos, modelo):\n",
    "    \n",
    "    # Criando a matriz de confusão\n",
    "    matrizDeConfusao = confusion_matrix(yDadosDeTeste, valoresPrevistos, labels=modelo.classes_)\n",
    "\n",
    "    # Plotando a matriz de confusão \n",
    "    ax = ConfusionMatrixDisplay(confusion_matrix=matrizDeConfusao, display_labels=df[variavelAlvo].unique())\n",
    "    ax.plot(cmap = \"Blues\")\n",
    "    plt.grid(False)\n",
    "    plt.show()"
   ]
  },
  {
   "cell_type": "markdown",
   "metadata": {},
   "source": [
    "###### h) Gráfico da tabela de classificação cruzada"
   ]
  },
  {
   "cell_type": "code",
   "execution_count": null,
   "metadata": {},
   "outputs": [],
   "source": [
    "def desenhaClassificacaoCruzada(coluna, variavelAnalisada):\n",
    "    \n",
    "    # Criando uma tabela de classificação cruzada das frequências absolutas.\n",
    "    ax = pd.crosstab(df[variavelAlvo], coluna, rownames=[variavelAlvo], colnames=[variavelAnalisada]).plot.bar()\n",
    "    ax.set_title(\"Frequência absoluta da variável \" + variavelAnalisada + \" de acordo com \" + variavelAlvo, fontsize = 16)\n",
    "    # Exibe os valores de cada coluna\n",
    "    for barras in ax.containers:\n",
    "        ax.bar_label(barras)\n",
    "    plt.xticks(rotation=0)\n",
    "    ax.legend(loc=\"center left\",bbox_to_anchor=(1., 0., 0.5, 1.))\n",
    "    plt.show()"
   ]
  },
  {
   "cell_type": "markdown",
   "metadata": {},
   "source": [
    "##### 4.5.3 Análise descritiva das variáveis quantitativas"
   ]
  },
  {
   "cell_type": "code",
   "execution_count": null,
   "metadata": {},
   "outputs": [],
   "source": [
    "# Loop que percorre todas as colunas\n",
    "# A notação de slicing [0:19] é para não incluir a variável alvo\n",
    "for k in df.columns[0:19]:\n",
    "    # Verifica se a coluna não possui valores do tipo texto\n",
    "    if df[k].dtypes != object:\n",
    "        \n",
    "        # Sumário estatístico\n",
    "        print(\"Resumo estatístico da variável \" + k + \"\\n\", df[k].describe())\n",
    "        \n",
    "        # Histograma\n",
    "        desenhaHistograma(df[k], k)\n",
    "        \n",
    "        # Boxplot\n",
    "        desenhaBoxplot(df[k], k)"
   ]
  },
  {
   "cell_type": "markdown",
   "metadata": {},
   "source": [
    "##### 4.5.4 Análise descritiva das variáveis Categóricas"
   ]
  },
  {
   "cell_type": "code",
   "execution_count": null,
   "metadata": {},
   "outputs": [],
   "source": [
    "# Loop que percorre todas as colunas\n",
    "for k in df.columns[0:19]:\n",
    "    # Verifica se a coluna possui valores do tipo texto\n",
    "    if df[k].dtypes == object:\n",
    "        \n",
    "        # Frequência absoluta \n",
    "        desenhaCountPlot(df[k], k)\n",
    "        \n",
    "        # Percentuais\n",
    "        desenhaPizza(df[k], k)       "
   ]
  },
  {
   "cell_type": "markdown",
   "metadata": {},
   "source": [
    "###### 4.5.4.1 Análise descritiva da variável alvo"
   ]
  },
  {
   "cell_type": "code",
   "execution_count": null,
   "metadata": {},
   "outputs": [],
   "source": [
    "# Frequência absoluta \n",
    "desenhaCountPlot(df[variavelAlvo], variavelAlvo)"
   ]
  },
  {
   "cell_type": "code",
   "execution_count": null,
   "metadata": {},
   "outputs": [],
   "source": [
    "# Percentuais\n",
    "desenhaPizza(df[variavelAlvo], variavelAlvo)"
   ]
  },
  {
   "cell_type": "markdown",
   "metadata": {},
   "source": [
    "##### 4.5.5 - Correlação entre as variáveis"
   ]
  },
  {
   "cell_type": "markdown",
   "metadata": {},
   "source": [
    "###### 4.5.5.1 - Matriz de correlação "
   ]
  },
  {
   "cell_type": "code",
   "execution_count": null,
   "metadata": {},
   "outputs": [],
   "source": [
    "# Cria uma lista vazia\n",
    "colunasQuantitativas = []\n",
    "\n",
    "# Seleciona as variáveis quantitativas\n",
    "for k in df.columns[0:19]:\n",
    "    # Verifica se a coluna não possui valores do tipo texto\n",
    "    if df[k].dtypes != object:\n",
    "        colunasQuantitativas.append(k)\n",
    "\n",
    "# Calculando a correlação \n",
    "correlacao = df[colunasQuantitativas].corr()\n",
    "\n",
    "# Criando uma máscara\n",
    "mascara = np.zeros_like(correlacao)\n",
    "\n",
    "# Selecionando a matriz triangular inferior da máscara.\n",
    "mascara[np.triu_indices_from(mascara)] = True\n",
    "\n",
    "# A notação de slicing [0:19] é para não incluir a variável alvo\n",
    "fig = plt.subplots(figsize=(13, 6))\n",
    "sns.heatmap(data = correlacao,\n",
    "            mask = mascara,\n",
    "            annot = True,\n",
    "            fmt = '.2f',\n",
    "            cmap='Blues',\n",
    "            )\n",
    "plt.title('Matriz de correlação', fontsize = 20)\n",
    "plt.show()"
   ]
  },
  {
   "cell_type": "markdown",
   "metadata": {},
   "source": [
    "###### 4.5.5.2 - Correlação entre a variável Total carga a tarde e a variável Total minutos a tarde"
   ]
  },
  {
   "cell_type": "code",
   "execution_count": null,
   "metadata": {},
   "outputs": [],
   "source": [
    "# ScatterPlot\n",
    "desenhaScatterPlot(df[\"Total carga a tarde\"], df[\"Total minutos a tarde\"], \"Total carga a tarde\",\"Total minutos a tarde\" )"
   ]
  },
  {
   "cell_type": "markdown",
   "metadata": {},
   "source": [
    "###### 4.5.5.3 - Analisar os dados setando a variável variavel alvo como índice"
   ]
  },
  {
   "cell_type": "markdown",
   "metadata": {},
   "source": [
    "###### a) Analisando as variáveis quantitativas de acordo com a variável alvo"
   ]
  },
  {
   "cell_type": "code",
   "execution_count": null,
   "metadata": {},
   "outputs": [],
   "source": [
    "for k in colunasQuantitativas:\n",
    "    # Desenhando o gráfico\n",
    "    ax = sns.barplot(x=df.rotatividade, y=df[k], hue=df.rotatividade, palette=\"winter_r\", ci=None)\n",
    "    ax.set_title(\"Média da variável \" + k + \" de acordo com a variável \" + variavelAlvo , fontsize = 16)\n",
    "    ax.legend(loc=\"center left\", bbox_to_anchor=(1., 0., 0.5, 1.)) # exibe a legenda\n",
    "    for barras in ax.containers:\n",
    "        ax.bar_label(barras)\n",
    "    plt.show()"
   ]
  },
  {
   "cell_type": "markdown",
   "metadata": {},
   "source": [
    "###### b) Analisando as variáveis categóricas de acordo com a variável alvo"
   ]
  },
  {
   "cell_type": "code",
   "execution_count": null,
   "metadata": {},
   "outputs": [],
   "source": [
    "# Loop que percorre todas as colunas\n",
    "# A notação de slicing [0:19] é para não incluir a variável alvo\n",
    "for k in df.columns[0:19]:\n",
    "    \n",
    "    # Verifica se a coluna possui valores do tipo texto\n",
    "    if df[k].dtype == object:\n",
    "        desenhaClassificacaoCruzada(df[k], k)"
   ]
  },
  {
   "cell_type": "markdown",
   "metadata": {},
   "source": [
    "## 5 - Transformando os dados"
   ]
  },
  {
   "cell_type": "code",
   "execution_count": null,
   "metadata": {},
   "outputs": [],
   "source": [
    "# Faz uma cópia do dataframe\n",
    "df2 = df.copy()"
   ]
  },
  {
   "cell_type": "markdown",
   "metadata": {},
   "source": [
    "### 5.1 Tratando valores iguais a zero"
   ]
  },
  {
   "cell_type": "code",
   "execution_count": null,
   "metadata": {},
   "outputs": [],
   "source": [
    "# Verificando as colunas que possuem valores iguais a zero\n",
    "# Loop que percorre todas as colunas\n",
    "# A notação de slicing [0:9] é para não incluir a variável alvo, porque apesar de ter números, a variável alvo é categórica\n",
    "for k in df2.columns[0:9]:\n",
    "    \n",
    "    # Verifica se os valores não são do tipo texto\n",
    "    if df2[k].dtype != object:\n",
    "        \n",
    "        # Imprime na tela a quantidade de valores iguais a zero existentes na coluna\n",
    "        print(k + \":\", len(df2[df2[k] == 0]))"
   ]
  },
  {
   "cell_type": "code",
   "execution_count": null,
   "metadata": {
    "jupyter": {
     "source_hidden": true
    },
    "tags": []
   },
   "outputs": [],
   "source": [
    "# Substituindo os valores iguais a zero\n",
    "# Cria uma lista com as colunas que terão os valores iguais a zero substituídos\n",
    "colunasComValoresZero = [\"Idade\", \"Montante de credito\", \"Duracao\"]\n",
    "\n",
    "# Loop que percorre todas as colunas\n",
    "for k in colunasComValoresZero:\n",
    "    \n",
    "    # Calcula o valor da mediana da coluna\n",
    "    mediana = df2[k].median()\n",
    "    \n",
    "    # Pesquisa as linhas com valores iguais a zero e atribui à variável linhasComValoresZero\n",
    "    linhasComValoresZero = df2[df2[k] == 0]\n",
    "    \n",
    "    # Loop que percorre as linhas com valores iguais a zero\n",
    "    for j in linhasComValoresZero.index:\n",
    "        \n",
    "        # Substitui a célula com valor outlier pela mediana\n",
    "        df2[k] = df2[k].replace(df2.iloc[j][k], mediana)      "
   ]
  },
  {
   "cell_type": "markdown",
   "metadata": {},
   "source": [
    "### 5.2 - Identificando e tratando valores outliers"
   ]
  },
  {
   "cell_type": "code",
   "execution_count": null,
   "metadata": {},
   "outputs": [],
   "source": [
    "# Loop que percorre todas as colunas\n",
    "# A notação de slicing [0:19] é para não incluir a variável alvo, porque apesar de ter números, a variável alvo é categórica\n",
    "for k in df2.columns[0:19]:\n",
    "    \n",
    "    # Verifica se os valores da coluna não são do tipo texto\n",
    "    if df2[k].dtype != object:\n",
    "       \n",
    "        # Calculando o zscore da coluna\n",
    "        zscore = (df2[k] - df2[k].mean()) / df2[k].std()\n",
    "        \n",
    "        # Pesquisando valores menores que -3 ou maiores que 3 que são considerados outliers\n",
    "        outliers = zscore[(zscore < -3) | (zscore > 3)]\n",
    "        \n",
    "        # Calculando o limite superior\n",
    "        limiteSuperior = df2[k].mean() + 3 * df2[k].std()\n",
    "\n",
    "        # Calculando o limite inferior\n",
    "        limiteInferior = df2[k].mean() - 3 * df2[k].std()\n",
    "        \n",
    "        # Verifica se há outliers na coluna \n",
    "        if len(outliers) > 0:\n",
    "            \n",
    "            # Calcula a média da coluna, excluindo os valores outliers\n",
    "            media = df2[k][(df[k] > limiteInferior) & (df2[k] <= limiteSuperior)].mean()\n",
    "            \n",
    "            # Cria uma lista vazia para armazenar as linhas com outliers\n",
    "            linhasComOutlier = []\n",
    "             \n",
    "            # Loop que percorre as linhas com outliers\n",
    "            for j in outliers.index:\n",
    "                \n",
    "                # Substitui a célula com valor outlier pela média\n",
    "                df2[k] = df2[k].replace(df2.iloc[j][k], media)\n",
    "                \n",
    "                # Adiciona o índice da linha na lista\n",
    "                linhasComOutlier.append(j)\n",
    "                \n",
    "            print(\"- Quantidade de valores outliers \" + \"da variável \" + k + \" substituídos pela média\"  + \":\", len(outliers))\n",
    "            print(\"- Linha (as) da variável \" + k + \" que foi (foram) alterada (as):\", linhasComOutlier)    "
   ]
  },
  {
   "cell_type": "markdown",
   "metadata": {},
   "source": [
    "### 5.3 - Convertendo variáveis categóricas em números"
   ]
  },
  {
   "cell_type": "markdown",
   "metadata": {},
   "source": [
    "#### 5.3.1 Convertendo a variável alvo de texto para número"
   ]
  },
  {
   "cell_type": "code",
   "execution_count": null,
   "metadata": {},
   "outputs": [],
   "source": [
    "# Verificando o tipo de dado de uma coluna\n",
    "df2.rotatividade.dtype"
   ]
  },
  {
   "cell_type": "code",
   "execution_count": null,
   "metadata": {
    "jupyter": {
     "source_hidden": true
    },
    "tags": []
   },
   "outputs": [],
   "source": [
    "# LabelEncoder deve ser usado somente na variável alvo. \n",
    "# Para variáveis preditoras deve ser utilizada a função OneHotEncoder ou pd.get_dummies(df).\n",
    "\n",
    "# Cria o objeto encoder\n",
    "encoder = LabelEncoder()\n",
    "\n",
    "# Cria uma nova coluna com a variável alvo com valores numéricos\n",
    "df2[variavelAlvo] = encoder.fit_transform(df2[variavelAlvo])\n",
    "df2.head()"
   ]
  },
  {
   "cell_type": "markdown",
   "metadata": {},
   "source": [
    "#### 5.3.2 Convertendo as variáveis preditoras de texto para número"
   ]
  },
  {
   "cell_type": "code",
   "execution_count": null,
   "metadata": {},
   "outputs": [],
   "source": [
    "# Verificando a quantidade de valores únicos de uma coluna\n",
    "df2.Estado.nunique()"
   ]
  },
  {
   "cell_type": "markdown",
   "metadata": {},
   "source": [
    "##### 5.3.2.1 Encoding com o Pandas"
   ]
  },
  {
   "cell_type": "code",
   "execution_count": null,
   "metadata": {
    "jupyter": {
     "source_hidden": true
    },
    "tags": []
   },
   "outputs": [],
   "source": [
    "df3 = pd.get_dummies(df2)\n",
    "df3.head()"
   ]
  },
  {
   "cell_type": "code",
   "execution_count": null,
   "metadata": {
    "jupyter": {
     "source_hidden": true
    },
    "tags": []
   },
   "outputs": [],
   "source": [
    "# Visualizando o nome das colunas\n",
    "df3.columns"
   ]
  },
  {
   "cell_type": "code",
   "execution_count": null,
   "metadata": {
    "jupyter": {
     "source_hidden": true
    },
    "tags": []
   },
   "outputs": [],
   "source": [
    "# Organizando o dataframe\n",
    "valoresVariavelAlvo = df3[variavelAlvo]\n",
    "df3.drop([variavelAlvo],  axis=1, inplace = True)\n",
    "\n",
    "# Atualizando a variável alvo\n",
    "df3[variavelAlvo] = valoresVariavelAlvo\n",
    "df3.columns"
   ]
  },
  {
   "cell_type": "markdown",
   "metadata": {},
   "source": [
    "##### 5.3.2.2 Encoding com o LabelEncoder"
   ]
  },
  {
   "cell_type": "code",
   "execution_count": null,
   "metadata": {},
   "outputs": [],
   "source": [
    "# Cria o objeto encoder\n",
    "encoder = LabelEncoder()\n",
    "\n",
    "# loop que percorre as colunas\n",
    "for k in df2.columns[0:19]:\n",
    "    \n",
    "    # Verifica se os valores da coluna são do tipo texto\n",
    "    if df2[k].dtype == object:\n",
    "        df2[k] = encoder.fit_transform(df2[k])\n",
    "df2.head()        "
   ]
  },
  {
   "cell_type": "markdown",
   "metadata": {},
   "source": [
    "## 6 - Dividindo os dados em treino e teste"
   ]
  },
  {
   "cell_type": "code",
   "execution_count": null,
   "metadata": {},
   "outputs": [],
   "source": [
    "# Fazendo uma cópia do dataframa\n",
    "dfDados = df2.copy()"
   ]
  },
  {
   "cell_type": "code",
   "execution_count": null,
   "metadata": {},
   "outputs": [],
   "source": [
    "# Separando as variáveis preditoras e a variável alvo\n",
    "numeroObservacoes = len(dfDados)\n",
    "numeroVariaveisPreditoras = len(dfDados.columns)-1\n",
    "\n",
    "# A notação de slicing [0:19] é para não incluir a variável alvo\n",
    "X = dfDados[dfDados.columns[0:19]].values.reshape((numeroObservacoes, numeroVariaveisPreditoras)) # X deve sempre ser uma matriz e nunca um vetor\n",
    "y = dfDados[variavelAlvo].values # y pode ser um vetor"
   ]
  },
  {
   "cell_type": "code",
   "execution_count": null,
   "metadata": {},
   "outputs": [],
   "source": [
    "# Pesquisa os melhores valores para o parâmetro random_state\n",
    "# Array de valores para random_state de 1 até 200\n",
    "arrayRandomStates = np.arange(start=1, stop=200)\n",
    "\n",
    "# Cria uma lista vazia para armazenar os acertos\n",
    "listaAcertos = []\n",
    "\n",
    "# Loop que percorre todos os valores da arrayRandomStates\n",
    "for k in arrayRandomStates:\n",
    "    Xtreino, Xteste, Ytreino, Yteste = train_test_split(X, y, test_size = 0.2, random_state=k)\n",
    "    modelo = LogisticRegression()\n",
    "    modelo.fit(Xtreino, Ytreino)\n",
    "    previsoes = modelo.predict(Xteste)\n",
    "    listaAcertos.append(accuracy_score(Yteste, previsoes, normalize=False))\n",
    "    \n",
    "# Exibe os melhores valores para o random_state\n",
    "resultados = pd.DataFrame({'random_state':arrayRandomStates, \n",
    "                           'Acertos':listaAcertos})\n",
    "melhorRandomState = resultados[resultados['Acertos'] == resultados['Acertos'].max()]\n",
    "melhorRandomState"
   ]
  },
  {
   "cell_type": "code",
   "execution_count": null,
   "metadata": {},
   "outputs": [],
   "source": [
    "# Divide os dados em treino e teste\n",
    "Xtreino, Xteste, Ytreino, Yteste = train_test_split(X, y, test_size = 0.2, random_state=int(melhorRandomState[\"random_state\"][0:1].values))"
   ]
  },
  {
   "cell_type": "markdown",
   "metadata": {},
   "source": [
    "## 7 - Seleção de variáveis"
   ]
  },
  {
   "cell_type": "markdown",
   "metadata": {},
   "source": [
    "### 7.1 - Selecionado as melhores variáveis com o Random Forest Classifier"
   ]
  },
  {
   "cell_type": "code",
   "execution_count": null,
   "metadata": {},
   "outputs": [],
   "source": [
    "# Criando o modelo\n",
    "randomForestClassifier = RandomForestClassifier(random_state=0)\n",
    "\n",
    "# Treinando o modelo\n",
    "randomForestClassifier.fit(X, y)\n",
    "\n",
    "# Atribuindo a importância das variáveis a uma Series do Pandas\n",
    "importanciaVariaveis = pd.Series(data = randomForestClassifier.feature_importances_, index = dfDados.columns[0:19])\n",
    "\n",
    "# Gráfico com a importância das variáveis\n",
    "fig = plt.subplots(figsize=(13, 6))\n",
    "importanciaVariaveis.sort_values().plot.bar()\n",
    "plt.title(\"Níveis de importância das variáveis - Random Forest\", fontsize = 16)\n",
    "plt.xticks(rotation=90)\n",
    "plt.show()"
   ]
  },
  {
   "cell_type": "markdown",
   "metadata": {},
   "source": [
    "### 7.2 - Selecionado as melhores variáveis com o SelectKBest"
   ]
  },
  {
   "cell_type": "code",
   "execution_count": null,
   "metadata": {},
   "outputs": [],
   "source": [
    "# Cria o objeto SelectKBest\n",
    "selectkBest = SelectKBest(k = 4)\n",
    "\n",
    "# Executa a função em (X, y) e obtém as variáveis selecionadas\n",
    "selectkBestTreinado = selectkBest.fit(X, y)\n",
    "\n",
    "# Atribuindo a importância das variáveis a uma Series do Pandas\n",
    "importanciaVariaveis = pd.Series(data = selectkBestTreinado.scores_, index = dfDados.columns[0:19])\n",
    "\n",
    "# Gráfico com a importância das variáveis\n",
    "fig = plt.subplots(figsize=(13, 6))\n",
    "importanciaVariaveis.sort_values().plot.bar()\n",
    "plt.title(\"Níveis de importância das variáveis - SelectKBest\", fontsize = 16)\n",
    "plt.xticks(rotation=90)\n",
    "plt.show()"
   ]
  },
  {
   "cell_type": "markdown",
   "metadata": {},
   "source": [
    "### 7.3 - Selecionado as melhores variáveis com Eliminação Recursiva de Atributos RFE "
   ]
  },
  {
   "cell_type": "code",
   "execution_count": null,
   "metadata": {},
   "outputs": [],
   "source": [
    "# Criando o modelo\n",
    "extraTreeClassifier = ExtraTreeClassifier(random_state=0)\n",
    "\n",
    "# Treinando o modelo\n",
    "extraTreeClassifier.fit(X, y)\n",
    "\n",
    "# Criando Eliminação Recursiva de Atributos RFE\n",
    "eliminacaoRecursiva = RFE(extraTreeClassifier)\n",
    "\n",
    "# Treinando Eliminação Recursiva de Atributos RFE\n",
    "eliminacaoRecursivaTreinada = eliminacaoRecursiva.fit(X, y)\n",
    "\n",
    "# Gráfico com a importância das variáveis\n",
    "fig = plt.subplots(figsize=(13, 6))\n",
    "plt.title(\"Importância das variáveis - RFE\", fontsize = 16)\n",
    "# A notação de slicing [0:19] é para não incluir a variável alvo\n",
    "plt.bar(dfDados.columns[0:19], eliminacaoRecursivaTreinada.support_)\n",
    "plt.xticks(rotation=90)\n",
    "plt.show()"
   ]
  },
  {
   "cell_type": "markdown",
   "metadata": {},
   "source": [
    "## 8 - Dividindo os dados de treino e teste com as variáveis selecionadas"
   ]
  },
  {
   "cell_type": "code",
   "execution_count": null,
   "metadata": {},
   "outputs": [],
   "source": [
    "# Variáveis selecionadas\n",
    "variaveisSelecionadas = ['Tamanho Conta', 'Plano Internacional', 'Total minutos diarios', 'Total chamadas diarias', 'Total carga diaria',\n",
    "       'Total minutos a tarde', 'Total chamadas a tarde', 'Total carga a tarde', 'Total minutos a noite', 'Total chamadas a noite', 'Total carga a noite',\n",
    "       'Total minutos internacionais', 'Total chamadas internacionais', 'Total carga internacional', 'Numero chamadas atendimento ao cliente',]"
   ]
  },
  {
   "cell_type": "code",
   "execution_count": null,
   "metadata": {},
   "outputs": [],
   "source": [
    "# Separando as variáveis preditoras e a variável alvo\n",
    "numeroObservacoes = len(dfDados)\n",
    "numeroVariaveisPreditoras = len(variaveisSelecionadas)\n",
    "X = dfDados[variaveisSelecionadas].values.reshape((numeroObservacoes, numeroVariaveisPreditoras)) # X deve sempre ser uma matriz e nunca um vetor\n",
    "y = dfDados[variavelAlvo].values # y pode ser um vetor"
   ]
  },
  {
   "cell_type": "code",
   "execution_count": null,
   "metadata": {},
   "outputs": [],
   "source": [
    "# Pesquisa os melhores valores para o parâmetro random_state\n",
    "# Array de valores para random_state de 1 até 100\n",
    "arrayRandomStates = np.arange(start=1, stop=200)\n",
    "\n",
    "# Cria uma lista vazia para armazenar os acertos\n",
    "listaAcertos = []\n",
    "\n",
    "# Loop que percorre todos os valores da arrayRandomStates\n",
    "for k in arrayRandomStates:\n",
    "    Xtreino, Xteste, Ytreino, Yteste = train_test_split(X, y, test_size = 0.2, random_state=k)\n",
    "    modelo = LogisticRegression()\n",
    "    modelo.fit(Xtreino, Ytreino)\n",
    "    previsoes = modelo.predict(Xteste)\n",
    "    listaAcertos.append(accuracy_score(Yteste, previsoes, normalize=False))\n",
    "    \n",
    "# Exibe os melhores valores para o random_state\n",
    "resultados = pd.DataFrame({'random_state':arrayRandomStates, \n",
    "                           'Acertos':listaAcertos})\n",
    "melhorRandomState = resultados[resultados['Acertos'] == resultados['Acertos'].max()]\n",
    "melhorRandomState"
   ]
  },
  {
   "cell_type": "code",
   "execution_count": null,
   "metadata": {},
   "outputs": [],
   "source": [
    "# Divide os dados em treino e teste\n",
    "Xtreino, Xteste, Ytreino, Yteste = train_test_split(X, y, test_size = 0.2, random_state=int(melhorRandomState[\"random_state\"][0:1].values))"
   ]
  },
  {
   "cell_type": "markdown",
   "metadata": {},
   "source": [
    "## 9 - Balanceamento de classes"
   ]
  },
  {
   "cell_type": "code",
   "execution_count": null,
   "metadata": {},
   "outputs": [],
   "source": [
    "# Criando DataFrame de Ytreino\n",
    "# Criamos este DataFrame porque a função desenhaCountPlot espera receber uma coluna de um DataFrame\n",
    "dfYtreino = pd.DataFrame(Ytreino, columns=[\"Ytreino\"])\n",
    "dfYtreino\n",
    "\n",
    "# Countplot da variável alvo no DATASET DE TREINO\n",
    "desenhaCountPlot(dfYtreino.Ytreino, variavelAlvo)"
   ]
  },
  {
   "cell_type": "markdown",
   "metadata": {},
   "source": [
    "### 9.1 - Oversampling"
   ]
  },
  {
   "cell_type": "code",
   "execution_count": null,
   "metadata": {},
   "outputs": [],
   "source": [
    "# Criando o objeto do tipo SMOTE. \n",
    "# O parâmetro k_neighbors indica quantos vizinhos serão considerados para fazer o oversampling.\n",
    "overSampler = SMOTE(k_neighbors = 3, random_state=167)\n",
    "\n",
    "# Aplicando o oversampling \n",
    "Xtreino, Ytreino = overSampler.fit_resample(Xtreino, Ytreino)"
   ]
  },
  {
   "cell_type": "markdown",
   "metadata": {},
   "source": [
    "### 9.2 - Undersampling"
   ]
  },
  {
   "cell_type": "code",
   "execution_count": null,
   "metadata": {
    "jupyter": {
     "source_hidden": true
    },
    "tags": []
   },
   "outputs": [],
   "source": [
    "# Criando o objeto do tipo RandomUnderSampler\n",
    "underSampler = RandomUnderSampler(random_state=167)\n",
    "\n",
    "# Fazendo o undersampling\n",
    "Xtreino, Ytreino = underSampler.fit_resample(Xtreino, Ytreino)"
   ]
  },
  {
   "cell_type": "code",
   "execution_count": null,
   "metadata": {
    "tags": []
   },
   "outputs": [],
   "source": [
    "# Criando DataFrame de Ytreino\n",
    "# Criamos este DataFrame porque a função desenhaCountPlot espera receber uma coluna de um DataFrame\n",
    "dfYtreino = pd.DataFrame(Ytreino, columns=[\"Ytreino\"])\n",
    "dfYtreino\n",
    "\n",
    "# Countplot da variável alvo no DATASET DE TREINO\n",
    "desenhaCountPlot(dfYtreino.Ytreino, variavelAlvo)"
   ]
  },
  {
   "cell_type": "markdown",
   "metadata": {},
   "source": [
    "## 10 - Preparando os dados"
   ]
  },
  {
   "cell_type": "markdown",
   "metadata": {},
   "source": [
    "### 10.1 - Normalizando os dados"
   ]
  },
  {
   "cell_type": "code",
   "execution_count": null,
   "metadata": {
    "jupyter": {
     "source_hidden": true
    },
    "tags": []
   },
   "outputs": [],
   "source": [
    "# Cria o objeto da classe MinMaxScaler \n",
    "min_max_scaler = MinMaxScaler()\n",
    "\n",
    "# Realiza a normalização dimensionando as variáveis em uma escala entre 0 e 1 nos dados de  Xtreino\n",
    "XtreinoNormalizados = min_max_scaler.fit_transform(Xtreino)\n",
    "\n",
    "# Realiza a normalização dimensionando as variáveis em uma escala entre 0 e 1 nos dados de Xteste\n",
    "XtesteNormalizados = min_max_scaler.fit_transform(Xteste)"
   ]
  },
  {
   "cell_type": "markdown",
   "metadata": {},
   "source": [
    "### 10.2 - Padronizando os dados"
   ]
  },
  {
   "cell_type": "code",
   "execution_count": null,
   "metadata": {
    "jupyter": {
     "source_hidden": true
    },
    "tags": []
   },
   "outputs": [],
   "source": [
    "# Cria o objeto StandardScaler, calcula a média e o desvio-padrão que serão usados para padronizar os dados\n",
    "scaler = StandardScaler()\n",
    "\n",
    "# Realiza a padronização centralizando e dimensionando dados nos dados de Xtreino\n",
    "XtreinoPadronizados = scaler.fit_transform(Xtreino)\n",
    "\n",
    "# Realiza a padronização centralizando e dimensionando dados nos dados de Xteste\n",
    "XtestePadronizados = scaler.fit_transform(Xteste)"
   ]
  },
  {
   "cell_type": "markdown",
   "metadata": {},
   "source": [
    "### 10.3 - Selecionando a apresentação dos dados"
   ]
  },
  {
   "cell_type": "code",
   "execution_count": null,
   "metadata": {},
   "outputs": [],
   "source": [
    "# Os dados podem estar com apresentação \"Originais\", \"Normalizados\" ou \"Padronizados\"\n",
    "apresentacaoDosDados = \"Originais\"\n",
    "\n",
    "if apresentacaoDosDados == \"Originais\":\n",
    "    dadosXtreino = Xtreino\n",
    "    dadosXteste = Xteste\n",
    "elif apresentacaoDosDados == \"Normalizados\":\n",
    "    dadosXtreino = XtreinoNormalizados\n",
    "    dadosXteste = XtesteNormalizados\n",
    "else:\n",
    "    dadosXtreino = XtreinoPadronizados\n",
    "    dadosXteste = XtestePadronizados\n",
    "\n",
    "print(\"Os dados estão com a seguinte apresentação:\", apresentacaoDosDados)"
   ]
  },
  {
   "cell_type": "markdown",
   "metadata": {},
   "source": [
    "## 11 - Criando os modelos de classificação"
   ]
  },
  {
   "cell_type": "code",
   "execution_count": null,
   "metadata": {},
   "outputs": [],
   "source": [
    "# DataFrame para comparar a acurácia de cada algoritmo\n",
    "comparaAlgoritmo = {\"Algoritmo\": [\"Regressão Logística\", \"Linear Discriminant Analysis\", \"KNN\", \"Naive Bayes\", \"Árvore de Decisão\", \"SVM\", \"Random Forest\",\n",
    "                                 \"Bagging Classifier\", \"AdaBoost\", \"Voting Classifier\", \"Gradient Tree Boosting\", \"XGBoost\"],\n",
    "                   \"Acurácia\": [\"-\", \"-\", \"-\", \"-\", \"-\", \"-\",\"-\", \"-\", \"-\", \"-\", \"-\", \"-\"],\n",
    "                   \"Acertos\": [\"-\", \"-\", \"-\", \"-\", \"-\", \"-\",\"-\", \"-\", \"-\", \"-\", \"-\", \"-\"],\n",
    "                   \"Erros\": [\"-\", \"-\", \"-\", \"-\", \"-\", \"-\",\"-\", \"-\", \"-\", \"-\", \"-\", \"-\"]}\n",
    "dfComparaAlgoritmo = pd.DataFrame(comparaAlgoritmo)\n",
    "dfComparaAlgoritmo"
   ]
  },
  {
   "cell_type": "markdown",
   "metadata": {},
   "source": [
    "### 11.1 - Regressão Logística"
   ]
  },
  {
   "cell_type": "code",
   "execution_count": null,
   "metadata": {},
   "outputs": [],
   "source": [
    "# Cria um dicionário com os valores que serão testados como parâmetro\n",
    "parametros = {\n",
    "    \"penalty\": ['l1', 'l2', 'elasticnet', 'none'],\n",
    "    \"solver\": ['newton-cg', 'lbfgs', 'liblinear', 'sag', 'saga'],\n",
    "    \"C\": [0.001,0.01,0.1,1.0,10,100,1000]\n",
    "}\n",
    "\n",
    "# Cria o modelo que desejamos testar os melhores parâmetros\n",
    "regressaoLogistica = LogisticRegression()\n",
    "\n",
    "# Cria o objeto do tipo RandomizedSearchCV\n",
    "randomizedSearch = RandomizedSearchCV(estimator = regressaoLogistica, param_distributions = parametros, random_state = 11)\n",
    "\n",
    "# Treinando os parâmetros. ATENÇÃO: Deve-se usar todo conjunto de dados.\n",
    "randomizedSearch.fit(X, y)\n",
    "\n",
    "# Salvando os melhores parâmetros em uma lista\n",
    "melhoresParametrosLR = []\n",
    "for k in randomizedSearch.best_params_:\n",
    "    melhoresParametrosLR.append(randomizedSearch.best_params_[k])\n",
    "\n",
    "# Print do resultado\n",
    "print(\"Acurácia média: %.3f\" % (randomizedSearch.best_score_ * 100) + \"%\")\n",
    "print(\"Melhores parâmetros para o modelo:\", randomizedSearch.best_params_)"
   ]
  },
  {
   "cell_type": "code",
   "execution_count": null,
   "metadata": {},
   "outputs": [],
   "source": [
    "# Utilizando os melhores parâmetros segundo o RandomizedSearchCV\n",
    "# Criando o modelo\n",
    "regressaoLogistica = LogisticRegression(solver = melhoresParametrosLR[0], penalty = melhoresParametrosLR[1], C = melhoresParametrosLR[2])\n",
    "\n",
    "# Treinamento do modelo\n",
    "regressaoLogistica.fit(dadosXtreino, Ytreino)\n",
    "\n",
    "# Previsões com os dados de teste\n",
    "previsoes = regressaoLogistica.predict(dadosXteste)\n",
    "\n",
    "# Calculando a acurácia do modelo\n",
    "numeroAcertos = accuracy_score(Yteste, previsoes, normalize=False)\n",
    "numeroErros = len(Yteste)-numeroAcertos\n",
    "acuracia = numeroAcertos/len(Yteste)\n",
    "\n",
    "print(\"Acurácia: %.2f\" % (acuracia * 100) + \"%\")\n",
    "print(\"Número de acertos:\", numeroAcertos)\n",
    "print(\"Número de erros:\", numeroErros)"
   ]
  },
  {
   "cell_type": "code",
   "execution_count": null,
   "metadata": {},
   "outputs": [],
   "source": [
    "# Visualizando a matriz de confusão\n",
    "desenhaMatrizConfusao(Yteste, previsoes, regressaoLogistica)"
   ]
  },
  {
   "cell_type": "code",
   "execution_count": null,
   "metadata": {},
   "outputs": [],
   "source": [
    "# Atualizando o dataframe com o desempenho dos algoritmos\n",
    "dfComparaAlgoritmo.iloc[0,1] = \"%.2f\" % (acuracia * 100) + \"%\"\n",
    "dfComparaAlgoritmo.iloc[0,2] = numeroAcertos\n",
    "dfComparaAlgoritmo.iloc[0,3] = numeroErros\n",
    "dfComparaAlgoritmo"
   ]
  },
  {
   "cell_type": "markdown",
   "metadata": {},
   "source": [
    "### 11.2 - Linear Discriminant Analysis"
   ]
  },
  {
   "cell_type": "code",
   "execution_count": null,
   "metadata": {},
   "outputs": [],
   "source": [
    "# Pesquisando os melhores parâmetros com RandomizedSearchCV\n",
    "# Cria um dicionário com os valores que serão testados como parâmetro\n",
    "parametros = {\n",
    "    \"solver\": ['svd', 'lsqr', 'eigen'],\n",
    "    \"shrinkage\": [0.001,0.01,0.1,0.5,0.8,0.2]\n",
    "}\n",
    "\n",
    "# Cria o modelo que desejamos testar os melhores parâmetros\n",
    "linearDiscriminantAnalysis = LinearDiscriminantAnalysis()\n",
    "\n",
    "# Cria o objeto do tipo RandomizedSearchCV\n",
    "randomizedSearch = RandomizedSearchCV(estimator = linearDiscriminantAnalysis, param_distributions = parametros, random_state = 11)\n",
    "\n",
    "# Treinando os parâmetros. ATENÇÃO: Deve-se usar todo conjunto de dados.\n",
    "randomizedSearch.fit(X, y)\n",
    "\n",
    "# Salvando os melhores parâmetros em uma lista\n",
    "melhoresParametros = []\n",
    "for k in randomizedSearch.best_params_:\n",
    "    melhoresParametros.append(randomizedSearch.best_params_[k])\n",
    "\n",
    "# Print do resultado\n",
    "print(\"Acurácia média: %.3f\" % (randomizedSearch.best_score_ * 100) + \"%\")\n",
    "print(\"Melhores parâmetros para o modelo:\", randomizedSearch.best_params_)"
   ]
  },
  {
   "cell_type": "code",
   "execution_count": null,
   "metadata": {},
   "outputs": [],
   "source": [
    "# Utilizando os melhores parâmetros segundo o RandomizedSearchCV\n",
    "# Criando o modelo\n",
    "linearDiscriminantAnalysis = LinearDiscriminantAnalysis(solver=melhoresParametros[0], shrinkage=melhoresParametros[1])\n",
    "\n",
    "# Treinamento do modelo\n",
    "linearDiscriminantAnalysis.fit(dadosXtreino, Ytreino)\n",
    "\n",
    "# Previsões com os dados de teste\n",
    "previsoes = linearDiscriminantAnalysis.predict(dadosXteste)\n",
    "\n",
    "# Calculando a acurácia do modelo\n",
    "numeroAcertos = accuracy_score(Yteste, previsoes, normalize=False)\n",
    "numeroErros = len(Yteste)-numeroAcertos\n",
    "acuracia = numeroAcertos/len(Yteste)\n",
    "\n",
    "print(\"Acurácia: %.2f\" % (acuracia * 100) + \"%\")\n",
    "print(\"Número de acertos:\", numeroAcertos)\n",
    "print(\"Número de erros:\", numeroErros)"
   ]
  },
  {
   "cell_type": "code",
   "execution_count": null,
   "metadata": {},
   "outputs": [],
   "source": [
    "# Visualizando a matriz de confusão\n",
    "desenhaMatrizConfusao(Yteste, previsoes, linearDiscriminantAnalysis)"
   ]
  },
  {
   "cell_type": "code",
   "execution_count": null,
   "metadata": {},
   "outputs": [],
   "source": [
    "# Atualizando o dataframe com o desempenho dos algoritmos\n",
    "dfComparaAlgoritmo.iloc[1,1] = \"%.2f\" % (acuracia * 100) + \"%\"\n",
    "dfComparaAlgoritmo.iloc[1,2] = numeroAcertos\n",
    "dfComparaAlgoritmo.iloc[1,3] = numeroErros\n",
    "dfComparaAlgoritmo"
   ]
  },
  {
   "cell_type": "markdown",
   "metadata": {},
   "source": [
    "### 11.3 - K-Nearest Neighbors - KNN"
   ]
  },
  {
   "cell_type": "code",
   "execution_count": null,
   "metadata": {},
   "outputs": [],
   "source": [
    "# Pesquisando os melhores parâmetros com RandomizedSearchCV\n",
    "# Cria um dicionário com os valores que serão testados como parâmetro\n",
    "parametros = {\n",
    "    \"n_neighbors\": [2, 3, 4, 5, 6, 7, 8, 9],\n",
    "    \"weights\": ['uniform', 'distance'],\n",
    "    \"algorithm\": ['ball_tree', 'kd_tree', 'brute']\n",
    "}\n",
    "\n",
    "# Cria o modelo que desejamos testar os melhores parâmetros\n",
    "kNeighborsClassifier = KNeighborsClassifier()\n",
    "\n",
    "# Cria o objeto do tipo RandomizedSearchCV\n",
    "randomizedSearch = RandomizedSearchCV(estimator = kNeighborsClassifier, param_distributions = parametros, random_state = 11)\n",
    "\n",
    "# Treinando os parâmetros. ATENÇÃO: Deve-se usar todo conjunto de dados.\n",
    "randomizedSearch.fit(X, y)\n",
    "\n",
    "# Salvando os melhores parâmetros em uma lista\n",
    "melhoresParametros = []\n",
    "for k in randomizedSearch.best_params_:\n",
    "    melhoresParametros.append(randomizedSearch.best_params_[k])\n",
    "\n",
    "# Print do resultado\n",
    "print(\"Acurácia média: %.3f\" % (randomizedSearch.best_score_ * 100) + \"%\")\n",
    "print(\"Melhores parâmetros para o modelo:\", randomizedSearch.best_params_)"
   ]
  },
  {
   "cell_type": "code",
   "execution_count": null,
   "metadata": {},
   "outputs": [],
   "source": [
    "# Criando o modelo\n",
    "kNeighborsClassifier = KNeighborsClassifier(weights = melhoresParametros[0], n_neighbors = melhoresParametros[1], algorithm = melhoresParametros[2])\n",
    "\n",
    "# Treinamento do modelo\n",
    "kNeighborsClassifier.fit(dadosXtreino, Ytreino)\n",
    "\n",
    "# Previsões com os dados de teste\n",
    "previsoes = kNeighborsClassifier.predict(dadosXteste)\n",
    "\n",
    "# Calculando a acurácia do modelo\n",
    "numeroAcertos = accuracy_score(Yteste, previsoes, normalize=False)\n",
    "numeroErros = len(Yteste)-numeroAcertos\n",
    "acuracia = numeroAcertos/len(Yteste)\n",
    "\n",
    "print(\"Acurácia: %.2f\" % (acuracia * 100) + \"%\")\n",
    "print(\"Número de acertos:\", numeroAcertos)\n",
    "print(\"Número de erros:\", numeroErros)"
   ]
  },
  {
   "cell_type": "code",
   "execution_count": null,
   "metadata": {},
   "outputs": [],
   "source": [
    "# Visualizando a matriz de confusão\n",
    "desenhaMatrizConfusao(Yteste, previsoes, kNeighborsClassifier)"
   ]
  },
  {
   "cell_type": "code",
   "execution_count": null,
   "metadata": {},
   "outputs": [],
   "source": [
    "# Atualizando o dataframe com o desempenho dos algoritmos\n",
    "dfComparaAlgoritmo.iloc[2,1] = \"%.2f\" % (acuracia * 100) + \"%\"\n",
    "dfComparaAlgoritmo.iloc[2,2] = numeroAcertos\n",
    "dfComparaAlgoritmo.iloc[2,3] = numeroErros\n",
    "dfComparaAlgoritmo"
   ]
  },
  {
   "cell_type": "markdown",
   "metadata": {},
   "source": [
    "### 11.4 - Naive Bayes"
   ]
  },
  {
   "cell_type": "code",
   "execution_count": null,
   "metadata": {},
   "outputs": [],
   "source": [
    "# Criando o modelo\n",
    "gaussianNB = GaussianNB()\n",
    "\n",
    "# Treinamento do modelo\n",
    "gaussianNB.fit(dadosXtreino, Ytreino)\n",
    "\n",
    "# Previsões com os dados de teste\n",
    "previsoes = gaussianNB.predict(dadosXteste)\n",
    "\n",
    "# Calculando a acurácia do modelo\n",
    "numeroAcertos = accuracy_score(Yteste, previsoes, normalize=False)\n",
    "numeroErros = len(Yteste)-numeroAcertos\n",
    "acuracia = numeroAcertos/len(Yteste)\n",
    "\n",
    "print(\"Acurácia: %.2f\" % (acuracia * 100) + \"%\")\n",
    "print(\"Número de acertos:\", numeroAcertos)\n",
    "print(\"Número de erros:\", numeroErros)"
   ]
  },
  {
   "cell_type": "code",
   "execution_count": null,
   "metadata": {},
   "outputs": [],
   "source": [
    "# Visualizando a matriz de confusão\n",
    "desenhaMatrizConfusao(Yteste, previsoes, gaussianNB)"
   ]
  },
  {
   "cell_type": "code",
   "execution_count": null,
   "metadata": {},
   "outputs": [],
   "source": [
    "# Atualizando o dataframe com o desempenho dos algoritmos\n",
    "dfComparaAlgoritmo.iloc[3,1] = \"%.2f\" % (acuracia * 100) + \"%\"\n",
    "dfComparaAlgoritmo.iloc[3,2] = numeroAcertos\n",
    "dfComparaAlgoritmo.iloc[3,3] = numeroErros\n",
    "dfComparaAlgoritmo"
   ]
  },
  {
   "cell_type": "markdown",
   "metadata": {},
   "source": [
    "### 11.5 - Árvores de Decisão"
   ]
  },
  {
   "cell_type": "code",
   "execution_count": null,
   "metadata": {},
   "outputs": [],
   "source": [
    "# Pesquisando os melhores parâmetros com RandomizedSearchCV\n",
    "# Cria um dicionário com os valores que serão testados como parâmetro\n",
    "parametros = {\n",
    "    \"min_samples_split\": [2, 3, 4, 5, 6],\n",
    "    \"max_depth\": [100, 150, 200, 350, 400, 550],\n",
    "    \"criterion\": ['gini', 'log_loss', 'entropia'],\n",
    "    \"splitter\": [\"best\", \"random\"]\n",
    "}\n",
    "\n",
    "# Cria o modelo que desejamos testar os melhores parâmetros\n",
    "decisionTreeClassifier = DecisionTreeClassifier(random_state=81)\n",
    "\n",
    "# Cria o objeto do tipo RandomizedSearchCV\n",
    "randomizedSearch = RandomizedSearchCV(estimator = decisionTreeClassifier, param_distributions = parametros, random_state = 11)\n",
    "\n",
    "# Treinando os parâmetros. ATENÇÃO: Deve-se usar todo conjunto de dados.\n",
    "randomizedSearch.fit(X, y)\n",
    "\n",
    "# Salvando os melhores parâmetros em uma lista\n",
    "melhoresParametrosAR = []\n",
    "for k in randomizedSearch.best_params_:\n",
    "    melhoresParametrosAR.append(randomizedSearch.best_params_[k])\n",
    "\n",
    "# Print do resultado\n",
    "print(\"Acurácia média: %.3f\" % (randomizedSearch.best_score_ * 100) + \"%\")\n",
    "print(\"Melhores parâmetros para o modelo:\", randomizedSearch.best_params_)"
   ]
  },
  {
   "cell_type": "code",
   "execution_count": null,
   "metadata": {},
   "outputs": [],
   "source": [
    "# Criando o modelo\n",
    "decisionTreeClassifier = DecisionTreeClassifier(splitter = melhoresParametrosAR[0], \n",
    "                                     min_samples_split = melhoresParametrosAR[1],\n",
    "                                     max_depth = melhoresParametrosAR[2],\n",
    "                                     criterion = melhoresParametrosAR[3],\n",
    "                                     random_state=50)\n",
    "\n",
    "# Treinamento do modelo\n",
    "decisionTreeClassifier.fit(dadosXtreino, Ytreino)\n",
    "\n",
    "# Previsões com os dados de teste\n",
    "previsoes = decisionTreeClassifier.predict(dadosXteste)\n",
    "\n",
    "# Calculando a acurácia do modelo\n",
    "numeroAcertos = accuracy_score(Yteste, previsoes, normalize=False)\n",
    "numeroErros = len(Yteste)-numeroAcertos\n",
    "acuracia = numeroAcertos/len(Yteste)\n",
    "\n",
    "print(\"Acurácia: %.2f\" % (acuracia * 100) + \"%\")\n",
    "print(\"Número de acertos:\", numeroAcertos)\n",
    "print(\"Número de erros:\", numeroErros)"
   ]
  },
  {
   "cell_type": "code",
   "execution_count": null,
   "metadata": {},
   "outputs": [],
   "source": [
    "# Visualizando a matriz de confusão\n",
    "desenhaMatrizConfusao(Yteste, previsoes, decisionTreeClassifier)"
   ]
  },
  {
   "cell_type": "code",
   "execution_count": null,
   "metadata": {},
   "outputs": [],
   "source": [
    "# Atualizando o dataframe com o desempenho dos algoritmos\n",
    "dfComparaAlgoritmo.iloc[4,1] = \"%.2f\" % (acuracia * 100) + \"%\"\n",
    "dfComparaAlgoritmo.iloc[4,2] = numeroAcertos\n",
    "dfComparaAlgoritmo.iloc[4,3] = numeroErros\n",
    "dfComparaAlgoritmo"
   ]
  },
  {
   "cell_type": "markdown",
   "metadata": {},
   "source": [
    "### 11.6 - Support Vector Machines - SVM"
   ]
  },
  {
   "cell_type": "code",
   "execution_count": null,
   "metadata": {},
   "outputs": [],
   "source": [
    "# Pesquisando os melhores parâmetros com RandomizedSearchCV\n",
    "# Cria um dicionário com os valores que serão testados como parâmetro\n",
    "'''\n",
    "parametros = {\n",
    "   \"C\": [0.001,0.01,0.1,1.0],\n",
    "   \"kernel\": [\"linear\", \"poly\", \"rbf\", \"sigmoid\"],\n",
    "   \"decision_function_shape\": [\"ovo\", \"ovr\"]\n",
    "}\n",
    "\n",
    "# Cria o modelo que desejamos testar os melhores parâmetros\n",
    "svc = SVC()\n",
    "\n",
    "# Cria o objeto do tipo RandomizedSearchCV\n",
    "randomizedSearch = RandomizedSearchCV(estimator = svc, param_distributions = parametros, random_state = 11)\n",
    "\n",
    "# Treinando os parâmetros. ATENÇÃO: Deve-se usar todo conjunto de dados.\n",
    "randomizedSearch.fit(X, y)\n",
    "\n",
    "# Salvando os melhores parâmetros em uma lista\n",
    "melhoresParametrosSVM = []\n",
    "for k in randomizedSearch.best_params_:\n",
    "    melhoresParametrosSVM.append(randomizedSearch.best_params_[k])\n",
    "\n",
    "# Print do resultado\n",
    "print(\"Acurácia média: %.3f\" % (randomizedSearch.best_score_ * 100) + \"%\")\n",
    "print(\"Melhores parâmetros para o modelo:\", randomizedSearch.best_params_)\n",
    "'''"
   ]
  },
  {
   "cell_type": "code",
   "execution_count": null,
   "metadata": {},
   "outputs": [],
   "source": [
    "# Criando o modelo\n",
    "# Melhores parâmetros para o modelo: {'kernel': 'linear', 'decision_function_shape': 'ovo', 'C': 0.01}\n",
    "# svc = SVC(kernel = melhoresParametrosSVM[0], decision_function_shape = melhoresParametrosSVM[1], C = melhoresParametrosSVM[2]) \n",
    "svc = SVC(kernel = 'linear', decision_function_shape = 'ovo', C = 0.01) \n",
    "\n",
    "# Treinamento do modelo\n",
    "svc.fit(dadosXtreino, Ytreino)\n",
    "\n",
    "# Previsões com os dados de teste\n",
    "previsoes = svc.predict(dadosXteste)\n",
    "\n",
    "# Calculando a acurácia do modelo\n",
    "numeroAcertos = accuracy_score(Yteste, previsoes, normalize=False)\n",
    "numeroErros = len(Yteste)-numeroAcertos\n",
    "acuracia = numeroAcertos/len(Yteste)\n",
    "\n",
    "print(\"Acurácia: %.2f\" % (acuracia * 100) + \"%\")\n",
    "print(\"Número de acertos:\", numeroAcertos)\n",
    "print(\"Número de erros:\", numeroErros)"
   ]
  },
  {
   "cell_type": "code",
   "execution_count": null,
   "metadata": {},
   "outputs": [],
   "source": [
    "# Visualizando a matriz de confusão\n",
    "desenhaMatrizConfusao(Yteste, previsoes, svc)"
   ]
  },
  {
   "cell_type": "code",
   "execution_count": null,
   "metadata": {},
   "outputs": [],
   "source": [
    "# Atualizando o dataframe com o desempenho dos algoritmos\n",
    "dfComparaAlgoritmo.iloc[5,1] = \"%.2f\" % (acuracia * 100) + \"%\"\n",
    "dfComparaAlgoritmo.iloc[5,2] = numeroAcertos\n",
    "dfComparaAlgoritmo.iloc[5,3] = numeroErros\n",
    "dfComparaAlgoritmo"
   ]
  },
  {
   "cell_type": "markdown",
   "metadata": {},
   "source": [
    "### 11.7 - Random Forest"
   ]
  },
  {
   "cell_type": "code",
   "execution_count": null,
   "metadata": {},
   "outputs": [],
   "source": [
    "# Pesquisando os melhores parâmetros com RandomizedSearchCV\n",
    "# Cria um dicionário com os valores que serão testados como parâmetro\n",
    "parametros = {\n",
    "    \"n_estimators\": [100, 106, 108, 110],\n",
    "    \"criterion\": ['gini', 'log_loss', 'entropia'], \n",
    "    \"max_depth\": [None, 2, 5, 6, 7],\n",
    "    \"min_samples_split\": [6, 7, 8],\n",
    "    \"max_features\": ['auto', 'sqrt', 'log2'],\n",
    "    \"min_samples_leaf\": [5, 6, 7]\n",
    "}\n",
    "\n",
    "# Cria o modelo que desejamos testar os melhores parâmetros\n",
    "randomForestClassifier = RandomForestClassifier(random_state=81)\n",
    "\n",
    "# Cria o objeto do tipo RandomizedSearchCV\n",
    "randomizedSearch = RandomizedSearchCV(estimator = randomForestClassifier, param_distributions = parametros, random_state = 11)\n",
    "\n",
    "# Treinando os parâmetros. ATENÇÃO: Deve-se usar todo conjunto de dados.\n",
    "randomizedSearch.fit(X, y)\n",
    "\n",
    "# Salvando os melhores parâmetros em uma lista\n",
    "melhoresParametros = []\n",
    "for k in randomizedSearch.best_params_:\n",
    "    melhoresParametros.append(randomizedSearch.best_params_[k])\n",
    "\n",
    "# Print do resultado\n",
    "print(\"Acurácia média: %.3f\" % (randomizedSearch.best_score_ * 100) + \"%\")\n",
    "print(\"Melhores parâmetros para o modelo:\", randomizedSearch.best_params_)"
   ]
  },
  {
   "cell_type": "code",
   "execution_count": null,
   "metadata": {},
   "outputs": [],
   "source": [
    "# Criando o modelo\n",
    "randomForestClassifier = RandomForestClassifier(n_estimators = melhoresParametros[0], \n",
    "                                                min_samples_split = melhoresParametros[1],\n",
    "                                                min_samples_leaf = melhoresParametros[2],\n",
    "                                                max_features = melhoresParametros[3],          \n",
    "                                                max_depth = melhoresParametros[4],\n",
    "                                                criterion = melhoresParametros[5],\n",
    "                                                random_state=92)\n",
    "\n",
    "# Treinamento do modelo\n",
    "randomForestClassifier.fit(dadosXtreino, Ytreino)\n",
    "\n",
    "# Previsões com os dados de teste\n",
    "previsoes = randomForestClassifier.predict(dadosXteste)\n",
    "\n",
    "# Calculando a acurácia do modelo\n",
    "numeroAcertos = accuracy_score(Yteste, previsoes, normalize=False)\n",
    "numeroErros = len(Yteste)-numeroAcertos\n",
    "acuracia = numeroAcertos/len(Yteste)\n",
    "\n",
    "print(\"Acurácia: %.2f\" % (acuracia * 100) + \"%\")\n",
    "print(\"Número de acertos:\", numeroAcertos)\n",
    "print(\"Número de erros:\", numeroErros)"
   ]
  },
  {
   "cell_type": "code",
   "execution_count": null,
   "metadata": {},
   "outputs": [],
   "source": [
    "# Visualizando a matriz de confusão\n",
    "desenhaMatrizConfusao(Yteste, previsoes, randomForestClassifier)"
   ]
  },
  {
   "cell_type": "code",
   "execution_count": null,
   "metadata": {},
   "outputs": [],
   "source": [
    "# Atualizando o dataframe com o desempenho dos algoritmos\n",
    "dfComparaAlgoritmo.iloc[6,1] = \"%.2f\" % (acuracia * 100) + \"%\"\n",
    "dfComparaAlgoritmo.iloc[6,2] = numeroAcertos\n",
    "dfComparaAlgoritmo.iloc[6,3] = numeroErros\n",
    "dfComparaAlgoritmo"
   ]
  },
  {
   "cell_type": "markdown",
   "metadata": {},
   "source": [
    "### 11.8 - Bagging Classifier"
   ]
  },
  {
   "cell_type": "code",
   "execution_count": null,
   "metadata": {},
   "outputs": [],
   "source": [
    "# Cria o modelo de árvore de decisão\n",
    "decisionTreeClassifierBC = DecisionTreeClassifier(splitter = melhoresParametrosAR[0], \n",
    "                                     min_samples_split = melhoresParametrosAR[1],\n",
    "                                     max_depth = melhoresParametrosAR[2],\n",
    "                                     criterion = melhoresParametrosAR[3],\n",
    "                                     random_state=50)\n",
    "\n",
    "# Criando o modelo Bagging Classifier\n",
    "baggingClassifier = BaggingClassifier(base_estimator = decisionTreeClassifierBC, random_state = 1)\n",
    "\n",
    "# Treinamento do modelo\n",
    "baggingClassifier.fit(dadosXtreino, Ytreino)\n",
    "\n",
    "# Previsões com os dados de teste\n",
    "previsoes = baggingClassifier.predict(dadosXteste)\n",
    "\n",
    "# Calculando a acurácia do modelo\n",
    "numeroAcertos = accuracy_score(Yteste, previsoes, normalize=False)\n",
    "numeroErros = len(Yteste)-numeroAcertos\n",
    "acuracia = numeroAcertos/len(Yteste)\n",
    "\n",
    "print(\"Acurácia: %.2f\" % (acuracia * 100) + \"%\")\n",
    "print(\"Número de acertos:\", numeroAcertos)\n",
    "print(\"Número de erros:\", numeroErros)"
   ]
  },
  {
   "cell_type": "code",
   "execution_count": null,
   "metadata": {},
   "outputs": [],
   "source": [
    "# Visualizando a matriz de confusão\n",
    "desenhaMatrizConfusao(Yteste, previsoes, baggingClassifier)"
   ]
  },
  {
   "cell_type": "code",
   "execution_count": null,
   "metadata": {},
   "outputs": [],
   "source": [
    "# Atualizando o dataframe com o desempenho dos algoritmos\n",
    "dfComparaAlgoritmo.iloc[7,1] = \"%.2f\" % (acuracia * 100) + \"%\"\n",
    "dfComparaAlgoritmo.iloc[7,2] = numeroAcertos\n",
    "dfComparaAlgoritmo.iloc[7,3] = numeroErros\n",
    "dfComparaAlgoritmo"
   ]
  },
  {
   "cell_type": "markdown",
   "metadata": {},
   "source": [
    "### 11.9 - AdaBoost"
   ]
  },
  {
   "cell_type": "code",
   "execution_count": null,
   "metadata": {},
   "outputs": [],
   "source": [
    "# Pesquisando os melhores parâmetros com RandomizedSearchCV\n",
    "# Cria um dicionário com os valores que serão testados como parâmetro\n",
    "parametros = {\n",
    "   \"n_estimators\": [50, 100, 150],\n",
    "   \"learning_rate\": [0.1, 0.5, 1.0, 1.5],\n",
    "   \"algorithm\": [\"SAMME\", \"SAMME.R\"]\n",
    "}\n",
    "\n",
    "# Cria o modelo que desejamos testar os melhores parâmetros\n",
    "adaBoostClassifier = AdaBoostClassifier()\n",
    "\n",
    "# Cria o objeto do tipo RandomizedSearchCV\n",
    "randomizedSearch = RandomizedSearchCV(estimator = adaBoostClassifier, param_distributions = parametros, random_state = 11)\n",
    "\n",
    "# Treinando os parâmetros. ATENÇÃO: Deve-se usar todo conjunto de dados.\n",
    "randomizedSearch.fit(X, y)\n",
    "\n",
    "# Salvando os melhores parâmetros em uma lista\n",
    "melhoresParametros = []\n",
    "for k in randomizedSearch.best_params_:\n",
    "    melhoresParametros.append(randomizedSearch.best_params_[k])\n",
    "\n",
    "# Print do resultado\n",
    "print(\"Acurácia média: %.3f\" % (randomizedSearch.best_score_ * 100) + \"%\")\n",
    "print(\"Melhores parâmetros para o modelo:\", randomizedSearch.best_params_)"
   ]
  },
  {
   "cell_type": "code",
   "execution_count": null,
   "metadata": {},
   "outputs": [],
   "source": [
    "# Criando o modelo\n",
    "adaBoostClassifier = AdaBoostClassifier(n_estimators=melhoresParametros[0],\n",
    "                           learning_rate=melhoresParametros[1],\n",
    "                           algorithm=melhoresParametros[2])\n",
    "\n",
    "# Treinamento do modelo\n",
    "adaBoostClassifier.fit(dadosXtreino, Ytreino)\n",
    "\n",
    "# Previsões com os dados de teste\n",
    "previsoes = adaBoostClassifier.predict(dadosXteste)\n",
    "\n",
    "# Calculando a acurácia do modelo\n",
    "numeroAcertos = accuracy_score(Yteste, previsoes, normalize=False)\n",
    "numeroErros = len(Yteste)-numeroAcertos\n",
    "acuracia = numeroAcertos/len(Yteste)\n",
    "\n",
    "print(\"Acurácia: %.2f\" % (acuracia * 100) + \"%\")\n",
    "print(\"Número de acertos:\", numeroAcertos)\n",
    "print(\"Número de erros:\", numeroErros)"
   ]
  },
  {
   "cell_type": "code",
   "execution_count": null,
   "metadata": {},
   "outputs": [],
   "source": [
    "# Visualizando a matriz de confusão\n",
    "desenhaMatrizConfusao(Yteste, previsoes, adaBoostClassifier)"
   ]
  },
  {
   "cell_type": "code",
   "execution_count": null,
   "metadata": {},
   "outputs": [],
   "source": [
    "# Atualizando o dataframe com o desempenho dos algoritmos\n",
    "dfComparaAlgoritmo.iloc[8,1] = \"%.2f\" % (acuracia * 100) + \"%\"\n",
    "dfComparaAlgoritmo.iloc[8,2] = numeroAcertos\n",
    "dfComparaAlgoritmo.iloc[8,3] = numeroErros\n",
    "dfComparaAlgoritmo"
   ]
  },
  {
   "cell_type": "markdown",
   "metadata": {},
   "source": [
    "### 11.10 - Voting Classifier"
   ]
  },
  {
   "cell_type": "code",
   "execution_count": null,
   "metadata": {},
   "outputs": [],
   "source": [
    "# Criando os modelos\n",
    "listaDeModelos = []\n",
    "\n",
    "# Cria o modelo Regressão Logística\n",
    "regressaoLogisticaVT = LogisticRegression(solver = melhoresParametrosLR[0], penalty = melhoresParametrosLR[1], C = melhoresParametrosLR[2])\n",
    "listaDeModelos.append(('Regressão Logística', regressaoLogisticaVT))\n",
    "\n",
    "# Cria o modelo Árvore de Decisão\n",
    "decisionTreeClassifierVT = DecisionTreeClassifier(splitter = melhoresParametrosAR[0], \n",
    "                                     min_samples_split = melhoresParametrosAR[1],\n",
    "                                     max_depth = melhoresParametrosAR[2],\n",
    "                                     criterion = melhoresParametrosAR[3],\n",
    "                                     random_state=14)\n",
    "listaDeModelos.append(('Árvore de Decisão', decisionTreeClassifierVT))\n",
    "\n",
    "# Cria o modelo SVM\n",
    "# Melhores parâmetros para o modelo SVM: {'kernel': 'linear', 'decision_function_shape': 'ovr', 'C': 0.1}\n",
    "svcVT = SVC(kernel = \"linear\", decision_function_shape =\"ovr\", C = 0.1) \n",
    "listaDeModelos.append(('SVM', svcVT))\n",
    "\n",
    "# Criando o modelo Voting Classifier\n",
    "votingClassifier = VotingClassifier(listaDeModelos)\n",
    "\n",
    "# Treinamento do modelo\n",
    "votingClassifier.fit(dadosXtreino, Ytreino)\n",
    "\n",
    "# Previsões com os dados de teste\n",
    "previsoes = votingClassifier.predict(dadosXteste)\n",
    "\n",
    "# Calculando a acurácia do modelo\n",
    "numeroAcertos = accuracy_score(Yteste, previsoes, normalize=False)\n",
    "numeroErros = len(Yteste)-numeroAcertos\n",
    "acuracia = numeroAcertos/len(Yteste)\n",
    "\n",
    "print(\"Acurácia: %.2f\" % (acuracia * 100) + \"%\")\n",
    "print(\"Número de acertos:\", numeroAcertos)\n",
    "print(\"Número de erros:\", numeroErros)"
   ]
  },
  {
   "cell_type": "code",
   "execution_count": null,
   "metadata": {},
   "outputs": [],
   "source": [
    "# Visualizando a matriz de confusão\n",
    "desenhaMatrizConfusao(Yteste, previsoes, votingClassifier)"
   ]
  },
  {
   "cell_type": "code",
   "execution_count": null,
   "metadata": {},
   "outputs": [],
   "source": [
    "# Atualizando o dataframe com o desempenho dos algoritmos\n",
    "dfComparaAlgoritmo.iloc[9,1] = \"%.2f\" % (acuracia * 100) + \"%\"\n",
    "dfComparaAlgoritmo.iloc[9,2] = numeroAcertos\n",
    "dfComparaAlgoritmo.iloc[9,3] = numeroErros\n",
    "dfComparaAlgoritmo"
   ]
  },
  {
   "cell_type": "markdown",
   "metadata": {},
   "source": [
    "### 11.11 - Gradient Tree Boosting"
   ]
  },
  {
   "cell_type": "code",
   "execution_count": null,
   "metadata": {},
   "outputs": [],
   "source": [
    "# Pesquisando os melhores parâmetros com RandomizedSearchCV\n",
    "# Cria um dicionário com os valores que serão testados como parâmetro\n",
    "parametros = {\n",
    "   \"n_estimators\": [100, 110, 150],\n",
    "   \"learning_rate\": [0.1, 0.5, 1.0, 1.5],\n",
    "}\n",
    "\n",
    "# Cria o modelo que desejamos testar os melhores parâmetros\n",
    "gradientBoostingClassifier = GradientBoostingClassifier()\n",
    "\n",
    "# Cria o objeto do tipo RandomizedSearchCV\n",
    "randomizedSearch = RandomizedSearchCV(estimator = gradientBoostingClassifier, param_distributions = parametros, random_state = 11)\n",
    "\n",
    "# Treinando os parâmetros. ATENÇÃO: Deve-se usar todo conjunto de dados.\n",
    "randomizedSearch.fit(X, y)\n",
    "\n",
    "# Salvando os melhores parâmetros em uma lista\n",
    "melhoresParametros = []\n",
    "for k in randomizedSearch.best_params_:\n",
    "    melhoresParametros.append(randomizedSearch.best_params_[k])\n",
    "\n",
    "# Print do resultado\n",
    "print(\"Acurácia média: %.3f\" % (randomizedSearch.best_score_ * 100) + \"%\")\n",
    "print(\"Melhores parâmetros para o modelo:\", randomizedSearch.best_params_)"
   ]
  },
  {
   "cell_type": "code",
   "execution_count": null,
   "metadata": {},
   "outputs": [],
   "source": [
    "# Criando o modelo\n",
    "gradientBoostingClassifier = GradientBoostingClassifier(n_estimators = melhoresParametros[0],\n",
    "                                   learning_rate=melhoresParametros[1]\n",
    "                                   )\n",
    "\n",
    "# Treinamento do modelo\n",
    "gradientBoostingClassifier.fit(dadosXtreino, Ytreino)\n",
    "\n",
    "# Previsões com os dados de teste\n",
    "previsoes = gradientBoostingClassifier.predict(dadosXteste)\n",
    "\n",
    "# Calculando a acurácia do modelo\n",
    "numeroAcertos = accuracy_score(Yteste, previsoes, normalize=False)\n",
    "numeroErros = len(Yteste)-numeroAcertos\n",
    "acuracia = numeroAcertos/len(Yteste)\n",
    "\n",
    "print(\"Acurácia: %.2f\" % (acuracia * 100) + \"%\")\n",
    "print(\"Número de acertos:\", numeroAcertos)\n",
    "print(\"Número de erros:\", numeroErros)"
   ]
  },
  {
   "cell_type": "code",
   "execution_count": null,
   "metadata": {},
   "outputs": [],
   "source": [
    "# Visualizando a matriz de confusão\n",
    "desenhaMatrizConfusao(Yteste, previsoes, gradientBoostingClassifier)"
   ]
  },
  {
   "cell_type": "code",
   "execution_count": null,
   "metadata": {},
   "outputs": [],
   "source": [
    "# Atualizando o dataframe com o desempenho dos algoritmos\n",
    "dfComparaAlgoritmo.iloc[10,1] = \"%.2f\" % (acuracia * 100) + \"%\"\n",
    "dfComparaAlgoritmo.iloc[10,2] = numeroAcertos\n",
    "dfComparaAlgoritmo.iloc[10,3] = numeroErros\n",
    "dfComparaAlgoritmo"
   ]
  },
  {
   "cell_type": "markdown",
   "metadata": {},
   "source": [
    "### 11.12 - XGBoost"
   ]
  },
  {
   "cell_type": "code",
   "execution_count": null,
   "metadata": {},
   "outputs": [],
   "source": [
    "# XGBooster exige que a variável alvo inicie com o valor zero, caso contrário ocorrerá erro\n",
    "\n",
    "# Verificando se existe algum valor igual a zero na variável alvo \n",
    "if len(Ytreino[Ytreino == 0]) == 0:\n",
    "    \n",
    "    # Cria o objeto encoder\n",
    "    encoder = LabelEncoder()\n",
    "\n",
    "    # Cria uma nova coluna com a variável alvo com valores numéricos\n",
    "    Ytreino = encoder.fit_transform(Ytreino)\n",
    "    Yteste = encoder.fit_transform(Yteste)\n",
    "\n",
    "    print(\"Foi realizado o enconder em Ytreino e Yteste para utilizar o XGBooster\")\n",
    "else:\n",
    "    print(\"NÃO foi necessário realizar o encoder para utilizar o XGBooster\")"
   ]
  },
  {
   "cell_type": "code",
   "execution_count": null,
   "metadata": {},
   "outputs": [],
   "source": [
    "# Criando o modelo\n",
    "xgb = XGBClassifier(booster='gbtree', \n",
    "                    colsample_bynode= 0.8,\n",
    "                    learning_rate= 0.15, \n",
    "                    max_depth= 5,\n",
    "                    num_parallel_tree= 20, \n",
    "                    subsample= 0.8,\n",
    "                    tree_method= 'gpu_hist',\n",
    "                    nthread=16\n",
    "                   )\n",
    "\n",
    "# Criar o modelo com o código abaixo, caso o computador não tenha placa de vídeo dedicada com suporte a CUDA\n",
    "# xgb = XGBClassifier()\n",
    "\n",
    "# Treinamento do modelo\n",
    "xgb.fit(dadosXtreino, Ytreino)\n",
    "\n",
    "# Previsões com os dados de teste\n",
    "previsoes = xgb.predict(dadosXteste)\n",
    "\n",
    "# Calculando a acurácia do modelo\n",
    "numeroAcertos = accuracy_score(Yteste, previsoes, normalize=False)\n",
    "numeroErros = len(Yteste)-numeroAcertos\n",
    "acuracia = numeroAcertos/len(Yteste)\n",
    "\n",
    "print(\"Acurácia: %.2f\" % (acuracia * 100) + \"%\")\n",
    "print(\"Número de acertos:\", numeroAcertos)\n",
    "print(\"Número de erros:\", numeroErros)"
   ]
  },
  {
   "cell_type": "code",
   "execution_count": null,
   "metadata": {},
   "outputs": [],
   "source": [
    "# Visualizando a matriz de confusão\n",
    "desenhaMatrizConfusao(Yteste, previsoes, xgb)"
   ]
  },
  {
   "cell_type": "code",
   "execution_count": null,
   "metadata": {},
   "outputs": [],
   "source": [
    "# Atualizando o dataframe com o desempenho dos algoritmos\n",
    "dfComparaAlgoritmo.iloc[11,1] = \"%.2f\" % (acuracia * 100) + \"%\"\n",
    "dfComparaAlgoritmo.iloc[11,2] = numeroAcertos\n",
    "dfComparaAlgoritmo.iloc[11,3] = numeroErros\n",
    "dfComparaAlgoritmo"
   ]
  },
  {
   "cell_type": "markdown",
   "metadata": {},
   "source": [
    "## 12 - Selecionando o modelo"
   ]
  },
  {
   "cell_type": "code",
   "execution_count": null,
   "metadata": {},
   "outputs": [],
   "source": [
    "# Ordena o DataFrame de acordo o número de acertos, em ordem descrecente\n",
    "dfComparaAlgoritmo.sort_values(by=[\"Acertos\"], ascending=False, inplace=True)\n",
    "dfComparaAlgoritmo"
   ]
  },
  {
   "cell_type": "code",
   "execution_count": null,
   "metadata": {},
   "outputs": [],
   "source": [
    "# Selecionando o modelo final\n",
    "modeloSelecionado = dfComparaAlgoritmo.iloc[0,0]\n",
    "\n",
    "if modeloSelecionado == 'Regressão Logística':\n",
    "    modeloFinal = regressaoLogistica\n",
    "elif modeloSelecionado == 'Linear Discriminant Analysis':\n",
    "    modeloFinal= linearDiscriminantAnalysis\n",
    "elif modeloSelecionado == 'KNN':\n",
    "    modeloFinal = kNeighborsClassifier\n",
    "elif modeloSelecionado == 'Naive Bayes':\n",
    "    modeloFinal = gaussianNB\n",
    "elif modeloSelecionado == 'Árvore de Decisão':\n",
    "    modeloFinal = decisionTreeClassifier\n",
    "elif modeloSelecionado == 'SVM':\n",
    "    modeloFinal = svc\n",
    "elif modeloSelecionado == 'Random Forest':\n",
    "    modeloFinal = randomForestClassifier\n",
    "elif modeloSelecionado == 'Bagging Classifier':\n",
    "    modeloFinal = baggingClassifier\n",
    "elif modeloSelecionado == 'AdaBoost':\n",
    "    modeloFinal = adaBoostClassifier\n",
    "elif modeloSelecionado == 'Voting Classifier':\n",
    "    modeloFinal = votingClassifier\n",
    "elif modeloSelecionado == 'Gradient Tree Boosting':\n",
    "    modeloFinal = gradientBoostingClassifier\n",
    "elif modeloSelecionado == \"XGBoost\":\n",
    "    modeloFinal = xgb\n",
    "\n",
    "modeloFinal"
   ]
  },
  {
   "cell_type": "code",
   "execution_count": null,
   "metadata": {},
   "outputs": [],
   "source": [
    "# Gráfico com os acertos dos algoritmos\n",
    "fig, ax = plt.subplots()\n",
    "ax.bar(dfComparaAlgoritmo.Algoritmo, dfComparaAlgoritmo[\"Acertos\"])\n",
    "ax.set_title(\"Acertos dos algoritmos com os dados \" + apresentacaoDosDados, fontsize = 16)\n",
    "ax.set_xlabel(\"Algoritmo\", fontsize = 12)\n",
    "ax.set_ylabel(\"Acertos\", fontsize = 12)\n",
    "ax.set_xticks(dfComparaAlgoritmo.Algoritmo) \n",
    "plt.xticks(rotation=90)\n",
    "ax.bar_label(ax.containers[0])\n",
    "# Salvando a figura no disco\n",
    "plt.savefig(\"Dados\\Churn-in-Telecom\\Acertos dos algoritmos com os dados \" + apresentacaoDosDados + \".jpg\", bbox_inches='tight')\n",
    "plt.show()"
   ]
  },
  {
   "cell_type": "markdown",
   "metadata": {},
   "source": [
    "## 13 - Salvando e carregando o modelo"
   ]
  },
  {
   "cell_type": "markdown",
   "metadata": {},
   "source": [
    "### 13.1 - Salvando o modelo"
   ]
  },
  {
   "cell_type": "code",
   "execution_count": null,
   "metadata": {},
   "outputs": [],
   "source": [
    "# Salvando o modelo\n",
    "arquivo = 'Dados/Churn-in-Telecom/modeloClassificadorFinal.sav'\n",
    "pickle.dump(modeloFinal, open(arquivo, 'wb'))\n",
    "print(\"Modelo salvo!\")"
   ]
  },
  {
   "cell_type": "markdown",
   "metadata": {},
   "source": [
    "### 13.2 - Carregando o modelo"
   ]
  },
  {
   "cell_type": "code",
   "execution_count": null,
   "metadata": {},
   "outputs": [],
   "source": [
    "# Carregando o modelo\n",
    "modeloClassificador = pickle.load(open(arquivo, 'rb'))\n",
    "print(\"Modelo carregado!\")\n",
    "modeloClassificador"
   ]
  },
  {
   "cell_type": "markdown",
   "metadata": {},
   "source": [
    "### 13.3 - Salvando o objeto de normalização/padronização dos dados"
   ]
  },
  {
   "cell_type": "code",
   "execution_count": null,
   "metadata": {},
   "outputs": [],
   "source": [
    "# Os dados podem estar com apresentação \"Originais\", \"Normalizados\" ou \"Padronizados\"\n",
    "if apresentacaoDosDados == \"Normalizados\":\n",
    "    arquivoNormalizador = 'Dados/Churn-in-Telecom/normalizador.sav'\n",
    "    pickle.dump(min_max_scaler, open(arquivoNormalizador, 'wb'))\n",
    "    print(\"Normalizador salvo!\")\n",
    "elif apresentacaoDosDados == \"Padronizados\":\n",
    "    arquivoPadronizador = 'Dados/Churn-in-Telecom/padronizador.sav'\n",
    "    pickle.dump(scaler, open(arquivoPadronizador, 'wb'))\n",
    "    print(\"Padronizador salvo!\")"
   ]
  },
  {
   "cell_type": "markdown",
   "metadata": {},
   "source": [
    "## 14 - Validando o modelo"
   ]
  },
  {
   "cell_type": "code",
   "execution_count": null,
   "metadata": {},
   "outputs": [],
   "source": [
    "# Visualizando o dataframe\n",
    "dfValidacao"
   ]
  },
  {
   "cell_type": "code",
   "execution_count": null,
   "metadata": {},
   "outputs": [],
   "source": [
    "# Convertendo as variáveis categóricas de texto para números\n",
    "# Cria o objeto encoder\n",
    "encoder = LabelEncoder()\n",
    "\n",
    "# loop que percorre as colunas\n",
    "for k in dfValidacao.columns[0:19]:\n",
    "    \n",
    "    # Verifica se os valores da coluna são do tipo texto\n",
    "    if dfValidacao[k].dtype == object:\n",
    "        dfValidacao[k] = encoder.fit_transform(dfValidacao[k])\n",
    "dfValidacao"
   ]
  },
  {
   "cell_type": "code",
   "execution_count": null,
   "metadata": {},
   "outputs": [],
   "source": [
    "# Faz as previsões dos novos dados\n",
    "\n",
    "if apresentacaoDosDados == \"Originais\":\n",
    "    novosDados = dfValidacao[variaveisSelecionadas].values\n",
    "    # Fazendo previsões\n",
    "    previsoes = modeloClassificador.predict(novosDados)\n",
    "\n",
    "elif apresentacaoDosDados == \"Normalizados\":\n",
    "    # Carregando o objeto de normalização dos dados\n",
    "    normalizador = pickle.load(open(arquivoNormalizador, 'rb'))\n",
    "    # Normalizando os novos dados\n",
    "    novosDados = dfValidacao[variaveisSelecionadas].values\n",
    "    novosDadosNormalizados = normalizador.transform(novosDados)\n",
    "    previsoes = modeloClassificador.predict(novosDadosNormalizados)\n",
    "\n",
    "else:\n",
    "    # Carregando o objeto de padronização dos dados\n",
    "    padronizador = pickle.load(open(arquivoPadronizador, 'rb'))\n",
    "    # Padronizando os novos dados\n",
    "    novosDados = dfValidacao[variaveisSelecionadas].values\n",
    "    novosDadosPadronizados = padronizador.transform(novosDados)\n",
    "    # Fazendo previsões\n",
    "    previsoes = modeloClassificador.predict(novosDadosPadronizados)\n",
    "\n",
    "previsoes"
   ]
  }
 ],
 "metadata": {
  "kernelspec": {
   "display_name": "Python 3 (ipykernel)",
   "language": "python",
   "name": "python3"
  },
  "language_info": {
   "codemirror_mode": {
    "name": "ipython",
    "version": 3
   },
   "file_extension": ".py",
   "mimetype": "text/x-python",
   "name": "python",
   "nbconvert_exporter": "python",
   "pygments_lexer": "ipython3",
   "version": "3.9.13"
  }
 },
 "nbformat": 4,
 "nbformat_minor": 4
}
