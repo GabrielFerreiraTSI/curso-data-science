{
 "cells": [
  {
   "cell_type": "markdown",
   "metadata": {},
   "source": [
    "# <font color='blue'>Python Fundamentos - NumPy</font>"
   ]
  },
  {
   "cell_type": "code",
   "execution_count": 15,
   "metadata": {},
   "outputs": [
    {
     "name": "stdout",
     "output_type": "stream",
     "text": [
      "Versão da Linguagem Python Usada Neste Jupyter Notebook: 3.9.13\n"
     ]
    }
   ],
   "source": [
    "# Versão da Linguagem Python\n",
    "from platform import python_version\n",
    "print('Versão da Linguagem Python Usada Neste Jupyter Notebook:', python_version())"
   ]
  },
  {
   "cell_type": "markdown",
   "metadata": {
    "tags": []
   },
   "source": [
    "## NumPy\n",
    "<details>\n",
    "    <summary>\n",
    "        <a class=\"btnfire small stroke\"><em class=\"fas fa-chevron-circle-down\"></em>&nbsp;&nbsp;Clique para mais detalhes</a>\n",
    "    </summary>\n",
    "    <br>\n",
    "   \n",
    "NumPy é um pacote para computação científica em Python. <br>\n",
    "É uma biblioteca Python que fornece um objeto do tipo array. <br>\n",
    "Um array pode ter uma ou várias dimensões (vetores ou matrizes). <br>\n",
    "No núcleo do pacote NumPy, está o objeto ndarray. <br>\n",
    "Existem algumas diferenças importantes entre as matrizes NumPy e as sequências Python padrão: <br>\n",
    "\n",
    "- O array NumPy é criado com um tamanho fixo, ao contrário das listas Python, que podem crescer dinamicamente. Alterar o tamanho de um ndarray criará um novo array e excluirá o original. <br>\n",
    "- Os elementos em um array NumPy devem ser todos do mesmo tipo de dado e, portanto, terão o mesmo tamanho na memória. Um objeto do tipo lista pode ter elementos de qualquer tipo de dado. <br>\n",
    "- Os arrays NumPy facilitam operações matemáticas avançadas e outros tipos de operações em um grande número de dados. Normalmente, essas operações são executadas de forma mais eficiente, mais rápida e com menos código do que quando utilizando objetos do tipo lista. \n",
    "\n",
    "</details>"
   ]
  },
  {
   "cell_type": "code",
   "execution_count": 16,
   "metadata": {},
   "outputs": [
    {
     "name": "stdout",
     "output_type": "stream",
     "text": [
      "Defaulting to user installation because normal site-packages is not writeable\n",
      "Requirement already satisfied: numpy in c:\\users\\gabriel\\appdata\\local\\packages\\pythonsoftwarefoundation.python.3.12_qbz5n2kfra8p0\\localcache\\local-packages\\python312\\site-packages (2.0.1)\n"
     ]
    },
    {
     "ename": "ModuleNotFoundError",
     "evalue": "No module named 'numpy'",
     "output_type": "error",
     "traceback": [
      "\u001b[1;31m---------------------------------------------------------------------------\u001b[0m",
      "\u001b[1;31mModuleNotFoundError\u001b[0m                       Traceback (most recent call last)",
      "Cell \u001b[1;32mIn[16], line 3\u001b[0m\n\u001b[0;32m      1\u001b[0m \u001b[38;5;66;03m# Importando o pacote NumPy\u001b[39;00m\n\u001b[0;32m      2\u001b[0m get_ipython()\u001b[38;5;241m.\u001b[39msystem(\u001b[38;5;124m'\u001b[39m\u001b[38;5;124mpip install numpy\u001b[39m\u001b[38;5;124m'\u001b[39m)\n\u001b[1;32m----> 3\u001b[0m \u001b[38;5;28;01mimport\u001b[39;00m \u001b[38;5;21;01mnumpy\u001b[39;00m \u001b[38;5;28;01mas\u001b[39;00m \u001b[38;5;21;01mnp\u001b[39;00m\n",
      "\u001b[1;31mModuleNotFoundError\u001b[0m: No module named 'numpy'"
     ]
    }
   ],
   "source": [
    "# Importando o pacote NumPy\n",
    "!pip install numpy\n",
    "import numpy as np"
   ]
  },
  {
   "cell_type": "markdown",
   "metadata": {
    "tags": []
   },
   "source": [
    "### Criando Arrays\n",
    "É possível criar um array a partir de uma lista ou uma tupla usando o método array."
   ]
  },
  {
   "cell_type": "code",
   "execution_count": null,
   "metadata": {},
   "outputs": [],
   "source": [
    "# Criando um array com uma dimensão (com um axis) a partir de uma lista\n",
    "vetor1 = np.array([2, 3, 4, 5, 6, 7, 8, 9])\n",
    "vetor1"
   ]
  },
  {
   "cell_type": "code",
   "execution_count": null,
   "metadata": {},
   "outputs": [],
   "source": [
    "# Criando um array com uma dimensão (com um axis) a partir de uma tupla\n",
    "vetor2 = np.array((10, 11, 12, 13, 14, 15, 16, 17, 18))\n",
    "vetor2"
   ]
  },
  {
   "cell_type": "code",
   "execution_count": null,
   "metadata": {},
   "outputs": [],
   "source": [
    "# Criando um array com duas dimensões (com dois axes) sendo 2 linhas e 3 colunas utilizando uma lista de listas\n",
    "# Cada lista é uma linha da matriz e a quantidade de elementos de uma lista, define o número de colunas\n",
    "# O primeiro axis (linhas) tem tamanho 2\n",
    "# O segundo axis (colunas) tem tamanho 3\n",
    "matriz1 = np.array([[10, 20, 30], [40, 50, 60]])\n",
    "matriz1"
   ]
  },
  {
   "cell_type": "code",
   "execution_count": null,
   "metadata": {},
   "outputs": [],
   "source": [
    "# Criando um array com duas dimensões (com dois axes) sendo 3 linhas e 2 colunas utilizando uma lista de tuplas\n",
    "# Cada tupla é uma linha e a quantidade de elementos das tuplas é o número de colunas.\n",
    "# O primeiro axis (linhas) tem tamanho 3\n",
    "# O segundo axis (colunas) tem tamanho 2\n",
    "matriz2 = np.array([(15, 25), (35, 45), (55, 65)])\n",
    "matriz2"
   ]
  },
  {
   "cell_type": "code",
   "execution_count": null,
   "metadata": {},
   "outputs": [],
   "source": [
    "# Verificando o tipo de dado\n",
    "type(matriz2)"
   ]
  },
  {
   "cell_type": "markdown",
   "metadata": {},
   "source": [
    "### Slicing\n",
    "Os arrays com uma dimensão podem ser indexados e fatiados de maneira muito semelhante às listas e outras sequências Python. <br>\n",
    "Arrays multidimensionais possuem um índice por dimensão"
   ]
  },
  {
   "cell_type": "code",
   "execution_count": null,
   "metadata": {},
   "outputs": [],
   "source": [
    "# Imprimindo o array\n",
    "vetor1"
   ]
  },
  {
   "cell_type": "code",
   "execution_count": null,
   "metadata": {},
   "outputs": [],
   "source": [
    "# Recuperando o primeiro elemento do array\n",
    "vetor1[0]"
   ]
  },
  {
   "cell_type": "code",
   "execution_count": null,
   "metadata": {},
   "outputs": [],
   "source": [
    "# Recuperando os elementos da posição 0 até a posição 3\n",
    "vetor1[0:3]"
   ]
  },
  {
   "cell_type": "code",
   "execution_count": null,
   "metadata": {},
   "outputs": [],
   "source": [
    "# Imprimindo o array\n",
    "matriz1"
   ]
  },
  {
   "cell_type": "code",
   "execution_count": null,
   "metadata": {},
   "outputs": [],
   "source": [
    "# Recuperando o elemento que está na primeira linha e na primeira coluna\n",
    "matriz1[0, 0]"
   ]
  },
  {
   "cell_type": "code",
   "execution_count": null,
   "metadata": {},
   "outputs": [],
   "source": [
    "# Recuperando o elemento que está na segunda linha e na terceira coluna\n",
    "matriz1[1, 2]"
   ]
  },
  {
   "cell_type": "code",
   "execution_count": null,
   "metadata": {},
   "outputs": [],
   "source": [
    "# Alterando o elemento que está na primeira linha e segunda coluna\n",
    "matriz1[0, 1] = 88\n",
    "matriz1"
   ]
  },
  {
   "cell_type": "code",
   "execution_count": null,
   "metadata": {},
   "outputs": [],
   "source": [
    "# Imprimindo o array\n",
    "matriz2"
   ]
  },
  {
   "cell_type": "code",
   "execution_count": null,
   "metadata": {},
   "outputs": [],
   "source": [
    "# Recuperando as linhas 0, 1 e 2 da primeira coluna\n",
    "matriz2[0:3, 0]"
   ]
  },
  {
   "cell_type": "code",
   "execution_count": null,
   "metadata": {},
   "outputs": [],
   "source": [
    "# Imprimindo o array\n",
    "matriz1"
   ]
  },
  {
   "cell_type": "code",
   "execution_count": null,
   "metadata": {},
   "outputs": [],
   "source": [
    "# Recuperando todas as linhas da segunda e terceira coluna.\n",
    "# O número ao lado direito do sinal de dois pontos é exclusivo\n",
    "matriz1[:, 1:3]"
   ]
  },
  {
   "cell_type": "markdown",
   "metadata": {},
   "source": [
    "### Métodos e atributos de um array"
   ]
  },
  {
   "cell_type": "code",
   "execution_count": null,
   "metadata": {},
   "outputs": [],
   "source": [
    "# Verificando a quantidade de dimensões de um array\n",
    "vetor2.ndim"
   ]
  },
  {
   "cell_type": "code",
   "execution_count": null,
   "metadata": {},
   "outputs": [],
   "source": [
    "# Verificando a quantidade de dimensões de um array\n",
    "matriz1.ndim"
   ]
  },
  {
   "cell_type": "code",
   "execution_count": null,
   "metadata": {},
   "outputs": [],
   "source": [
    "# Imprimindo um array\n",
    "vetor2"
   ]
  },
  {
   "cell_type": "code",
   "execution_count": null,
   "metadata": {},
   "outputs": [],
   "source": [
    "# Verificando o formato de um array\n",
    "vetor2.shape"
   ]
  },
  {
   "cell_type": "code",
   "execution_count": null,
   "metadata": {},
   "outputs": [],
   "source": [
    "# Imprimindo um array\n",
    "matriz1"
   ]
  },
  {
   "cell_type": "code",
   "execution_count": null,
   "metadata": {},
   "outputs": [],
   "source": [
    "# Verificando o formato de um array\n",
    "matriz1.shape"
   ]
  },
  {
   "cell_type": "code",
   "execution_count": null,
   "metadata": {},
   "outputs": [],
   "source": [
    "# Imprimindo um array\n",
    "matriz2"
   ]
  },
  {
   "cell_type": "code",
   "execution_count": null,
   "metadata": {},
   "outputs": [],
   "source": [
    "# Verificando o formato de um array\n",
    "matriz2.shape"
   ]
  },
  {
   "cell_type": "code",
   "execution_count": null,
   "metadata": {},
   "outputs": [],
   "source": [
    "# Verificando o tipo de dado dos elementos de um array\n",
    "matriz2.dtype"
   ]
  },
  {
   "cell_type": "code",
   "execution_count": null,
   "metadata": {},
   "outputs": [],
   "source": [
    "# Retorna a quantidade de elementos de um array\n",
    "matriz2.size"
   ]
  },
  {
   "cell_type": "code",
   "execution_count": null,
   "metadata": {},
   "outputs": [],
   "source": [
    "# Retorna a soma dos elementos de um array\n",
    "matriz2.sum()"
   ]
  },
  {
   "cell_type": "code",
   "execution_count": null,
   "metadata": {},
   "outputs": [],
   "source": [
    "# Imprimindo um array\n",
    "matriz1"
   ]
  },
  {
   "cell_type": "code",
   "execution_count": null,
   "metadata": {},
   "outputs": [],
   "source": [
    "# Retorna a soma de cada COLUNA\n",
    "matriz1.sum(axis=0)"
   ]
  },
  {
   "cell_type": "code",
   "execution_count": null,
   "metadata": {},
   "outputs": [],
   "source": [
    "# Retorna a soma de cada LINHA\n",
    "matriz1.sum(axis=1)"
   ]
  },
  {
   "cell_type": "code",
   "execution_count": null,
   "metadata": {},
   "outputs": [],
   "source": [
    "# Imprimindo um array\n",
    "vetor2"
   ]
  },
  {
   "cell_type": "code",
   "execution_count": null,
   "metadata": {},
   "outputs": [],
   "source": [
    "# Retorna a soma acumulada dos elementos de um array\n",
    "vetor2.cumsum()"
   ]
  },
  {
   "cell_type": "code",
   "execution_count": null,
   "metadata": {},
   "outputs": [],
   "source": [
    "# Retorna a média dos elementos de um array\n",
    "vetor2.mean()"
   ]
  },
  {
   "cell_type": "code",
   "execution_count": null,
   "metadata": {},
   "outputs": [],
   "source": [
    "# Retorna a mediana dos elementos de um array\n",
    "np.median(vetor2)"
   ]
  },
  {
   "cell_type": "code",
   "execution_count": null,
   "metadata": {},
   "outputs": [],
   "source": [
    "# Retorna a variância dos elementos de um array.\n",
    "# A variância indica a distância que os valores se encontram em relação à média. \n",
    "vetor2.var()"
   ]
  },
  {
   "cell_type": "code",
   "execution_count": null,
   "metadata": {},
   "outputs": [],
   "source": [
    "# Retorna o desvio padrão dos elementos de um array.\n",
    "# O desvio padrão é a raiz quadrada da variância\n",
    "vetor2.std()"
   ]
  },
  {
   "cell_type": "code",
   "execution_count": null,
   "metadata": {},
   "outputs": [],
   "source": [
    "# Retornando o valor máximo e mínimo dos elementos de um array\n",
    "print(\"O maior valor é\", vetor2.max(), \"e o menor valor é\", vetor2.min())"
   ]
  },
  {
   "cell_type": "code",
   "execution_count": null,
   "metadata": {},
   "outputs": [],
   "source": [
    "# Criando um array com valores sequenciais. Parecido com a função buil-in range\n",
    "# [start: end: step]\n",
    "vetor3 = np.arange(2, 20, 2)\n",
    "vetor3"
   ]
  },
  {
   "cell_type": "code",
   "execution_count": null,
   "metadata": {},
   "outputs": [],
   "source": [
    "# Criando um array com valores sequenciais.\n",
    "vetor4 = np.arange(10)\n",
    "vetor4"
   ]
  },
  {
   "cell_type": "code",
   "execution_count": null,
   "metadata": {},
   "outputs": [],
   "source": [
    "# Criando um array de duas dimensões com valores sequenciais.\n",
    "matriz3 = np.arange(12).reshape(3, 4)\n",
    "matriz3"
   ]
  },
  {
   "cell_type": "code",
   "execution_count": null,
   "metadata": {},
   "outputs": [],
   "source": [
    "# Mudando formato do array\n",
    "matriz3.reshape(6, 2)"
   ]
  },
  {
   "cell_type": "code",
   "execution_count": null,
   "metadata": {},
   "outputs": [],
   "source": [
    "# Mudando formato do array informando apenas a quantidade de linhas\n",
    "matriz3.reshape(2, -1)"
   ]
  },
  {
   "cell_type": "code",
   "execution_count": null,
   "metadata": {},
   "outputs": [],
   "source": [
    "# Mudando formato do array informando apenas a quantidade de colunas\n",
    "matriz3.reshape(-1, 3)"
   ]
  },
  {
   "cell_type": "code",
   "execution_count": null,
   "metadata": {},
   "outputs": [],
   "source": [
    "# Converte uma matriz em um vetor\n",
    "matriz3.flatten()"
   ]
  },
  {
   "cell_type": "code",
   "execution_count": null,
   "metadata": {},
   "outputs": [],
   "source": [
    "# Criando um vetor com números aleatórios\n",
    "# [start: end: size]\n",
    "vetor5 = np.random.randint(5, 100, size=8)\n",
    "vetor5"
   ]
  },
  {
   "cell_type": "code",
   "execution_count": null,
   "metadata": {},
   "outputs": [],
   "source": [
    "# Criando um array de duas dimensões com valores aleatórios.\n",
    "matriz4 = np.random.randint(1, 1000, size=15).reshape(5, 3)\n",
    "matriz4"
   ]
  },
  {
   "cell_type": "code",
   "execution_count": null,
   "metadata": {},
   "outputs": [],
   "source": [
    "# Criando um vetor especificando a quantidade de elementos dentro de um intervalo.\n",
    "# O último elemento é inclusivo.\n",
    "vetor6 = np.linspace(1, 100, 20)\n",
    "vetor6"
   ]
  },
  {
   "cell_type": "code",
   "execution_count": null,
   "metadata": {},
   "outputs": [],
   "source": [
    "# Criando uma matriz de zeros\n",
    "matrizZeros = np.zeros((4, 6))\n",
    "matrizZeros"
   ]
  },
  {
   "cell_type": "code",
   "execution_count": null,
   "metadata": {},
   "outputs": [],
   "source": [
    "# Criando uma matriz com todos os elementos iguais a 1\n",
    "matrizUm = np.ones([4, 4])\n",
    "matrizUm"
   ]
  },
  {
   "cell_type": "code",
   "execution_count": null,
   "metadata": {},
   "outputs": [],
   "source": [
    "# Contar valores únicos no array NumPy\n",
    "np.unique(matrizZeros, return_counts=True)"
   ]
  },
  {
   "cell_type": "code",
   "execution_count": null,
   "metadata": {},
   "outputs": [],
   "source": [
    "# Imprimindo uma variável\n",
    "matriz2"
   ]
  },
  {
   "cell_type": "code",
   "execution_count": null,
   "metadata": {},
   "outputs": [],
   "source": [
    "# Inserindo uma nova linha na matriz\n",
    "matriz2 = np.append(matriz2, [[1,2]], axis=0)\n",
    "matriz2"
   ]
  },
  {
   "cell_type": "code",
   "execution_count": null,
   "metadata": {},
   "outputs": [],
   "source": [
    "# Inserindo uma nova coluna na matriz\n",
    "matriz2 = np.append(matriz2, [[1],[2],[3], [4]], axis=1)\n",
    "matriz2"
   ]
  },
  {
   "cell_type": "markdown",
   "metadata": {},
   "source": [
    "### Operações básicas"
   ]
  },
  {
   "cell_type": "code",
   "execution_count": null,
   "metadata": {},
   "outputs": [],
   "source": [
    "# Criando dois arrays com uma dimensão\n",
    "v1 = np.array([20, 30, 40, 50])\n",
    "v2 = np.arange(4)\n",
    "print(v1)\n",
    "print(v2)"
   ]
  },
  {
   "cell_type": "code",
   "execution_count": null,
   "metadata": {},
   "outputs": [],
   "source": [
    "# Somando os arrays\n",
    "v1 + v2"
   ]
  },
  {
   "cell_type": "code",
   "execution_count": null,
   "metadata": {},
   "outputs": [],
   "source": [
    "# Subtraindo os arrays\n",
    "v1 - v2"
   ]
  },
  {
   "cell_type": "code",
   "execution_count": null,
   "metadata": {},
   "outputs": [],
   "source": [
    "# Comparando arrays\n",
    "v1 == v2"
   ]
  },
  {
   "cell_type": "code",
   "execution_count": null,
   "metadata": {},
   "outputs": [],
   "source": [
    "# Elevando cada elemento a uma determinada potência\n",
    "v2**2"
   ]
  },
  {
   "cell_type": "code",
   "execution_count": null,
   "metadata": {},
   "outputs": [],
   "source": [
    "# Multiplicando elementos de dois arrays\n",
    "v1 * v2"
   ]
  },
  {
   "cell_type": "code",
   "execution_count": null,
   "metadata": {},
   "outputs": [],
   "source": [
    "# Criando matrizes\n",
    "m1 = np.array([[5, 2],\n",
    "               [0, 1]])\n",
    "m2 = np.array([[2, 0],\n",
    "               [3, 4]])"
   ]
  },
  {
   "cell_type": "code",
   "execution_count": null,
   "metadata": {},
   "outputs": [],
   "source": [
    "# Multiplicação de matrizes\n",
    "m1.dot(m2)"
   ]
  },
  {
   "cell_type": "markdown",
   "metadata": {
    "tags": []
   },
   "source": [
    "### Exercícios"
   ]
  },
  {
   "cell_type": "markdown",
   "metadata": {},
   "source": [
    "1 - Faça uma função chamada gera matriz que recebe como parâmetros de entrada (a, b, c, m) e que\n",
    "tem como retorno um array Numpy de formato m × m (matriz quadrada), onde os elementos são os c\n",
    "números igualmente espaçados obtidos ao se dividir o intervalo [a, b]. Caso não seja\n",
    "possível construir tal array, a função deve retornar a mensagem \"Não é possível\n",
    "construir a matriz\".\n"
   ]
  },
  {
   "cell_type": "code",
   "execution_count": null,
   "metadata": {},
   "outputs": [],
   "source": [
    "# Importando o pacote NumPy\n",
    "import numpy as np"
   ]
  },
  {
   "cell_type": "code",
   "execution_count": null,
   "metadata": {},
   "outputs": [],
   "source": [
    "# Definindo a função\n",
    "def geraMatriz1(a, b, c, m):\n",
    "    if (m * m == c):\n",
    "        return np.random.randint(a, b, size=c).reshape(m, m)\n",
    "    else:\n",
    "        print(\"Não é possível construir a matriz\")"
   ]
  },
  {
   "cell_type": "code",
   "execution_count": null,
   "metadata": {},
   "outputs": [],
   "source": [
    "# Chamando a função\n",
    "geraMatriz1(0, 10, 16, 4)"
   ]
  },
  {
   "cell_type": "code",
   "execution_count": null,
   "metadata": {},
   "outputs": [],
   "source": [
    "# Chamando a função\n",
    "geraMatriz1(0, 10, 20, 4)"
   ]
  },
  {
   "cell_type": "markdown",
   "metadata": {
    "tags": []
   },
   "source": [
    "### Tratamento de Exceções\n",
    "Uma exceção ocorre quando o código está sendo executado.<br>\n",
    "O código está sintaticamente correto, mas apresenta erro durante a execução."
   ]
  },
  {
   "cell_type": "code",
   "execution_count": null,
   "metadata": {},
   "outputs": [],
   "source": [
    "# Não é possível criar uma matriz com uma quantidade de elementos que não cabe no seu formato\n",
    "#np.random.randint(0, 10, size=20).reshape(4, 4)\n",
    "# Para resolver este problema podemos fazer de duas maneiras, trocar o valor do tamanho para 16 ou alterar o reshape para 5x4\n",
    "matriz = np.random.randint(0, 10, size=20).reshape(5, 4)"
   ]
  },
  {
   "cell_type": "code",
   "execution_count": null,
   "metadata": {},
   "outputs": [],
   "source": [
    "# Definindo a função\n",
    "def geraMatriz2(a, b, c, m):\n",
    "    try:\n",
    "        return np.random.randint(a, b, size=c).reshape(m, m)\n",
    "    except ValueError as mensagemValueError: # Erro de valor\n",
    "        print(mensagemValueError)\n",
    "    except IOError as mensagemIOError: # Erro de entrada e saída\n",
    "        print(mensagemIOError)\n",
    "    except ZeroDivisionError as mensagemZeroDivisionError: # divisão por zero\n",
    "        print(mensagemZeroDivisionError)\n",
    "    except NameError as mensagemNameError: # variável não foi definida: \n",
    "        print(mensagemNameError)\n",
    "    else:\n",
    "        print(\"Não é possível criar a matriz\")"
   ]
  },
  {
   "cell_type": "code",
   "execution_count": null,
   "metadata": {},
   "outputs": [],
   "source": [
    "# Chamando a função\n",
    "geraMatriz2(1, 100, 10, 4)"
   ]
  },
  {
   "cell_type": "markdown",
   "metadata": {},
   "source": [
    "2 - Modifique a função do exercício anterior para imprimir:<br>\n",
    "- a matriz criada; <br>\n",
    "- a média e o desvio padrão das linhas; <br>\n",
    "- a média e desvio padrão das colunas."
   ]
  },
  {
   "cell_type": "code",
   "execution_count": null,
   "metadata": {},
   "outputs": [],
   "source": [
    "# Definindo a função\n",
    "def geraMatriz3(a, b, c, m):\n",
    "    seed = np.random.seed(5)\n",
    "    try:\n",
    "        matriz = np.random.randint(a, b, size=c).reshape(m, m)\n",
    "        print(matriz)\n",
    "        print(\"Média das linhas:\", matriz.mean(axis=1))\n",
    "        print(\"Desvio padrão das linhas:\", matriz.std(axis=1))\n",
    "        print(\"Média das colunas:\", matriz.mean(axis=0))\n",
    "        print(\"Desvio padrão das colunas:\", matriz.std(axis=0))\n",
    "    except ValueError as mensagemValueError:\n",
    "        print(mensagemValueError)"
   ]
  },
  {
   "cell_type": "code",
   "execution_count": null,
   "metadata": {},
   "outputs": [],
   "source": [
    "# Chamando a função\n",
    "geraMatriz3(1, 100, 16, 4)"
   ]
  },
  {
   "cell_type": "markdown",
   "metadata": {},
   "source": [
    "3 - Modifique a função do exercício anterior para retornar uma matriz com a média e o desvio padrão das linhas e colunas."
   ]
  },
  {
   "cell_type": "code",
   "execution_count": null,
   "metadata": {},
   "outputs": [],
   "source": [
    "# Definindo a função\n",
    "def geraMatriz4(a, b, c, m):\n",
    "    np.random.seed(5)\n",
    "    try:\n",
    "        matriz = np.random.randint(a, b, size=c).reshape(m, m)\n",
    "        print(matriz)\n",
    "        print(\"Média das linhas:\", matriz.mean(axis=1))\n",
    "        print(\"Desvio padrão das linhas:\", matriz.std(axis=1))\n",
    "        print(\"Média das colunas:\", matriz.mean(axis=0))\n",
    "        print(\"Desvio padrão das colunas:\", matriz.std(axis=0))\n",
    "        \n",
    "        return np.array([(matriz.mean(axis=1)), (matriz.std(axis=1)), (matriz.mean(axis=0)), (matriz.std(axis=0))])\n",
    "    except ValueError as mensagemValueError:\n",
    "        print(mensagemValueError)"
   ]
  },
  {
   "cell_type": "code",
   "execution_count": null,
   "metadata": {},
   "outputs": [],
   "source": [
    "# Chamando a função\n",
    "geraMatriz4(1, 100, 25, 5)"
   ]
  },
  {
   "cell_type": "markdown",
   "metadata": {},
   "source": [
    "4 - Utilize a função do exercício anterior para gerar uma matriz. A partir dessa matriz gerada, utilize o conceito de fatiamento para criar uma nova matriz com os valores das duas últimas colunas."
   ]
  },
  {
   "cell_type": "code",
   "execution_count": null,
   "metadata": {},
   "outputs": [],
   "source": [
    "# Chamando a função\n",
    "m = geraMatriz4(1, 100, 25, 5)\n",
    "m"
   ]
  },
  {
   "cell_type": "code",
   "execution_count": null,
   "metadata": {},
   "outputs": [],
   "source": [
    "# Criando uma nova matriz utilizando fatiamento\n",
    "m2 = m[:, 3:5]\n",
    "m2"
   ]
  },
  {
   "cell_type": "code",
   "execution_count": null,
   "metadata": {},
   "outputs": [],
   "source": []
  }
 ],
 "metadata": {
  "kernelspec": {
   "display_name": "Python 3 (ipykernel)",
   "language": "python",
   "name": "python3"
  },
  "language_info": {
   "codemirror_mode": {
    "name": "ipython",
    "version": 3
   },
   "file_extension": ".py",
   "mimetype": "text/x-python",
   "name": "python",
   "nbconvert_exporter": "python",
   "pygments_lexer": "ipython3",
   "version": "3.9.13"
  }
 },
 "nbformat": 4,
 "nbformat_minor": 4
}
