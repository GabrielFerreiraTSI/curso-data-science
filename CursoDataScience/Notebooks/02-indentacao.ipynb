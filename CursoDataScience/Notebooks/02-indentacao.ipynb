{
 "cells": [
  {
   "cell_type": "code",
   "execution_count": null,
   "metadata": {},
   "outputs": [],
   "source": [
    "'''\n",
    "esse texto é uma string \n",
    "com várias linhas\n",
    "Função que calcula a divisão de dois números\n",
    "'''\n",
    "def divisao(a, b): # primeiro nível hierárquico\n",
    "    if b != 0: # segundo nível hierárquico\n",
    "        resultado = a/b # terceiro nível hierárquico\n",
    "        print(resultado)\n",
    "     else: \n",
    "        print(\"Divisão por zero\")"
   ]
  }
 ],
 "metadata": {
  "kernelspec": {
   "display_name": "Python 3 (ipykernel)",
   "language": "python",
   "name": "python3"
  },
  "language_info": {
   "codemirror_mode": {
    "name": "ipython",
    "version": 3
   },
   "file_extension": ".py",
   "mimetype": "text/x-python",
   "name": "python",
   "nbconvert_exporter": "python",
   "pygments_lexer": "ipython3",
   "version": "3.9.13"
  }
 },
 "nbformat": 4,
 "nbformat_minor": 4
}
