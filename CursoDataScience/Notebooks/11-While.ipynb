{
 "cells": [
  {
   "cell_type": "markdown",
   "metadata": {},
   "source": [
    "# <font color='blue'>Python Fundamentos - Estrutura de repetição WHILE</font>"
   ]
  },
  {
   "cell_type": "code",
   "execution_count": null,
   "metadata": {},
   "outputs": [],
   "source": [
    "# Versão da Linguagem Python\n",
    "from platform import python_version\n",
    "print('Versão da Linguagem Python Usada Neste Jupyter Notebook:', python_version())"
   ]
  },
  {
   "cell_type": "markdown",
   "metadata": {},
   "source": [
    "## Estrutura de repetição WHILE\n",
    "<details>\n",
    "    <summary>\n",
    "        <a class=\"btnfire small stroke\"><em class=\"fas fa-chevron-circle-down\"></em>&nbsp;&nbsp;Clique para mais detalhes</a>\n",
    "    </summary>\n",
    "    <br>\n",
    "\n",
    "A instrução **while** é usada para executar um código repetidamente, enquanto uma condição for verdadeira. <br>\n",
    "Exige indentação.\n",
    "    \n",
    "</details>"
   ]
  },
  {
   "cell_type": "code",
   "execution_count": null,
   "metadata": {},
   "outputs": [],
   "source": [
    "# Usando o loop while\n",
    "\n",
    "contador = 0\n",
    "while contador < 10:\n",
    "    print(contador)\n",
    "    contador += 1"
   ]
  },
  {
   "cell_type": "code",
   "execution_count": null,
   "metadata": {
    "scrolled": true,
    "tags": []
   },
   "outputs": [],
   "source": [
    "# O código entra em loop infinito quando o contador não é atualizado\n",
    "\n",
    "contador = 0\n",
    "while contador < 10:\n",
    "    print(contador)"
   ]
  },
  {
   "cell_type": "code",
   "execution_count": null,
   "metadata": {},
   "outputs": [],
   "source": [
    "# Usando a instrução ELSE.\n",
    "# O código da instrução ELSE é executado quando a condição da instrução WHILE for falsa\n",
    "\n",
    "contador = 0\n",
    "while contador < 10:\n",
    "    print(contador)\n",
    "    contador += 1\n",
    "else:\n",
    "    print(\"A variável contador chegou no número\", contador)"
   ]
  },
  {
   "cell_type": "code",
   "execution_count": null,
   "metadata": {},
   "outputs": [],
   "source": [
    "# Utilizando a instrução BREAK\n",
    "\n",
    "contador = 0\n",
    "while contador < 10:\n",
    "    if contador == 5:\n",
    "        break\n",
    "    print(contador)\n",
    "    contador = contador + 1\n",
    "else:\n",
    "    print(\"A variável contador chegou no número\", contador)"
   ]
  },
  {
   "cell_type": "code",
   "execution_count": null,
   "metadata": {},
   "outputs": [],
   "source": [
    "# Utilizando a instrução CONTINUE\n",
    "\n",
    "contador = 0\n",
    "while contador < 10:\n",
    "    if contador == 5:\n",
    "        contador += 1\n",
    "        continue\n",
    "    print(contador)\n",
    "    contador = contador + 1\n",
    "else:\n",
    "    print(\"A variável contador chegou no número\", contador)"
   ]
  },
  {
   "cell_type": "code",
   "execution_count": null,
   "metadata": {},
   "outputs": [],
   "source": [
    "# Execute o código enquanto a condição for verdadeira\n",
    "\n",
    "condicao = True\n",
    "contador = 0\n",
    "while condicao:\n",
    "    print(contador)\n",
    "    contador += 1\n",
    "    if contador == 7:\n",
    "        condicao = False\n",
    "else:\n",
    "    print(\"A condição se tornou falsa quando a variável contador chegou em\", contador)"
   ]
  },
  {
   "cell_type": "markdown",
   "metadata": {
    "tags": []
   },
   "source": [
    "### Exercícios"
   ]
  },
  {
   "cell_type": "markdown",
   "metadata": {},
   "source": [
    "1 - Escreva um programa que leia do teclado um número e calcule o seu fatorial. <br>\n",
    "Dica: <br>\n",
    "O fatorial de um número inteiro e positivo “n”, representado por “n!” é obtido a partir da multiplicação de todos os seus antecessores até o número um, cuja expressão genérica é n! = n * (n – 1). <br>\n",
    "Por definição, o fatorial de 1 é 1 e o fatorial de 0 também é 1."
   ]
  },
  {
   "cell_type": "code",
   "execution_count": 1,
   "metadata": {},
   "outputs": [
    {
     "name": "stdin",
     "output_type": "stream",
     "text": [
      "Digite um número inteiro e positivo:  4\n"
     ]
    }
   ],
   "source": [
    "# Lendo um número a partir do teclado\n",
    "numero = int(input(\"Digite um número inteiro e positivo: \"))"
   ]
  },
  {
   "cell_type": "code",
   "execution_count": 2,
   "metadata": {},
   "outputs": [
    {
     "name": "stdout",
     "output_type": "stream",
     "text": [
      "O fatorial de 4 é 24\n"
     ]
    }
   ],
   "source": [
    "# Declarando as variáveis\n",
    "n = numero\n",
    "resultado = numero\n",
    "\n",
    "while n > 1:\n",
    "    resultado *= n-1\n",
    "    n -= 1\n",
    "else:\n",
    "    if numero == 0 or numero == 1:\n",
    "        print(\"O fatorial de\", numero, \"é 1\")\n",
    "    else:\n",
    "        print(\"O fatorial de\", numero, \"é\", resultado)"
   ]
  },
  {
   "cell_type": "markdown",
   "metadata": {},
   "source": [
    "2 - Escreva um programa que gere cinco números aleatórios entre 2 e 10 e insira em uma lista. No final calcule e mostre a soma desses números. <br>\n",
    "Obs.: <br>\n",
    "1 - Não utilize a função sum() <br>\n",
    "2 - Utilize a estrutura de repetição while para calcular a soma"
   ]
  },
  {
   "cell_type": "code",
   "execution_count": 3,
   "metadata": {},
   "outputs": [],
   "source": [
    "# Importando a função randint do módulo random\n",
    "from random import randint"
   ]
  },
  {
   "cell_type": "code",
   "execution_count": 4,
   "metadata": {},
   "outputs": [
    {
     "name": "stdout",
     "output_type": "stream",
     "text": [
      "Foi gerado o número 7\n",
      "Foi gerado o número 4\n",
      "Foi gerado o número 4\n",
      "Foi gerado o número 6\n",
      "Foi gerado o número 5\n",
      "Números gerados: [7, 4, 4, 6, 5]\n"
     ]
    }
   ],
   "source": [
    "# Declarando as variáveis\n",
    "listaNumeros = []\n",
    "\n",
    "# Criando a lista com números aleatórios\n",
    "for k in range(5):\n",
    "    num = randint(1,10)\n",
    "    print(\"Foi gerado o número\", num)\n",
    "    listaNumeros.append(num)\n",
    "else:\n",
    "    print(\"Números gerados:\", listaNumeros)"
   ]
  },
  {
   "cell_type": "code",
   "execution_count": 5,
   "metadata": {},
   "outputs": [
    {
     "name": "stdout",
     "output_type": "stream",
     "text": [
      "A soma dos elementos da lista é 26\n"
     ]
    }
   ],
   "source": [
    "# Declarando as variáveis\n",
    "contador = 0\n",
    "soma = 0\n",
    "\n",
    "# Somando os elementos da lista\n",
    "while contador < len(listaNumeros):\n",
    "    soma += listaNumeros[contador]\n",
    "    contador += 1\n",
    "else:\n",
    "    print(\"A soma dos elementos da lista é\", soma)"
   ]
  },
  {
   "cell_type": "markdown",
   "metadata": {},
   "source": [
    "3 - Desenvolva um gerador de tabuada, capaz de gerar a tabuada de multiplicação de 1 a 10 de qualquer número inteiro. O usuário deve informar de qual número ele deseja ver a tabuada. "
   ]
  },
  {
   "cell_type": "code",
   "execution_count": 6,
   "metadata": {},
   "outputs": [
    {
     "name": "stdin",
     "output_type": "stream",
     "text": [
      "Informe um número inteiro: 8\n"
     ]
    }
   ],
   "source": [
    "# Lendo o número a partir do teclado\n",
    "numero = int(input(\"Informe um número inteiro:\"))"
   ]
  },
  {
   "cell_type": "code",
   "execution_count": 7,
   "metadata": {},
   "outputs": [
    {
     "name": "stdout",
     "output_type": "stream",
     "text": [
      "8 x 1 = 8\n",
      "8 x 2 = 16\n",
      "8 x 3 = 24\n",
      "8 x 4 = 32\n",
      "8 x 5 = 40\n",
      "8 x 6 = 48\n",
      "8 x 7 = 56\n",
      "8 x 8 = 64\n",
      "8 x 9 = 72\n",
      "8 x 10 = 80\n"
     ]
    }
   ],
   "source": [
    "# Declarando a variável\n",
    "contador = 1\n",
    "\n",
    "# Gerando a tabuada\n",
    "while contador <= 10:\n",
    "    print(numero, \"x\", contador, \"=\", numero*contador)\n",
    "    contador += 1"
   ]
  },
  {
   "cell_type": "code",
   "execution_count": null,
   "metadata": {},
   "outputs": [],
   "source": []
  }
 ],
 "metadata": {
  "kernelspec": {
   "display_name": "Python 3 (ipykernel)",
   "language": "python",
   "name": "python3"
  },
  "language_info": {
   "codemirror_mode": {
    "name": "ipython",
    "version": 3
   },
   "file_extension": ".py",
   "mimetype": "text/x-python",
   "name": "python",
   "nbconvert_exporter": "python",
   "pygments_lexer": "ipython3",
   "version": "3.9.13"
  }
 },
 "nbformat": 4,
 "nbformat_minor": 4
}
