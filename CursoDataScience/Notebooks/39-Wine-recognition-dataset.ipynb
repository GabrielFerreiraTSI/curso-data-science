{
 "cells": [
  {
   "cell_type": "markdown",
   "metadata": {},
   "source": [
    "# <font color='blue'>Wine Recognition Dataset</font>"
   ]
  },
  {
   "cell_type": "code",
   "execution_count": 1,
   "metadata": {},
   "outputs": [
    {
     "name": "stdout",
     "output_type": "stream",
     "text": [
      "Python Version: 3.9.13\n",
      "Pandas Version: 2.0.2\n",
      "Matplotlib Version: 3.7.1\n",
      "Seaborn Version: 0.12.2\n",
      "Sklearn Version: 1.2.2\n"
     ]
    }
   ],
   "source": [
    "# Versão da Linguagem Python\n",
    "from platform import python_version\n",
    "print('Python Version:', python_version())\n",
    "\n",
    "# Verificando as versões dos pacotes instalados\n",
    "pandasVersion = !pip show pandas\n",
    "matplotlibVersion = !pip show matplotlib\n",
    "seabornVersion = !pip show seaborn\n",
    "sklearnVersion = !pip show scikit-learn\n",
    "print('Pandas', pandasVersion[1])\n",
    "print(\"Matplotlib\", matplotlibVersion[1])\n",
    "print(\"Seaborn\", seabornVersion[1])\n",
    "print(\"Sklearn\", sklearnVersion[1])"
   ]
  },
  {
   "cell_type": "code",
   "execution_count": null,
   "metadata": {},
   "outputs": [],
   "source": [
    "# Instalando uma versão específica de um módulo\n",
    "!pip install pandas==2.0.2"
   ]
  },
  {
   "cell_type": "markdown",
   "metadata": {},
   "source": [
    "## 1 - Definição do Problema de Negócio\n",
    "<details>\n",
    "    <summary>\n",
    "        <a class=\"btnfire small stroke\"><em class=\"fas fa-chevron-circle-down\"></em>&nbsp;&nbsp;Clique para mais detalhes</a>\n",
    "    </summary>\n",
    "    <br>\n",
    "\n",
    "Wine recognition dataset foi obtido do UCI Machine Learning Repository, um repositório da Universidade da Califórnia, que fica situada na cidade de Irvine nos Estados Unidos. Este repositório possui diversos conjuntos de dados que estão disponíveis gratuitamente para download. <br>\n",
    "Endereço do conjunto de dados: https://archive.ics.uci.edu/ml/machine-learning-databases/wine/wine.data <br>\n",
    "Wine recognition dataset que chamaremos de conjunto de dados de reconhecimento de vinhos contém os resultados de uma análise química de vinhos cultivados em uma mesma região da Itália por três cultivadores diferentes. Existem treze variáveis que classificam três tipos de vinho. <br>\n",
    "**Variáveis**:<br>\n",
    "    \n",
    "- Alcohol: Álcool <br>\n",
    "- Malic acid: Ácido Málico<br>\n",
    "- Ash: Cinzas <br>\n",
    "- Alcalinity of ash: Alcalinidade das cinzas <br>\n",
    "- Magnesium: Magnesio <br>\n",
    "- Total phenols: Fenois totais <br>\n",
    "- Flavanoids: Flavonoides <br>\n",
    "- Nonflavanoid phenols: Fenois nao flavonoides <br>\n",
    "- Proanthocyanins: Proantocianinas <br>\n",
    "- Color intensity: Intensidade da cor <br>\n",
    "- Hue: Matiz <br>\n",
    "- OD280/OD315 of diluted wines: OD280/OD315 de vinhos diluidos <br>\n",
    "- Proline: Prolina\n",
    "\n",
    "</details>"
   ]
  },
  {
   "cell_type": "markdown",
   "metadata": {},
   "source": [
    "## 2 - Coletando os dados"
   ]
  },
  {
   "cell_type": "markdown",
   "metadata": {},
   "source": [
    "#### 2.1 - Importando as bibliotecas"
   ]
  },
  {
   "cell_type": "code",
   "execution_count": 2,
   "metadata": {},
   "outputs": [],
   "source": [
    "# Módulo do conjunto de dados\n",
    "from sklearn.datasets import load_wine\n",
    "\n",
    "# Manipulação e exploração do conjunto de dados\n",
    "import pandas as pd\n",
    "import numpy as np\n",
    "\n",
    "# Cálculos matemáticos\n",
    "import math\n",
    "\n",
    "# Plotagem de gráficos\n",
    "import seaborn as sns\n",
    "import matplotlib.pyplot as plt\n",
    "\n",
    "# Imputação de valores nulos\n",
    "from sklearn.impute import SimpleImputer\n",
    "\n",
    "# Converter variáveis categóricas em números\n",
    "from sklearn.preprocessing import LabelEncoder, OneHotEncoder\n",
    "\n",
    "# Balanceamento de classes\n",
    "from imblearn.over_sampling import SMOTE\n",
    "from imblearn.under_sampling import RandomUnderSampler \n",
    "\n",
    "# Seleção de variáveis\n",
    "from sklearn.feature_selection import RFE, SelectKBest\n",
    "\n",
    "# Pré-processamento dos dados\n",
    "from sklearn.preprocessing import MinMaxScaler, StandardScaler\n",
    "\n",
    "# Dividir dados de treino e teste\n",
    "from sklearn.model_selection import train_test_split\n",
    "\n",
    "# Buscar os melhores parâmetros que serão utilizados nos modelos preditivos\n",
    "from sklearn.model_selection import RandomizedSearchCV\n",
    "\n",
    "# Algoritmos de classificação\n",
    "from sklearn.linear_model import LogisticRegression\n",
    "from sklearn.discriminant_analysis import LinearDiscriminantAnalysis\n",
    "from sklearn.neighbors import KNeighborsClassifier\n",
    "from sklearn.naive_bayes import GaussianNB\n",
    "from sklearn.tree import DecisionTreeClassifier\n",
    "from sklearn.svm import SVC\n",
    "from sklearn.ensemble import RandomForestClassifier\n",
    "from sklearn.tree import ExtraTreeClassifier\n",
    "from sklearn.ensemble import BaggingClassifier\n",
    "from sklearn.ensemble import AdaBoostClassifier\n",
    "from sklearn.ensemble import VotingClassifier\n",
    "from sklearn.ensemble import GradientBoostingClassifier\n",
    "from xgboost import XGBClassifier\n",
    "\n",
    "# Métricas de avaliação dos modelos preditivos\n",
    "from sklearn.metrics import accuracy_score, confusion_matrix, ConfusionMatrixDisplay\n",
    "\n",
    "# Carregar e salvar objetos Python em arquivos no disco\n",
    "import pickle\n",
    "\n",
    "# Esse módulo ignara os avisos\n",
    "import warnings\n",
    "warnings.filterwarnings(\"ignore\")"
   ]
  },
  {
   "cell_type": "markdown",
   "metadata": {
    "tags": []
   },
   "source": [
    "#### 2.2 - Carregando os dados"
   ]
  },
  {
   "cell_type": "code",
   "execution_count": 3,
   "metadata": {},
   "outputs": [
    {
     "data": {
      "text/html": [
       "<div>\n",
       "<style scoped>\n",
       "    .dataframe tbody tr th:only-of-type {\n",
       "        vertical-align: middle;\n",
       "    }\n",
       "\n",
       "    .dataframe tbody tr th {\n",
       "        vertical-align: top;\n",
       "    }\n",
       "\n",
       "    .dataframe thead th {\n",
       "        text-align: right;\n",
       "    }\n",
       "</style>\n",
       "<table border=\"1\" class=\"dataframe\">\n",
       "  <thead>\n",
       "    <tr style=\"text-align: right;\">\n",
       "      <th></th>\n",
       "      <th>alcohol</th>\n",
       "      <th>malic_acid</th>\n",
       "      <th>ash</th>\n",
       "      <th>alcalinity_of_ash</th>\n",
       "      <th>magnesium</th>\n",
       "      <th>total_phenols</th>\n",
       "      <th>flavanoids</th>\n",
       "      <th>nonflavanoid_phenols</th>\n",
       "      <th>proanthocyanins</th>\n",
       "      <th>color_intensity</th>\n",
       "      <th>hue</th>\n",
       "      <th>od280/od315_of_diluted_wines</th>\n",
       "      <th>proline</th>\n",
       "    </tr>\n",
       "  </thead>\n",
       "  <tbody>\n",
       "    <tr>\n",
       "      <th>0</th>\n",
       "      <td>14.23</td>\n",
       "      <td>1.71</td>\n",
       "      <td>2.43</td>\n",
       "      <td>15.6</td>\n",
       "      <td>127.0</td>\n",
       "      <td>2.80</td>\n",
       "      <td>3.06</td>\n",
       "      <td>0.28</td>\n",
       "      <td>2.29</td>\n",
       "      <td>5.64</td>\n",
       "      <td>1.04</td>\n",
       "      <td>3.92</td>\n",
       "      <td>1065.0</td>\n",
       "    </tr>\n",
       "    <tr>\n",
       "      <th>1</th>\n",
       "      <td>13.20</td>\n",
       "      <td>1.78</td>\n",
       "      <td>2.14</td>\n",
       "      <td>11.2</td>\n",
       "      <td>100.0</td>\n",
       "      <td>2.65</td>\n",
       "      <td>2.76</td>\n",
       "      <td>0.26</td>\n",
       "      <td>1.28</td>\n",
       "      <td>4.38</td>\n",
       "      <td>1.05</td>\n",
       "      <td>3.40</td>\n",
       "      <td>1050.0</td>\n",
       "    </tr>\n",
       "    <tr>\n",
       "      <th>2</th>\n",
       "      <td>13.16</td>\n",
       "      <td>2.36</td>\n",
       "      <td>2.67</td>\n",
       "      <td>18.6</td>\n",
       "      <td>101.0</td>\n",
       "      <td>2.80</td>\n",
       "      <td>3.24</td>\n",
       "      <td>0.30</td>\n",
       "      <td>2.81</td>\n",
       "      <td>5.68</td>\n",
       "      <td>1.03</td>\n",
       "      <td>3.17</td>\n",
       "      <td>1185.0</td>\n",
       "    </tr>\n",
       "    <tr>\n",
       "      <th>3</th>\n",
       "      <td>14.37</td>\n",
       "      <td>1.95</td>\n",
       "      <td>2.50</td>\n",
       "      <td>16.8</td>\n",
       "      <td>113.0</td>\n",
       "      <td>3.85</td>\n",
       "      <td>3.49</td>\n",
       "      <td>0.24</td>\n",
       "      <td>2.18</td>\n",
       "      <td>7.80</td>\n",
       "      <td>0.86</td>\n",
       "      <td>3.45</td>\n",
       "      <td>1480.0</td>\n",
       "    </tr>\n",
       "    <tr>\n",
       "      <th>4</th>\n",
       "      <td>13.24</td>\n",
       "      <td>2.59</td>\n",
       "      <td>2.87</td>\n",
       "      <td>21.0</td>\n",
       "      <td>118.0</td>\n",
       "      <td>2.80</td>\n",
       "      <td>2.69</td>\n",
       "      <td>0.39</td>\n",
       "      <td>1.82</td>\n",
       "      <td>4.32</td>\n",
       "      <td>1.04</td>\n",
       "      <td>2.93</td>\n",
       "      <td>735.0</td>\n",
       "    </tr>\n",
       "    <tr>\n",
       "      <th>...</th>\n",
       "      <td>...</td>\n",
       "      <td>...</td>\n",
       "      <td>...</td>\n",
       "      <td>...</td>\n",
       "      <td>...</td>\n",
       "      <td>...</td>\n",
       "      <td>...</td>\n",
       "      <td>...</td>\n",
       "      <td>...</td>\n",
       "      <td>...</td>\n",
       "      <td>...</td>\n",
       "      <td>...</td>\n",
       "      <td>...</td>\n",
       "    </tr>\n",
       "    <tr>\n",
       "      <th>173</th>\n",
       "      <td>13.71</td>\n",
       "      <td>5.65</td>\n",
       "      <td>2.45</td>\n",
       "      <td>20.5</td>\n",
       "      <td>95.0</td>\n",
       "      <td>1.68</td>\n",
       "      <td>0.61</td>\n",
       "      <td>0.52</td>\n",
       "      <td>1.06</td>\n",
       "      <td>7.70</td>\n",
       "      <td>0.64</td>\n",
       "      <td>1.74</td>\n",
       "      <td>740.0</td>\n",
       "    </tr>\n",
       "    <tr>\n",
       "      <th>174</th>\n",
       "      <td>13.40</td>\n",
       "      <td>3.91</td>\n",
       "      <td>2.48</td>\n",
       "      <td>23.0</td>\n",
       "      <td>102.0</td>\n",
       "      <td>1.80</td>\n",
       "      <td>0.75</td>\n",
       "      <td>0.43</td>\n",
       "      <td>1.41</td>\n",
       "      <td>7.30</td>\n",
       "      <td>0.70</td>\n",
       "      <td>1.56</td>\n",
       "      <td>750.0</td>\n",
       "    </tr>\n",
       "    <tr>\n",
       "      <th>175</th>\n",
       "      <td>13.27</td>\n",
       "      <td>4.28</td>\n",
       "      <td>2.26</td>\n",
       "      <td>20.0</td>\n",
       "      <td>120.0</td>\n",
       "      <td>1.59</td>\n",
       "      <td>0.69</td>\n",
       "      <td>0.43</td>\n",
       "      <td>1.35</td>\n",
       "      <td>10.20</td>\n",
       "      <td>0.59</td>\n",
       "      <td>1.56</td>\n",
       "      <td>835.0</td>\n",
       "    </tr>\n",
       "    <tr>\n",
       "      <th>176</th>\n",
       "      <td>13.17</td>\n",
       "      <td>2.59</td>\n",
       "      <td>2.37</td>\n",
       "      <td>20.0</td>\n",
       "      <td>120.0</td>\n",
       "      <td>1.65</td>\n",
       "      <td>0.68</td>\n",
       "      <td>0.53</td>\n",
       "      <td>1.46</td>\n",
       "      <td>9.30</td>\n",
       "      <td>0.60</td>\n",
       "      <td>1.62</td>\n",
       "      <td>840.0</td>\n",
       "    </tr>\n",
       "    <tr>\n",
       "      <th>177</th>\n",
       "      <td>14.13</td>\n",
       "      <td>4.10</td>\n",
       "      <td>2.74</td>\n",
       "      <td>24.5</td>\n",
       "      <td>96.0</td>\n",
       "      <td>2.05</td>\n",
       "      <td>0.76</td>\n",
       "      <td>0.56</td>\n",
       "      <td>1.35</td>\n",
       "      <td>9.20</td>\n",
       "      <td>0.61</td>\n",
       "      <td>1.60</td>\n",
       "      <td>560.0</td>\n",
       "    </tr>\n",
       "  </tbody>\n",
       "</table>\n",
       "<p>178 rows × 13 columns</p>\n",
       "</div>"
      ],
      "text/plain": [
       "     alcohol  malic_acid   ash  alcalinity_of_ash  magnesium  total_phenols  \\\n",
       "0      14.23        1.71  2.43               15.6      127.0           2.80   \n",
       "1      13.20        1.78  2.14               11.2      100.0           2.65   \n",
       "2      13.16        2.36  2.67               18.6      101.0           2.80   \n",
       "3      14.37        1.95  2.50               16.8      113.0           3.85   \n",
       "4      13.24        2.59  2.87               21.0      118.0           2.80   \n",
       "..       ...         ...   ...                ...        ...            ...   \n",
       "173    13.71        5.65  2.45               20.5       95.0           1.68   \n",
       "174    13.40        3.91  2.48               23.0      102.0           1.80   \n",
       "175    13.27        4.28  2.26               20.0      120.0           1.59   \n",
       "176    13.17        2.59  2.37               20.0      120.0           1.65   \n",
       "177    14.13        4.10  2.74               24.5       96.0           2.05   \n",
       "\n",
       "     flavanoids  nonflavanoid_phenols  proanthocyanins  color_intensity   hue  \\\n",
       "0          3.06                  0.28             2.29             5.64  1.04   \n",
       "1          2.76                  0.26             1.28             4.38  1.05   \n",
       "2          3.24                  0.30             2.81             5.68  1.03   \n",
       "3          3.49                  0.24             2.18             7.80  0.86   \n",
       "4          2.69                  0.39             1.82             4.32  1.04   \n",
       "..          ...                   ...              ...              ...   ...   \n",
       "173        0.61                  0.52             1.06             7.70  0.64   \n",
       "174        0.75                  0.43             1.41             7.30  0.70   \n",
       "175        0.69                  0.43             1.35            10.20  0.59   \n",
       "176        0.68                  0.53             1.46             9.30  0.60   \n",
       "177        0.76                  0.56             1.35             9.20  0.61   \n",
       "\n",
       "     od280/od315_of_diluted_wines  proline  \n",
       "0                            3.92   1065.0  \n",
       "1                            3.40   1050.0  \n",
       "2                            3.17   1185.0  \n",
       "3                            3.45   1480.0  \n",
       "4                            2.93    735.0  \n",
       "..                            ...      ...  \n",
       "173                          1.74    740.0  \n",
       "174                          1.56    750.0  \n",
       "175                          1.56    835.0  \n",
       "176                          1.62    840.0  \n",
       "177                          1.60    560.0  \n",
       "\n",
       "[178 rows x 13 columns]"
      ]
     },
     "execution_count": 3,
     "metadata": {},
     "output_type": "execute_result"
    }
   ],
   "source": [
    "# Criando o objeto X com as variáveis preditoras e o objeto y com a variável alvo\n",
    "X, y = load_wine(return_X_y=True, as_frame=True)\n",
    "X"
   ]
  },
  {
   "cell_type": "code",
   "execution_count": 4,
   "metadata": {},
   "outputs": [
    {
     "data": {
      "text/html": [
       "<div>\n",
       "<style scoped>\n",
       "    .dataframe tbody tr th:only-of-type {\n",
       "        vertical-align: middle;\n",
       "    }\n",
       "\n",
       "    .dataframe tbody tr th {\n",
       "        vertical-align: top;\n",
       "    }\n",
       "\n",
       "    .dataframe thead th {\n",
       "        text-align: right;\n",
       "    }\n",
       "</style>\n",
       "<table border=\"1\" class=\"dataframe\">\n",
       "  <thead>\n",
       "    <tr style=\"text-align: right;\">\n",
       "      <th></th>\n",
       "      <th>Alcool</th>\n",
       "      <th>Acido malico</th>\n",
       "      <th>Cinzas</th>\n",
       "      <th>Alcalinidade das cinzas</th>\n",
       "      <th>Magnesio</th>\n",
       "      <th>Fenois totais</th>\n",
       "      <th>Flavonoides</th>\n",
       "      <th>Fenois nao flavonoides</th>\n",
       "      <th>Proantocianinas</th>\n",
       "      <th>Intensidade da cor</th>\n",
       "      <th>Matiz</th>\n",
       "      <th>OD280/OD315 de vinhos diluidos</th>\n",
       "      <th>Prolina</th>\n",
       "      <th>Classe</th>\n",
       "    </tr>\n",
       "  </thead>\n",
       "  <tbody>\n",
       "    <tr>\n",
       "      <th>0</th>\n",
       "      <td>14.23</td>\n",
       "      <td>1.71</td>\n",
       "      <td>2.43</td>\n",
       "      <td>15.6</td>\n",
       "      <td>127.0</td>\n",
       "      <td>2.80</td>\n",
       "      <td>3.06</td>\n",
       "      <td>0.28</td>\n",
       "      <td>2.29</td>\n",
       "      <td>5.64</td>\n",
       "      <td>1.04</td>\n",
       "      <td>3.92</td>\n",
       "      <td>1065.0</td>\n",
       "      <td>0</td>\n",
       "    </tr>\n",
       "    <tr>\n",
       "      <th>1</th>\n",
       "      <td>13.20</td>\n",
       "      <td>1.78</td>\n",
       "      <td>2.14</td>\n",
       "      <td>11.2</td>\n",
       "      <td>100.0</td>\n",
       "      <td>2.65</td>\n",
       "      <td>2.76</td>\n",
       "      <td>0.26</td>\n",
       "      <td>1.28</td>\n",
       "      <td>4.38</td>\n",
       "      <td>1.05</td>\n",
       "      <td>3.40</td>\n",
       "      <td>1050.0</td>\n",
       "      <td>0</td>\n",
       "    </tr>\n",
       "    <tr>\n",
       "      <th>2</th>\n",
       "      <td>13.16</td>\n",
       "      <td>2.36</td>\n",
       "      <td>2.67</td>\n",
       "      <td>18.6</td>\n",
       "      <td>101.0</td>\n",
       "      <td>2.80</td>\n",
       "      <td>3.24</td>\n",
       "      <td>0.30</td>\n",
       "      <td>2.81</td>\n",
       "      <td>5.68</td>\n",
       "      <td>1.03</td>\n",
       "      <td>3.17</td>\n",
       "      <td>1185.0</td>\n",
       "      <td>0</td>\n",
       "    </tr>\n",
       "    <tr>\n",
       "      <th>3</th>\n",
       "      <td>14.37</td>\n",
       "      <td>1.95</td>\n",
       "      <td>2.50</td>\n",
       "      <td>16.8</td>\n",
       "      <td>113.0</td>\n",
       "      <td>3.85</td>\n",
       "      <td>3.49</td>\n",
       "      <td>0.24</td>\n",
       "      <td>2.18</td>\n",
       "      <td>7.80</td>\n",
       "      <td>0.86</td>\n",
       "      <td>3.45</td>\n",
       "      <td>1480.0</td>\n",
       "      <td>0</td>\n",
       "    </tr>\n",
       "    <tr>\n",
       "      <th>4</th>\n",
       "      <td>13.24</td>\n",
       "      <td>2.59</td>\n",
       "      <td>2.87</td>\n",
       "      <td>21.0</td>\n",
       "      <td>118.0</td>\n",
       "      <td>2.80</td>\n",
       "      <td>2.69</td>\n",
       "      <td>0.39</td>\n",
       "      <td>1.82</td>\n",
       "      <td>4.32</td>\n",
       "      <td>1.04</td>\n",
       "      <td>2.93</td>\n",
       "      <td>735.0</td>\n",
       "      <td>0</td>\n",
       "    </tr>\n",
       "  </tbody>\n",
       "</table>\n",
       "</div>"
      ],
      "text/plain": [
       "   Alcool  Acido malico  Cinzas  Alcalinidade das cinzas  Magnesio  \\\n",
       "0   14.23          1.71    2.43                     15.6     127.0   \n",
       "1   13.20          1.78    2.14                     11.2     100.0   \n",
       "2   13.16          2.36    2.67                     18.6     101.0   \n",
       "3   14.37          1.95    2.50                     16.8     113.0   \n",
       "4   13.24          2.59    2.87                     21.0     118.0   \n",
       "\n",
       "   Fenois totais  Flavonoides  Fenois nao flavonoides  Proantocianinas  \\\n",
       "0           2.80         3.06                    0.28             2.29   \n",
       "1           2.65         2.76                    0.26             1.28   \n",
       "2           2.80         3.24                    0.30             2.81   \n",
       "3           3.85         3.49                    0.24             2.18   \n",
       "4           2.80         2.69                    0.39             1.82   \n",
       "\n",
       "   Intensidade da cor  Matiz  OD280/OD315 de vinhos diluidos  Prolina  Classe  \n",
       "0                5.64   1.04                            3.92   1065.0       0  \n",
       "1                4.38   1.05                            3.40   1050.0       0  \n",
       "2                5.68   1.03                            3.17   1185.0       0  \n",
       "3                7.80   0.86                            3.45   1480.0       0  \n",
       "4                4.32   1.04                            2.93    735.0       0  "
      ]
     },
     "execution_count": 4,
     "metadata": {},
     "output_type": "execute_result"
    }
   ],
   "source": [
    "# Preparando o dataframe\n",
    "df = X\n",
    "colunas = [\"Alcool\", \"Acido malico\", \"Cinzas\", \"Alcalinidade das cinzas\", \"Magnesio\", \"Fenois totais\", \"Flavonoides\", \n",
    "              \"Fenois nao flavonoides\", \"Proantocianinas\", \"Intensidade da cor\", \"Matiz\", \"OD280/OD315 de vinhos diluidos\", \"Prolina\"]\n",
    "df.columns = colunas\n",
    "\n",
    "# Organizando a variável alvo\n",
    "variavelAlvo = \"Classe\"\n",
    "df[variavelAlvo] = y\n",
    "\n",
    "df.head()"
   ]
  },
  {
   "cell_type": "markdown",
   "metadata": {},
   "source": [
    "## 3 - Reservar linhas para validar o modelo"
   ]
  },
  {
   "cell_type": "code",
   "execution_count": 5,
   "metadata": {},
   "outputs": [
    {
     "data": {
      "text/html": [
       "<div>\n",
       "<style scoped>\n",
       "    .dataframe tbody tr th:only-of-type {\n",
       "        vertical-align: middle;\n",
       "    }\n",
       "\n",
       "    .dataframe tbody tr th {\n",
       "        vertical-align: top;\n",
       "    }\n",
       "\n",
       "    .dataframe thead th {\n",
       "        text-align: right;\n",
       "    }\n",
       "</style>\n",
       "<table border=\"1\" class=\"dataframe\">\n",
       "  <thead>\n",
       "    <tr style=\"text-align: right;\">\n",
       "      <th></th>\n",
       "      <th>Alcool</th>\n",
       "      <th>Acido malico</th>\n",
       "      <th>Cinzas</th>\n",
       "      <th>Alcalinidade das cinzas</th>\n",
       "      <th>Magnesio</th>\n",
       "      <th>Fenois totais</th>\n",
       "      <th>Flavonoides</th>\n",
       "      <th>Fenois nao flavonoides</th>\n",
       "      <th>Proantocianinas</th>\n",
       "      <th>Intensidade da cor</th>\n",
       "      <th>Matiz</th>\n",
       "      <th>OD280/OD315 de vinhos diluidos</th>\n",
       "      <th>Prolina</th>\n",
       "      <th>Classe</th>\n",
       "    </tr>\n",
       "  </thead>\n",
       "  <tbody>\n",
       "    <tr>\n",
       "      <th>161</th>\n",
       "      <td>13.69</td>\n",
       "      <td>3.26</td>\n",
       "      <td>2.54</td>\n",
       "      <td>20.0</td>\n",
       "      <td>107.0</td>\n",
       "      <td>1.83</td>\n",
       "      <td>0.56</td>\n",
       "      <td>0.50</td>\n",
       "      <td>0.80</td>\n",
       "      <td>5.88</td>\n",
       "      <td>0.96</td>\n",
       "      <td>1.82</td>\n",
       "      <td>680.0</td>\n",
       "      <td>2</td>\n",
       "    </tr>\n",
       "    <tr>\n",
       "      <th>117</th>\n",
       "      <td>12.42</td>\n",
       "      <td>1.61</td>\n",
       "      <td>2.19</td>\n",
       "      <td>22.5</td>\n",
       "      <td>108.0</td>\n",
       "      <td>2.00</td>\n",
       "      <td>2.09</td>\n",
       "      <td>0.34</td>\n",
       "      <td>1.61</td>\n",
       "      <td>2.06</td>\n",
       "      <td>1.06</td>\n",
       "      <td>2.96</td>\n",
       "      <td>345.0</td>\n",
       "      <td>1</td>\n",
       "    </tr>\n",
       "    <tr>\n",
       "      <th>19</th>\n",
       "      <td>13.64</td>\n",
       "      <td>3.10</td>\n",
       "      <td>2.56</td>\n",
       "      <td>15.2</td>\n",
       "      <td>116.0</td>\n",
       "      <td>2.70</td>\n",
       "      <td>3.03</td>\n",
       "      <td>0.17</td>\n",
       "      <td>1.66</td>\n",
       "      <td>5.10</td>\n",
       "      <td>0.96</td>\n",
       "      <td>3.36</td>\n",
       "      <td>845.0</td>\n",
       "      <td>0</td>\n",
       "    </tr>\n",
       "  </tbody>\n",
       "</table>\n",
       "</div>"
      ],
      "text/plain": [
       "     Alcool  Acido malico  Cinzas  Alcalinidade das cinzas  Magnesio  \\\n",
       "161   13.69          3.26    2.54                     20.0     107.0   \n",
       "117   12.42          1.61    2.19                     22.5     108.0   \n",
       "19    13.64          3.10    2.56                     15.2     116.0   \n",
       "\n",
       "     Fenois totais  Flavonoides  Fenois nao flavonoides  Proantocianinas  \\\n",
       "161           1.83         0.56                    0.50             0.80   \n",
       "117           2.00         2.09                    0.34             1.61   \n",
       "19            2.70         3.03                    0.17             1.66   \n",
       "\n",
       "     Intensidade da cor  Matiz  OD280/OD315 de vinhos diluidos  Prolina  \\\n",
       "161                5.88   0.96                            1.82    680.0   \n",
       "117                2.06   1.06                            2.96    345.0   \n",
       "19                 5.10   0.96                            3.36    845.0   \n",
       "\n",
       "     Classe  \n",
       "161       2  \n",
       "117       1  \n",
       "19        0  "
      ]
     },
     "execution_count": 5,
     "metadata": {},
     "output_type": "execute_result"
    }
   ],
   "source": [
    "# Criando uma amostra do conjuto de dados\n",
    "# O parâmetro \"n\" define a quantidade de linhas da amostra\n",
    "dfValidacao = df.sample(n=3, random_state=1)\n",
    "dfValidacao"
   ]
  },
  {
   "cell_type": "code",
   "execution_count": 6,
   "metadata": {},
   "outputs": [
    {
     "data": {
      "text/html": [
       "<div>\n",
       "<style scoped>\n",
       "    .dataframe tbody tr th:only-of-type {\n",
       "        vertical-align: middle;\n",
       "    }\n",
       "\n",
       "    .dataframe tbody tr th {\n",
       "        vertical-align: top;\n",
       "    }\n",
       "\n",
       "    .dataframe thead th {\n",
       "        text-align: right;\n",
       "    }\n",
       "</style>\n",
       "<table border=\"1\" class=\"dataframe\">\n",
       "  <thead>\n",
       "    <tr style=\"text-align: right;\">\n",
       "      <th></th>\n",
       "      <th>index</th>\n",
       "      <th>Alcool</th>\n",
       "      <th>Acido malico</th>\n",
       "      <th>Cinzas</th>\n",
       "      <th>Alcalinidade das cinzas</th>\n",
       "      <th>Magnesio</th>\n",
       "      <th>Fenois totais</th>\n",
       "      <th>Flavonoides</th>\n",
       "      <th>Fenois nao flavonoides</th>\n",
       "      <th>Proantocianinas</th>\n",
       "      <th>Intensidade da cor</th>\n",
       "      <th>Matiz</th>\n",
       "      <th>OD280/OD315 de vinhos diluidos</th>\n",
       "      <th>Prolina</th>\n",
       "      <th>Classe</th>\n",
       "    </tr>\n",
       "  </thead>\n",
       "  <tbody>\n",
       "    <tr>\n",
       "      <th>0</th>\n",
       "      <td>0</td>\n",
       "      <td>14.23</td>\n",
       "      <td>1.71</td>\n",
       "      <td>2.43</td>\n",
       "      <td>15.6</td>\n",
       "      <td>127.0</td>\n",
       "      <td>2.80</td>\n",
       "      <td>3.06</td>\n",
       "      <td>0.28</td>\n",
       "      <td>2.29</td>\n",
       "      <td>5.64</td>\n",
       "      <td>1.04</td>\n",
       "      <td>3.92</td>\n",
       "      <td>1065.0</td>\n",
       "      <td>0</td>\n",
       "    </tr>\n",
       "    <tr>\n",
       "      <th>1</th>\n",
       "      <td>1</td>\n",
       "      <td>13.20</td>\n",
       "      <td>1.78</td>\n",
       "      <td>2.14</td>\n",
       "      <td>11.2</td>\n",
       "      <td>100.0</td>\n",
       "      <td>2.65</td>\n",
       "      <td>2.76</td>\n",
       "      <td>0.26</td>\n",
       "      <td>1.28</td>\n",
       "      <td>4.38</td>\n",
       "      <td>1.05</td>\n",
       "      <td>3.40</td>\n",
       "      <td>1050.0</td>\n",
       "      <td>0</td>\n",
       "    </tr>\n",
       "    <tr>\n",
       "      <th>2</th>\n",
       "      <td>2</td>\n",
       "      <td>13.16</td>\n",
       "      <td>2.36</td>\n",
       "      <td>2.67</td>\n",
       "      <td>18.6</td>\n",
       "      <td>101.0</td>\n",
       "      <td>2.80</td>\n",
       "      <td>3.24</td>\n",
       "      <td>0.30</td>\n",
       "      <td>2.81</td>\n",
       "      <td>5.68</td>\n",
       "      <td>1.03</td>\n",
       "      <td>3.17</td>\n",
       "      <td>1185.0</td>\n",
       "      <td>0</td>\n",
       "    </tr>\n",
       "    <tr>\n",
       "      <th>3</th>\n",
       "      <td>3</td>\n",
       "      <td>14.37</td>\n",
       "      <td>1.95</td>\n",
       "      <td>2.50</td>\n",
       "      <td>16.8</td>\n",
       "      <td>113.0</td>\n",
       "      <td>3.85</td>\n",
       "      <td>3.49</td>\n",
       "      <td>0.24</td>\n",
       "      <td>2.18</td>\n",
       "      <td>7.80</td>\n",
       "      <td>0.86</td>\n",
       "      <td>3.45</td>\n",
       "      <td>1480.0</td>\n",
       "      <td>0</td>\n",
       "    </tr>\n",
       "    <tr>\n",
       "      <th>4</th>\n",
       "      <td>4</td>\n",
       "      <td>13.24</td>\n",
       "      <td>2.59</td>\n",
       "      <td>2.87</td>\n",
       "      <td>21.0</td>\n",
       "      <td>118.0</td>\n",
       "      <td>2.80</td>\n",
       "      <td>2.69</td>\n",
       "      <td>0.39</td>\n",
       "      <td>1.82</td>\n",
       "      <td>4.32</td>\n",
       "      <td>1.04</td>\n",
       "      <td>2.93</td>\n",
       "      <td>735.0</td>\n",
       "      <td>0</td>\n",
       "    </tr>\n",
       "    <tr>\n",
       "      <th>...</th>\n",
       "      <td>...</td>\n",
       "      <td>...</td>\n",
       "      <td>...</td>\n",
       "      <td>...</td>\n",
       "      <td>...</td>\n",
       "      <td>...</td>\n",
       "      <td>...</td>\n",
       "      <td>...</td>\n",
       "      <td>...</td>\n",
       "      <td>...</td>\n",
       "      <td>...</td>\n",
       "      <td>...</td>\n",
       "      <td>...</td>\n",
       "      <td>...</td>\n",
       "      <td>...</td>\n",
       "    </tr>\n",
       "    <tr>\n",
       "      <th>170</th>\n",
       "      <td>173</td>\n",
       "      <td>13.71</td>\n",
       "      <td>5.65</td>\n",
       "      <td>2.45</td>\n",
       "      <td>20.5</td>\n",
       "      <td>95.0</td>\n",
       "      <td>1.68</td>\n",
       "      <td>0.61</td>\n",
       "      <td>0.52</td>\n",
       "      <td>1.06</td>\n",
       "      <td>7.70</td>\n",
       "      <td>0.64</td>\n",
       "      <td>1.74</td>\n",
       "      <td>740.0</td>\n",
       "      <td>2</td>\n",
       "    </tr>\n",
       "    <tr>\n",
       "      <th>171</th>\n",
       "      <td>174</td>\n",
       "      <td>13.40</td>\n",
       "      <td>3.91</td>\n",
       "      <td>2.48</td>\n",
       "      <td>23.0</td>\n",
       "      <td>102.0</td>\n",
       "      <td>1.80</td>\n",
       "      <td>0.75</td>\n",
       "      <td>0.43</td>\n",
       "      <td>1.41</td>\n",
       "      <td>7.30</td>\n",
       "      <td>0.70</td>\n",
       "      <td>1.56</td>\n",
       "      <td>750.0</td>\n",
       "      <td>2</td>\n",
       "    </tr>\n",
       "    <tr>\n",
       "      <th>172</th>\n",
       "      <td>175</td>\n",
       "      <td>13.27</td>\n",
       "      <td>4.28</td>\n",
       "      <td>2.26</td>\n",
       "      <td>20.0</td>\n",
       "      <td>120.0</td>\n",
       "      <td>1.59</td>\n",
       "      <td>0.69</td>\n",
       "      <td>0.43</td>\n",
       "      <td>1.35</td>\n",
       "      <td>10.20</td>\n",
       "      <td>0.59</td>\n",
       "      <td>1.56</td>\n",
       "      <td>835.0</td>\n",
       "      <td>2</td>\n",
       "    </tr>\n",
       "    <tr>\n",
       "      <th>173</th>\n",
       "      <td>176</td>\n",
       "      <td>13.17</td>\n",
       "      <td>2.59</td>\n",
       "      <td>2.37</td>\n",
       "      <td>20.0</td>\n",
       "      <td>120.0</td>\n",
       "      <td>1.65</td>\n",
       "      <td>0.68</td>\n",
       "      <td>0.53</td>\n",
       "      <td>1.46</td>\n",
       "      <td>9.30</td>\n",
       "      <td>0.60</td>\n",
       "      <td>1.62</td>\n",
       "      <td>840.0</td>\n",
       "      <td>2</td>\n",
       "    </tr>\n",
       "    <tr>\n",
       "      <th>174</th>\n",
       "      <td>177</td>\n",
       "      <td>14.13</td>\n",
       "      <td>4.10</td>\n",
       "      <td>2.74</td>\n",
       "      <td>24.5</td>\n",
       "      <td>96.0</td>\n",
       "      <td>2.05</td>\n",
       "      <td>0.76</td>\n",
       "      <td>0.56</td>\n",
       "      <td>1.35</td>\n",
       "      <td>9.20</td>\n",
       "      <td>0.61</td>\n",
       "      <td>1.60</td>\n",
       "      <td>560.0</td>\n",
       "      <td>2</td>\n",
       "    </tr>\n",
       "  </tbody>\n",
       "</table>\n",
       "<p>175 rows × 15 columns</p>\n",
       "</div>"
      ],
      "text/plain": [
       "     index  Alcool  Acido malico  Cinzas  Alcalinidade das cinzas  Magnesio  \\\n",
       "0        0   14.23          1.71    2.43                     15.6     127.0   \n",
       "1        1   13.20          1.78    2.14                     11.2     100.0   \n",
       "2        2   13.16          2.36    2.67                     18.6     101.0   \n",
       "3        3   14.37          1.95    2.50                     16.8     113.0   \n",
       "4        4   13.24          2.59    2.87                     21.0     118.0   \n",
       "..     ...     ...           ...     ...                      ...       ...   \n",
       "170    173   13.71          5.65    2.45                     20.5      95.0   \n",
       "171    174   13.40          3.91    2.48                     23.0     102.0   \n",
       "172    175   13.27          4.28    2.26                     20.0     120.0   \n",
       "173    176   13.17          2.59    2.37                     20.0     120.0   \n",
       "174    177   14.13          4.10    2.74                     24.5      96.0   \n",
       "\n",
       "     Fenois totais  Flavonoides  Fenois nao flavonoides  Proantocianinas  \\\n",
       "0             2.80         3.06                    0.28             2.29   \n",
       "1             2.65         2.76                    0.26             1.28   \n",
       "2             2.80         3.24                    0.30             2.81   \n",
       "3             3.85         3.49                    0.24             2.18   \n",
       "4             2.80         2.69                    0.39             1.82   \n",
       "..             ...          ...                     ...              ...   \n",
       "170           1.68         0.61                    0.52             1.06   \n",
       "171           1.80         0.75                    0.43             1.41   \n",
       "172           1.59         0.69                    0.43             1.35   \n",
       "173           1.65         0.68                    0.53             1.46   \n",
       "174           2.05         0.76                    0.56             1.35   \n",
       "\n",
       "     Intensidade da cor  Matiz  OD280/OD315 de vinhos diluidos  Prolina  \\\n",
       "0                  5.64   1.04                            3.92   1065.0   \n",
       "1                  4.38   1.05                            3.40   1050.0   \n",
       "2                  5.68   1.03                            3.17   1185.0   \n",
       "3                  7.80   0.86                            3.45   1480.0   \n",
       "4                  4.32   1.04                            2.93    735.0   \n",
       "..                  ...    ...                             ...      ...   \n",
       "170                7.70   0.64                            1.74    740.0   \n",
       "171                7.30   0.70                            1.56    750.0   \n",
       "172               10.20   0.59                            1.56    835.0   \n",
       "173                9.30   0.60                            1.62    840.0   \n",
       "174                9.20   0.61                            1.60    560.0   \n",
       "\n",
       "     Classe  \n",
       "0         0  \n",
       "1         0  \n",
       "2         0  \n",
       "3         0  \n",
       "4         0  \n",
       "..      ...  \n",
       "170       2  \n",
       "171       2  \n",
       "172       2  \n",
       "173       2  \n",
       "174       2  \n",
       "\n",
       "[175 rows x 15 columns]"
      ]
     },
     "execution_count": 6,
     "metadata": {},
     "output_type": "execute_result"
    }
   ],
   "source": [
    "# Excluindo do DataFrame original as linhas que serão utilizadas para validar o modelo \n",
    "for k in dfValidacao.index:\n",
    "    df.drop([k], inplace = True)\n",
    "\n",
    "# É importante reiniciar os índices após a exclusão de linhas\n",
    "df.reset_index(inplace = True)\n",
    "df"
   ]
  },
  {
   "cell_type": "code",
   "execution_count": 7,
   "metadata": {},
   "outputs": [],
   "source": [
    "# Excluindo coluna\n",
    "df.drop([\"index\"], axis=1, inplace = True)"
   ]
  },
  {
   "cell_type": "markdown",
   "metadata": {},
   "source": [
    "## 4 - Explorando os dados"
   ]
  },
  {
   "cell_type": "markdown",
   "metadata": {},
   "source": [
    "#### 4.1 - Informações sobre o dataset"
   ]
  },
  {
   "cell_type": "code",
   "execution_count": 8,
   "metadata": {
    "tags": []
   },
   "outputs": [
    {
     "name": "stdout",
     "output_type": "stream",
     "text": [
      "<class 'pandas.core.frame.DataFrame'>\n",
      "RangeIndex: 175 entries, 0 to 174\n",
      "Data columns (total 14 columns):\n",
      " #   Column                          Non-Null Count  Dtype  \n",
      "---  ------                          --------------  -----  \n",
      " 0   Alcool                          175 non-null    float64\n",
      " 1   Acido malico                    175 non-null    float64\n",
      " 2   Cinzas                          175 non-null    float64\n",
      " 3   Alcalinidade das cinzas         175 non-null    float64\n",
      " 4   Magnesio                        175 non-null    float64\n",
      " 5   Fenois totais                   175 non-null    float64\n",
      " 6   Flavonoides                     175 non-null    float64\n",
      " 7   Fenois nao flavonoides          175 non-null    float64\n",
      " 8   Proantocianinas                 175 non-null    float64\n",
      " 9   Intensidade da cor              175 non-null    float64\n",
      " 10  Matiz                           175 non-null    float64\n",
      " 11  OD280/OD315 de vinhos diluidos  175 non-null    float64\n",
      " 12  Prolina                         175 non-null    float64\n",
      " 13  Classe                          175 non-null    int32  \n",
      "dtypes: float64(13), int32(1)\n",
      "memory usage: 18.6 KB\n"
     ]
    }
   ],
   "source": [
    "# Visualizando informações sobre o dataset\n",
    "df.info()"
   ]
  },
  {
   "cell_type": "code",
   "execution_count": 9,
   "metadata": {
    "tags": []
   },
   "outputs": [
    {
     "data": {
      "text/html": [
       "<div>\n",
       "<style scoped>\n",
       "    .dataframe tbody tr th:only-of-type {\n",
       "        vertical-align: middle;\n",
       "    }\n",
       "\n",
       "    .dataframe tbody tr th {\n",
       "        vertical-align: top;\n",
       "    }\n",
       "\n",
       "    .dataframe thead th {\n",
       "        text-align: right;\n",
       "    }\n",
       "</style>\n",
       "<table border=\"1\" class=\"dataframe\">\n",
       "  <thead>\n",
       "    <tr style=\"text-align: right;\">\n",
       "      <th></th>\n",
       "      <th>Alcool</th>\n",
       "      <th>Acido malico</th>\n",
       "      <th>Cinzas</th>\n",
       "      <th>Alcalinidade das cinzas</th>\n",
       "      <th>Magnesio</th>\n",
       "      <th>Fenois totais</th>\n",
       "      <th>Flavonoides</th>\n",
       "      <th>Fenois nao flavonoides</th>\n",
       "      <th>Proantocianinas</th>\n",
       "      <th>Intensidade da cor</th>\n",
       "      <th>Matiz</th>\n",
       "      <th>OD280/OD315 de vinhos diluidos</th>\n",
       "      <th>Prolina</th>\n",
       "      <th>Classe</th>\n",
       "    </tr>\n",
       "  </thead>\n",
       "  <tbody>\n",
       "    <tr>\n",
       "      <th>count</th>\n",
       "      <td>175.000000</td>\n",
       "      <td>175.000000</td>\n",
       "      <td>175.000000</td>\n",
       "      <td>175.000000</td>\n",
       "      <td>175.000000</td>\n",
       "      <td>175.000000</td>\n",
       "      <td>175.000000</td>\n",
       "      <td>175.000000</td>\n",
       "      <td>175.000000</td>\n",
       "      <td>175.000000</td>\n",
       "      <td>175.000000</td>\n",
       "      <td>175.000000</td>\n",
       "      <td>175.000000</td>\n",
       "      <td>175.000000</td>\n",
       "    </tr>\n",
       "    <tr>\n",
       "      <th>mean</th>\n",
       "      <td>12.996343</td>\n",
       "      <td>2.330857</td>\n",
       "      <td>2.365429</td>\n",
       "      <td>19.499429</td>\n",
       "      <td>99.560000</td>\n",
       "      <td>2.297143</td>\n",
       "      <td>2.031600</td>\n",
       "      <td>0.362286</td>\n",
       "      <td>1.594914</td>\n",
       "      <td>5.070286</td>\n",
       "      <td>0.956834</td>\n",
       "      <td>2.609943</td>\n",
       "      <td>749.011429</td>\n",
       "      <td>0.937143</td>\n",
       "    </tr>\n",
       "    <tr>\n",
       "      <th>std</th>\n",
       "      <td>0.814487</td>\n",
       "      <td>1.121702</td>\n",
       "      <td>0.275670</td>\n",
       "      <td>3.344484</td>\n",
       "      <td>14.326874</td>\n",
       "      <td>0.629089</td>\n",
       "      <td>0.998365</td>\n",
       "      <td>0.124224</td>\n",
       "      <td>0.574110</td>\n",
       "      <td>2.326244</td>\n",
       "      <td>0.230401</td>\n",
       "      <td>0.710814</td>\n",
       "      <td>316.010566</td>\n",
       "      <td>0.774257</td>\n",
       "    </tr>\n",
       "    <tr>\n",
       "      <th>min</th>\n",
       "      <td>11.030000</td>\n",
       "      <td>0.740000</td>\n",
       "      <td>1.360000</td>\n",
       "      <td>10.600000</td>\n",
       "      <td>70.000000</td>\n",
       "      <td>0.980000</td>\n",
       "      <td>0.340000</td>\n",
       "      <td>0.130000</td>\n",
       "      <td>0.410000</td>\n",
       "      <td>1.280000</td>\n",
       "      <td>0.480000</td>\n",
       "      <td>1.270000</td>\n",
       "      <td>278.000000</td>\n",
       "      <td>0.000000</td>\n",
       "    </tr>\n",
       "    <tr>\n",
       "      <th>25%</th>\n",
       "      <td>12.350000</td>\n",
       "      <td>1.595000</td>\n",
       "      <td>2.210000</td>\n",
       "      <td>17.200000</td>\n",
       "      <td>88.000000</td>\n",
       "      <td>1.730000</td>\n",
       "      <td>1.210000</td>\n",
       "      <td>0.270000</td>\n",
       "      <td>1.250000</td>\n",
       "      <td>3.230000</td>\n",
       "      <td>0.780000</td>\n",
       "      <td>1.945000</td>\n",
       "      <td>501.000000</td>\n",
       "      <td>0.000000</td>\n",
       "    </tr>\n",
       "    <tr>\n",
       "      <th>50%</th>\n",
       "      <td>13.050000</td>\n",
       "      <td>1.860000</td>\n",
       "      <td>2.360000</td>\n",
       "      <td>19.500000</td>\n",
       "      <td>98.000000</td>\n",
       "      <td>2.360000</td>\n",
       "      <td>2.140000</td>\n",
       "      <td>0.340000</td>\n",
       "      <td>1.550000</td>\n",
       "      <td>4.680000</td>\n",
       "      <td>0.970000</td>\n",
       "      <td>2.780000</td>\n",
       "      <td>672.000000</td>\n",
       "      <td>1.000000</td>\n",
       "    </tr>\n",
       "    <tr>\n",
       "      <th>75%</th>\n",
       "      <td>13.675000</td>\n",
       "      <td>3.030000</td>\n",
       "      <td>2.555000</td>\n",
       "      <td>21.500000</td>\n",
       "      <td>107.000000</td>\n",
       "      <td>2.800000</td>\n",
       "      <td>2.870000</td>\n",
       "      <td>0.435000</td>\n",
       "      <td>1.955000</td>\n",
       "      <td>6.225000</td>\n",
       "      <td>1.120000</td>\n",
       "      <td>3.170000</td>\n",
       "      <td>987.500000</td>\n",
       "      <td>2.000000</td>\n",
       "    </tr>\n",
       "    <tr>\n",
       "      <th>max</th>\n",
       "      <td>14.830000</td>\n",
       "      <td>5.800000</td>\n",
       "      <td>3.230000</td>\n",
       "      <td>30.000000</td>\n",
       "      <td>162.000000</td>\n",
       "      <td>3.880000</td>\n",
       "      <td>5.080000</td>\n",
       "      <td>0.660000</td>\n",
       "      <td>3.580000</td>\n",
       "      <td>13.000000</td>\n",
       "      <td>1.710000</td>\n",
       "      <td>4.000000</td>\n",
       "      <td>1680.000000</td>\n",
       "      <td>2.000000</td>\n",
       "    </tr>\n",
       "  </tbody>\n",
       "</table>\n",
       "</div>"
      ],
      "text/plain": [
       "           Alcool  Acido malico      Cinzas  Alcalinidade das cinzas  \\\n",
       "count  175.000000    175.000000  175.000000               175.000000   \n",
       "mean    12.996343      2.330857    2.365429                19.499429   \n",
       "std      0.814487      1.121702    0.275670                 3.344484   \n",
       "min     11.030000      0.740000    1.360000                10.600000   \n",
       "25%     12.350000      1.595000    2.210000                17.200000   \n",
       "50%     13.050000      1.860000    2.360000                19.500000   \n",
       "75%     13.675000      3.030000    2.555000                21.500000   \n",
       "max     14.830000      5.800000    3.230000                30.000000   \n",
       "\n",
       "         Magnesio  Fenois totais  Flavonoides  Fenois nao flavonoides  \\\n",
       "count  175.000000     175.000000   175.000000              175.000000   \n",
       "mean    99.560000       2.297143     2.031600                0.362286   \n",
       "std     14.326874       0.629089     0.998365                0.124224   \n",
       "min     70.000000       0.980000     0.340000                0.130000   \n",
       "25%     88.000000       1.730000     1.210000                0.270000   \n",
       "50%     98.000000       2.360000     2.140000                0.340000   \n",
       "75%    107.000000       2.800000     2.870000                0.435000   \n",
       "max    162.000000       3.880000     5.080000                0.660000   \n",
       "\n",
       "       Proantocianinas  Intensidade da cor       Matiz  \\\n",
       "count       175.000000          175.000000  175.000000   \n",
       "mean          1.594914            5.070286    0.956834   \n",
       "std           0.574110            2.326244    0.230401   \n",
       "min           0.410000            1.280000    0.480000   \n",
       "25%           1.250000            3.230000    0.780000   \n",
       "50%           1.550000            4.680000    0.970000   \n",
       "75%           1.955000            6.225000    1.120000   \n",
       "max           3.580000           13.000000    1.710000   \n",
       "\n",
       "       OD280/OD315 de vinhos diluidos      Prolina      Classe  \n",
       "count                      175.000000   175.000000  175.000000  \n",
       "mean                         2.609943   749.011429    0.937143  \n",
       "std                          0.710814   316.010566    0.774257  \n",
       "min                          1.270000   278.000000    0.000000  \n",
       "25%                          1.945000   501.000000    0.000000  \n",
       "50%                          2.780000   672.000000    1.000000  \n",
       "75%                          3.170000   987.500000    2.000000  \n",
       "max                          4.000000  1680.000000    2.000000  "
      ]
     },
     "execution_count": 9,
     "metadata": {},
     "output_type": "execute_result"
    }
   ],
   "source": [
    "# Sumário estatístico\n",
    "df.describe()"
   ]
  },
  {
   "cell_type": "markdown",
   "metadata": {},
   "source": [
    "#### 4.2 Tratando valores nulos"
   ]
  },
  {
   "cell_type": "code",
   "execution_count": 10,
   "metadata": {},
   "outputs": [],
   "source": [
    "# Faz uma cópia do dataframe\n",
    "df2 = df.copy()"
   ]
  },
  {
   "cell_type": "code",
   "execution_count": 11,
   "metadata": {
    "tags": []
   },
   "outputs": [
    {
     "data": {
      "text/plain": [
       "Alcool                            0\n",
       "Acido malico                      0\n",
       "Cinzas                            0\n",
       "Alcalinidade das cinzas           0\n",
       "Magnesio                          0\n",
       "Fenois totais                     0\n",
       "Flavonoides                       0\n",
       "Fenois nao flavonoides            0\n",
       "Proantocianinas                   0\n",
       "Intensidade da cor                0\n",
       "Matiz                             0\n",
       "OD280/OD315 de vinhos diluidos    0\n",
       "Prolina                           0\n",
       "Classe                            0\n",
       "dtype: int64"
      ]
     },
     "execution_count": 11,
     "metadata": {},
     "output_type": "execute_result"
    }
   ],
   "source": [
    "# Verificando a quantidade de valores nulos por coluna\n",
    "df2.isnull().sum() "
   ]
  },
  {
   "cell_type": "code",
   "execution_count": null,
   "metadata": {
    "tags": []
   },
   "outputs": [],
   "source": [
    "# Cria o objeto do tipo SimpleImputer com a média como estratégia  \n",
    "imputeMedia = SimpleImputer(missing_values=np.nan, strategy= \"mean\")"
   ]
  },
  {
   "cell_type": "code",
   "execution_count": null,
   "metadata": {
    "tags": []
   },
   "outputs": [],
   "source": [
    "# Treina o objeto do tipo SimpleImputer, substitui os valores nulos pela média em cada coluna com valor NA\n",
    "for k in colunas:\n",
    "    \n",
    "    # Verifica se a coluna possui valores nulos e se os valores não são do tipo texto\n",
    "    if df2[k].isnull().sum() > 0 and df2[k].dtype != object:\n",
    "        \n",
    "        # Realiza a imputação nos dados nulos\n",
    "        df2[k] = imputeMedia.fit_transform(df2[k].values.reshape(-1,1))"
   ]
  },
  {
   "cell_type": "markdown",
   "metadata": {},
   "source": [
    "#### 4.3 - Tratando dados duplicados"
   ]
  },
  {
   "cell_type": "code",
   "execution_count": 12,
   "metadata": {
    "tags": []
   },
   "outputs": [
    {
     "data": {
      "text/plain": [
       "0"
      ]
     },
     "execution_count": 12,
     "metadata": {},
     "output_type": "execute_result"
    }
   ],
   "source": [
    "# Verificando se existem dados duplicados.\n",
    "# Ocorrem dados duplicados quando uma linha inteira é igual a outra\n",
    "df.duplicated().sum()"
   ]
  },
  {
   "cell_type": "code",
   "execution_count": null,
   "metadata": {
    "tags": []
   },
   "outputs": [],
   "source": [
    "# Excluindo as linhas duplicadas mantendo a primeira ocorrência da linha\n",
    "df.drop_duplicates(ignore_index=True, inplace = True)"
   ]
  },
  {
   "cell_type": "markdown",
   "metadata": {},
   "source": [
    "#### 4.4 - Análise descritiva dos dados"
   ]
  },
  {
   "cell_type": "markdown",
   "metadata": {},
   "source": [
    "##### 4.4.1 - Parâmetros dos gráficos"
   ]
  },
  {
   "cell_type": "code",
   "execution_count": 13,
   "metadata": {
    "tags": []
   },
   "outputs": [],
   "source": [
    "# Define a paleta de cores\n",
    "sns.color_palette(\"pastel\")\n",
    "\n",
    "# Define o tema utilizado.\n",
    "sns.set_theme(style=\"darkgrid\") "
   ]
  },
  {
   "cell_type": "markdown",
   "metadata": {},
   "source": [
    "##### 4.4.2 - Funções para desenhar os gráficos"
   ]
  },
  {
   "cell_type": "markdown",
   "metadata": {},
   "source": [
    "###### a) Histograma"
   ]
  },
  {
   "cell_type": "code",
   "execution_count": 14,
   "metadata": {
    "tags": []
   },
   "outputs": [],
   "source": [
    "# Função para plotar um histograma\n",
    "def desenhaHistograma(coluna, variavelAnalisada):\n",
    "\n",
    "    # Calculando a quantidade de classes da variável analisada\n",
    "    n = coluna.count()\n",
    "    k = round(1+3.3*math.log10(n))\n",
    "   \n",
    "    # Calculando o intervalo de cada classe\n",
    "    frequencias, intervalos = np.histogram(coluna, bins = k)\n",
    "\n",
    "    # Desenhando o gráfico\n",
    "    fig = plt.subplots(figsize=(13, 6))\n",
    "    ax = sns.histplot(coluna, bins=k, kde=True)\n",
    "    ax.set_title(\"Histograma da variável \" + variavelAnalisada, fontsize = 16)\n",
    "    ax.set_xlabel(variavelAnalisada, fontsize = 12)\n",
    "    ax.set_ylabel(\"Frequência\", fontsize = 12)\n",
    "    ax.set_xticks(intervalos) \n",
    "    for barras in ax.containers:\n",
    "        ax.bar_label(barras)\n",
    "    plt.show()"
   ]
  },
  {
   "cell_type": "markdown",
   "metadata": {},
   "source": [
    "###### b) Boxplot"
   ]
  },
  {
   "cell_type": "code",
   "execution_count": 15,
   "metadata": {
    "tags": []
   },
   "outputs": [],
   "source": [
    "# Função para plotar um Boxplot\n",
    "def desenhaBoxplot(coluna, variavelAnalisada):\n",
    "    \n",
    "    # Desenhando o gráfico\n",
    "    fig = plt.subplots(figsize=(13, 6))\n",
    "    ax = sns.boxplot(data=coluna)\n",
    "    ax.set_title(\"Boxplot da variável \" + variavelAnalisada, fontsize = 16)\n",
    "    ax.set_xticklabels([variavelAnalisada]) # exibe o nome da variável\n",
    "    \n",
    "    larguraBox = 0.63\n",
    "    i=0\n",
    "\n",
    "    # calcula o primeiro quartil (q1), o segundo (q2) e o terceiro quartil (q3)\n",
    "    q1, q2, q3 = coluna.quantile(0.25), coluna.quantile(0.5), coluna.quantile(0.75)\n",
    "    \n",
    "    # Lista com os quartis\n",
    "    quartis = [q1, q2, q3]\n",
    "\n",
    "    # Exibe os quartis no gráfico\n",
    "    for q in quartis:\n",
    "        x = i-larguraBox/2\n",
    "        y = q\n",
    "        ax.annotate('%.2f' % q, (x,y),\n",
    "                    xytext=(x-0.1, y), textcoords='data',\n",
    "                    va='center', ha='right')\n",
    "    plt.show()"
   ]
  },
  {
   "cell_type": "markdown",
   "metadata": {},
   "source": [
    "###### c) Boxplot agrupado"
   ]
  },
  {
   "cell_type": "code",
   "execution_count": 16,
   "metadata": {},
   "outputs": [],
   "source": [
    "def desenhaBoxplotAgrupado(coluna, colunaAlvo, variavelAnalisada): \n",
    "    # Desenhando o gráfico\n",
    "    fig = plt.subplots(figsize=(10, 4))\n",
    "    cores = {0:\"cornflowerblue\", 1: \"sandybrown\", 2: \"seagreen\"}\n",
    "    ax = sns.boxplot(x=colunaAlvo, y=coluna, hue=colunaAlvo, palette=cores)\n",
    "    ax.set_title(\"Boxplot da variável \" + variavelAnalisada+ \" de acordo com a Classe\", fontsize = 16)\n",
    "    ax.legend(loc=\"center left\",bbox_to_anchor=(1., 0., 0.5, 1.))\n",
    "    \n",
    "    larguraBox = 0.63\n",
    "    i=0\n",
    "    \n",
    "    # Exibe os quartis no gráfico\n",
    "    for nome, grupo in df.groupby(variavelAlvo):\n",
    "        # calcula o primeiro quartil (q1), o segundo (q2) e o terceiro quartil (q3)\n",
    "        q1, q2, q3 = grupo[variavelAnalisada].quantile(0.25), grupo[variavelAnalisada].quantile(0.5), grupo[variavelAnalisada].quantile(0.75)\n",
    "\n",
    "        # Lista com os quartis\n",
    "        quartis = [q1, q2, q3]\n",
    "\n",
    "        # Exibe os quartis no gráfico\n",
    "        for q in quartis:\n",
    "            x = i-larguraBox/2\n",
    "            y = q\n",
    "            ax.annotate('%.2f' % q, (x,y),\n",
    "                        xytext=(x-0.1, y), textcoords='data',\n",
    "                        va='center', ha='right')\n",
    "        i+=1.25\n",
    "    \n",
    "    plt.show()"
   ]
  },
  {
   "cell_type": "markdown",
   "metadata": {},
   "source": [
    "###### d) Gráfico de Pizza"
   ]
  },
  {
   "cell_type": "code",
   "execution_count": 17,
   "metadata": {},
   "outputs": [],
   "source": [
    "# Função para plotar um gráfico de pizza\n",
    "def desenhaPizza(coluna, variavelAnalisada):\n",
    "    \n",
    "    # Calculando o percentual\n",
    "    percentuais = round((coluna.value_counts()/coluna.value_counts().sum())*100, 2)\n",
    "\n",
    "    # Nome das categorias\n",
    "    nomeDasCategorias = coluna.value_counts().index\n",
    "\n",
    "    # Desenhando o gráfico\n",
    "    fig, ax = plt.subplots(figsize=(13, 6))\n",
    "    ax.pie(percentuais, labels=nomeDasCategorias, autopct='%1.1f%%', shadow=True, startangle=90)\n",
    "    ax.set_title(\"Percentuais da variável \" + variavelAnalisada, fontsize = 16)\n",
    "    ax.legend(title=variavelAnalisada,loc=\"center left\",bbox_to_anchor=(1., 0., 0.5, 1.))\n",
    "    ax.axis('equal') # Garante que o gráfico seja desenhado no formato de círculo.\n",
    "    plt.show()"
   ]
  },
  {
   "cell_type": "markdown",
   "metadata": {},
   "source": [
    "###### e) Countplot"
   ]
  },
  {
   "cell_type": "code",
   "execution_count": 18,
   "metadata": {},
   "outputs": [],
   "source": [
    "# Função para plotar um gráfico Countplot\n",
    "def desenhaCountPlot(coluna, variavelAnalisada):\n",
    "    \n",
    "    # Desenhando o gráfico\n",
    "    fig = plt.subplots(figsize=(13, 6))\n",
    "    ax = sns.countplot(x=coluna, order = coluna.value_counts().index)\n",
    "    ax.set_title(\"Frequência absoluta da variável \" + variavelAnalisada, fontsize = 16)\n",
    "    for barras in ax.containers:\n",
    "        ax.bar_label(barras)\n",
    "    plt.show()"
   ]
  },
  {
   "cell_type": "markdown",
   "metadata": {},
   "source": [
    "###### f) Scatter Plot"
   ]
  },
  {
   "cell_type": "code",
   "execution_count": 19,
   "metadata": {},
   "outputs": [],
   "source": [
    "# Função para plotar um Scatter Plot\n",
    "def desenhaScatterPlot(colunaX, colunaY, variavelAnalisadaX, variavelAnalisadaY):\n",
    "    \n",
    "    # Cria o gráfico definido pelos valores do eixo x e do eixo y respectivamente.\n",
    "    fig = plt.subplots(figsize=(13, 6))\n",
    "    ax = sns.scatterplot(x=colunaX, y=colunaY) \n",
    "    ax.set_title(\"Relação da variável \" + variavelAnalisadaX + \" com a variável \" + variavelAnalisadaY, fontsize = 16)\n",
    "    ax.set_xlabel(variavelAnalisadaX, fontsize = 12)\n",
    "    ax.set_ylabel(variavelAnalisadaY, fontsize = 12)\n",
    "    plt.show()"
   ]
  },
  {
   "cell_type": "markdown",
   "metadata": {},
   "source": [
    "###### g) Matriz de Confusão"
   ]
  },
  {
   "cell_type": "code",
   "execution_count": 20,
   "metadata": {},
   "outputs": [],
   "source": [
    "# Função para plotar uma matriz de confusão\n",
    "def desenhaMatrizConfusao(yDadosDeTeste, valoresPrevistos, modelo):\n",
    "    \n",
    "    # Criando a matriz de confusão\n",
    "    matrizDeConfusao = confusion_matrix(yDadosDeTeste, valoresPrevistos, labels=modelo.classes_)\n",
    "\n",
    "    # Plotando a matriz de confusão \n",
    "    ax = ConfusionMatrixDisplay(confusion_matrix=matrizDeConfusao, display_labels=df[variavelAlvo].unique())\n",
    "    ax.plot(cmap = \"Blues\")\n",
    "    plt.grid(False)\n",
    "    plt.show()"
   ]
  },
  {
   "cell_type": "markdown",
   "metadata": {},
   "source": [
    "##### 4.4.3 Análise descritiva das variáveis quantitativas"
   ]
  },
  {
   "cell_type": "code",
   "execution_count": null,
   "metadata": {
    "tags": []
   },
   "outputs": [],
   "source": [
    "# Loop que percorre todas as colunas\n",
    "for k in colunas:\n",
    "    # Verifica se a coluna não possui valores do tipo texto\n",
    "    if df[k].dtypes != object:\n",
    "        \n",
    "        # Sumário estatístico\n",
    "        print(\"Resumo estatístico da variável \" + k + \"\\n\", df[k].describe())\n",
    "        \n",
    "        # Histograma\n",
    "        desenhaHistograma(df[k], k)\n",
    "        \n",
    "        # Boxplot\n",
    "        desenhaBoxplot(df[k], k)"
   ]
  },
  {
   "cell_type": "markdown",
   "metadata": {},
   "source": [
    "###### 4.4.3.1 Variável Alcool"
   ]
  },
  {
   "cell_type": "code",
   "execution_count": null,
   "metadata": {
    "tags": []
   },
   "outputs": [],
   "source": [
    "# Nome da variável\n",
    "nomeDaVariavel = \"Alcool\""
   ]
  },
  {
   "cell_type": "code",
   "execution_count": null,
   "metadata": {
    "tags": []
   },
   "outputs": [],
   "source": [
    "# Sumário estatístico\n",
    "pd.DataFrame(df[nomeDaVariavel].describe())"
   ]
  },
  {
   "cell_type": "code",
   "execution_count": null,
   "metadata": {
    "tags": []
   },
   "outputs": [],
   "source": [
    "# Histograma\n",
    "desenhaHistograma(df[nomeDaVariavel], nomeDaVariavel)"
   ]
  },
  {
   "cell_type": "code",
   "execution_count": null,
   "metadata": {
    "tags": []
   },
   "outputs": [],
   "source": [
    "# Boxplot\n",
    "desenhaBoxplot(df[nomeDaVariavel], nomeDaVariavel)"
   ]
  },
  {
   "cell_type": "markdown",
   "metadata": {
    "tags": []
   },
   "source": [
    "###### Ao analisar o histograma da variável álcool podemos perceber que a maioria da distribuição dos dados se encontra entre os valores 11.98 e 13.88. E os valores entre 11. 98 e 12.45 são aqueles que aparecem com maior frequência em um total de 36 vezes.\n",
    "###### O boxplot da variável álcool confirma a distribuição da maioria dos dados visualizada no histograma, como também, nos permite visualizar que não há valores considerados outliers, visto que, não existem pontos de dados abaixo do limite inferior nem acima do limite superior.\n"
   ]
  },
  {
   "cell_type": "markdown",
   "metadata": {},
   "source": [
    "##### 4.4.4 Análise descritiva das variáveis Categóricas"
   ]
  },
  {
   "cell_type": "code",
   "execution_count": null,
   "metadata": {
    "tags": []
   },
   "outputs": [],
   "source": [
    "# Loop que percorre todas as colunas\n",
    "for k in colunas:\n",
    "    # Verifica se a coluna possui valores do tipo texto\n",
    "    if df[k].dtypes == object:\n",
    "        \n",
    "        # Frequência absoluta \n",
    "        desenhaCountPlot(df[k], k)\n",
    "        \n",
    "        # Percentuais\n",
    "        desenhaPizza(df[k], k)       "
   ]
  },
  {
   "cell_type": "markdown",
   "metadata": {},
   "source": [
    "###### 4.4.4.1 Análise descritiva da variável alvo"
   ]
  },
  {
   "cell_type": "code",
   "execution_count": null,
   "metadata": {
    "tags": []
   },
   "outputs": [],
   "source": [
    "# Frequência absoluta \n",
    "desenhaCountPlot(df[variavelAlvo], variavelAlvo)"
   ]
  },
  {
   "cell_type": "code",
   "execution_count": null,
   "metadata": {
    "tags": []
   },
   "outputs": [],
   "source": [
    "# Percentuais\n",
    "desenhaPizza(df[variavelAlvo], variavelAlvo)"
   ]
  },
  {
   "cell_type": "markdown",
   "metadata": {},
   "source": [
    "##### 4.4.5 - Correlação entre as variáveis"
   ]
  },
  {
   "cell_type": "markdown",
   "metadata": {},
   "source": [
    "###### 4.4.5.1 - Matriz de correlação "
   ]
  },
  {
   "cell_type": "code",
   "execution_count": null,
   "metadata": {
    "tags": []
   },
   "outputs": [],
   "source": [
    "# Matriz de correlação \n",
    "fig = plt.subplots(figsize=(13, 6))\n",
    "sns.heatmap(df[colunas].corr(),\n",
    "            annot = True,\n",
    "            fmt = '.2f',\n",
    "            cmap='Blues')\n",
    "plt.title('Matriz de correlação', fontsize = 20)\n",
    "plt.show()"
   ]
  },
  {
   "cell_type": "markdown",
   "metadata": {},
   "source": [
    "###### 4.4.5.1 - Correlação entre a variável Flavonoides e a variável Fenois totais"
   ]
  },
  {
   "cell_type": "code",
   "execution_count": null,
   "metadata": {
    "tags": []
   },
   "outputs": [],
   "source": [
    "# ScatterPlot\n",
    "desenhaScatterPlot(df.Flavonoides, df[\"Fenois totais\"], \"Flavonoides\", \"Fenois totais\")"
   ]
  },
  {
   "cell_type": "markdown",
   "metadata": {},
   "source": [
    "###### 4.4.5.2 - Correlação entre a variável Matiz e a variável Acido Malico"
   ]
  },
  {
   "cell_type": "code",
   "execution_count": null,
   "metadata": {
    "tags": []
   },
   "outputs": [],
   "source": [
    "# ScatterPlot\n",
    "desenhaScatterPlot(df.Matiz, df[\"Acido malico\"], \"Matiz\", \"Acido malico\")"
   ]
  },
  {
   "cell_type": "markdown",
   "metadata": {},
   "source": [
    "###### 4.4.5.3 - Analisar os dados setando a variável alvo como índice"
   ]
  },
  {
   "cell_type": "code",
   "execution_count": null,
   "metadata": {},
   "outputs": [],
   "source": [
    "# Setando a variável alvo como índice\n",
    "dfGroupBy = df.groupby(variavelAlvo)"
   ]
  },
  {
   "cell_type": "code",
   "execution_count": null,
   "metadata": {},
   "outputs": [],
   "source": [
    "# Verificando a média das variáveis de acordo com a variável alvo\n",
    "dfGroupByMedia = dfGroupBy.aggregate([np.mean]) \n",
    "dfGroupByMedia"
   ]
  },
  {
   "cell_type": "code",
   "execution_count": null,
   "metadata": {},
   "outputs": [],
   "source": [
    "# Loop que percorre todas as colunas\n",
    "for k in colunas:\n",
    "    \n",
    "    # Verifica se a coluna não possui valores do tipo texto\n",
    "    if df[k].dtype != object:\n",
    "    \n",
    "        # Gráficos com a média das variáveis de acordo a variável alvo\n",
    "        fig, ax = plt.subplots(figsize=(8, 4))\n",
    "        ax.bar(dfGroupByMedia[k][\"mean\"].index, dfGroupByMedia[k][\"mean\"], color=[\"cornflowerblue\", \"sandybrown\", \"seagreen\"])\n",
    "        ax.set_title(\"Média da variável \" + k + \" por Classe\", fontsize = 16)\n",
    "        ax.set_xlabel(\"Classe\", fontsize = 12)\n",
    "        ax.set_ylabel(\"Média\", fontsize = 12)\n",
    "        ax.set_xticks(dfGroupByMedia[k][\"mean\"].index) \n",
    "        ax.bar_label(ax.containers[0], fmt='%.2f')\n",
    "        plt.show()\n",
    "    \n",
    "        # Boxplots agrupados da variável analisada de acordo com a variável alvo\n",
    "        desenhaBoxplotAgrupado(df[k], df[variavelAlvo], k)"
   ]
  },
  {
   "cell_type": "markdown",
   "metadata": {},
   "source": [
    "## 5 - Transformando os dados"
   ]
  },
  {
   "cell_type": "markdown",
   "metadata": {},
   "source": [
    "### 5.1 Tratando valores iguais a zero"
   ]
  },
  {
   "cell_type": "code",
   "execution_count": null,
   "metadata": {},
   "outputs": [],
   "source": [
    "# Loop que percorre todas as colunas\n",
    "for k in colunas:\n",
    "    \n",
    "    # Verifica se os valores não são do tipo texto\n",
    "    if df2[k].dtype != object:\n",
    "        \n",
    "        # Imprime na tela a quantidade de valores iguais a zero existentes na coluna\n",
    "        print(k + \":\", len(df2[df2[k] == 0]))"
   ]
  },
  {
   "cell_type": "code",
   "execution_count": null,
   "metadata": {},
   "outputs": [],
   "source": [
    "# Cria uma lista com as colunas que terão os valores iguais a zero substituídos\n",
    "colunasComValoresZero = [\"variavel1\", \"variavel2\", \"variavel3\"]\n",
    "\n",
    "# Loop que percorre todas as colunas\n",
    "for k in colunasComValoresZero:\n",
    "    \n",
    "    # Calcula o valor da mediana da coluna\n",
    "    mediana = df2[k].median()\n",
    "    \n",
    "    # Pesquisa as linhas com valores iguais a zero e atribui à variável linhasComValoresZero\n",
    "    linhasComValoresZero = df2[df2[k] == 0]\n",
    "    \n",
    "    # Loop que percorre as linhas com valores iguais a zero\n",
    "    for j in linhasComValoresZero.index:\n",
    "        \n",
    "        # Substitui a célula com valor igual a zero pela mediana\n",
    "        df2[k] = df2[k].replace(df2.iloc[j][k], mediana)\n",
    "else:\n",
    "    print(\"Os valores iguais a zero foram substituídos.\")"
   ]
  },
  {
   "cell_type": "markdown",
   "metadata": {},
   "source": [
    "### 5.2 - Identificando e tratando valores outliers"
   ]
  },
  {
   "cell_type": "code",
   "execution_count": null,
   "metadata": {},
   "outputs": [],
   "source": [
    "# Loop que percorre todas as colunas\n",
    "for k in colunas:\n",
    "    \n",
    "    # Verifica se os valores da coluna não são do tipo texto\n",
    "    if df2[k].dtype != object:\n",
    "       \n",
    "        # Calculando o zscore da coluna\n",
    "        zscore = (df2[k] - df2[k].mean()) / df2[k].std()\n",
    "        \n",
    "        # Pesquisando valores menores que -3 ou maiores que 3 que são considerados outliers\n",
    "        outliers = zscore[(zscore < -3) | (zscore > 3)]\n",
    "        \n",
    "        # Calculando o limite superior\n",
    "        limiteSuperior = df2[k].mean() + 3 * df2[k].std()\n",
    "\n",
    "        # Calculando o limite inferior\n",
    "        limiteInferior = df2[k].mean() - 3 * df2[k].std()\n",
    "        \n",
    "        # Verifica se há outliers na coluna \n",
    "        if len(outliers) > 0:\n",
    "            \n",
    "            # Calcula a média da coluna, excluindo os valores outliers\n",
    "            media = df2[k][(df[k] > limiteInferior) & (df2[k] <= limiteSuperior)].mean()\n",
    "            \n",
    "            # Cria uma lista vazia para armazenar as linhas com outliers\n",
    "            linhasComOutlier = []\n",
    "             \n",
    "            # Loop que percorre as linhas com outliers\n",
    "            for j in outliers.index:\n",
    "                \n",
    "                # Substitui a célula com valor outlier pela média\n",
    "                df2[k] = df2[k].replace(df2.iloc[j][k], media)\n",
    "                \n",
    "                # Adiciona o índice da linha na lista\n",
    "                linhasComOutlier.append(j)\n",
    "                \n",
    "            print(\"- Quantidade de valores outliers \" + \"da variável \" + k + \" substituídos pela média\"  + \":\", len(outliers))\n",
    "            print(\"- Linha (as) da variável \" + k + \" que foi (foram) alterada (as):\", linhasComOutlier)    "
   ]
  },
  {
   "cell_type": "markdown",
   "metadata": {},
   "source": [
    "### 5.3 - Convertendo variáveis categóricas em números"
   ]
  },
  {
   "cell_type": "markdown",
   "metadata": {},
   "source": [
    "#### 5.3.1 Convertendo a variável alvo de texto para número"
   ]
  },
  {
   "cell_type": "code",
   "execution_count": null,
   "metadata": {
    "tags": []
   },
   "outputs": [],
   "source": [
    "# LabelEncoder deve ser usado somente na variável alvo. \n",
    "# Para variáveis preditoras deve ser utilizada a função OneHotEncoder ou pd.get_dummies(df).\n",
    "\n",
    "# Cria o objeto encoder\n",
    "encoder = LabelEncoder()\n",
    "\n",
    "# Cria uma nova coluna com a variável alvo com valores numéricos\n",
    "df2[\"Variavel alvo\"] = encoder.fit_transform(df2[variavelAlvo])\n",
    "df2"
   ]
  },
  {
   "cell_type": "markdown",
   "metadata": {},
   "source": [
    "#### 5.3.2 Convertendo as variáveis preditoras de texto para número"
   ]
  },
  {
   "cell_type": "code",
   "execution_count": null,
   "metadata": {
    "tags": []
   },
   "outputs": [],
   "source": [
    "# Definir manualmente as variáveis que serão convertidas de texto para número\n",
    "# NÃO EXECUTAR A PRÓXIMA CÉLULA, caso esta seja executada\n",
    "variaveisCategoricas = [\"variavel1\", \"variavel2\", \"variavel3\"]"
   ]
  },
  {
   "cell_type": "code",
   "execution_count": null,
   "metadata": {
    "tags": []
   },
   "outputs": [],
   "source": [
    "# Definir de forma automatizada as variáveis que serão convertidas de texto para número\n",
    "# NÃO EXECUTAR A CÉLULA ANTERIOR, caso esta seja executada\n",
    "variaveisCategoricas = []\n",
    "for k in colunas:\n",
    "    if df2[k].dtype == object:\n",
    "        variaveisCategoricas.append(k)\n",
    "\n",
    "variaveisCategoricas"
   ]
  },
  {
   "cell_type": "code",
   "execution_count": null,
   "metadata": {
    "tags": []
   },
   "outputs": [],
   "source": [
    "# Convertendo variáveis categóricas em valores numéricos (variáveis dummies)\n",
    "encoder = OneHotEncoder()\n",
    "variaveis = df2[variaveisCategoricas]\n",
    "dadosCodificados = encoder.fit_transform(variaveis).toarray()\n",
    "dadosCodificados"
   ]
  },
  {
   "cell_type": "code",
   "execution_count": null,
   "metadata": {
    "tags": []
   },
   "outputs": [],
   "source": [
    "# Salvando as categorias criadas pelo Encoder\n",
    "nomeColunasCodificadas = []\n",
    "for i in encoder.get_feature_names_out():\n",
    "    nomeColunasCodificadas.append(i)\n",
    "nomeColunasCodificadas"
   ]
  },
  {
   "cell_type": "code",
   "execution_count": null,
   "metadata": {
    "tags": []
   },
   "outputs": [],
   "source": [
    "# Criando um DataFrame com as categorias codificadas\n",
    "dfCodificados = pd.DataFrame(dadosCodificados, columns=nomeColunasCodificadas)\n",
    "dfCodificados"
   ]
  },
  {
   "cell_type": "code",
   "execution_count": null,
   "metadata": {},
   "outputs": [],
   "source": [
    "# Fazendo uma cópia do dataframe\n",
    "df3 = dfCodificados.copy()"
   ]
  },
  {
   "cell_type": "code",
   "execution_count": null,
   "metadata": {},
   "outputs": [],
   "source": [
    "# Organizando o DataFrame\n",
    "# Juntando as colunas numéricas com as variáveis dummies manualmente\n",
    "# NÃO EXECUTAR A PRÓXIMA CÉLULA, caso esta seja executada\n",
    "df3[\"variavel1\"] = df2[\"variavel1\"]\n",
    "df3[\"variavel2\"] = df2[\"variavel2\"]\n",
    "df3"
   ]
  },
  {
   "cell_type": "code",
   "execution_count": null,
   "metadata": {},
   "outputs": [],
   "source": [
    "# Organizando o DataFrame\n",
    "# Juntando as colunas numéricas com as variáveis dummies manualmente\n",
    "# NÃO EXECUTAR A CÉLULA ANTERIOR, caso esta seja executada\n",
    "\n",
    "# loop percorrendo as colunas\n",
    "for k in colunas:\n",
    "    \n",
    "    # Verificando se os valores da coluna não são do tipo texto\n",
    "    if df2[k].dtype != object:\n",
    "        \n",
    "        # Criando uma nova coluna \n",
    "        df3[k] = df2[k]\n",
    "df3"
   ]
  },
  {
   "cell_type": "markdown",
   "metadata": {},
   "source": [
    "## 6 - Dividindo os dados em treino e teste"
   ]
  },
  {
   "cell_type": "markdown",
   "metadata": {},
   "source": [
    "ATENÇÃO!! Qual o dataframe será utilizado df2 ou df3 ?"
   ]
  },
  {
   "cell_type": "code",
   "execution_count": null,
   "metadata": {},
   "outputs": [],
   "source": [
    "# Fazendo uma cópia do dataframa\n",
    "dfDados = df2.copy()"
   ]
  },
  {
   "cell_type": "code",
   "execution_count": null,
   "metadata": {},
   "outputs": [],
   "source": [
    "# Separando as variáveis preditoras e a variável alvo\n",
    "numeroObservacoes = len(dfDados)\n",
    "numeroVariaveisPreditoras = len(colunas)\n",
    "X = dfDados[colunas].values.reshape((numeroObservacoes, numeroVariaveisPreditoras)) # X deve sempre ser uma matriz e nunca um vetor\n",
    "y = dfDados[variavelAlvo].values # y pode ser um vetor"
   ]
  },
  {
   "cell_type": "code",
   "execution_count": null,
   "metadata": {},
   "outputs": [],
   "source": [
    "# Pesquisa os melhores valores para o parâmetro random_state\n",
    "# Array de valores para o parâmetro random_state de 1 até 200\n",
    "arrayRandomStates = np.arange(start=1, stop=200)\n",
    "\n",
    "# Cria uma lista vazia para armazenar os acertos\n",
    "listaAcertos = []\n",
    "\n",
    "# Loop que percorre todos os valores da arrayRandomStates\n",
    "for k in arrayRandomStates:\n",
    "    Xtreino, Xteste, Ytreino, Yteste = train_test_split(X, y, test_size = 0.2, random_state=k)\n",
    "    modelo = LogisticRegression()\n",
    "    modelo.fit(Xtreino, Ytreino)\n",
    "    previsoes = modelo.predict(Xteste)\n",
    "    listaAcertos.append(accuracy_score(Yteste, previsoes, normalize=False))\n",
    "    \n",
    "# Exibe os melhores valores para o random_state\n",
    "resultados = pd.DataFrame({'random_state':arrayRandomStates, \n",
    "                        'Acertos':listaAcertos})\n",
    "melhorRandomState = resultados[resultados['Acertos'] == resultados['Acertos'].max()]\n",
    "melhorRandomState"
   ]
  },
  {
   "cell_type": "code",
   "execution_count": null,
   "metadata": {},
   "outputs": [],
   "source": [
    "# Divide os dados em treino e teste\n",
    "Xtreino, Xteste, Ytreino, Yteste = train_test_split(X, y, test_size = 0.2, random_state=int(melhorRandomState[\"random_state\"][0:1].values))"
   ]
  },
  {
   "cell_type": "markdown",
   "metadata": {},
   "source": [
    "## 7 - Seleção de variáveis"
   ]
  },
  {
   "cell_type": "markdown",
   "metadata": {},
   "source": [
    "### 7.1 - Selecionado as melhores variáveis com o Random Forest Classifier"
   ]
  },
  {
   "cell_type": "code",
   "execution_count": null,
   "metadata": {},
   "outputs": [],
   "source": [
    "# Criando o modelo\n",
    "randomForestClassifier = RandomForestClassifier(random_state=21)\n",
    "\n",
    "# Treinando o modelo\n",
    "randomForestClassifier.fit(X, y)\n",
    "\n",
    "# Atribuindo a importância das variáveis a uma Series do Pandas\n",
    "importanciaVariaveis = pd.Series(data = randomForestClassifier.feature_importances_, index = colunas)\n",
    "\n",
    "# Gráfico com a importância das variáveis\n",
    "fig = plt.subplots(figsize=(13, 6))\n",
    "importanciaVariaveis.sort_values().plot.bar()\n",
    "plt.title(\"Nível de importância das variáveis - Random Forest\", fontsize = 16)\n",
    "plt.xticks(rotation=90)\n",
    "plt.show()"
   ]
  },
  {
   "cell_type": "markdown",
   "metadata": {},
   "source": [
    "### 7.2 - Selecionado as melhores variáveis com o SelectKBest"
   ]
  },
  {
   "cell_type": "code",
   "execution_count": null,
   "metadata": {},
   "outputs": [],
   "source": [
    "# Cria o objeto SelectKBest\n",
    "selectkBest = SelectKBest()\n",
    "\n",
    "# Executa a função em (X, y) e obtém as variáveis selecionadas\n",
    "selectkBestTreinado = selectkBest.fit(X, y)\n",
    "\n",
    "# Atribuindo a importância das variáveis a uma Series do Pandas\n",
    "importanciaVariaveis = pd.Series(data = selectkBestTreinado.scores_, index = colunas)\n",
    "\n",
    "# Gráfico com a importância das variáveis\n",
    "fig = plt.subplots(figsize=(13, 6))\n",
    "importanciaVariaveis.sort_values().plot.bar()\n",
    "plt.title(\"Nível de importância das variáveis - SelectKBest\", fontsize = 16)\n",
    "plt.xticks(rotation=90)\n",
    "plt.show()"
   ]
  },
  {
   "cell_type": "markdown",
   "metadata": {},
   "source": [
    "### 7.3 - Selecionado as melhores variáveis com Eliminação Recursiva de Atributos RFE "
   ]
  },
  {
   "cell_type": "code",
   "execution_count": null,
   "metadata": {},
   "outputs": [],
   "source": [
    "# Criando o modelo\n",
    "extraTreeClassifier = ExtraTreeClassifier()\n",
    "\n",
    "# Treinando o modelo\n",
    "extraTreeClassifier.fit(X, y)\n",
    "\n",
    "# Criando Eliminação Recursiva de Atributos RFE\n",
    "eliminacaoRecursiva = RFE(extraTreeClassifier)\n",
    "\n",
    "# Treinando Eliminação Recursiva de Atributos RFE\n",
    "eliminacaoRecursivaTreinada = eliminacaoRecursiva.fit(X, y)\n",
    "\n",
    "# Gráfico com a importância das variáveis\n",
    "fig = plt.subplots(figsize=(13, 6))\n",
    "plt.title(\"Importância das variáveis - RFE\", fontsize = 16)\n",
    "plt.bar(colunas, eliminacaoRecursivaTreinada.support_)\n",
    "plt.xticks(rotation=90)\n",
    "plt.show()"
   ]
  },
  {
   "cell_type": "markdown",
   "metadata": {},
   "source": [
    "## 8 - Dividindo os dados de treino e teste com as variáveis selecionadas"
   ]
  },
  {
   "cell_type": "code",
   "execution_count": null,
   "metadata": {},
   "outputs": [],
   "source": [
    "# Variáveis selecionadas\n",
    "variaveisSelecionadas = colunas"
   ]
  },
  {
   "cell_type": "code",
   "execution_count": null,
   "metadata": {},
   "outputs": [],
   "source": [
    "# Separando as variáveis preditoras e a variável alvo\n",
    "numeroObservacoes = len(dfDados)\n",
    "numeroVariaveisPreditoras = len(variaveisSelecionadas)\n",
    "X = dfDados[variaveisSelecionadas].values.reshape((numeroObservacoes, numeroVariaveisPreditoras)) # X deve sempre ser uma matriz e nunca um vetor\n",
    "y = dfDados[variavelAlvo].values # y pode ser um vetor"
   ]
  },
  {
   "cell_type": "code",
   "execution_count": null,
   "metadata": {},
   "outputs": [],
   "source": [
    "# Divide os dados em treino e teste\n",
    "Xtreino, Xteste, Ytreino, Yteste = train_test_split(X, y, test_size = 0.2, random_state=int(melhorRandomState[\"random_state\"][0:1].values))"
   ]
  },
  {
   "cell_type": "markdown",
   "metadata": {},
   "source": [
    "## 9 - Balanceamento de classes"
   ]
  },
  {
   "cell_type": "code",
   "execution_count": null,
   "metadata": {},
   "outputs": [],
   "source": [
    "# Criando DataFrame de Ytreino\n",
    "# Criamos este DataFrame porque a função desenhaCountPlot espera receber uma coluna de um DataFrame\n",
    "dfYtreino = pd.DataFrame(Ytreino, columns=[\"Ytreino\"])\n",
    "dfYtreino\n",
    "\n",
    "# Countplot da variável alvo no DATASET DE TREINO\n",
    "desenhaCountPlot(dfYtreino.Ytreino, variavelAlvo)"
   ]
  },
  {
   "cell_type": "markdown",
   "metadata": {},
   "source": [
    "### 9.1 - Oversampling"
   ]
  },
  {
   "cell_type": "code",
   "execution_count": null,
   "metadata": {},
   "outputs": [],
   "source": [
    "# Criando o objeto do tipo SMOTE. \n",
    "# O parâmetro k_neighbors indica quantos vizinhos serão considerados para fazer o oversampling.\n",
    "overSampler = SMOTE(k_neighbors = 3, random_state=79)\n",
    "\n",
    "# Aplicando o oversampling \n",
    "Xtreino, Ytreino = overSampler.fit_resample(Xtreino, Ytreino)"
   ]
  },
  {
   "cell_type": "markdown",
   "metadata": {},
   "source": [
    "### 9.2 - Undersampling"
   ]
  },
  {
   "cell_type": "code",
   "execution_count": null,
   "metadata": {},
   "outputs": [],
   "source": [
    "# Criando o objeto do tipo RandomUnderSampler\n",
    "underSampler = RandomUnderSampler(random_state=167)\n",
    "\n",
    "# Fazendo o undersampling\n",
    "Xtreino, Ytreino = underSampler.fit_resample(Xtreino, Ytreino)"
   ]
  },
  {
   "cell_type": "code",
   "execution_count": null,
   "metadata": {},
   "outputs": [],
   "source": [
    "# Criando DataFrame de Ytreino\n",
    "# Criamos este DataFrame porque a função desenhaCountPlot espera receber uma coluna de um DataFrame\n",
    "dfYtreino = pd.DataFrame(Ytreino, columns=[\"Ytreino\"])\n",
    "dfYtreino\n",
    "\n",
    "# Countplot da variável alvo no DATASET DE TREINO\n",
    "desenhaCountPlot(dfYtreino.Ytreino, variavelAlvo)"
   ]
  },
  {
   "cell_type": "markdown",
   "metadata": {},
   "source": [
    "## 10 - Preparando os dados"
   ]
  },
  {
   "cell_type": "markdown",
   "metadata": {},
   "source": [
    "### 10.1 - Normalizando os dados"
   ]
  },
  {
   "cell_type": "code",
   "execution_count": null,
   "metadata": {},
   "outputs": [],
   "source": [
    "# Cria o objeto da classe MinMaxScaler \n",
    "min_max_scaler = MinMaxScaler()\n",
    "\n",
    "# Realiza a normalização dimensionando as variáveis em uma escala entre 0 e 1 nos dados de  Xtreino\n",
    "XtreinoNormalizados = min_max_scaler.fit_transform(Xtreino)\n",
    "\n",
    "# Realiza a normalização dimensionando as variáveis em uma escala entre 0 e 1 nos dados de Xteste\n",
    "XtesteNormalizados = min_max_scaler.fit_transform(Xteste)"
   ]
  },
  {
   "cell_type": "markdown",
   "metadata": {},
   "source": [
    "### 10.2 - Padronizando os dados"
   ]
  },
  {
   "cell_type": "code",
   "execution_count": null,
   "metadata": {},
   "outputs": [],
   "source": [
    "# Cria o objeto StandardScaler, calcula a média e o desvio-padrão que serão usados para padronizar os dados\n",
    "scaler = StandardScaler()\n",
    "\n",
    "# Realiza a padronização centralizando e dimensionando dados nos dados de Xtreino\n",
    "XtreinoPadronizados = scaler.fit_transform(Xtreino)\n",
    "\n",
    "# Realiza a padronização centralizando e dimensionando dados nos dados de Xteste\n",
    "XtestePadronizados = scaler.fit_transform(Xteste)"
   ]
  },
  {
   "cell_type": "markdown",
   "metadata": {},
   "source": [
    "### 10.3 - Selecionando a apresentação dos dados"
   ]
  },
  {
   "cell_type": "code",
   "execution_count": null,
   "metadata": {},
   "outputs": [],
   "source": [
    "# Os dados podem estar com apresentação \"Originais\", \"Normalizados\" ou \"Padronizados\"\n",
    "apresentacaoDosDados = \"Normalizados\"\n",
    "\n",
    "if apresentacaoDosDados == \"Originais\":\n",
    "    dadosXtreino = Xtreino\n",
    "    dadosXteste = Xteste\n",
    "elif apresentacaoDosDados == \"Normalizados\":\n",
    "    dadosXtreino = XtreinoNormalizados\n",
    "    dadosXteste = XtesteNormalizados\n",
    "else:\n",
    "    dadosXtreino = XtreinoPadronizados\n",
    "    dadosXteste = XtestePadronizados\n",
    "\n",
    "print(\"Os dados estão com a seguinte apresentação:\", apresentacaoDosDados)"
   ]
  },
  {
   "cell_type": "markdown",
   "metadata": {},
   "source": [
    "## 11 - Criando os modelos de classificação"
   ]
  },
  {
   "cell_type": "code",
   "execution_count": null,
   "metadata": {},
   "outputs": [],
   "source": [
    "# DataFrame para comparar a acurácia de cada algoritmo\n",
    "comparaAlgoritmo = {\"Algoritmo\": [\"Regressão Logística\", \"Linear Discriminant Analysis\", \"KNN\", \"Naive Bayes\", \"Árvore de Decisão\", \"SVM\", \"Random Forest\",\n",
    "                                 \"Bagging Classifier\", \"AdaBoost\", \"Voting Classifier\", \"Gradient Tree Boosting\", \"XGBoost\"],\n",
    "                   \"Acurácia\": [\"-\", \"-\", \"-\", \"-\", \"-\", \"-\",\"-\", \"-\", \"-\", \"-\", \"-\", \"-\"],\n",
    "                   \"Acertos\": [\"-\", \"-\", \"-\", \"-\", \"-\", \"-\",\"-\", \"-\", \"-\", \"-\", \"-\", \"-\"],\n",
    "                   \"Erros\": [\"-\", \"-\", \"-\", \"-\", \"-\", \"-\",\"-\", \"-\", \"-\", \"-\", \"-\", \"-\"]}\n",
    "dfComparaAlgoritmo = pd.DataFrame(comparaAlgoritmo)\n",
    "dfComparaAlgoritmo"
   ]
  },
  {
   "cell_type": "markdown",
   "metadata": {},
   "source": [
    "### 11.1 - Regressão Logística"
   ]
  },
  {
   "cell_type": "code",
   "execution_count": null,
   "metadata": {},
   "outputs": [],
   "source": [
    "# Cria um dicionário com os valores que serão testados como parâmetro\n",
    "parametros = {\n",
    "    \"penalty\": ['l1', 'l2', 'elasticnet', 'none'],\n",
    "    \"solver\": ['newton-cg', 'lbfgs', 'liblinear', 'sag', 'saga'],\n",
    "    \"C\": [0.001,0.01,0.1,1.0,10,100,1000]\n",
    "}\n",
    "\n",
    "# Cria o modelo que desejamos testar os melhores parâmetros\n",
    "regressaoLogistica = LogisticRegression()\n",
    "\n",
    "# Cria o objeto do tipo RandomizedSearchCV\n",
    "randomizedSearch = RandomizedSearchCV(estimator = regressaoLogistica, param_distributions = parametros, random_state = 11)\n",
    "\n",
    "# Treinando os parâmetros. ATENÇÃO: Deve-se usar todo conjunto de dados.\n",
    "randomizedSearch.fit(X, y)\n",
    "\n",
    "# Salvando os melhores parâmetros em uma lista\n",
    "melhoresParametrosLR = []\n",
    "for k in randomizedSearch.best_params_:\n",
    "    melhoresParametrosLR.append(randomizedSearch.best_params_[k])\n",
    "\n",
    "# Print do resultado\n",
    "print(\"Acurácia média: %.3f\" % (randomizedSearch.best_score_ * 100) + \"%\")\n",
    "print(\"Melhores parâmetros para o modelo:\", randomizedSearch.best_params_)"
   ]
  },
  {
   "cell_type": "code",
   "execution_count": null,
   "metadata": {},
   "outputs": [],
   "source": [
    "# Utilizando os melhores parâmetros segundo o RandomizedSearchCV\n",
    "# Criando o modelo\n",
    "regressaoLogistica = LogisticRegression(solver = melhoresParametrosLR[0], penalty = melhoresParametrosLR[1], C = melhoresParametrosLR[2])\n",
    "\n",
    "# Treinamento do modelo\n",
    "regressaoLogistica.fit(dadosXtreino, Ytreino)\n",
    "\n",
    "# Previsões com os dados de teste\n",
    "previsoes = regressaoLogistica.predict(dadosXteste)\n",
    "\n",
    "# Calculando a acurácia do modelo\n",
    "numeroAcertos = accuracy_score(Yteste, previsoes, normalize=False)\n",
    "numeroErros = len(Yteste)-numeroAcertos\n",
    "acuracia = numeroAcertos/len(Yteste)\n",
    "\n",
    "print(\"Acurácia: %.2f\" % (acuracia * 100) + \"%\")\n",
    "print(\"Número de acertos:\", numeroAcertos)\n",
    "print(\"Número de erros:\", numeroErros)"
   ]
  },
  {
   "cell_type": "code",
   "execution_count": null,
   "metadata": {},
   "outputs": [],
   "source": [
    "# Visualizando a matriz de confusão\n",
    "desenhaMatrizConfusao(Yteste, previsoes, regressaoLogistica)"
   ]
  },
  {
   "cell_type": "code",
   "execution_count": null,
   "metadata": {},
   "outputs": [],
   "source": [
    "# Atualizando o dataframe com o desempenho dos algoritmos\n",
    "dfComparaAlgoritmo.iloc[0,1] = \"%.2f\" % (acuracia * 100) + \"%\"\n",
    "dfComparaAlgoritmo.iloc[0,2] = numeroAcertos\n",
    "dfComparaAlgoritmo.iloc[0,3] = numeroErros\n",
    "dfComparaAlgoritmo"
   ]
  },
  {
   "cell_type": "markdown",
   "metadata": {},
   "source": [
    "### 11.2 - Linear Discriminant Analysis"
   ]
  },
  {
   "cell_type": "code",
   "execution_count": null,
   "metadata": {},
   "outputs": [],
   "source": [
    "# Pesquisando os melhores parâmetros com RandomizedSearchCV\n",
    "# Cria um dicionário com os valores que serão testados como parâmetro\n",
    "parametros = {\n",
    "    \"solver\": ['svd', 'lsqr', 'eigen'],\n",
    "    \"shrinkage\": [0.001,0.01,0.1,0.5,0.8,0.2]\n",
    "}\n",
    "\n",
    "# Cria o modelo que desejamos testar os melhores parâmetros\n",
    "linearDiscriminantAnalysis = LinearDiscriminantAnalysis()\n",
    "\n",
    "# Cria o objeto do tipo RandomizedSearchCV\n",
    "randomizedSearch = RandomizedSearchCV(estimator = linearDiscriminantAnalysis, param_distributions = parametros, random_state = 11)\n",
    "\n",
    "# Treinando os parâmetros. ATENÇÃO: Deve-se usar todo conjunto de dados.\n",
    "randomizedSearch.fit(X, y)\n",
    "\n",
    "# Salvando os melhores parâmetros em uma lista\n",
    "melhoresParametros = []\n",
    "for k in randomizedSearch.best_params_:\n",
    "    melhoresParametros.append(randomizedSearch.best_params_[k])\n",
    "\n",
    "# Print do resultado\n",
    "print(\"Acurácia média: %.3f\" % (randomizedSearch.best_score_ * 100) + \"%\")\n",
    "print(\"Melhores parâmetros para o modelo:\", randomizedSearch.best_params_)"
   ]
  },
  {
   "cell_type": "code",
   "execution_count": null,
   "metadata": {},
   "outputs": [],
   "source": [
    "# Utilizando os melhores parâmetros segundo o RandomizedSearchCV\n",
    "# Criando o modelo\n",
    "linearDiscriminantAnalysis = LinearDiscriminantAnalysis(solver=melhoresParametros[0], shrinkage=melhoresParametros[1])\n",
    "\n",
    "# Treinamento do modelo\n",
    "linearDiscriminantAnalysis.fit(dadosXtreino, Ytreino)\n",
    "\n",
    "# Previsões com os dados de teste\n",
    "previsoes = linearDiscriminantAnalysis.predict(dadosXteste)\n",
    "\n",
    "# Calculando a acurácia do modelo\n",
    "numeroAcertos = accuracy_score(Yteste, previsoes, normalize=False)\n",
    "numeroErros = len(Yteste)-numeroAcertos\n",
    "acuracia = numeroAcertos/len(Yteste)\n",
    "\n",
    "print(\"Acurácia: %.2f\" % (acuracia * 100) + \"%\")\n",
    "print(\"Número de acertos:\", numeroAcertos)\n",
    "print(\"Número de erros:\", numeroErros)"
   ]
  },
  {
   "cell_type": "code",
   "execution_count": null,
   "metadata": {},
   "outputs": [],
   "source": [
    "# Visualizando a matriz de confusão\n",
    "desenhaMatrizConfusao(Yteste, previsoes, linearDiscriminantAnalysis)"
   ]
  },
  {
   "cell_type": "code",
   "execution_count": null,
   "metadata": {},
   "outputs": [],
   "source": [
    "# Atualizando o dataframe com o desempenho dos algoritmos\n",
    "dfComparaAlgoritmo.iloc[1,1] = \"%.2f\" % (acuracia * 100) + \"%\"\n",
    "dfComparaAlgoritmo.iloc[1,2] = numeroAcertos\n",
    "dfComparaAlgoritmo.iloc[1,3] = numeroErros\n",
    "dfComparaAlgoritmo"
   ]
  },
  {
   "cell_type": "markdown",
   "metadata": {},
   "source": [
    "### 11.3 - K-Nearest Neighbors - KNN"
   ]
  },
  {
   "cell_type": "code",
   "execution_count": null,
   "metadata": {},
   "outputs": [],
   "source": [
    "# Pesquisando os melhores parâmetros com RandomizedSearchCV\n",
    "# Cria um dicionário com os valores que serão testados como parâmetro\n",
    "parametros = {\n",
    "    \"n_neighbors\": [2, 3, 4, 5, 6, 7, 8, 9],\n",
    "    \"weights\": ['uniform', 'distance'],\n",
    "    \"algorithm\": ['ball_tree', 'kd_tree', 'brute']\n",
    "}\n",
    "\n",
    "# Cria o modelo que desejamos testar os melhores parâmetros\n",
    "kNeighborsClassifier = KNeighborsClassifier()\n",
    "\n",
    "# Cria o objeto do tipo RandomizedSearchCV\n",
    "randomizedSearch = RandomizedSearchCV(estimator = kNeighborsClassifier, param_distributions = parametros, random_state = 11)\n",
    "\n",
    "# Treinando os parâmetros. ATENÇÃO: Deve-se usar todo conjunto de dados.\n",
    "randomizedSearch.fit(X, y)\n",
    "\n",
    "# Salvando os melhores parâmetros em uma lista\n",
    "melhoresParametros = []\n",
    "for k in randomizedSearch.best_params_:\n",
    "    melhoresParametros.append(randomizedSearch.best_params_[k])\n",
    "\n",
    "# Print do resultado\n",
    "print(\"Acurácia média: %.3f\" % (randomizedSearch.best_score_ * 100) + \"%\")\n",
    "print(\"Melhores parâmetros para o modelo:\", randomizedSearch.best_params_)"
   ]
  },
  {
   "cell_type": "code",
   "execution_count": null,
   "metadata": {},
   "outputs": [],
   "source": [
    "# Criando o modelo\n",
    "kNeighborsClassifier = KNeighborsClassifier(weights = melhoresParametros[0], n_neighbors = melhoresParametros[1], algorithm = melhoresParametros[2])\n",
    "\n",
    "# Treinamento do modelo\n",
    "kNeighborsClassifier.fit(dadosXtreino, Ytreino)\n",
    "\n",
    "# Previsões com os dados de teste\n",
    "previsoes = kNeighborsClassifier.predict(dadosXteste)\n",
    "\n",
    "# Calculando a acurácia do modelo\n",
    "numeroAcertos = accuracy_score(Yteste, previsoes, normalize=False)\n",
    "numeroErros = len(Yteste)-numeroAcertos\n",
    "acuracia = numeroAcertos/len(Yteste)\n",
    "\n",
    "print(\"Acurácia: %.2f\" % (acuracia * 100) + \"%\")\n",
    "print(\"Número de acertos:\", numeroAcertos)\n",
    "print(\"Número de erros:\", numeroErros)"
   ]
  },
  {
   "cell_type": "code",
   "execution_count": null,
   "metadata": {},
   "outputs": [],
   "source": [
    "# Visualizando a matriz de confusão\n",
    "desenhaMatrizConfusao(Yteste, previsoes, kNeighborsClassifier)"
   ]
  },
  {
   "cell_type": "code",
   "execution_count": null,
   "metadata": {},
   "outputs": [],
   "source": [
    "# Atualizando o dataframe com o desempenho dos algoritmos\n",
    "dfComparaAlgoritmo.iloc[2,1] = \"%.2f\" % (acuracia * 100) + \"%\"\n",
    "dfComparaAlgoritmo.iloc[2,2] = numeroAcertos\n",
    "dfComparaAlgoritmo.iloc[2,3] = numeroErros\n",
    "dfComparaAlgoritmo"
   ]
  },
  {
   "cell_type": "markdown",
   "metadata": {},
   "source": [
    "### 11.4 - Naive Bayes"
   ]
  },
  {
   "cell_type": "code",
   "execution_count": null,
   "metadata": {},
   "outputs": [],
   "source": [
    "# Criando o modelo\n",
    "gaussianNB = GaussianNB()\n",
    "\n",
    "# Treinamento do modelo\n",
    "gaussianNB.fit(dadosXtreino, Ytreino)\n",
    "\n",
    "# Previsões com os dados de teste\n",
    "previsoes = gaussianNB.predict(dadosXteste)\n",
    "\n",
    "# Calculando a acurácia do modelo\n",
    "numeroAcertos = accuracy_score(Yteste, previsoes, normalize=False)\n",
    "numeroErros = len(Yteste)-numeroAcertos\n",
    "acuracia = numeroAcertos/len(Yteste)\n",
    "\n",
    "print(\"Acurácia: %.2f\" % (acuracia * 100) + \"%\")\n",
    "print(\"Número de acertos:\", numeroAcertos)\n",
    "print(\"Número de erros:\", numeroErros)"
   ]
  },
  {
   "cell_type": "code",
   "execution_count": null,
   "metadata": {},
   "outputs": [],
   "source": [
    "# Visualizando a matriz de confusão\n",
    "desenhaMatrizConfusao(Yteste, previsoes, gaussianNB)"
   ]
  },
  {
   "cell_type": "code",
   "execution_count": null,
   "metadata": {},
   "outputs": [],
   "source": [
    "# Atualizando o dataframe com o desempenho dos algoritmos\n",
    "dfComparaAlgoritmo.iloc[3,1] = \"%.2f\" % (acuracia * 100) + \"%\"\n",
    "dfComparaAlgoritmo.iloc[3,2] = numeroAcertos\n",
    "dfComparaAlgoritmo.iloc[3,3] = numeroErros\n",
    "dfComparaAlgoritmo"
   ]
  },
  {
   "cell_type": "markdown",
   "metadata": {},
   "source": [
    "### 11.5 - Árvores de Decisão"
   ]
  },
  {
   "cell_type": "code",
   "execution_count": null,
   "metadata": {},
   "outputs": [],
   "source": [
    "# Pesquisando os melhores parâmetros com RandomizedSearchCV\n",
    "# Cria um dicionário com os valores que serão testados como parâmetro\n",
    "parametros = {\n",
    "    \"min_samples_split\": [2, 3, 4, 5, 6],\n",
    "    \"max_depth\": [100, 150, 200, 350, 400, 550],\n",
    "    \"criterion\": ['gini', 'log_loss', 'entropia'],\n",
    "    \"splitter\": [\"best\", \"random\"]\n",
    "}\n",
    "\n",
    "# Cria o modelo que desejamos testar os melhores parâmetros\n",
    "decisionTreeClassifier = DecisionTreeClassifier(random_state=81)\n",
    "\n",
    "# Cria o objeto do tipo RandomizedSearchCV\n",
    "randomizedSearch = RandomizedSearchCV(estimator = decisionTreeClassifier, param_distributions = parametros, random_state = 11)\n",
    "\n",
    "# Treinando os parâmetros. ATENÇÃO: Deve-se usar todo conjunto de dados.\n",
    "randomizedSearch.fit(X, y)\n",
    "\n",
    "# Salvando os melhores parâmetros em uma lista\n",
    "melhoresParametrosAR = []\n",
    "for k in randomizedSearch.best_params_:\n",
    "    melhoresParametrosAR.append(randomizedSearch.best_params_[k])\n",
    "\n",
    "# Print do resultado\n",
    "print(\"Acurácia média: %.3f\" % (randomizedSearch.best_score_ * 100) + \"%\")\n",
    "print(\"Melhores parâmetros para o modelo:\", randomizedSearch.best_params_)"
   ]
  },
  {
   "cell_type": "code",
   "execution_count": null,
   "metadata": {},
   "outputs": [],
   "source": [
    "# Criando o modelo\n",
    "decisionTreeClassifier = DecisionTreeClassifier(splitter = melhoresParametrosAR[0], \n",
    "                                     min_samples_split = melhoresParametrosAR[1],\n",
    "                                     max_depth = melhoresParametrosAR[2],\n",
    "                                     criterion = melhoresParametrosAR[3],\n",
    "                                     random_state=50)\n",
    "\n",
    "# Treinamento do modelo\n",
    "decisionTreeClassifier.fit(dadosXtreino, Ytreino)\n",
    "\n",
    "# Previsões com os dados de teste\n",
    "previsoes = decisionTreeClassifier.predict(dadosXteste)\n",
    "\n",
    "# Calculando a acurácia do modelo\n",
    "numeroAcertos = accuracy_score(Yteste, previsoes, normalize=False)\n",
    "numeroErros = len(Yteste)-numeroAcertos\n",
    "acuracia = numeroAcertos/len(Yteste)\n",
    "\n",
    "print(\"Acurácia: %.2f\" % (acuracia * 100) + \"%\")\n",
    "print(\"Número de acertos:\", numeroAcertos)\n",
    "print(\"Número de erros:\", numeroErros)"
   ]
  },
  {
   "cell_type": "code",
   "execution_count": null,
   "metadata": {},
   "outputs": [],
   "source": [
    "# Visualizando a matriz de confusão\n",
    "desenhaMatrizConfusao(Yteste, previsoes, decisionTreeClassifier)"
   ]
  },
  {
   "cell_type": "code",
   "execution_count": null,
   "metadata": {},
   "outputs": [],
   "source": [
    "# Atualizando o dataframe com o desempenho dos algoritmos\n",
    "dfComparaAlgoritmo.iloc[4,1] = \"%.2f\" % (acuracia * 100) + \"%\"\n",
    "dfComparaAlgoritmo.iloc[4,2] = numeroAcertos\n",
    "dfComparaAlgoritmo.iloc[4,3] = numeroErros\n",
    "dfComparaAlgoritmo"
   ]
  },
  {
   "cell_type": "markdown",
   "metadata": {},
   "source": [
    "### 11.6 - Support Vector Machines - SVM"
   ]
  },
  {
   "cell_type": "code",
   "execution_count": null,
   "metadata": {},
   "outputs": [],
   "source": [
    "# Pesquisando os melhores parâmetros com RandomizedSearchCV\n",
    "# Cria um dicionário com os valores que serão testados como parâmetro\n",
    "parametros = {\n",
    "   \"C\": [0.001,0.01,0.1,1.0],\n",
    "   \"kernel\": [\"linear\", \"poly\", \"rbf\", \"sigmoid\"],\n",
    "   \"decision_function_shape\": [\"ovo\", \"ovr\"]\n",
    "}\n",
    "\n",
    "# Cria o modelo que desejamos testar os melhores parâmetros\n",
    "svc = SVC()\n",
    "\n",
    "# Cria o objeto do tipo RandomizedSearchCV\n",
    "randomizedSearch = RandomizedSearchCV(estimator = svc, param_distributions = parametros, random_state = 11)\n",
    "\n",
    "# Treinando os parâmetros. ATENÇÃO: Deve-se usar todo conjunto de dados.\n",
    "randomizedSearch.fit(X, y)\n",
    "\n",
    "# Salvando os melhores parâmetros em uma lista\n",
    "melhoresParametrosSVM = []\n",
    "for k in randomizedSearch.best_params_:\n",
    "    melhoresParametrosSVM.append(randomizedSearch.best_params_[k])\n",
    "\n",
    "# Print do resultado\n",
    "print(\"Acurácia média: %.3f\" % (randomizedSearch.best_score_ * 100) + \"%\")\n",
    "print(\"Melhores parâmetros para o modelo:\", randomizedSearch.best_params_)"
   ]
  },
  {
   "cell_type": "code",
   "execution_count": null,
   "metadata": {},
   "outputs": [],
   "source": [
    "# Criando o modelo\n",
    "svc = SVC(kernel = melhoresParametrosSVM[0], decision_function_shape = melhoresParametrosSVM[1], C = melhoresParametrosSVM[2])\n",
    "\n",
    "# Treinamento do modelo\n",
    "svc.fit(dadosXtreino, Ytreino)\n",
    "\n",
    "# Previsões com os dados de teste\n",
    "previsoes = svc.predict(dadosXteste)\n",
    "\n",
    "# Calculando a acurácia do modelo\n",
    "numeroAcertos = accuracy_score(Yteste, previsoes, normalize=False)\n",
    "numeroErros = len(Yteste)-numeroAcertos\n",
    "acuracia = numeroAcertos/len(Yteste)\n",
    "\n",
    "print(\"Acurácia: %.2f\" % (acuracia * 100) + \"%\")\n",
    "print(\"Número de acertos:\", numeroAcertos)\n",
    "print(\"Número de erros:\", numeroErros)"
   ]
  },
  {
   "cell_type": "code",
   "execution_count": null,
   "metadata": {},
   "outputs": [],
   "source": [
    "# Visualizando a matriz de confusão\n",
    "desenhaMatrizConfusao(Yteste, previsoes, svc)"
   ]
  },
  {
   "cell_type": "code",
   "execution_count": null,
   "metadata": {},
   "outputs": [],
   "source": [
    "# Atualizando o dataframe com o desempenho dos algoritmos\n",
    "dfComparaAlgoritmo.iloc[5,1] = \"%.2f\" % (acuracia * 100) + \"%\"\n",
    "dfComparaAlgoritmo.iloc[5,2] = numeroAcertos\n",
    "dfComparaAlgoritmo.iloc[5,3] = numeroErros\n",
    "dfComparaAlgoritmo"
   ]
  },
  {
   "cell_type": "markdown",
   "metadata": {},
   "source": [
    "### 11.7 - Random Forest"
   ]
  },
  {
   "cell_type": "code",
   "execution_count": null,
   "metadata": {},
   "outputs": [],
   "source": [
    "# Pesquisando os melhores parâmetros com RandomizedSearchCV\n",
    "# Cria um dicionário com os valores que serão testados como parâmetro\n",
    "parametros = {\n",
    "    \"n_estimators\": [100, 106, 108, 110],\n",
    "    \"criterion\": ['gini', 'log_loss', 'entropia'], \n",
    "    \"max_depth\": [None, 2, 5, 6, 7],\n",
    "    \"min_samples_split\": [6, 7, 8],\n",
    "    \"max_features\": ['auto', 'sqrt', 'log2'],\n",
    "    \"min_samples_leaf\": [5, 6, 7]\n",
    "}\n",
    "\n",
    "# Cria o modelo que desejamos testar os melhores parâmetros\n",
    "randomForestClassifier = RandomForestClassifier(random_state=81)\n",
    "\n",
    "# Cria o objeto do tipo RandomizedSearchCV\n",
    "randomizedSearch = RandomizedSearchCV(estimator = randomForestClassifier, param_distributions = parametros, random_state = 11)\n",
    "\n",
    "# Treinando os parâmetros. ATENÇÃO: Deve-se usar todo conjunto de dados.\n",
    "randomizedSearch.fit(X, y)\n",
    "\n",
    "# Salvando os melhores parâmetros em uma lista\n",
    "melhoresParametros = []\n",
    "for k in randomizedSearch.best_params_:\n",
    "    melhoresParametros.append(randomizedSearch.best_params_[k])\n",
    "\n",
    "# Print do resultado\n",
    "print(\"Acurácia média: %.3f\" % (randomizedSearch.best_score_ * 100) + \"%\")\n",
    "print(\"Melhores parâmetros para o modelo:\", randomizedSearch.best_params_)"
   ]
  },
  {
   "cell_type": "code",
   "execution_count": null,
   "metadata": {},
   "outputs": [],
   "source": [
    "# Criando o modelo\n",
    "randomForestClassifier = RandomForestClassifier(n_estimators = melhoresParametros[0], \n",
    "                                                min_samples_split = melhoresParametros[1],\n",
    "                                                min_samples_leaf = melhoresParametros[2],\n",
    "                                                max_features = melhoresParametros[3],          \n",
    "                                                max_depth = melhoresParametros[4],\n",
    "                                                criterion = melhoresParametros[5],\n",
    "                                                random_state=92)\n",
    "\n",
    "# Treinamento do modelo\n",
    "randomForestClassifier.fit(dadosXtreino, Ytreino)\n",
    "\n",
    "# Previsões com os dados de teste\n",
    "previsoes = randomForestClassifier.predict(dadosXteste)\n",
    "\n",
    "# Calculando a acurácia do modelo\n",
    "numeroAcertos = accuracy_score(Yteste, previsoes, normalize=False)\n",
    "numeroErros = len(Yteste)-numeroAcertos\n",
    "acuracia = numeroAcertos/len(Yteste)\n",
    "\n",
    "print(\"Acurácia: %.2f\" % (acuracia * 100) + \"%\")\n",
    "print(\"Número de acertos:\", numeroAcertos)\n",
    "print(\"Número de erros:\", numeroErros)"
   ]
  },
  {
   "cell_type": "code",
   "execution_count": null,
   "metadata": {},
   "outputs": [],
   "source": [
    "# Visualizando a matriz de confusão\n",
    "desenhaMatrizConfusao(Yteste, previsoes, randomForestClassifier)"
   ]
  },
  {
   "cell_type": "code",
   "execution_count": null,
   "metadata": {},
   "outputs": [],
   "source": [
    "# Atualizando o dataframe com o desempenho dos algoritmos\n",
    "dfComparaAlgoritmo.iloc[6,1] = \"%.2f\" % (acuracia * 100) + \"%\"\n",
    "dfComparaAlgoritmo.iloc[6,2] = numeroAcertos\n",
    "dfComparaAlgoritmo.iloc[6,3] = numeroErros\n",
    "dfComparaAlgoritmo"
   ]
  },
  {
   "cell_type": "markdown",
   "metadata": {},
   "source": [
    "### 11.8 - Bagging Classifier"
   ]
  },
  {
   "cell_type": "code",
   "execution_count": null,
   "metadata": {},
   "outputs": [],
   "source": [
    "# Cria o modelo de árvore de decisão\n",
    "decisionTreeClassifierBC = DecisionTreeClassifier(splitter = melhoresParametrosAR[0], \n",
    "                                     min_samples_split = melhoresParametrosAR[1],\n",
    "                                     max_depth = melhoresParametrosAR[2],\n",
    "                                     criterion = melhoresParametrosAR[3],\n",
    "                                     random_state=50)\n",
    "\n",
    "# Criando o modelo Bagging Classifier\n",
    "baggingClassifier = BaggingClassifier(base_estimator = decisionTreeClassifierBC, random_state = 1)\n",
    "\n",
    "# Treinamento do modelo\n",
    "baggingClassifier.fit(dadosXtreino, Ytreino)\n",
    "\n",
    "# Previsões com os dados de teste\n",
    "previsoes = baggingClassifier.predict(dadosXteste)\n",
    "\n",
    "# Calculando a acurácia do modelo\n",
    "numeroAcertos = accuracy_score(Yteste, previsoes, normalize=False)\n",
    "numeroErros = len(Yteste)-numeroAcertos\n",
    "acuracia = numeroAcertos/len(Yteste)\n",
    "\n",
    "print(\"Acurácia: %.2f\" % (acuracia * 100) + \"%\")\n",
    "print(\"Número de acertos:\", numeroAcertos)\n",
    "print(\"Número de erros:\", numeroErros)"
   ]
  },
  {
   "cell_type": "code",
   "execution_count": null,
   "metadata": {},
   "outputs": [],
   "source": [
    "# Visualizando a matriz de confusão\n",
    "desenhaMatrizConfusao(Yteste, previsoes, baggingClassifier)"
   ]
  },
  {
   "cell_type": "code",
   "execution_count": null,
   "metadata": {},
   "outputs": [],
   "source": [
    "# Atualizando o dataframe com o desempenho dos algoritmos\n",
    "dfComparaAlgoritmo.iloc[7,1] = \"%.2f\" % (acuracia * 100) + \"%\"\n",
    "dfComparaAlgoritmo.iloc[7,2] = numeroAcertos\n",
    "dfComparaAlgoritmo.iloc[7,3] = numeroErros\n",
    "dfComparaAlgoritmo"
   ]
  },
  {
   "cell_type": "markdown",
   "metadata": {},
   "source": [
    "### 11.9 - AdaBoost"
   ]
  },
  {
   "cell_type": "code",
   "execution_count": null,
   "metadata": {},
   "outputs": [],
   "source": [
    "# Pesquisando os melhores parâmetros com RandomizedSearchCV\n",
    "# Cria um dicionário com os valores que serão testados como parâmetro\n",
    "parametros = {\n",
    "   \"n_estimators\": [50, 100, 150],\n",
    "   \"learning_rate\": [0.1, 0.5, 1.0, 1.5],\n",
    "   \"algorithm\": [\"SAMME\", \"SAMME.R\"]\n",
    "}\n",
    "\n",
    "# Cria o modelo que desejamos testar os melhores parâmetros\n",
    "adaBoostClassifier = AdaBoostClassifier()\n",
    "\n",
    "# Cria o objeto do tipo RandomizedSearchCV\n",
    "randomizedSearch = RandomizedSearchCV(estimator = adaBoostClassifier, param_distributions = parametros, random_state = 11)\n",
    "\n",
    "# Treinando os parâmetros. ATENÇÃO: Deve-se usar todo conjunto de dados.\n",
    "randomizedSearch.fit(X, y)\n",
    "\n",
    "# Salvando os melhores parâmetros em uma lista\n",
    "melhoresParametros = []\n",
    "for k in randomizedSearch.best_params_:\n",
    "    melhoresParametros.append(randomizedSearch.best_params_[k])\n",
    "\n",
    "# Print do resultado\n",
    "print(\"Acurácia média: %.3f\" % (randomizedSearch.best_score_ * 100) + \"%\")\n",
    "print(\"Melhores parâmetros para o modelo:\", randomizedSearch.best_params_)"
   ]
  },
  {
   "cell_type": "code",
   "execution_count": null,
   "metadata": {},
   "outputs": [],
   "source": [
    "# Criando o modelo\n",
    "adaBoostClassifier = AdaBoostClassifier(n_estimators=melhoresParametros[0],\n",
    "                           learning_rate=melhoresParametros[1],\n",
    "                           algorithm=melhoresParametros[2])\n",
    "\n",
    "# Treinamento do modelo\n",
    "adaBoostClassifier.fit(dadosXtreino, Ytreino)\n",
    "\n",
    "# Previsões com os dados de teste\n",
    "previsoes = adaBoostClassifier.predict(dadosXteste)\n",
    "\n",
    "# Calculando a acurácia do modelo\n",
    "numeroAcertos = accuracy_score(Yteste, previsoes, normalize=False)\n",
    "numeroErros = len(Yteste)-numeroAcertos\n",
    "acuracia = numeroAcertos/len(Yteste)\n",
    "\n",
    "print(\"Acurácia: %.2f\" % (acuracia * 100) + \"%\")\n",
    "print(\"Número de acertos:\", numeroAcertos)\n",
    "print(\"Número de erros:\", numeroErros)"
   ]
  },
  {
   "cell_type": "code",
   "execution_count": null,
   "metadata": {},
   "outputs": [],
   "source": [
    "# Visualizando a matriz de confusão\n",
    "desenhaMatrizConfusao(Yteste, previsoes, adaBoostClassifier)"
   ]
  },
  {
   "cell_type": "code",
   "execution_count": null,
   "metadata": {},
   "outputs": [],
   "source": [
    "# Atualizando o dataframe com o desempenho dos algoritmos\n",
    "dfComparaAlgoritmo.iloc[8,1] = \"%.2f\" % (acuracia * 100) + \"%\"\n",
    "dfComparaAlgoritmo.iloc[8,2] = numeroAcertos\n",
    "dfComparaAlgoritmo.iloc[8,3] = numeroErros\n",
    "dfComparaAlgoritmo"
   ]
  },
  {
   "cell_type": "markdown",
   "metadata": {},
   "source": [
    "### 11.10 - Voting Classifier"
   ]
  },
  {
   "cell_type": "code",
   "execution_count": null,
   "metadata": {},
   "outputs": [],
   "source": [
    "# Criando os modelos\n",
    "listaDeModelos = []\n",
    "\n",
    "# Cria o modelo Regressão Logística\n",
    "regressaoLogisticaVT = LogisticRegression(solver = melhoresParametrosLR[0], penalty = melhoresParametrosLR[1], C = melhoresParametrosLR[2])\n",
    "listaDeModelos.append(('Regressão Logística', regressaoLogisticaVT))\n",
    "\n",
    "# Cria o modelo Árvore de Decisão\n",
    "decisionTreeClassifierVT = DecisionTreeClassifier(splitter = melhoresParametrosAR[0], \n",
    "                                     min_samples_split = melhoresParametrosAR[1],\n",
    "                                     max_depth = melhoresParametrosAR[2],\n",
    "                                     criterion = melhoresParametrosAR[3],\n",
    "                                     random_state=14)\n",
    "listaDeModelos.append(('Árvore de Decisão', decisionTreeClassifierVT))\n",
    "\n",
    "# Cria o modelo SVM\n",
    "svcVT = SVC(kernel = melhoresParametrosSVM[0], decision_function_shape = melhoresParametrosSVM[1], C = melhoresParametrosSVM[2])\n",
    "listaDeModelos.append(('SVM', svcVT))\n",
    "\n",
    "# Criando o modelo Voting Classifier\n",
    "votingClassifier = VotingClassifier(listaDeModelos)\n",
    "\n",
    "# Treinamento do modelo\n",
    "votingClassifier.fit(dadosXtreino, Ytreino)\n",
    "\n",
    "# Previsões com os dados de teste\n",
    "previsoes = votingClassifier.predict(dadosXteste)\n",
    "\n",
    "# Calculando a acurácia do modelo\n",
    "numeroAcertos = accuracy_score(Yteste, previsoes, normalize=False)\n",
    "numeroErros = len(Yteste)-numeroAcertos\n",
    "acuracia = numeroAcertos/len(Yteste)\n",
    "\n",
    "print(\"Acurácia: %.2f\" % (acuracia * 100) + \"%\")\n",
    "print(\"Número de acertos:\", numeroAcertos)\n",
    "print(\"Número de erros:\", numeroErros)"
   ]
  },
  {
   "cell_type": "code",
   "execution_count": null,
   "metadata": {},
   "outputs": [],
   "source": [
    "# Visualizando a matriz de confusão\n",
    "desenhaMatrizConfusao(Yteste, previsoes, votingClassifier)"
   ]
  },
  {
   "cell_type": "code",
   "execution_count": null,
   "metadata": {},
   "outputs": [],
   "source": [
    "# Atualizando o dataframe com o desempenho dos algoritmos\n",
    "dfComparaAlgoritmo.iloc[9,1] = \"%.2f\" % (acuracia * 100) + \"%\"\n",
    "dfComparaAlgoritmo.iloc[9,2] = numeroAcertos\n",
    "dfComparaAlgoritmo.iloc[9,3] = numeroErros\n",
    "dfComparaAlgoritmo"
   ]
  },
  {
   "cell_type": "markdown",
   "metadata": {},
   "source": [
    "### 11.11 - Gradient Tree Boosting"
   ]
  },
  {
   "cell_type": "code",
   "execution_count": null,
   "metadata": {},
   "outputs": [],
   "source": [
    "# Pesquisando os melhores parâmetros com RandomizedSearchCV\n",
    "# Cria um dicionário com os valores que serão testados como parâmetro\n",
    "parametros = {\n",
    "   \"n_estimators\": [100, 110, 150],\n",
    "   \"learning_rate\": [0.1, 0.5, 1.0, 1.5],\n",
    "}\n",
    "\n",
    "# Cria o modelo que desejamos testar os melhores parâmetros\n",
    "gradientBoostingClassifier = GradientBoostingClassifier()\n",
    "\n",
    "# Cria o objeto do tipo RandomizedSearchCV\n",
    "randomizedSearch = RandomizedSearchCV(estimator = gradientBoostingClassifier, param_distributions = parametros, random_state = 11)\n",
    "\n",
    "# Treinando os parâmetros. ATENÇÃO: Deve-se usar todo conjunto de dados.\n",
    "randomizedSearch.fit(X, y)\n",
    "\n",
    "# Salvando os melhores parâmetros em uma lista\n",
    "melhoresParametros = []\n",
    "for k in randomizedSearch.best_params_:\n",
    "    melhoresParametros.append(randomizedSearch.best_params_[k])\n",
    "\n",
    "# Print do resultado\n",
    "print(\"Acurácia média: %.3f\" % (randomizedSearch.best_score_ * 100) + \"%\")\n",
    "print(\"Melhores parâmetros para o modelo:\", randomizedSearch.best_params_)"
   ]
  },
  {
   "cell_type": "code",
   "execution_count": null,
   "metadata": {},
   "outputs": [],
   "source": [
    "# Criando o modelo\n",
    "gradientBoostingClassifier = GradientBoostingClassifier(n_estimators = melhoresParametros[0],\n",
    "                                   learning_rate=melhoresParametros[1]\n",
    "                                   )\n",
    "\n",
    "# Treinamento do modelo\n",
    "gradientBoostingClassifier.fit(dadosXtreino, Ytreino)\n",
    "\n",
    "# Previsões com os dados de teste\n",
    "previsoes = gradientBoostingClassifier.predict(dadosXteste)\n",
    "\n",
    "# Calculando a acurácia do modelo\n",
    "numeroAcertos = accuracy_score(Yteste, previsoes, normalize=False)\n",
    "numeroErros = len(Yteste)-numeroAcertos\n",
    "acuracia = numeroAcertos/len(Yteste)\n",
    "\n",
    "print(\"Acurácia: %.2f\" % (acuracia * 100) + \"%\")\n",
    "print(\"Número de acertos:\", numeroAcertos)\n",
    "print(\"Número de erros:\", numeroErros)"
   ]
  },
  {
   "cell_type": "code",
   "execution_count": null,
   "metadata": {},
   "outputs": [],
   "source": [
    "# Visualizando a matriz de confusão\n",
    "desenhaMatrizConfusao(Yteste, previsoes, gradientBoostingClassifier)"
   ]
  },
  {
   "cell_type": "code",
   "execution_count": null,
   "metadata": {},
   "outputs": [],
   "source": [
    "# Atualizando o dataframe com o desempenho dos algoritmos\n",
    "dfComparaAlgoritmo.iloc[10,1] = \"%.2f\" % (acuracia * 100) + \"%\"\n",
    "dfComparaAlgoritmo.iloc[10,2] = numeroAcertos\n",
    "dfComparaAlgoritmo.iloc[10,3] = numeroErros\n",
    "dfComparaAlgoritmo"
   ]
  },
  {
   "cell_type": "markdown",
   "metadata": {},
   "source": [
    "### 11.12 - XGBoost"
   ]
  },
  {
   "cell_type": "code",
   "execution_count": null,
   "metadata": {},
   "outputs": [],
   "source": [
    "# Criando o modelo\n",
    "xgb = XGBClassifier(booster='gbtree', \n",
    "                    colsample_bynode= 0.8,\n",
    "                    learning_rate= 0.3,\n",
    "                    max_depth= 5,\n",
    "                    num_parallel_tree= 20,\n",
    "                    subsample= 0.8,\n",
    "                    tree_method= 'gpu_hist',\n",
    "                    nthread=16\n",
    "                   )\n",
    "\n",
    "# Criar o modelo com o código abaixo, caso o computador não tenha placa de vídeo dedicada com suporte a CUDA\n",
    "# xgb = XGBClassifier()\n",
    "\n",
    "# Treinamento do modelo\n",
    "xgb.fit(dadosXtreino, Ytreino)\n",
    "\n",
    "# Previsões com os dados de teste\n",
    "previsoes = xgb.predict(dadosXteste)\n",
    "\n",
    "# Calculando a acurácia do modelo\n",
    "numeroAcertos = accuracy_score(Yteste, previsoes, normalize=False)\n",
    "numeroErros = len(Yteste)-numeroAcertos\n",
    "acuracia = numeroAcertos/len(Yteste)\n",
    "\n",
    "print(\"Acurácia: %.2f\" % (acuracia * 100) + \"%\")\n",
    "print(\"Número de acertos:\", numeroAcertos)\n",
    "print(\"Número de erros:\", numeroErros)"
   ]
  },
  {
   "cell_type": "code",
   "execution_count": null,
   "metadata": {},
   "outputs": [],
   "source": [
    "# Visualizando a matriz de confusão\n",
    "desenhaMatrizConfusao(Yteste, previsoes, xgb)"
   ]
  },
  {
   "cell_type": "code",
   "execution_count": null,
   "metadata": {},
   "outputs": [],
   "source": [
    "# Atualizando o dataframe com o desempenho dos algoritmos\n",
    "dfComparaAlgoritmo.iloc[11,1] = \"%.2f\" % (acuracia * 100) + \"%\"\n",
    "dfComparaAlgoritmo.iloc[11,2] = numeroAcertos\n",
    "dfComparaAlgoritmo.iloc[11,3] = numeroErros\n",
    "dfComparaAlgoritmo"
   ]
  },
  {
   "cell_type": "markdown",
   "metadata": {},
   "source": [
    "## 12 - Selecionando o modelo"
   ]
  },
  {
   "cell_type": "code",
   "execution_count": null,
   "metadata": {},
   "outputs": [],
   "source": [
    "# Ordena o DataFrame de acordo o número de acertos, em ordem descrecente\n",
    "dfComparaAlgoritmo.sort_values(by=[\"Acertos\"], ascending=False, inplace=True)\n",
    "dfComparaAlgoritmo"
   ]
  },
  {
   "cell_type": "code",
   "execution_count": null,
   "metadata": {},
   "outputs": [],
   "source": [
    "# Selecionando o modelo final\n",
    "modeloSelecionado = dfComparaAlgoritmo.iloc[0,0]\n",
    "\n",
    "if modeloSelecionado == 'Regressão Logística':\n",
    "    modeloFinal = regressaoLogistica\n",
    "elif modeloSelecionado == 'Linear Discriminant Analysis':\n",
    "    modeloFinal= linearDiscriminantAnalysis\n",
    "elif modeloSelecionado == 'KNN':\n",
    "    modeloFinal = kNeighborsClassifier\n",
    "elif modeloSelecionado == 'Naive Bayes':\n",
    "    modeloFinal = gaussianNB\n",
    "elif modeloSelecionado == 'Árvore de Decisão':\n",
    "    modeloFinal = decisionTreeClassifier\n",
    "elif modeloSelecionado == 'SVM':\n",
    "    modeloFinal = svc\n",
    "elif modeloSelecionado == 'Random Forest':\n",
    "    modeloFinal = randomForestClassifier\n",
    "elif modeloSelecionado == 'Bagging Classifier':\n",
    "    modeloFinal = baggingClassifier\n",
    "elif modeloSelecionado == 'AdaBoost':\n",
    "    modeloFinal = adaBoostClassifier\n",
    "elif modeloSelecionado == 'Voting Classifier':\n",
    "    modeloFinal = votingClassifier\n",
    "elif modeloSelecionado == 'Gradient Tree Boosting':\n",
    "    modeloFinal = gradientBoostingClassifier\n",
    "elif modeloSelecionado == \"XGBoost\":\n",
    "    modeloFinal = xgb\n",
    "\n",
    "modeloFinal"
   ]
  },
  {
   "cell_type": "code",
   "execution_count": null,
   "metadata": {},
   "outputs": [],
   "source": [
    "# Gráfico com os acertos dos algoritmos\n",
    "fig, ax = plt.subplots()\n",
    "ax.bar(dfComparaAlgoritmo.Algoritmo, dfComparaAlgoritmo[\"Acertos\"])\n",
    "ax.set_title(\"Acertos dos algoritmos com os dados \" + apresentacaoDosDados, fontsize = 16)\n",
    "ax.set_xlabel(\"Algoritmo\", fontsize = 12)\n",
    "ax.set_ylabel(\"Acertos\", fontsize = 12)\n",
    "ax.set_xticks(dfComparaAlgoritmo.Algoritmo) \n",
    "plt.xticks(rotation=90)\n",
    "ax.bar_label(ax.containers[0])\n",
    "# Salvando a figura no disco\n",
    "plt.savefig(\"Dados\\Wine-recognition\\Acertos dos algoritmos com os dados \" + apresentacaoDosDados + \".jpg\", bbox_inches='tight')\n",
    "plt.show()"
   ]
  },
  {
   "cell_type": "markdown",
   "metadata": {},
   "source": [
    "## 13 - Salvando e carregando o modelo"
   ]
  },
  {
   "cell_type": "markdown",
   "metadata": {},
   "source": [
    "### 13.1 - Salvando o modelo"
   ]
  },
  {
   "cell_type": "code",
   "execution_count": null,
   "metadata": {},
   "outputs": [],
   "source": [
    "# Salvando o modelo\n",
    "arquivo = 'Dados/Wine-recognition/modeloClassificadorFinal.sav'\n",
    "pickle.dump(modeloFinal, open(arquivo, 'wb'))\n",
    "print(\"Modelo salvo!\")"
   ]
  },
  {
   "cell_type": "markdown",
   "metadata": {},
   "source": [
    "### 13.2 - Carregando o modelo"
   ]
  },
  {
   "cell_type": "code",
   "execution_count": null,
   "metadata": {},
   "outputs": [],
   "source": [
    "# Carregando o modelo\n",
    "modeloClassificador = pickle.load(open(arquivo, 'rb'))\n",
    "print(\"Modelo carregado!\")\n",
    "modeloClassificador"
   ]
  },
  {
   "cell_type": "markdown",
   "metadata": {},
   "source": [
    "### 13.3 - Salvando o objeto de normalização/padronização dos dados"
   ]
  },
  {
   "cell_type": "code",
   "execution_count": null,
   "metadata": {},
   "outputs": [],
   "source": [
    "# Os dados podem estar com apresentação \"Originais\", \"Normalizados\" ou \"Padronizados\"\n",
    "if apresentacaoDosDados == \"Normalizados\":\n",
    "    arquivoNormalizador = 'Dados/Wine-recognition/normalizador.sav'\n",
    "    pickle.dump(min_max_scaler, open(arquivoNormalizador, 'wb'))\n",
    "    print(\"Normalizador salvo!\")\n",
    "elif apresentacaoDosDados == \"Padronizados\":\n",
    "    arquivoPadronizador = 'Dados/Wine-recognition/padronizador.sav'\n",
    "    pickle.dump(scaler, open(arquivoPadronizador, 'wb'))\n",
    "    print(\"Padronizador salvo!\")"
   ]
  },
  {
   "cell_type": "markdown",
   "metadata": {},
   "source": [
    "## 14 - Validando o modelo"
   ]
  },
  {
   "cell_type": "code",
   "execution_count": null,
   "metadata": {},
   "outputs": [],
   "source": [
    "# Visualizando o dataframe\n",
    "dfValidacao"
   ]
  },
  {
   "cell_type": "code",
   "execution_count": null,
   "metadata": {},
   "outputs": [],
   "source": [
    "# Faz as previsões dos novos dados\n",
    "\n",
    "if apresentacaoDosDados == \"Originais\":\n",
    "    novosDados = dfValidacao[colunas].values\n",
    "    # Fazendo previsões\n",
    "    previsoes = modeloClassificador.predict(novosDados)\n",
    "\n",
    "elif apresentacaoDosDados == \"Normalizados\":\n",
    "    # Carregando o objeto de normalização dos dados\n",
    "    normalizador = pickle.load(open(arquivoNormalizador, 'rb'))\n",
    "    # Normalizando os novos dados\n",
    "    novosDados = dfValidacao[colunas].values\n",
    "    novosDadosNormalizados = normalizador.transform(novosDados)\n",
    "    previsoes = modeloClassificador.predict(novosDadosNormalizados)\n",
    "\n",
    "else:\n",
    "    # Carregando o objeto de padronização dos dados\n",
    "    padronizador = pickle.load(open(arquivoPadronizador, 'rb'))\n",
    "    # Padronizando os novos dados\n",
    "    novosDados = dfValidacao[colunas].values\n",
    "    novosDadosPadronizados = padronizador.transform(novosDados)\n",
    "    # Fazendo previsões\n",
    "    previsoes = modeloClassificador.predict(novosDadosPadronizados)\n",
    "\n",
    "previsoes"
   ]
  },
  {
   "cell_type": "code",
   "execution_count": null,
   "metadata": {},
   "outputs": [],
   "source": []
  }
 ],
 "metadata": {
  "kernelspec": {
   "display_name": "Python 3 (ipykernel)",
   "language": "python",
   "name": "python3"
  },
  "language_info": {
   "codemirror_mode": {
    "name": "ipython",
    "version": 3
   },
   "file_extension": ".py",
   "mimetype": "text/x-python",
   "name": "python",
   "nbconvert_exporter": "python",
   "pygments_lexer": "ipython3",
   "version": "3.9.13"
  }
 },
 "nbformat": 4,
 "nbformat_minor": 4
}
