{
 "cells": [
  {
   "cell_type": "markdown",
   "metadata": {},
   "source": [
    "# <font color='blue'>Calculando o tamanho da amostra</font>"
   ]
  },
  {
   "cell_type": "code",
   "execution_count": 1,
   "metadata": {},
   "outputs": [
    {
     "name": "stdout",
     "output_type": "stream",
     "text": [
      "Python Version: 3.9.13\n",
      "Pandas Version: 2.0.2\n",
      "Matplotlib Version: 3.7.1\n"
     ]
    }
   ],
   "source": [
    "# Versão da Linguagem Python\n",
    "from platform import python_version\n",
    "print('Python Version:', python_version())\n",
    "\n",
    "# Verificando as versões dos pacotes instalados\n",
    "pandasVersion = !pip show pandas\n",
    "matplotlibVersion = !pip show matplotlib\n",
    "print('Pandas', pandasVersion[1])\n",
    "print(\"Matplotlib\", matplotlibVersion[1])"
   ]
  },
  {
   "cell_type": "markdown",
   "metadata": {},
   "source": [
    "### Fórmula para calcular o tamanho da amostra\n",
    "<details>\n",
    "    <summary>\n",
    "        <a class=\"btnfire small stroke\"><em class=\"fas fa-chevron-circle-down\"></em>&nbsp;&nbsp;Clique para mais detalhes</a>\n",
    "    </summary>\n",
    "    <br>\n",
    "\n",
    "$n=\\frac{N}{1+N(e)^2}$\n",
    "<br><br>\n",
    "Onde: <br>\n",
    "**$n$** representa o tamanho da amostra; <br>\n",
    "**$N$** representa o tamanho da população; <br>\n",
    "**$e$** representa a margem de erro. <br>\n",
    "</details>\n"
   ]
  },
  {
   "cell_type": "code",
   "execution_count": 2,
   "metadata": {},
   "outputs": [],
   "source": [
    "# importando os pacotes\n",
    "import random\n",
    "import pandas as pd\n",
    "import numpy as np"
   ]
  },
  {
   "cell_type": "code",
   "execution_count": 3,
   "metadata": {},
   "outputs": [
    {
     "data": {
      "text/plain": [
       "array([[833,  96, 727, 539, 953],\n",
       "       [766, 748, 689, 844,  29],\n",
       "       [188, 193, 762, 800, 595],\n",
       "       ...,\n",
       "       [688, 688, 591, 478, 136],\n",
       "       [669,  81, 950, 879,  25],\n",
       "       [146, 168, 879, 298,   9]])"
      ]
     },
     "execution_count": 3,
     "metadata": {},
     "output_type": "execute_result"
    }
   ],
   "source": [
    "# Criando um array de duas dimensões com valores aleatórios.\n",
    "matriz = np.random.randint(1, 1000, size=20000).reshape(4000, 5)\n",
    "matriz"
   ]
  },
  {
   "cell_type": "code",
   "execution_count": 4,
   "metadata": {},
   "outputs": [],
   "source": [
    "# Criando uma função\n",
    "def calculaTamanhoDaAmostra(e,N):\n",
    "    n = (N / (1 + (N*(e**2))))\n",
    "    return n"
   ]
  },
  {
   "cell_type": "code",
   "execution_count": 5,
   "metadata": {},
   "outputs": [
    {
     "data": {
      "text/plain": [
       "363.63636363636357"
      ]
     },
     "execution_count": 5,
     "metadata": {},
     "output_type": "execute_result"
    }
   ],
   "source": [
    "# Calculando o tamanho da amostra\n",
    "tamanhoDaPopulacao = 4000\n",
    "margemDeErro = 0.05\n",
    "\n",
    "tamanhoAmostra = calculaTamanhoDaAmostra(margemDeErro, tamanhoDaPopulacao)\n",
    "tamanhoAmostra"
   ]
  },
  {
   "cell_type": "code",
   "execution_count": 6,
   "metadata": {},
   "outputs": [
    {
     "data": {
      "text/plain": [
       "364"
      ]
     },
     "execution_count": 6,
     "metadata": {},
     "output_type": "execute_result"
    }
   ],
   "source": [
    "# Arredondando o tamanho da amostra\n",
    "tamanhoAmostra = round(tamanhoAmostra)\n",
    "tamanhoAmostra"
   ]
  },
  {
   "cell_type": "code",
   "execution_count": 24,
   "metadata": {},
   "outputs": [
    {
     "data": {
      "text/html": [
       "<div>\n",
       "<style scoped>\n",
       "    .dataframe tbody tr th:only-of-type {\n",
       "        vertical-align: middle;\n",
       "    }\n",
       "\n",
       "    .dataframe tbody tr th {\n",
       "        vertical-align: top;\n",
       "    }\n",
       "\n",
       "    .dataframe thead th {\n",
       "        text-align: right;\n",
       "    }\n",
       "</style>\n",
       "<table border=\"1\" class=\"dataframe\">\n",
       "  <thead>\n",
       "    <tr style=\"text-align: right;\">\n",
       "      <th></th>\n",
       "      <th>0</th>\n",
       "      <th>1</th>\n",
       "      <th>2</th>\n",
       "      <th>3</th>\n",
       "      <th>4</th>\n",
       "    </tr>\n",
       "  </thead>\n",
       "  <tbody>\n",
       "    <tr>\n",
       "      <th>0</th>\n",
       "      <td>833</td>\n",
       "      <td>96</td>\n",
       "      <td>727</td>\n",
       "      <td>539</td>\n",
       "      <td>953</td>\n",
       "    </tr>\n",
       "    <tr>\n",
       "      <th>1</th>\n",
       "      <td>766</td>\n",
       "      <td>748</td>\n",
       "      <td>689</td>\n",
       "      <td>844</td>\n",
       "      <td>29</td>\n",
       "    </tr>\n",
       "    <tr>\n",
       "      <th>2</th>\n",
       "      <td>188</td>\n",
       "      <td>193</td>\n",
       "      <td>762</td>\n",
       "      <td>800</td>\n",
       "      <td>595</td>\n",
       "    </tr>\n",
       "    <tr>\n",
       "      <th>3</th>\n",
       "      <td>199</td>\n",
       "      <td>877</td>\n",
       "      <td>477</td>\n",
       "      <td>747</td>\n",
       "      <td>799</td>\n",
       "    </tr>\n",
       "    <tr>\n",
       "      <th>4</th>\n",
       "      <td>207</td>\n",
       "      <td>854</td>\n",
       "      <td>445</td>\n",
       "      <td>653</td>\n",
       "      <td>249</td>\n",
       "    </tr>\n",
       "    <tr>\n",
       "      <th>...</th>\n",
       "      <td>...</td>\n",
       "      <td>...</td>\n",
       "      <td>...</td>\n",
       "      <td>...</td>\n",
       "      <td>...</td>\n",
       "    </tr>\n",
       "    <tr>\n",
       "      <th>3995</th>\n",
       "      <td>976</td>\n",
       "      <td>727</td>\n",
       "      <td>870</td>\n",
       "      <td>403</td>\n",
       "      <td>116</td>\n",
       "    </tr>\n",
       "    <tr>\n",
       "      <th>3996</th>\n",
       "      <td>637</td>\n",
       "      <td>330</td>\n",
       "      <td>773</td>\n",
       "      <td>648</td>\n",
       "      <td>228</td>\n",
       "    </tr>\n",
       "    <tr>\n",
       "      <th>3997</th>\n",
       "      <td>688</td>\n",
       "      <td>688</td>\n",
       "      <td>591</td>\n",
       "      <td>478</td>\n",
       "      <td>136</td>\n",
       "    </tr>\n",
       "    <tr>\n",
       "      <th>3998</th>\n",
       "      <td>669</td>\n",
       "      <td>81</td>\n",
       "      <td>950</td>\n",
       "      <td>879</td>\n",
       "      <td>25</td>\n",
       "    </tr>\n",
       "    <tr>\n",
       "      <th>3999</th>\n",
       "      <td>146</td>\n",
       "      <td>168</td>\n",
       "      <td>879</td>\n",
       "      <td>298</td>\n",
       "      <td>9</td>\n",
       "    </tr>\n",
       "  </tbody>\n",
       "</table>\n",
       "<p>4000 rows × 5 columns</p>\n",
       "</div>"
      ],
      "text/plain": [
       "        0    1    2    3    4\n",
       "0     833   96  727  539  953\n",
       "1     766  748  689  844   29\n",
       "2     188  193  762  800  595\n",
       "3     199  877  477  747  799\n",
       "4     207  854  445  653  249\n",
       "...   ...  ...  ...  ...  ...\n",
       "3995  976  727  870  403  116\n",
       "3996  637  330  773  648  228\n",
       "3997  688  688  591  478  136\n",
       "3998  669   81  950  879   25\n",
       "3999  146  168  879  298    9\n",
       "\n",
       "[4000 rows x 5 columns]"
      ]
     },
     "execution_count": 24,
     "metadata": {},
     "output_type": "execute_result"
    }
   ],
   "source": [
    "# Criando um DataFrame\n",
    "df = pd.DataFrame(matriz)\n",
    "df"
   ]
  },
  {
   "cell_type": "code",
   "execution_count": 8,
   "metadata": {},
   "outputs": [],
   "source": [
    "# Gerando um arquivo CSV a partir de um Dataframe\n",
    "df.to_csv('Dados/massaDeDados.csv')"
   ]
  },
  {
   "cell_type": "code",
   "execution_count": 25,
   "metadata": {},
   "outputs": [
    {
     "data": {
      "text/html": [
       "<div>\n",
       "<style scoped>\n",
       "    .dataframe tbody tr th:only-of-type {\n",
       "        vertical-align: middle;\n",
       "    }\n",
       "\n",
       "    .dataframe tbody tr th {\n",
       "        vertical-align: top;\n",
       "    }\n",
       "\n",
       "    .dataframe thead th {\n",
       "        text-align: right;\n",
       "    }\n",
       "</style>\n",
       "<table border=\"1\" class=\"dataframe\">\n",
       "  <thead>\n",
       "    <tr style=\"text-align: right;\">\n",
       "      <th></th>\n",
       "      <th>Coluna1</th>\n",
       "      <th>Coluna2</th>\n",
       "      <th>Coluna3</th>\n",
       "      <th>Coluna4</th>\n",
       "      <th>Coluna5</th>\n",
       "    </tr>\n",
       "  </thead>\n",
       "  <tbody>\n",
       "    <tr>\n",
       "      <th>24</th>\n",
       "      <td>799</td>\n",
       "      <td>36</td>\n",
       "      <td>160</td>\n",
       "      <td>295</td>\n",
       "      <td>553</td>\n",
       "    </tr>\n",
       "    <tr>\n",
       "      <th>40</th>\n",
       "      <td>640</td>\n",
       "      <td>543</td>\n",
       "      <td>155</td>\n",
       "      <td>596</td>\n",
       "      <td>407</td>\n",
       "    </tr>\n",
       "    <tr>\n",
       "      <th>47</th>\n",
       "      <td>247</td>\n",
       "      <td>387</td>\n",
       "      <td>451</td>\n",
       "      <td>556</td>\n",
       "      <td>875</td>\n",
       "    </tr>\n",
       "    <tr>\n",
       "      <th>51</th>\n",
       "      <td>169</td>\n",
       "      <td>862</td>\n",
       "      <td>918</td>\n",
       "      <td>457</td>\n",
       "      <td>473</td>\n",
       "    </tr>\n",
       "    <tr>\n",
       "      <th>106</th>\n",
       "      <td>661</td>\n",
       "      <td>354</td>\n",
       "      <td>867</td>\n",
       "      <td>470</td>\n",
       "      <td>271</td>\n",
       "    </tr>\n",
       "    <tr>\n",
       "      <th>...</th>\n",
       "      <td>...</td>\n",
       "      <td>...</td>\n",
       "      <td>...</td>\n",
       "      <td>...</td>\n",
       "      <td>...</td>\n",
       "    </tr>\n",
       "    <tr>\n",
       "      <th>3973</th>\n",
       "      <td>586</td>\n",
       "      <td>157</td>\n",
       "      <td>934</td>\n",
       "      <td>368</td>\n",
       "      <td>806</td>\n",
       "    </tr>\n",
       "    <tr>\n",
       "      <th>3974</th>\n",
       "      <td>877</td>\n",
       "      <td>934</td>\n",
       "      <td>912</td>\n",
       "      <td>341</td>\n",
       "      <td>708</td>\n",
       "    </tr>\n",
       "    <tr>\n",
       "      <th>3992</th>\n",
       "      <td>16</td>\n",
       "      <td>325</td>\n",
       "      <td>556</td>\n",
       "      <td>349</td>\n",
       "      <td>945</td>\n",
       "    </tr>\n",
       "    <tr>\n",
       "      <th>3997</th>\n",
       "      <td>688</td>\n",
       "      <td>688</td>\n",
       "      <td>591</td>\n",
       "      <td>478</td>\n",
       "      <td>136</td>\n",
       "    </tr>\n",
       "    <tr>\n",
       "      <th>3999</th>\n",
       "      <td>146</td>\n",
       "      <td>168</td>\n",
       "      <td>879</td>\n",
       "      <td>298</td>\n",
       "      <td>9</td>\n",
       "    </tr>\n",
       "  </tbody>\n",
       "</table>\n",
       "<p>364 rows × 5 columns</p>\n",
       "</div>"
      ],
      "text/plain": [
       "      Coluna1  Coluna2  Coluna3  Coluna4  Coluna5\n",
       "24        799       36      160      295      553\n",
       "40        640      543      155      596      407\n",
       "47        247      387      451      556      875\n",
       "51        169      862      918      457      473\n",
       "106       661      354      867      470      271\n",
       "...       ...      ...      ...      ...      ...\n",
       "3973      586      157      934      368      806\n",
       "3974      877      934      912      341      708\n",
       "3992       16      325      556      349      945\n",
       "3997      688      688      591      478      136\n",
       "3999      146      168      879      298        9\n",
       "\n",
       "[364 rows x 5 columns]"
      ]
     },
     "execution_count": 25,
     "metadata": {},
     "output_type": "execute_result"
    }
   ],
   "source": [
    "###### Criando uma amostra aleatória a partir de um arquivo csv\n",
    "# A variável pulo armazena as linhas que serão desconsideradas ao ler o arquivo CSV  \n",
    "\n",
    "pulo = sorted(random.sample(range(tamanhoDaPopulacao),tamanhoDaPopulacao-tamanhoAmostra))\n",
    "df2 = pd.read_csv('Dados/massaDeDados.csv', skiprows=pulo, header=0, names=[\"Coluna1\", \"Coluna2\", \"Coluna3\", \"Coluna4\", \"Coluna5\"])\n",
    "df2"
   ]
  },
  {
   "cell_type": "code",
   "execution_count": null,
   "metadata": {},
   "outputs": [],
   "source": []
  }
 ],
 "metadata": {
  "kernelspec": {
   "display_name": "Python 3 (ipykernel)",
   "language": "python",
   "name": "python3"
  },
  "language_info": {
   "codemirror_mode": {
    "name": "ipython",
    "version": 3
   },
   "file_extension": ".py",
   "mimetype": "text/x-python",
   "name": "python",
   "nbconvert_exporter": "python",
   "pygments_lexer": "ipython3",
   "version": "3.9.13"
  }
 },
 "nbformat": 4,
 "nbformat_minor": 4
}
