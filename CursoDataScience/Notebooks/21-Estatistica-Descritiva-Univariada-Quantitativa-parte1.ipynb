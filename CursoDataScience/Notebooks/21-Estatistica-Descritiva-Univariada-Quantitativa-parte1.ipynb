{
 "cells": [
  {
   "cell_type": "markdown",
   "metadata": {},
   "source": [
    "# <font color='blue'>Estatística Descritiva Univariada quantitativa - parte 1</font>"
   ]
  },
  {
   "cell_type": "code",
   "execution_count": 5,
   "metadata": {},
   "outputs": [
    {
     "name": "stdout",
     "output_type": "stream",
     "text": [
      "Versão da Linguagem Python Usada Neste Jupyter Notebook: 3.12.5\n",
      "Pandas Version: 2.2.2\n",
      "Matplotlib Version: 3.9.2\n"
     ]
    }
   ],
   "source": [
    "# Versão da Linguagem Python\n",
    "from platform import python_version\n",
    "print('Versão da Linguagem Python Usada Neste Jupyter Notebook:', python_version())\n",
    "\n",
    "# Verificando as versões dos pacotes instalados\n",
    "pandasVersion = !pip show pandas\n",
    "matplotlibVersion = !pip show matplotlib\n",
    "print('Pandas', pandasVersion[1])\n",
    "print(\"Matplotlib\", matplotlibVersion[1])"
   ]
  },
  {
   "cell_type": "markdown",
   "metadata": {},
   "source": [
    "## Estatística Descritiva Univariada quantitativa\n",
    "<details>\n",
    "    <summary>\n",
    "        <a class=\"btnfire small stroke\"><em class=\"fas fa-chevron-circle-down\"></em>&nbsp;&nbsp;Clique para mais detalhes</a>\n",
    "    </summary>\n",
    "    <br>\n",
    "    \n",
    "Estatísticas descritivas utilizadas com uma variável **quantitativa**: <br>\n",
    "- Tabela de distribuição de frequências; <br>\n",
    "- Gráficos de linhas, de dispersão, histograma e boxplot; <br>\n",
    "- Medidas de posição ou localização; <br>\n",
    "- Medidas de dispersão ou variabilidade; <br>\n",
    "- Medidas de forma que são a assimetria e a curtose. <br>\n",
    "    \n",
    "</details>\n"
   ]
  },
  {
   "cell_type": "code",
   "execution_count": 6,
   "metadata": {},
   "outputs": [],
   "source": [
    "# Importando os pacotes\n",
    "import pandas as pd\n",
    "import numpy as np\n",
    "import matplotlib.pyplot as plt\n",
    "import seaborn as sns\n",
    "import math\n",
    "import statistics as stat"
   ]
  },
  {
   "cell_type": "code",
   "execution_count": 7,
   "metadata": {},
   "outputs": [
    {
     "data": {
      "text/html": [
       "<div>\n",
       "<style scoped>\n",
       "    .dataframe tbody tr th:only-of-type {\n",
       "        vertical-align: middle;\n",
       "    }\n",
       "\n",
       "    .dataframe tbody tr th {\n",
       "        vertical-align: top;\n",
       "    }\n",
       "\n",
       "    .dataframe thead th {\n",
       "        text-align: right;\n",
       "    }\n",
       "</style>\n",
       "<table border=\"1\" class=\"dataframe\">\n",
       "  <thead>\n",
       "    <tr style=\"text-align: right;\">\n",
       "      <th></th>\n",
       "      <th>Total da Conta</th>\n",
       "      <th>Valor da Gorjeta</th>\n",
       "      <th>Sexo</th>\n",
       "      <th>Fumante</th>\n",
       "      <th>Dia</th>\n",
       "      <th>Horário</th>\n",
       "      <th>Quantidade de Pessoas</th>\n",
       "    </tr>\n",
       "  </thead>\n",
       "  <tbody>\n",
       "    <tr>\n",
       "      <th>0</th>\n",
       "      <td>16.99</td>\n",
       "      <td>1.01</td>\n",
       "      <td>Female</td>\n",
       "      <td>No</td>\n",
       "      <td>Sun</td>\n",
       "      <td>Dinner</td>\n",
       "      <td>2</td>\n",
       "    </tr>\n",
       "    <tr>\n",
       "      <th>1</th>\n",
       "      <td>10.34</td>\n",
       "      <td>1.66</td>\n",
       "      <td>Male</td>\n",
       "      <td>No</td>\n",
       "      <td>Sun</td>\n",
       "      <td>Dinner</td>\n",
       "      <td>3</td>\n",
       "    </tr>\n",
       "    <tr>\n",
       "      <th>2</th>\n",
       "      <td>21.01</td>\n",
       "      <td>3.50</td>\n",
       "      <td>Male</td>\n",
       "      <td>No</td>\n",
       "      <td>Sun</td>\n",
       "      <td>Dinner</td>\n",
       "      <td>3</td>\n",
       "    </tr>\n",
       "    <tr>\n",
       "      <th>3</th>\n",
       "      <td>23.68</td>\n",
       "      <td>3.31</td>\n",
       "      <td>Male</td>\n",
       "      <td>No</td>\n",
       "      <td>Sun</td>\n",
       "      <td>Dinner</td>\n",
       "      <td>2</td>\n",
       "    </tr>\n",
       "    <tr>\n",
       "      <th>4</th>\n",
       "      <td>24.59</td>\n",
       "      <td>3.61</td>\n",
       "      <td>Female</td>\n",
       "      <td>No</td>\n",
       "      <td>Sun</td>\n",
       "      <td>Dinner</td>\n",
       "      <td>4</td>\n",
       "    </tr>\n",
       "  </tbody>\n",
       "</table>\n",
       "</div>"
      ],
      "text/plain": [
       "   Total da Conta  Valor da Gorjeta    Sexo Fumante  Dia Horário  \\\n",
       "0           16.99              1.01  Female      No  Sun  Dinner   \n",
       "1           10.34              1.66    Male      No  Sun  Dinner   \n",
       "2           21.01              3.50    Male      No  Sun  Dinner   \n",
       "3           23.68              3.31    Male      No  Sun  Dinner   \n",
       "4           24.59              3.61  Female      No  Sun  Dinner   \n",
       "\n",
       "   Quantidade de Pessoas  \n",
       "0                      2  \n",
       "1                      3  \n",
       "2                      3  \n",
       "3                      2  \n",
       "4                      4  "
      ]
     },
     "execution_count": 7,
     "metadata": {},
     "output_type": "execute_result"
    }
   ],
   "source": [
    "# Coletando os dados\n",
    "df = pd.read_csv('Dados/Tips/tips.csv')\n",
    "# Renomenando as colunas\n",
    "df.columns = [\"Total da Conta\", \"Valor da Gorjeta\", \"Sexo\", \"Fumante\", \"Dia\", \"Horário\", \"Quantidade de Pessoas\"]\n",
    "df.head()"
   ]
  },
  {
   "cell_type": "markdown",
   "metadata": {},
   "source": [
    "### Tabela de Distribuição de Frequências - variáveis quantitativas discretas\n",
    "<details>\n",
    "    <summary>\n",
    "        <a class=\"btnfire small stroke\"><em class=\"fas fa-chevron-circle-down\"></em>&nbsp;&nbsp;Clique para mais detalhes</a>\n",
    "    </summary>\n",
    "    <br>\n",
    "    \n",
    "Variáveis **quantitativas** representam características de um indivíduo, objeto ou elemento resultantes de uma contagem ou de uma mensuração. <br>\n",
    "As variáveis quantitativas que assumem valores provenientes de uma contagem são chamadas **discretas**, como por exemplo, o número de filhos ou o número de clientes.\n",
    "    \n",
    "</details>"
   ]
  },
  {
   "cell_type": "code",
   "execution_count": 8,
   "metadata": {},
   "outputs": [
    {
     "data": {
      "text/html": [
       "<div>\n",
       "<style scoped>\n",
       "    .dataframe tbody tr th:only-of-type {\n",
       "        vertical-align: middle;\n",
       "    }\n",
       "\n",
       "    .dataframe tbody tr th {\n",
       "        vertical-align: top;\n",
       "    }\n",
       "\n",
       "    .dataframe thead th {\n",
       "        text-align: right;\n",
       "    }\n",
       "</style>\n",
       "<table border=\"1\" class=\"dataframe\">\n",
       "  <thead>\n",
       "    <tr style=\"text-align: right;\">\n",
       "      <th></th>\n",
       "      <th>Sexo</th>\n",
       "      <th>Fi</th>\n",
       "      <th>Fri %</th>\n",
       "      <th>Fac</th>\n",
       "      <th>Frac %</th>\n",
       "    </tr>\n",
       "  </thead>\n",
       "  <tbody>\n",
       "    <tr>\n",
       "      <th>0</th>\n",
       "      <td>Male</td>\n",
       "      <td>157</td>\n",
       "      <td>64.34</td>\n",
       "      <td>157</td>\n",
       "      <td>64.34</td>\n",
       "    </tr>\n",
       "    <tr>\n",
       "      <th>1</th>\n",
       "      <td>Female</td>\n",
       "      <td>87</td>\n",
       "      <td>35.66</td>\n",
       "      <td>244</td>\n",
       "      <td>100.00</td>\n",
       "    </tr>\n",
       "  </tbody>\n",
       "</table>\n",
       "</div>"
      ],
      "text/plain": [
       "     Sexo   Fi  Fri %  Fac  Frac %\n",
       "0    Male  157  64.34  157   64.34\n",
       "1  Female   87  35.66  244  100.00"
      ]
     },
     "execution_count": 8,
     "metadata": {},
     "output_type": "execute_result"
    }
   ],
   "source": [
    "# Definindo o nome da coluna que será analisada\n",
    "variavelAnalisada = \"Sexo\"\n",
    "\n",
    "# Frequência absoluta da variável variavel Analisada\n",
    "fiVariavelAnalisada = df[variavelAnalisada].value_counts()\n",
    "\n",
    "# Frequência relativa da variável variavel Analisada\n",
    "friVariavelAnalisada = (fiVariavelAnalisada / df[variavelAnalisada].count())*100\n",
    "\n",
    "# Frequência acumulada da variável variavel Analisada\n",
    "facVariavelAnalisada = fiVariavelAnalisada.cumsum()\n",
    "\n",
    "# Frequência relativa acumulada da variável variavel Analisada\n",
    "fracVariavelAnalisada = (facVariavelAnalisada / df[variavelAnalisada].count())*100\n",
    "\n",
    "# Criando um dicionário com todas as frequências \n",
    "frequencias = {\n",
    "                \"Fi\": fiVariavelAnalisada,\n",
    "                \"Fri %\": round(friVariavelAnalisada, 2),\n",
    "                \"Fac\": facVariavelAnalisada,\n",
    "                \"Frac %\": round(fracVariavelAnalisada, 2)\n",
    "}\n",
    "\n",
    "# Criando um DataFrame a partir de um dicionário\n",
    "df2 = pd.DataFrame(frequencias)\n",
    "\n",
    "# Reiniciando os índices do DataFrame\n",
    "df2 = df2.reset_index()\n",
    "\n",
    "# Renomeando as colunas\n",
    "df2.columns = [variavelAnalisada, \"Fi\", \"Fri %\", \"Fac\", \"Frac %\"]\n",
    "df2"
   ]
  },
  {
   "cell_type": "markdown",
   "metadata": {},
   "source": [
    "### Tabela de Distribuição de Frequências - variáveis quantitativas contínuas\n",
    "<details>\n",
    "    <summary>\n",
    "        <a class=\"btnfire small stroke\"><em class=\"fas fa-chevron-circle-down\"></em>&nbsp;&nbsp;Clique para mais detalhes</a>\n",
    "    </summary>\n",
    "    <br>\n",
    "    \n",
    "As variáveis quantitativas **contínuas** assumem um valor dentro de um intervalo de números. Normalmente, são obtidas a partir de um processo de mensuração, como por exemplo peso, altura e renda de um indivíduo. <br>\n",
    "Já que as variáveis quantitativas **contínuas** assumem um valor dentro de um intervalo de números, não faz sentido calcular a frequência para cada valor, visto que os valores tendem a não se repetir. <br>\n",
    "Sendo assim, tornar-se interessante **agrupar os dados em classes ou faixas**. <br>\n",
    "Para determinar o número de classes, podemos utilizar a expressão de Sturges, definida por: <br>\n",
    "- k = 1 + 3,3 * log(n) <br>\n",
    "\n",
    "Onde *k* é a quantidade de classes e deve ser um número inteiro e *n* é o tamanho da amostra. <br><br>\n",
    "Para determinar o intervalo das classes, utilizamos a expressão: <br>\n",
    "- h = A/k <br>\n",
    "\n",
    "Onde o valor de *h* é aproximado para o maior inteiro e a amplitude da amostra *A = valor máximo - valor mínimo*. E dividimos *A* pela quantidade de classes. \n",
    "\n",
    "    \n",
    "</details>"
   ]
  },
  {
   "cell_type": "code",
   "execution_count": 9,
   "metadata": {},
   "outputs": [],
   "source": [
    "# Definindo o nome da variável que será analisada\n",
    "variavelAnalisada = \"Valor da Gorjeta\""
   ]
  },
  {
   "cell_type": "code",
   "execution_count": 10,
   "metadata": {},
   "outputs": [
    {
     "name": "stdout",
     "output_type": "stream",
     "text": [
      "244\n"
     ]
    },
    {
     "data": {
      "text/plain": [
       "9"
      ]
     },
     "execution_count": 10,
     "metadata": {},
     "output_type": "execute_result"
    }
   ],
   "source": [
    "# Calculando a quantidade de classes da variável analisada\n",
    "n = df[variavelAnalisada].count()\n",
    "print(n)\n",
    "# Fórmula da Regra de Sturges\n",
    "k = round(1+3.3*math.log10(n))\n",
    "k"
   ]
  },
  {
   "cell_type": "code",
   "execution_count": 11,
   "metadata": {},
   "outputs": [
    {
     "name": "stdout",
     "output_type": "stream",
     "text": [
      "9.0\n"
     ]
    },
    {
     "data": {
      "text/plain": [
       "1"
      ]
     },
     "execution_count": 11,
     "metadata": {},
     "output_type": "execute_result"
    }
   ],
   "source": [
    "# Calculando a amplitudade da amostra \n",
    "a = max(df[variavelAnalisada])-min(df[variavelAnalisada])\n",
    "print(a)\n",
    "# Calculando o intervalo entre as classes\n",
    "h = round(a/k)\n",
    "h"
   ]
  },
  {
   "cell_type": "code",
   "execution_count": 12,
   "metadata": {},
   "outputs": [
    {
     "data": {
      "text/html": [
       "<div>\n",
       "<style scoped>\n",
       "    .dataframe tbody tr th:only-of-type {\n",
       "        vertical-align: middle;\n",
       "    }\n",
       "\n",
       "    .dataframe tbody tr th {\n",
       "        vertical-align: top;\n",
       "    }\n",
       "\n",
       "    .dataframe thead th {\n",
       "        text-align: right;\n",
       "    }\n",
       "</style>\n",
       "<table border=\"1\" class=\"dataframe\">\n",
       "  <thead>\n",
       "    <tr style=\"text-align: right;\">\n",
       "      <th></th>\n",
       "      <th>Classe</th>\n",
       "      <th>Fi</th>\n",
       "      <th>Fri %</th>\n",
       "      <th>Fac</th>\n",
       "      <th>Frac %</th>\n",
       "    </tr>\n",
       "  </thead>\n",
       "  <tbody>\n",
       "    <tr>\n",
       "      <th>0</th>\n",
       "      <td>[1.0-2.0[</td>\n",
       "      <td>45</td>\n",
       "      <td>18.44</td>\n",
       "      <td>45</td>\n",
       "      <td>18.44</td>\n",
       "    </tr>\n",
       "    <tr>\n",
       "      <th>1</th>\n",
       "      <td>[2.0-3.0[</td>\n",
       "      <td>78</td>\n",
       "      <td>31.97</td>\n",
       "      <td>123</td>\n",
       "      <td>50.41</td>\n",
       "    </tr>\n",
       "    <tr>\n",
       "      <th>2</th>\n",
       "      <td>[3.0-4.0[</td>\n",
       "      <td>68</td>\n",
       "      <td>27.87</td>\n",
       "      <td>191</td>\n",
       "      <td>78.28</td>\n",
       "    </tr>\n",
       "    <tr>\n",
       "      <th>3</th>\n",
       "      <td>[4.0-5.0[</td>\n",
       "      <td>25</td>\n",
       "      <td>10.25</td>\n",
       "      <td>216</td>\n",
       "      <td>88.52</td>\n",
       "    </tr>\n",
       "    <tr>\n",
       "      <th>4</th>\n",
       "      <td>[5.0-6.0[</td>\n",
       "      <td>20</td>\n",
       "      <td>8.20</td>\n",
       "      <td>236</td>\n",
       "      <td>96.72</td>\n",
       "    </tr>\n",
       "    <tr>\n",
       "      <th>5</th>\n",
       "      <td>[6.0-7.0[</td>\n",
       "      <td>5</td>\n",
       "      <td>2.05</td>\n",
       "      <td>241</td>\n",
       "      <td>98.77</td>\n",
       "    </tr>\n",
       "    <tr>\n",
       "      <th>6</th>\n",
       "      <td>[7.0-8.0[</td>\n",
       "      <td>1</td>\n",
       "      <td>0.41</td>\n",
       "      <td>242</td>\n",
       "      <td>99.18</td>\n",
       "    </tr>\n",
       "    <tr>\n",
       "      <th>7</th>\n",
       "      <td>[8.0-9.0[</td>\n",
       "      <td>0</td>\n",
       "      <td>0.00</td>\n",
       "      <td>242</td>\n",
       "      <td>99.18</td>\n",
       "    </tr>\n",
       "    <tr>\n",
       "      <th>8</th>\n",
       "      <td>[9.0-10.0]</td>\n",
       "      <td>2</td>\n",
       "      <td>0.82</td>\n",
       "      <td>244</td>\n",
       "      <td>100.00</td>\n",
       "    </tr>\n",
       "  </tbody>\n",
       "</table>\n",
       "</div>"
      ],
      "text/plain": [
       "       Classe  Fi  Fri %  Fac  Frac %\n",
       "0   [1.0-2.0[  45  18.44   45   18.44\n",
       "1   [2.0-3.0[  78  31.97  123   50.41\n",
       "2   [3.0-4.0[  68  27.87  191   78.28\n",
       "3   [4.0-5.0[  25  10.25  216   88.52\n",
       "4   [5.0-6.0[  20   8.20  236   96.72\n",
       "5   [6.0-7.0[   5   2.05  241   98.77\n",
       "6   [7.0-8.0[   1   0.41  242   99.18\n",
       "7   [8.0-9.0[   0   0.00  242   99.18\n",
       "8  [9.0-10.0]   2   0.82  244  100.00"
      ]
     },
     "execution_count": 12,
     "metadata": {},
     "output_type": "execute_result"
    }
   ],
   "source": [
    "# Criando um dicionário vazio\n",
    "frequencias = {}\n",
    "\n",
    "# Criando uma lista vazia\n",
    "fiVariavelAnalisada = []\n",
    "\n",
    "contador = 0\n",
    "while contador < k:\n",
    "    if len(frequencias) == 0:\n",
    "        frequencias[\"Classe\"] = [\"[\" + str(min(df[variavelAnalisada])) + \"-\" + str(min(df[variavelAnalisada])+h) + \"[\"]\n",
    "        fiVariavelAnalisada.append(len(df[(df[variavelAnalisada] >= min(df[variavelAnalisada])) & (df[variavelAnalisada] < min(df[variavelAnalisada])+h)]))\n",
    "        aux = min(df[variavelAnalisada])+h\n",
    "        contador+=1\n",
    "    elif contador == k-1:\n",
    "        frequencias[\"Classe\"].append(\"[\" + str(aux) + \"-\" + str(aux+h) + \"]\")\n",
    "        fiVariavelAnalisada.append(len(df[(df[variavelAnalisada] >= aux) & (df[variavelAnalisada] <= aux+h+1)]))\n",
    "        contador+= 1\n",
    "    else:    \n",
    "        frequencias[\"Classe\"].append(\"[\" + str(aux) + \"-\" + str(aux+h) + \"[\")\n",
    "        fiVariavelAnalisada.append(len(df[(df[variavelAnalisada] >= aux) & (df[variavelAnalisada] < aux+h)]))\n",
    "        aux+=h\n",
    "        contador+= 1\n",
    "\n",
    "# Convertendo o objeto do tipo lista para o tipo Série do Pandas\n",
    "fiVariavelAnalisada = pd.Series(fiVariavelAnalisada)\n",
    "\n",
    "# Frequência absoluta da Variável Analisada\n",
    "frequencias[\"Fi\"] = fiVariavelAnalisada\n",
    "\n",
    "# Frequência relativa da variável Variavel Analisada\n",
    "friVariavelAnalisada = round((fiVariavelAnalisada / df[variavelAnalisada].count())*100,2)\n",
    "frequencias[\"Fri %\"] = friVariavelAnalisada\n",
    "\n",
    "# Frequência acumulada da variável Variavel Analisada\n",
    "facVariavelAnalisada = fiVariavelAnalisada.cumsum()\n",
    "frequencias[\"Fac\"] = facVariavelAnalisada\n",
    "\n",
    "# Frequência relativa acumulada da variável Variavel Analisada\n",
    "fracVariavelAnalisada = round((facVariavelAnalisada / df[variavelAnalisada].count())*100,2)\n",
    "frequencias[\"Frac %\"] = fracVariavelAnalisada\n",
    "\n",
    "df3  = pd.DataFrame(frequencias)\n",
    "df3"
   ]
  },
  {
   "cell_type": "markdown",
   "metadata": {
    "tags": []
   },
   "source": [
    "### Histograma"
   ]
  },
  {
   "cell_type": "code",
   "execution_count": 13,
   "metadata": {},
   "outputs": [
    {
     "data": {
      "image/png": "[encoded data removed]",
      "text/plain": [
       "<Figure size 640x480 with 1 Axes>"
      ]
     },
     "metadata": {},
     "output_type": "display_data"
    }
   ],
   "source": [
    "# Define o tema utilizado.\n",
    "sns.set_theme(style=\"darkgrid\") \n",
    "\n",
    "# Desenhando um histograma\n",
    "ax = sns.histplot(df[variavelAnalisada], bins=k, kde=True)\n",
    "ax.set_title(\"Histograma variável \" + variavelAnalisada, fontsize = 16)\n",
    "ax.set_xlabel(variavelAnalisada, fontsize = 12)\n",
    "ax.set_ylabel(\"Frequência\", fontsize = 12)\n",
    "ax.set_xticks(np.arange(min(df[variavelAnalisada]), max(df[variavelAnalisada])+1, h))\n",
    "for p in ax.patches:\n",
    "    _x = p.get_x() + (p.get_width()) / 2 - 0.1\n",
    "    _y = p.get_y() + p.get_height()\n",
    "    value = int(p.get_height())\n",
    "    ax.text(_x, _y, value, ha=\"left\")"
   ]
  },
  {
   "cell_type": "code",
   "execution_count": 14,
   "metadata": {},
   "outputs": [
    {
     "data": {
      "text/plain": [
       "45"
      ]
     },
     "execution_count": 14,
     "metadata": {},
     "output_type": "execute_result"
    }
   ],
   "source": [
    "# Verificando a quantidade de ocorrências da classe [1-2[\n",
    "len(df[(df[\"Valor da Gorjeta\"] >= 1) & (df[\"Valor da Gorjeta\"] < 2)])"
   ]
  },
  {
   "cell_type": "markdown",
   "metadata": {},
   "source": [
    "### Medidas-resumo\n",
    "<details>\n",
    "    <summary>\n",
    "        <a class=\"btnfire small stroke\"><em class=\"fas fa-chevron-circle-down\"></em>&nbsp;&nbsp;Clique para mais detalhes</a>\n",
    "    </summary>\n",
    "    <br>\n",
    "\n",
    "As informações contidas em um conjunto de dados podem ser resumidas por meio de medidas numéricas chamadas **medidas-resumo**. <br>\n",
    "As medidas-resumo mais utilizadas em estatística descritiva univariada têm como objetivo principal a representação do comportamento da variável analisada por meio de seus valores centrais e não centrais, por suas dispersões ou formas de distribuição dos seus valores em torno da média. <br>\n",
    "As medidas-resumo mais utilizadas em estatística descritiva univariada são: <br>\n",
    "- Medidas de posição ou localização; <br>\n",
    "- Medidas de dispersão ou variabilidade; <br>\n",
    "- Medidas de forma que são a assimetria e a curtose. <br>\n",
    "    \n",
    "Obs.: **Essas medidas são calculadas para variáveis quantitativas**. A única exceção é em relação à moda, que é uma medida de tendência central que fornece o valor mais frequente de determinada variável, podendo assim também ser calculada para variáveis categóricas. \n",
    "\n",
    "</details>"
   ]
  },
  {
   "cell_type": "markdown",
   "metadata": {},
   "source": [
    "### Medidas de posição ou localização\n",
    "<details>\n",
    "    <summary>\n",
    "        <a class=\"btnfire small stroke\"><em class=\"fas fa-chevron-circle-down\"></em>&nbsp;&nbsp;Clique para mais detalhes</a>\n",
    "    </summary>\n",
    "    <br>\n",
    "\n",
    "As medidas de posição ou localização fornecem valores que caracterizam o comportamento de uma série de dados, indicando a posição ou localização dos dados em relação ao eixo dos valores assumidos pela variável analisada. <br>\n",
    "As medidas de posição ou localização são subdivididas em: <br>\n",
    "1. Medidas de tendência central: <br>\n",
    "    1.1 - média; <br>\n",
    "    1.2 - mediana; <br>\n",
    "    1.3 - moda. <br>\n",
    "2. Medidas separatrizes: <br>\n",
    "    2.1 - quartis; <br>\n",
    "    2.2 - decis; <br>\n",
    "    2.3 - percentis. <br>\n",
    "\n",
    "</details>"
   ]
  },
  {
   "cell_type": "markdown",
   "metadata": {},
   "source": [
    "### Média aritmética"
   ]
  },
  {
   "cell_type": "markdown",
   "metadata": {},
   "source": [
    "A média aritmética é a soma do total dos valores de determinada variável quantitativa (discreta ou contínua) dividida pelo número total de observações. "
   ]
  },
  {
   "cell_type": "code",
   "execution_count": 15,
   "metadata": {},
   "outputs": [
    {
     "data": {
      "text/plain": [
       "[5.7, 6.5, 6.9, 8.3, 8.0, 4.2, 6.3, 7.4, 5.8, 6.9]"
      ]
     },
     "execution_count": 15,
     "metadata": {},
     "output_type": "execute_result"
    }
   ],
   "source": [
    "# Criando uma lista\n",
    "notas = [5.7, 6.5, 6.9, 8.3, 8.0, 4.2, 6.3, 7.4, 5.8, 6.9]\n",
    "notas"
   ]
  },
  {
   "cell_type": "code",
   "execution_count": 16,
   "metadata": {},
   "outputs": [
    {
     "name": "stdout",
     "output_type": "stream",
     "text": [
      "A média aritmética das notas é 6.6\n"
     ]
    }
   ],
   "source": [
    "# Calculando a média das notas\n",
    "soma = 0\n",
    "for i in notas:\n",
    "    soma += i\n",
    "else:\n",
    "    print(\"A média aritmética das notas é\", soma / len(notas))"
   ]
  },
  {
   "cell_type": "code",
   "execution_count": 17,
   "metadata": {},
   "outputs": [
    {
     "data": {
      "text/plain": [
       "6.6"
      ]
     },
     "execution_count": 17,
     "metadata": {},
     "output_type": "execute_result"
    }
   ],
   "source": [
    "# Calculando a média utilizando o NumPy\n",
    "np.mean(notas)"
   ]
  },
  {
   "cell_type": "markdown",
   "metadata": {},
   "source": [
    "### Média ponderada"
   ]
  },
  {
   "cell_type": "markdown",
   "metadata": {},
   "source": [
    "A média ponderada é calculada atribuindo diferentes pesos para cada valor da variável. Na média ponderada somamos os produtos dos valores da variável pelos seus respectivos pesos e dividimos o resultado pela soma dos pesos. "
   ]
  },
  {
   "cell_type": "code",
   "execution_count": 18,
   "metadata": {},
   "outputs": [],
   "source": [
    "# Criando listas\n",
    "notaBimestre = [4.5, 7.0, 5.5, 6.5]\n",
    "peso = [1, 2, 3, 4]"
   ]
  },
  {
   "cell_type": "code",
   "execution_count": 19,
   "metadata": {},
   "outputs": [
    {
     "name": "stdout",
     "output_type": "stream",
     "text": [
      "A média ponderada das notas é 6.1\n"
     ]
    }
   ],
   "source": [
    "# Calculando a média ponderada\n",
    "somaDasNotas = 0\n",
    "somaDosPesos = 0\n",
    "j = 0\n",
    "for i in notaBimestre:\n",
    "    somaDasNotas += i * peso[j]\n",
    "    somaDosPesos += peso[j]\n",
    "    j += 1\n",
    "else:\n",
    "    print(\"A média ponderada das notas é\", somaDasNotas / somaDosPesos)"
   ]
  },
  {
   "cell_type": "code",
   "execution_count": 20,
   "metadata": {},
   "outputs": [
    {
     "data": {
      "text/plain": [
       "6.1"
      ]
     },
     "execution_count": 20,
     "metadata": {},
     "output_type": "execute_result"
    }
   ],
   "source": [
    "# Calculando a média ponderada utilizando o NumPy\n",
    "np.average(notaBimestre, weights = peso)"
   ]
  },
  {
   "cell_type": "markdown",
   "metadata": {},
   "source": [
    "Na média ponderada, os pesos podem ser substituídos pela frequência absoluta de uma variável."
   ]
  },
  {
   "cell_type": "code",
   "execution_count": 21,
   "metadata": {},
   "outputs": [
    {
     "data": {
      "text/html": [
       "<div>\n",
       "<style scoped>\n",
       "    .dataframe tbody tr th:only-of-type {\n",
       "        vertical-align: middle;\n",
       "    }\n",
       "\n",
       "    .dataframe tbody tr th {\n",
       "        vertical-align: top;\n",
       "    }\n",
       "\n",
       "    .dataframe thead th {\n",
       "        text-align: right;\n",
       "    }\n",
       "</style>\n",
       "<table border=\"1\" class=\"dataframe\">\n",
       "  <thead>\n",
       "    <tr style=\"text-align: right;\">\n",
       "      <th></th>\n",
       "      <th>Notas</th>\n",
       "      <th>Quantidade de Entrevistados</th>\n",
       "    </tr>\n",
       "  </thead>\n",
       "  <tbody>\n",
       "    <tr>\n",
       "      <th>0</th>\n",
       "      <td>1</td>\n",
       "      <td>9</td>\n",
       "    </tr>\n",
       "    <tr>\n",
       "      <th>1</th>\n",
       "      <td>2</td>\n",
       "      <td>12</td>\n",
       "    </tr>\n",
       "    <tr>\n",
       "      <th>2</th>\n",
       "      <td>3</td>\n",
       "      <td>15</td>\n",
       "    </tr>\n",
       "    <tr>\n",
       "      <th>3</th>\n",
       "      <td>4</td>\n",
       "      <td>18</td>\n",
       "    </tr>\n",
       "    <tr>\n",
       "      <th>4</th>\n",
       "      <td>5</td>\n",
       "      <td>24</td>\n",
       "    </tr>\n",
       "    <tr>\n",
       "      <th>5</th>\n",
       "      <td>6</td>\n",
       "      <td>26</td>\n",
       "    </tr>\n",
       "    <tr>\n",
       "      <th>6</th>\n",
       "      <td>7</td>\n",
       "      <td>5</td>\n",
       "    </tr>\n",
       "    <tr>\n",
       "      <th>7</th>\n",
       "      <td>8</td>\n",
       "      <td>7</td>\n",
       "    </tr>\n",
       "    <tr>\n",
       "      <th>8</th>\n",
       "      <td>9</td>\n",
       "      <td>3</td>\n",
       "    </tr>\n",
       "    <tr>\n",
       "      <th>9</th>\n",
       "      <td>10</td>\n",
       "      <td>1</td>\n",
       "    </tr>\n",
       "  </tbody>\n",
       "</table>\n",
       "</div>"
      ],
      "text/plain": [
       "   Notas  Quantidade de Entrevistados\n",
       "0      1                            9\n",
       "1      2                           12\n",
       "2      3                           15\n",
       "3      4                           18\n",
       "4      5                           24\n",
       "5      6                           26\n",
       "6      7                            5\n",
       "7      8                            7\n",
       "8      9                            3\n",
       "9     10                            1"
      ]
     },
     "execution_count": 21,
     "metadata": {},
     "output_type": "execute_result"
    }
   ],
   "source": [
    "# Criando um dicionário\n",
    "dicionario = {\n",
    "    \"Notas\": [1, 2, 3, 4, 5, 6, 7, 8, 9, 10],\n",
    "    \"Quantidade de Entrevistados\": [9, 12, 15, 18, 24, 26, 5, 7, 3, 1]\n",
    "}\n",
    "# Convertendo o dicinário em um Dataframe\n",
    "df4 = pd.DataFrame(dicionario)\n",
    "df4"
   ]
  },
  {
   "cell_type": "code",
   "execution_count": 22,
   "metadata": {},
   "outputs": [
    {
     "data": {
      "text/plain": [
       "4.616666666666666"
      ]
     },
     "execution_count": 22,
     "metadata": {},
     "output_type": "execute_result"
    }
   ],
   "source": [
    "# Calculando a média ponderada utilizando o NumPy\n",
    "np.average(df4.Notas, weights = df4[\"Quantidade de Entrevistados\"])"
   ]
  },
  {
   "cell_type": "markdown",
   "metadata": {},
   "source": [
    "### Mediana\n",
    "Mediana é uma medida de localização do centro da distribuição de um conjunto de dados ordenados de forma crescente. Seu valor separa a série em duas partes iguais, de modo que 50% dos elementos são menores ou iguais à mediana e os outros 50% são maiores ou iguais à mediana. <br>\n",
    "A mediana também é conhecida como segundo quartil."
   ]
  },
  {
   "cell_type": "code",
   "execution_count": 23,
   "metadata": {},
   "outputs": [
    {
     "data": {
      "text/html": [
       "<div>\n",
       "<style scoped>\n",
       "    .dataframe tbody tr th:only-of-type {\n",
       "        vertical-align: middle;\n",
       "    }\n",
       "\n",
       "    .dataframe tbody tr th {\n",
       "        vertical-align: top;\n",
       "    }\n",
       "\n",
       "    .dataframe thead th {\n",
       "        text-align: right;\n",
       "    }\n",
       "</style>\n",
       "<table border=\"1\" class=\"dataframe\">\n",
       "  <thead>\n",
       "    <tr style=\"text-align: right;\">\n",
       "      <th></th>\n",
       "      <th>Mês</th>\n",
       "      <th>Produção</th>\n",
       "    </tr>\n",
       "  </thead>\n",
       "  <tbody>\n",
       "    <tr>\n",
       "      <th>0</th>\n",
       "      <td>jan</td>\n",
       "      <td>210</td>\n",
       "    </tr>\n",
       "    <tr>\n",
       "      <th>1</th>\n",
       "      <td>fev</td>\n",
       "      <td>180</td>\n",
       "    </tr>\n",
       "    <tr>\n",
       "      <th>2</th>\n",
       "      <td>mar</td>\n",
       "      <td>203</td>\n",
       "    </tr>\n",
       "    <tr>\n",
       "      <th>3</th>\n",
       "      <td>abr</td>\n",
       "      <td>195</td>\n",
       "    </tr>\n",
       "    <tr>\n",
       "      <th>4</th>\n",
       "      <td>mai</td>\n",
       "      <td>208</td>\n",
       "    </tr>\n",
       "    <tr>\n",
       "      <th>5</th>\n",
       "      <td>jun</td>\n",
       "      <td>230</td>\n",
       "    </tr>\n",
       "    <tr>\n",
       "      <th>6</th>\n",
       "      <td>jul</td>\n",
       "      <td>185</td>\n",
       "    </tr>\n",
       "    <tr>\n",
       "      <th>7</th>\n",
       "      <td>ago</td>\n",
       "      <td>190</td>\n",
       "    </tr>\n",
       "    <tr>\n",
       "      <th>8</th>\n",
       "      <td>set</td>\n",
       "      <td>200</td>\n",
       "    </tr>\n",
       "    <tr>\n",
       "      <th>9</th>\n",
       "      <td>out</td>\n",
       "      <td>182</td>\n",
       "    </tr>\n",
       "    <tr>\n",
       "      <th>10</th>\n",
       "      <td>nov</td>\n",
       "      <td>205</td>\n",
       "    </tr>\n",
       "    <tr>\n",
       "      <th>11</th>\n",
       "      <td>dez</td>\n",
       "      <td>196</td>\n",
       "    </tr>\n",
       "  </tbody>\n",
       "</table>\n",
       "</div>"
      ],
      "text/plain": [
       "    Mês  Produção\n",
       "0   jan       210\n",
       "1   fev       180\n",
       "2   mar       203\n",
       "3   abr       195\n",
       "4   mai       208\n",
       "5   jun       230\n",
       "6   jul       185\n",
       "7   ago       190\n",
       "8   set       200\n",
       "9   out       182\n",
       "10  nov       205\n",
       "11  dez       196"
      ]
     },
     "execution_count": 23,
     "metadata": {},
     "output_type": "execute_result"
    }
   ],
   "source": [
    "# Criando um dicionário\n",
    "dicionario = {\n",
    "    \"Mês\": [\"jan\", \"fev\", \"mar\", \"abr\", \"mai\", \"jun\", \"jul\", \"ago\", \"set\", \"out\", \"nov\", \"dez\"],\n",
    "    \"Produção\": [210, 180, 203, 195, 208, 230, 185, 190, 200, 182, 205, 196]\n",
    "}\n",
    "df5 = pd.DataFrame(dicionario)\n",
    "df5"
   ]
  },
  {
   "cell_type": "code",
   "execution_count": 24,
   "metadata": {},
   "outputs": [
    {
     "data": {
      "text/plain": [
       "198.0"
      ]
     },
     "execution_count": 24,
     "metadata": {},
     "output_type": "execute_result"
    }
   ],
   "source": [
    "# Calculando a mediana com o NumPy\n",
    "np.median(df5[\"Produção\"])"
   ]
  },
  {
   "cell_type": "code",
   "execution_count": 25,
   "metadata": {},
   "outputs": [
    {
     "data": {
      "text/plain": [
       "198.66666666666666"
      ]
     },
     "execution_count": 25,
     "metadata": {},
     "output_type": "execute_result"
    }
   ],
   "source": [
    "# Calculando a média com NumPy\n",
    "np.mean(df5[\"Produção\"])"
   ]
  },
  {
   "cell_type": "code",
   "execution_count": 26,
   "metadata": {},
   "outputs": [
    {
     "data": {
      "text/html": [
       "<div>\n",
       "<style scoped>\n",
       "    .dataframe tbody tr th:only-of-type {\n",
       "        vertical-align: middle;\n",
       "    }\n",
       "\n",
       "    .dataframe tbody tr th {\n",
       "        vertical-align: top;\n",
       "    }\n",
       "\n",
       "    .dataframe thead th {\n",
       "        text-align: right;\n",
       "    }\n",
       "</style>\n",
       "<table border=\"1\" class=\"dataframe\">\n",
       "  <thead>\n",
       "    <tr style=\"text-align: right;\">\n",
       "      <th></th>\n",
       "      <th>Mês</th>\n",
       "      <th>Produção</th>\n",
       "    </tr>\n",
       "  </thead>\n",
       "  <tbody>\n",
       "    <tr>\n",
       "      <th>0</th>\n",
       "      <td>jan</td>\n",
       "      <td>210</td>\n",
       "    </tr>\n",
       "    <tr>\n",
       "      <th>1</th>\n",
       "      <td>fev</td>\n",
       "      <td>180</td>\n",
       "    </tr>\n",
       "    <tr>\n",
       "      <th>2</th>\n",
       "      <td>mar</td>\n",
       "      <td>203</td>\n",
       "    </tr>\n",
       "    <tr>\n",
       "      <th>3</th>\n",
       "      <td>abr</td>\n",
       "      <td>195</td>\n",
       "    </tr>\n",
       "    <tr>\n",
       "      <th>4</th>\n",
       "      <td>mai</td>\n",
       "      <td>208</td>\n",
       "    </tr>\n",
       "    <tr>\n",
       "      <th>5</th>\n",
       "      <td>jun</td>\n",
       "      <td>400</td>\n",
       "    </tr>\n",
       "    <tr>\n",
       "      <th>6</th>\n",
       "      <td>jul</td>\n",
       "      <td>185</td>\n",
       "    </tr>\n",
       "    <tr>\n",
       "      <th>7</th>\n",
       "      <td>ago</td>\n",
       "      <td>190</td>\n",
       "    </tr>\n",
       "    <tr>\n",
       "      <th>8</th>\n",
       "      <td>set</td>\n",
       "      <td>200</td>\n",
       "    </tr>\n",
       "    <tr>\n",
       "      <th>9</th>\n",
       "      <td>out</td>\n",
       "      <td>182</td>\n",
       "    </tr>\n",
       "    <tr>\n",
       "      <th>10</th>\n",
       "      <td>nov</td>\n",
       "      <td>205</td>\n",
       "    </tr>\n",
       "    <tr>\n",
       "      <th>11</th>\n",
       "      <td>dez</td>\n",
       "      <td>196</td>\n",
       "    </tr>\n",
       "  </tbody>\n",
       "</table>\n",
       "</div>"
      ],
      "text/plain": [
       "    Mês  Produção\n",
       "0   jan       210\n",
       "1   fev       180\n",
       "2   mar       203\n",
       "3   abr       195\n",
       "4   mai       208\n",
       "5   jun       400\n",
       "6   jul       185\n",
       "7   ago       190\n",
       "8   set       200\n",
       "9   out       182\n",
       "10  nov       205\n",
       "11  dez       196"
      ]
     },
     "execution_count": 26,
     "metadata": {},
     "output_type": "execute_result"
    }
   ],
   "source": [
    "# Alterando um valor específico no DataFrame\n",
    "df5['Produção'] = df5['Produção'].replace(230,400)\n",
    "df5"
   ]
  },
  {
   "cell_type": "code",
   "execution_count": 27,
   "metadata": {},
   "outputs": [
    {
     "data": {
      "text/plain": [
       "212.83333333333334"
      ]
     },
     "execution_count": 27,
     "metadata": {},
     "output_type": "execute_result"
    }
   ],
   "source": [
    "# Calculando a média com NumPy\n",
    "np.mean(df5[\"Produção\"])"
   ]
  },
  {
   "cell_type": "code",
   "execution_count": 28,
   "metadata": {},
   "outputs": [
    {
     "data": {
      "text/plain": [
       "198.0"
      ]
     },
     "execution_count": 28,
     "metadata": {},
     "output_type": "execute_result"
    }
   ],
   "source": [
    "# Calculando a mediana com o NumPy\n",
    "np.median(df5[\"Produção\"])"
   ]
  },
  {
   "cell_type": "code",
   "execution_count": 29,
   "metadata": {},
   "outputs": [
    {
     "data": {
      "text/plain": [
       "array([0, 1, 2, 3, 4, 5, 6])"
      ]
     },
     "execution_count": 29,
     "metadata": {},
     "output_type": "execute_result"
    }
   ],
   "source": [
    "# Criando um array NumPy\n",
    "array1 = np.arange(7)\n",
    "array1"
   ]
  },
  {
   "cell_type": "code",
   "execution_count": 30,
   "metadata": {},
   "outputs": [
    {
     "data": {
      "text/plain": [
       "3.0"
      ]
     },
     "execution_count": 30,
     "metadata": {},
     "output_type": "execute_result"
    }
   ],
   "source": [
    "# Calculando a mediana com o NumPy\n",
    "np.median(array1)"
   ]
  },
  {
   "cell_type": "code",
   "execution_count": 31,
   "metadata": {},
   "outputs": [
    {
     "data": {
      "text/plain": [
       "array([0, 1, 2, 3, 4, 5, 6, 7])"
      ]
     },
     "execution_count": 31,
     "metadata": {},
     "output_type": "execute_result"
    }
   ],
   "source": [
    "# Criando um array NumPy\n",
    "array2 = np.arange(8)\n",
    "array2"
   ]
  },
  {
   "cell_type": "code",
   "execution_count": 32,
   "metadata": {},
   "outputs": [
    {
     "data": {
      "text/plain": [
       "3.5"
      ]
     },
     "execution_count": 32,
     "metadata": {},
     "output_type": "execute_result"
    }
   ],
   "source": [
    "# Calculando a mediana com o NumPy\n",
    "np.median(array2)"
   ]
  },
  {
   "cell_type": "markdown",
   "metadata": {},
   "source": [
    "### Moda\n",
    "A moda de uma série de dados corresponde a observação que ocorre com maior frequência. A moda é a única medida de posição que também pode ser utilizada para variáveis categóricas, já que essas variáveis permitem apenas o cálculo de frequências. "
   ]
  },
  {
   "cell_type": "code",
   "execution_count": 33,
   "metadata": {},
   "outputs": [
    {
     "data": {
      "text/plain": [
       "[2, 5, 7, 4, 1, 9, 5, 9, 2, 6, 7, 9, 4, 3, 5, 7]"
      ]
     },
     "execution_count": 33,
     "metadata": {},
     "output_type": "execute_result"
    }
   ],
   "source": [
    "# Criando uma lista\n",
    "lista = [2,5,7,4,1,9,5,9,2,6,7,9,4,3,5,7]\n",
    "lista"
   ]
  },
  {
   "cell_type": "code",
   "execution_count": 34,
   "metadata": {},
   "outputs": [
    {
     "data": {
      "text/plain": [
       "5"
      ]
     },
     "execution_count": 34,
     "metadata": {},
     "output_type": "execute_result"
    }
   ],
   "source": [
    "# Utilizando o método mode\n",
    "stat.mode(lista)"
   ]
  },
  {
   "cell_type": "code",
   "execution_count": 35,
   "metadata": {},
   "outputs": [
    {
     "data": {
      "text/plain": [
       "[5, 7, 9]"
      ]
     },
     "execution_count": 35,
     "metadata": {},
     "output_type": "execute_result"
    }
   ],
   "source": [
    "# Utilizando o método multimode\n",
    "stat.multimode(lista)"
   ]
  },
  {
   "cell_type": "code",
   "execution_count": 36,
   "metadata": {},
   "outputs": [
    {
     "data": {
      "image/png": "[encoded data removed]",
      "text/plain": [
       "<Figure size 640x480 with 1 Axes>"
      ]
     },
     "metadata": {},
     "output_type": "display_data"
    }
   ],
   "source": [
    "# Visualizando a moda de forma gráfica\n",
    "\n",
    "# Criando um DataFrame\n",
    "df6 = pd.DataFrame(lista, columns = [\"Número\"])\n",
    "\n",
    "# Desenhando um gráfico de barras\n",
    "ax = df6[\"Número\"].value_counts().plot.bar(rot=0)\n",
    "for p in ax.patches:\n",
    "    _x = p.get_x() + (p.get_width()) / 2 - 0.1\n",
    "    _y = p.get_y() + p.get_height()\n",
    "    value = int(p.get_height())\n",
    "    ax.text(_x, _y, value, ha=\"left\")\n",
    "plt.show()"
   ]
  },
  {
   "cell_type": "code",
   "execution_count": 34,
   "metadata": {},
   "outputs": [
    {
     "data": {
      "text/html": [
       "<div>\n",
       "<style scoped>\n",
       "    .dataframe tbody tr th:only-of-type {\n",
       "        vertical-align: middle;\n",
       "    }\n",
       "\n",
       "    .dataframe tbody tr th {\n",
       "        vertical-align: top;\n",
       "    }\n",
       "\n",
       "    .dataframe thead th {\n",
       "        text-align: right;\n",
       "    }\n",
       "</style>\n",
       "<table border=\"1\" class=\"dataframe\">\n",
       "  <thead>\n",
       "    <tr style=\"text-align: right;\">\n",
       "      <th></th>\n",
       "      <th>Número</th>\n",
       "    </tr>\n",
       "  </thead>\n",
       "  <tbody>\n",
       "    <tr>\n",
       "      <th>0</th>\n",
       "      <td>5</td>\n",
       "    </tr>\n",
       "    <tr>\n",
       "      <th>1</th>\n",
       "      <td>7</td>\n",
       "    </tr>\n",
       "    <tr>\n",
       "      <th>2</th>\n",
       "      <td>9</td>\n",
       "    </tr>\n",
       "  </tbody>\n",
       "</table>\n",
       "</div>"
      ],
      "text/plain": [
       "   Número\n",
       "0       5\n",
       "1       7\n",
       "2       9"
      ]
     },
     "execution_count": 34,
     "metadata": {},
     "output_type": "execute_result"
    }
   ],
   "source": [
    "# Visualizando a moda utilizando o Pandas\n",
    "df6.mode()"
   ]
  },
  {
   "cell_type": "markdown",
   "metadata": {},
   "source": [
    "### Medidas separatrizes\n",
    "<details>\n",
    "    <summary>\n",
    "        <a class=\"btnfire small stroke\"><em class=\"fas fa-chevron-circle-down\"></em>&nbsp;&nbsp;Clique para mais detalhes</a>\n",
    "    </summary>\n",
    "    <br>\n",
    "\n",
    "- **Quartis** são medidas de posição que dividem um conjunto de dados, ordenados em forma crescente, em 4 partes com dimensões iguais. Assim, o 1° quartil *Q1* é o valor que representa 25% dos dados. Isso significa que abaixo dele estão 25% dos dados e acima estão 75%. O 2° quartil *Q2* corresponde à mediana, indicando que 50% dos dados são menores e 50% são maiores a *Q2*. Já o 3° quartil *Q3* é o valor que representa 75% dos dados, ou seja, acima dele estão 25% e abaixo estão 75% dos dados.<br>\n",
    "- **Decis** são medidas de posição que dividem um conjunto de dados, ordenados em forma crescente, em dez partes. Desta forma, o 1° decil *D1* indica que 10% dos dados são inferiores a *D1*, ou que 90% dos dados são superiores à *D1*. O 2° decil *D2* indica que 20% dos dados são inferiores a *D2*, ou que 80% dos dados são superiores à *D2*. E assim sucessivamente, até o 9° decil *D9*, que indica que 90% dos dados são inferiores a *D9*, ou que 10% dos dados são superiores a *D9*. <br> \n",
    "- **Percentis** são medidas de posição que dividem um conjunto de dados, ordenados em forma crescente, em cem partes iguais. Sendo assim, o 1° percentil *P1* indica que 1% dos dados é inferior *P1*, ou que 99% dos dados são superiores a *P1*. O 2° percentil *P2* indica que 2% dos dados são inferiores a *P2* ou que 98% dos dados são superiores a *P2*. E assim sucessivamente, até 99° percentil *P99*, que indica que 99% dos dados são inferiores a *P99* ou que 1% dos dados é superior a *P99*. <br>\n",
    "\n",
    "</details>"
   ]
  },
  {
   "cell_type": "code",
   "execution_count": 35,
   "metadata": {},
   "outputs": [
    {
     "data": {
      "text/plain": [
       "array([ 0,  1,  2,  3,  4,  5,  6,  7,  8,  9, 10, 11, 12, 13, 14, 15, 16,\n",
       "       17, 18, 19, 20])"
      ]
     },
     "execution_count": 35,
     "metadata": {},
     "output_type": "execute_result"
    }
   ],
   "source": [
    "# Criando um array\n",
    "array = np.arange(21)\n",
    "array"
   ]
  },
  {
   "cell_type": "code",
   "execution_count": 36,
   "metadata": {},
   "outputs": [
    {
     "data": {
      "text/plain": [
       "5.0"
      ]
     },
     "execution_count": 36,
     "metadata": {},
     "output_type": "execute_result"
    }
   ],
   "source": [
    "# Calculando o 1° quartil ou 25° percentil\n",
    "np.percentile(array, 25)"
   ]
  },
  {
   "cell_type": "code",
   "execution_count": 37,
   "metadata": {},
   "outputs": [
    {
     "data": {
      "text/plain": [
       "10.0"
      ]
     },
     "execution_count": 37,
     "metadata": {},
     "output_type": "execute_result"
    }
   ],
   "source": [
    "# Calculando a mediana ou 2° quartil ou 5° decil ou 50° percentil\n",
    "np.percentile(array, 50)"
   ]
  },
  {
   "cell_type": "code",
   "execution_count": 38,
   "metadata": {},
   "outputs": [
    {
     "data": {
      "text/plain": [
       "3.2"
      ]
     },
     "execution_count": 38,
     "metadata": {},
     "output_type": "execute_result"
    }
   ],
   "source": [
    "# Calculando o 16° percentil\n",
    "np.percentile(array, 16)"
   ]
  },
  {
   "cell_type": "markdown",
   "metadata": {},
   "source": [
    "**Outliers** são valores atípicos, ou seja, que se afastam da maioria dos valores encontrados no conjunto de dados. Também são conhecidos como valores discrepantes, anormais ou extremos. "
   ]
  },
  {
   "cell_type": "code",
   "execution_count": 39,
   "metadata": {},
   "outputs": [
    {
     "data": {
      "image/png": "[encoded data removed]",
      "text/plain": [
       "<Figure size 1300x600 with 1 Axes>"
      ]
     },
     "metadata": {},
     "output_type": "display_data"
    }
   ],
   "source": [
    "# Criando um boxplot\n",
    "fig = plt.subplots(figsize=(13, 6))\n",
    "ax = sns.boxplot(data=df[\"Valor da Gorjeta\"])\n",
    "ax.set_title(\"Boxplot da variável Valor da gojeta\", fontsize = 16)\n",
    "ax.set_xticklabels([\"Valor da gorjeta\"]) # exibe o nome da variável\n",
    "ax.set_yticks(np.arange(1, 11, 1)) \n",
    "             \n",
    "larguraBox = 0.63\n",
    "i=0\n",
    "\n",
    "# calcula o primeiro quartil (q1), o segundo (q2) e o terceiro quartil (q3)\n",
    "q1, q2, q3 = df[\"Valor da Gorjeta\"].quantile(0.25), df[\"Valor da Gorjeta\"].quantile(0.5), df[\"Valor da Gorjeta\"].quantile(0.75)\n",
    "\n",
    "# Lista com os quartis\n",
    "quartis = [q1, q2, q3]\n",
    "\n",
    "# Exibe os quartis no gráfico\n",
    "for q in quartis:\n",
    "    x = i-larguraBox/2\n",
    "    y = q\n",
    "    ax.annotate('%.2f' % q, (x,y),\n",
    "                xytext=(x-0.1, y), textcoords='data',\n",
    "                va='center', ha='right')\n",
    "plt.show()"
   ]
  },
  {
   "cell_type": "code",
   "execution_count": null,
   "metadata": {},
   "outputs": [],
   "source": []
  }
 ],
 "metadata": {
  "kernelspec": {
   "display_name": "Anaconda (notebook)",
   "language": "python",
   "name": "notebook"
  },
  "language_info": {
   "codemirror_mode": {
    "name": "ipython",
    "version": 3
   },
   "file_extension": ".py",
   "mimetype": "text/x-python",
   "name": "python",
   "nbconvert_exporter": "python",
   "pygments_lexer": "ipython3",
   "version": "3.12.5"
  }
 },
 "nbformat": 4,
 "nbformat_minor": 4
}
