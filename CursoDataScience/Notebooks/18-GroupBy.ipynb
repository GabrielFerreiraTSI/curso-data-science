{
 "cells": [
  {
   "cell_type": "markdown",
   "metadata": {},
   "source": [
    "# <font color='blue'>Python Fundamentos - Groupby</font>"
   ]
  },
  {
   "cell_type": "code",
   "execution_count": 1,
   "metadata": {},
   "outputs": [
    {
     "name": "stdout",
     "output_type": "stream",
     "text": [
      "Versão da Linguagem Python Usada Neste Jupyter Notebook: 3.9.13\n"
     ]
    }
   ],
   "source": [
    "# Versão da Linguagem Python\n",
    "from platform import python_version\n",
    "print('Versão da Linguagem Python Usada Neste Jupyter Notebook:', python_version())"
   ]
  },
  {
   "cell_type": "markdown",
   "metadata": {},
   "source": [
    "## Groupby\n",
    "<details>\n",
    "    <summary>\n",
    "        <a class=\"btnfire small stroke\"><em class=\"fas fa-chevron-circle-down\"></em>&nbsp;&nbsp;Clique para mais detalhes</a>\n",
    "    </summary>\n",
    "    <br>\n",
    "    \n",
    "Uma operação de agrupamento de dados envolve uma combinação de ações como: <br>\n",
    "- **Dividir o dataset** em grupos com base em algum critério; <br>\n",
    "- **Aplicar funções** para cada grupo independente; <br>\n",
    "- **Combinar os resultados** em uma estrutura de dados. <br> \n",
    "<br>\n",
    "    \n",
    "Permite observar os dados a partir de diversas perspectivas.<br>\n",
    "\n",
    "https://pandas.pydata.org/pandas-docs/stable/reference/api/pandas.DataFrame.groupby.html    \n",
    "    \n",
    "</details>"
   ]
  },
  {
   "cell_type": "code",
   "execution_count": null,
   "metadata": {},
   "outputs": [],
   "source": [
    "# Instalando as bibliotecas\n",
    "!pip install pandas\n",
    "!pip install numpy"
   ]
  },
  {
   "cell_type": "code",
   "execution_count": null,
   "metadata": {},
   "outputs": [],
   "source": [
    "# Importando pacotes\n",
    "import pandas as pd\n",
    "import numpy as np"
   ]
  },
  {
   "cell_type": "code",
   "execution_count": null,
   "metadata": {},
   "outputs": [],
   "source": [
    "# Coletando os dados\n",
    "df = pd.read_csv('Dados/Titanic/train.csv')\n",
    "df.head()"
   ]
  },
  {
   "cell_type": "code",
   "execution_count": null,
   "metadata": {},
   "outputs": [],
   "source": [
    "# Excluir colunas específicas\n",
    "df = df.drop(['PassengerId', 'Name'], axis=1)"
   ]
  },
  {
   "cell_type": "code",
   "execution_count": null,
   "metadata": {},
   "outputs": [],
   "source": [
    "# Renomeando as colunas\n",
    "df.columns = ['Sobrevivente', 'Classe', 'Sexo', 'Idade', 'Quantidade de irmãos e esposas', 'Quantidade de pais e crianças', 'Bilhete', 'Tarifa', \"Cabine\", 'Porto de Embarque']\n",
    "df"
   ]
  },
  {
   "cell_type": "code",
   "execution_count": null,
   "metadata": {},
   "outputs": [],
   "source": [
    "# Analisar os dados setando a variável Sobrevivente como índice\n",
    "df1 = df.groupby(\"Sobrevivente\")"
   ]
  },
  {
   "cell_type": "code",
   "execution_count": null,
   "metadata": {},
   "outputs": [],
   "source": [
    "# Não conseguimos imprimir objetos do tipo Groupby\n",
    "df1"
   ]
  },
  {
   "cell_type": "code",
   "execution_count": null,
   "metadata": {},
   "outputs": [],
   "source": [
    "# Verificando a quantidade de sobreviventes e não sobreviventes\n",
    "df1[\"Sobrevivente\"].size()"
   ]
  },
  {
   "cell_type": "code",
   "execution_count": null,
   "metadata": {},
   "outputs": [],
   "source": [
    "# Verificando a média das variáveis numéricas de acordo com a variável sobrevivente\n",
    "df1[[\"Idade\", \"Quantidade de irmãos e esposas\", \"Quantidade de pais e crianças\", \"Tarifa\"]].aggregate([\"mean\"])"
   ]
  },
  {
   "cell_type": "code",
   "execution_count": null,
   "metadata": {},
   "outputs": [],
   "source": [
    "# Verificando a mediana das variáveis numéricas de acordo com a variável Sobrevivente\n",
    "df1[[\"Idade\", \"Quantidade de irmãos e esposas\", \"Quantidade de pais e crianças\", \"Tarifa\"]].aggregate([\"median\"])"
   ]
  },
  {
   "cell_type": "code",
   "execution_count": null,
   "metadata": {},
   "outputs": [],
   "source": [
    "# Verificando o valor mínimo e máximo das variáveis numéricas de acordo com a variável Sobrevivente\n",
    "df1[[\"Idade\", \"Quantidade de irmãos e esposas\", \"Quantidade de pais e crianças\", \"Tarifa\"]].aggregate([\"min\", \"max\"])"
   ]
  },
  {
   "cell_type": "code",
   "execution_count": null,
   "metadata": {},
   "outputs": [],
   "source": [
    "# Verificando a soma das variáveis numéricas de acordo com a variável Sobrevivente\n",
    "df1[[\"Idade\", \"Quantidade de irmãos e esposas\", \"Quantidade de pais e crianças\", \"Tarifa\"]].aggregate([\"sum\"])"
   ]
  },
  {
   "cell_type": "code",
   "execution_count": null,
   "metadata": {},
   "outputs": [],
   "source": [
    "# Indexando a variável sobrevivente e a variável sexo\n",
    "df2 = df.groupby([\"Sobrevivente\", \"Sexo\"])"
   ]
  },
  {
   "cell_type": "code",
   "execution_count": null,
   "metadata": {},
   "outputs": [],
   "source": [
    "# Verificando as quantidades de sobreviventes e não sobreviventes por sexo \n",
    "df2.size()"
   ]
  },
  {
   "cell_type": "code",
   "execution_count": null,
   "metadata": {},
   "outputs": [],
   "source": [
    "# Reiniciando os índices do agrupamento\n",
    "df2.size().reset_index()"
   ]
  },
  {
   "cell_type": "code",
   "execution_count": null,
   "metadata": {},
   "outputs": [],
   "source": [
    "# Renomeando a coluna\n",
    "df2.size().reset_index().rename(columns = {0: \"Quantidade\"})"
   ]
  },
  {
   "cell_type": "code",
   "execution_count": null,
   "metadata": {},
   "outputs": [],
   "source": [
    "# Gráfico das quantidades de sobreviventes e não sobreviventes por sexo \n",
    "df2.size().plot.bar()"
   ]
  },
  {
   "cell_type": "code",
   "execution_count": null,
   "metadata": {},
   "outputs": [],
   "source": [
    "# Indexando a variável sobrevivente e a variável classe\n",
    "df3 = df.groupby([\"Sobrevivente\", \"Classe\"])"
   ]
  },
  {
   "cell_type": "code",
   "execution_count": null,
   "metadata": {},
   "outputs": [],
   "source": [
    "# Gráfico das quantidades de sobreviventes e não sobreviventes por Classe \n",
    "ax = df3.size().plot.bar()\n",
    "ax.set_title(\"Relação da variável sobrevivente com a variável Classe \", fontsize = 16)\n",
    "ax.set_xlabel(\"Não Sobrevivente = 0 / Sobrevivente = 1\", fontsize = 12)\n",
    "ax.set_ylabel(\"Quantidade\", fontsize = 12)\n",
    "for p in ax.patches:\n",
    "    _x = p.get_x() + p.get_width() - 0.4\n",
    "    _y = p.get_y() + p.get_height()\n",
    "    value = int(p.get_height())\n",
    "    ax.text(_x, _y, value, ha=\"left\")"
   ]
  },
  {
   "cell_type": "code",
   "execution_count": null,
   "metadata": {},
   "outputs": [],
   "source": [
    "# Indexando a variável sobrevivente, a variável Sexo e a variável Classe\n",
    "df4 = df.groupby([\"Sobrevivente\", \"Sexo\", \"Classe\"])"
   ]
  },
  {
   "cell_type": "code",
   "execution_count": null,
   "metadata": {},
   "outputs": [],
   "source": [
    "# Gráfico das quantidades de sobreviventes e não sobreviventes por Classe e por Sexo\n",
    "ax = df4.size().plot.bar()\n",
    "ax.set_title(\"Relação da variável sobrevivente com as variáveis Classe e Sexo \", fontsize = 16)\n",
    "ax.set_xlabel(\"Não Sobrevivente = 0 / Sobrevivente = 1\", fontsize = 12)\n",
    "ax.set_ylabel(\"Quantidade\", fontsize = 12)\n",
    "for p in ax.patches:\n",
    "    _x = p.get_x() + p.get_width() - 0.4\n",
    "    _y = p.get_y() + p.get_height()\n",
    "    value = int(p.get_height())\n",
    "    ax.text(_x, _y, value, ha=\"left\")"
   ]
  },
  {
   "cell_type": "code",
   "execution_count": null,
   "metadata": {},
   "outputs": [],
   "source": [
    "# Indexando a variável sobrevivente e a variável Quantidade de pais e crianças\n",
    "df5 = df.groupby([\"Sobrevivente\", \"Quantidade de pais e crianças\"])"
   ]
  },
  {
   "cell_type": "code",
   "execution_count": null,
   "metadata": {},
   "outputs": [],
   "source": [
    "# Gráfico das quantidades de sobreviventes e não sobreviventes de acordo com a Quantidade de pais e crianças\n",
    "ax = df5.size().plot.bar()\n",
    "ax.set_title(\"Relação da variável sobrevivente com a variável quantidade de pais e crianças\", fontsize = 16)\n",
    "ax.set_xlabel(\"Não Sobrevivente = 0 / Sobrevivente = 1\", fontsize = 12)\n",
    "ax.set_ylabel(\"Quantidade\", fontsize = 12)\n",
    "for p in ax.patches:\n",
    "    _x = p.get_x() + p.get_width() - 0.5\n",
    "    _y = p.get_y() + p.get_height()\n",
    "    value = int(p.get_height())\n",
    "    ax.text(_x, _y, value, ha=\"left\")"
   ]
  },
  {
   "cell_type": "code",
   "execution_count": null,
   "metadata": {},
   "outputs": [],
   "source": [
    "# Indexando a variável sobrevivente e a variável Porto de Embarque\n",
    "df6 = df.groupby([\"Sobrevivente\", \"Porto de Embarque\"])"
   ]
  },
  {
   "cell_type": "code",
   "execution_count": null,
   "metadata": {},
   "outputs": [],
   "source": [
    "# Gráfico das quantidades de sobreviventes e não sobreviventes de acordo com o Porto de Embarque\n",
    "ax = df6.size().plot.bar()\n",
    "ax.set_title(\"Relação da variável sobrevivente com a variável Porto de Embarque\", fontsize = 16)\n",
    "ax.set_xlabel(\"Não Sobrevivente = 0 / Sobrevivente = 1\", fontsize = 12)\n",
    "ax.set_ylabel(\"Quantidade\", fontsize = 12)\n",
    "for p in ax.patches:\n",
    "    _x = p.get_x() + p.get_width() - 0.5\n",
    "    _y = p.get_y() + p.get_height()\n",
    "    value = int(p.get_height())\n",
    "    ax.text(_x, _y, value, ha=\"left\")"
   ]
  },
  {
   "cell_type": "code",
   "execution_count": null,
   "metadata": {},
   "outputs": [],
   "source": []
  }
 ],
 "metadata": {
  "kernelspec": {
   "display_name": "Python 3 (ipykernel)",
   "language": "python",
   "name": "python3"
  },
  "language_info": {
   "codemirror_mode": {
    "name": "ipython",
    "version": 3
   },
   "file_extension": ".py",
   "mimetype": "text/x-python",
   "name": "python",
   "nbconvert_exporter": "python",
   "pygments_lexer": "ipython3",
   "version": "3.9.13"
  }
 },
 "nbformat": 4,
 "nbformat_minor": 4
}
